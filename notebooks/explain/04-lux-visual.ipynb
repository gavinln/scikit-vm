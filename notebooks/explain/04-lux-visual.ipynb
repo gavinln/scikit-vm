{
 "cells": [
  {
   "cell_type": "markdown",
   "id": "bd1f9df6",
   "metadata": {},
   "source": [
    "jupyter:\n",
    "  jupytext:\n",
    "    text_representation:\n",
    "      extension: .py\n",
    "      format_name: light\n",
    "      format_version: '1.5'\n",
    "      jupytext_version: 1.13.6\n",
    "  kernelspec:\n",
    "    display_name: Python 3 (ipykernel)\n",
    "    language: python\n",
    "    name: python3"
   ]
  },
  {
   "cell_type": "markdown",
   "id": "0658c135",
   "metadata": {},
   "source": [
    "# CA housing lux visualization "
   ]
  },
  {
   "cell_type": "markdown",
   "id": "6a2889cb",
   "metadata": {},
   "source": [
    "## Setup libraries"
   ]
  },
  {
   "cell_type": "code",
   "execution_count": 1,
   "id": "59edb421",
   "metadata": {},
   "outputs": [],
   "source": [
    "%load_ext autoreload\n",
    "%autoreload 2"
   ]
  },
  {
   "cell_type": "code",
   "execution_count": 2,
   "id": "4896d246",
   "metadata": {},
   "outputs": [],
   "source": [
    "import pandas as pd"
   ]
  },
  {
   "cell_type": "code",
   "execution_count": 3,
   "id": "6545ab67-95b1-4ae3-9631-deae2990e758",
   "metadata": {},
   "outputs": [],
   "source": [
    "import seaborn as sns"
   ]
  },
  {
   "cell_type": "code",
   "execution_count": 4,
   "id": "77b36f6a",
   "metadata": {},
   "outputs": [],
   "source": [
    "from sklearn.datasets import fetch_california_housing\n",
    "from sklearn.model_selection import train_test_split\n",
    "from sklearn.metrics import r2_score"
   ]
  },
  {
   "cell_type": "code",
   "execution_count": 5,
   "id": "21c15cd0",
   "metadata": {},
   "outputs": [],
   "source": [
    "from lightgbm import LGBMRegressor"
   ]
  },
  {
   "cell_type": "code",
   "execution_count": 6,
   "id": "2883cf78",
   "metadata": {},
   "outputs": [],
   "source": [
    "import matplotlib.pyplot as plt"
   ]
  },
  {
   "cell_type": "code",
   "execution_count": 7,
   "id": "0d75a4af-2576-4232-9da9-a5420592331f",
   "metadata": {},
   "outputs": [],
   "source": [
    "import lux"
   ]
  },
  {
   "cell_type": "markdown",
   "id": "a8ee768a",
   "metadata": {},
   "source": [
    "## Get data"
   ]
  },
  {
   "cell_type": "code",
   "execution_count": 8,
   "id": "20a53a32",
   "metadata": {},
   "outputs": [],
   "source": [
    "california_housing = fetch_california_housing(as_frame=True)"
   ]
  },
  {
   "cell_type": "markdown",
   "id": "73f67ea3",
   "metadata": {},
   "source": [
    "## Data summary"
   ]
  },
  {
   "cell_type": "code",
   "execution_count": 9,
   "id": "67b56c8c",
   "metadata": {},
   "outputs": [],
   "source": [
    "housing_raw = california_housing.frame"
   ]
  },
  {
   "cell_type": "code",
   "execution_count": 10,
   "id": "65bc36f4",
   "metadata": {},
   "outputs": [
    {
     "data": {
      "text/plain": [
       "(20640, 9)"
      ]
     },
     "execution_count": 10,
     "metadata": {},
     "output_type": "execute_result"
    }
   ],
   "source": [
    "housing_raw.shape"
   ]
  },
  {
   "cell_type": "markdown",
   "id": "eba7b66b",
   "metadata": {},
   "source": [
    "List missing values"
   ]
  },
  {
   "cell_type": "code",
   "execution_count": 11,
   "id": "dd03ddbf",
   "metadata": {},
   "outputs": [
    {
     "data": {
      "application/vnd.jupyter.widget-view+json": {
       "model_id": "8c4d01889d0d4f179a9b2127507fa0a3",
       "version_major": 2,
       "version_minor": 0
      },
      "text/plain": [
       "Button(description='Toggle Pandas/Lux', layout=Layout(top='5px', width='140px'), style=ButtonStyle())"
      ]
     },
     "metadata": {},
     "output_type": "display_data"
    },
    {
     "data": {
      "application/vnd.jupyter.widget-view+json": {
       "model_id": "837f22f548b247aa824c0daf01d35a77",
       "version_major": 2,
       "version_minor": 0
      },
      "text/plain": [
       "Output()"
      ]
     },
     "metadata": {},
     "output_type": "display_data"
    }
   ],
   "source": [
    "housing_raw.isna().sum()"
   ]
  },
  {
   "cell_type": "markdown",
   "id": "18d9cc29",
   "metadata": {},
   "source": [
    "## Get training and test data"
   ]
  },
  {
   "cell_type": "code",
   "execution_count": 12,
   "id": "18eb5e0b",
   "metadata": {},
   "outputs": [],
   "source": [
    "housing_df, housing_unseen = train_test_split(\n",
    "    housing_raw, test_size=0.2, random_state=42, shuffle=True\n",
    ")"
   ]
  },
  {
   "cell_type": "code",
   "execution_count": 13,
   "id": "e12dedf3",
   "metadata": {},
   "outputs": [],
   "source": [
    "y_train = housing_df.MedHouseVal\n",
    "X_train = housing_df.drop(columns=['MedHouseVal'])"
   ]
  },
  {
   "cell_type": "markdown",
   "id": "b1a5bcc2",
   "metadata": {},
   "source": [
    "## Gradient boosting regression"
   ]
  },
  {
   "cell_type": "code",
   "execution_count": 14,
   "id": "80cfa720",
   "metadata": {},
   "outputs": [],
   "source": [
    "best_param = {\n",
    "    \"num_leaves\": 31,\n",
    "    \"n_estimators\": 400,\n",
    "    \"learning_rate\": 0.1,\n",
    "}"
   ]
  },
  {
   "cell_type": "code",
   "execution_count": 15,
   "id": "a509176a",
   "metadata": {},
   "outputs": [],
   "source": [
    "gbm_best = LGBMRegressor(**best_param)"
   ]
  },
  {
   "cell_type": "code",
   "execution_count": 16,
   "id": "9e9aa7a3",
   "metadata": {},
   "outputs": [
    {
     "data": {
      "text/plain": [
       "LGBMRegressor(n_estimators=400)"
      ]
     },
     "execution_count": 16,
     "metadata": {},
     "output_type": "execute_result"
    }
   ],
   "source": [
    "gbm_best.fit(X_train, y_train)"
   ]
  },
  {
   "cell_type": "code",
   "execution_count": 17,
   "id": "2eceffc1",
   "metadata": {},
   "outputs": [],
   "source": [
    "y_test = housing_unseen.MedHouseVal\n",
    "X_test = housing_unseen.drop(columns='MedHouseVal')"
   ]
  },
  {
   "cell_type": "code",
   "execution_count": 18,
   "id": "e574901c",
   "metadata": {},
   "outputs": [
    {
     "name": "stdout",
     "output_type": "stream",
     "text": [
      "R2 0.854\n"
     ]
    }
   ],
   "source": [
    "y_pred = gbm_best.predict(X_test)\n",
    "r2 = r2_score(y_test, y_pred)\n",
    "print(\"R2 {:.3f}\".format(r2))"
   ]
  },
  {
   "cell_type": "markdown",
   "id": "d1ccd589-f956-48a6-8fa0-e0121703c082",
   "metadata": {},
   "source": [
    "## Feature importances"
   ]
  },
  {
   "cell_type": "code",
   "execution_count": 19,
   "id": "c4a8004b-1c2e-4213-a5b7-3585c378d012",
   "metadata": {},
   "outputs": [],
   "source": [
    "feature_importance = pd.DataFrame({\n",
    "    'feature': gbm_best.feature_name_,\n",
    "    'importance': gbm_best.feature_importances_\n",
    "}).sort_values(by='importance', ascending=False)"
   ]
  },
  {
   "cell_type": "code",
   "execution_count": 20,
   "id": "d3b112b0-a230-4d4c-80cb-0f1ea0cd5cd9",
   "metadata": {},
   "outputs": [
    {
     "data": {
      "text/plain": [
       "<AxesSubplot:xlabel='importance', ylabel='feature'>"
      ]
     },
     "execution_count": 20,
     "metadata": {},
     "output_type": "execute_result"
    },
    {
     "data": {
      "image/png": "[encoded data removed]",
      "text/plain": [
       "<Figure size 432x288 with 1 Axes>"
      ]
     },
     "metadata": {
      "needs_background": "light"
     },
     "output_type": "display_data"
    }
   ],
   "source": [
    "sns.barplot(x='importance', y='feature', data=feature_importance)"
   ]
  },
  {
   "cell_type": "code",
   "execution_count": 35,
   "id": "7066b6b6-b6a8-4d7e-91c1-c263af71fc07",
   "metadata": {},
   "outputs": [],
   "source": [
    "from sklearn.inspection import permutation_importance"
   ]
  },
  {
   "cell_type": "code",
   "execution_count": 36,
   "id": "80a23dfa-fa90-475f-9643-fafa8b8cc554",
   "metadata": {},
   "outputs": [],
   "source": [
    "y_data = housing_raw.MedHouseVal\n",
    "X_data = housing_raw.drop(columns=['MedHouseVal'])"
   ]
  },
  {
   "cell_type": "code",
   "execution_count": 37,
   "id": "b279a564-e847-4e9b-9857-b2de2fa25160",
   "metadata": {},
   "outputs": [],
   "source": [
    "p_importance = permutation_importance(\n",
    "    gbm_best, X_data, y_data, n_repeats=10, random_state=0)"
   ]
  },
  {
   "cell_type": "code",
   "execution_count": 41,
   "id": "b37c0390-db2b-409a-ace2-9e95c1799960",
   "metadata": {},
   "outputs": [],
   "source": [
    "p_importance_df = pd.DataFrame({\n",
    "    'feature': X_data.columns,\n",
    "    'importance': p_importance.importances_mean\n",
    "}).sort_values(by='importance', ascending=False)"
   ]
  },
  {
   "cell_type": "code",
   "execution_count": 42,
   "id": "d8d13698-52b7-49e4-868a-b32fbdc87457",
   "metadata": {},
   "outputs": [
    {
     "data": {
      "text/plain": [
       "<AxesSubplot:xlabel='importance', ylabel='feature'>"
      ]
     },
     "execution_count": 42,
     "metadata": {},
     "output_type": "execute_result"
    },
    {
     "data": {
      "image/png": "[encoded data removed]",
      "text/plain": [
       "<Figure size 432x288 with 1 Axes>"
      ]
     },
     "metadata": {
      "needs_background": "light"
     },
     "output_type": "display_data"
    }
   ],
   "source": [
    "sns.barplot(x='importance', y='feature', data=p_importance_df)"
   ]
  },
  {
   "cell_type": "markdown",
   "id": "20e4343f-5175-4602-b7b7-1a2ec08b04a1",
   "metadata": {},
   "source": [
    "## Lux visualizations"
   ]
  },
  {
   "cell_type": "code",
   "execution_count": 21,
   "id": "2e6e0656-a2a3-4137-9b6c-107fe6f1ebf0",
   "metadata": {},
   "outputs": [],
   "source": [
    "from lux.vis.Vis import Vis"
   ]
  },
  {
   "cell_type": "code",
   "execution_count": 22,
   "id": "1ac26bb1-9c6f-483f-a9a5-cc012097fe38",
   "metadata": {},
   "outputs": [],
   "source": [
    "from lux.vis.VisList import VisList"
   ]
  },
  {
   "cell_type": "code",
   "execution_count": 23,
   "id": "b089ed45-8290-4939-a702-2c3da5aa8a48",
   "metadata": {},
   "outputs": [],
   "source": [
    "df = housing_raw"
   ]
  },
  {
   "cell_type": "code",
   "execution_count": 24,
   "id": "e126a0b4-67ec-42a3-a642-6c3418922d2d",
   "metadata": {},
   "outputs": [
    {
     "data": {
      "text/plain": [
       "Index(['MedInc', 'HouseAge', 'AveRooms', 'AveBedrms', 'Population', 'AveOccup',\n",
       "       'Latitude', 'Longitude', 'MedHouseVal'],\n",
       "      dtype='object')"
      ]
     },
     "execution_count": 24,
     "metadata": {},
     "output_type": "execute_result"
    }
   ],
   "source": [
    "df.columns"
   ]
  },
  {
   "cell_type": "code",
   "execution_count": 25,
   "id": "a48093cd-db92-4ad6-bd89-264b31529ce7",
   "metadata": {},
   "outputs": [
    {
     "data": {
      "application/vnd.jupyter.widget-view+json": {
       "model_id": "88dfa3a4c7a64390b19747d49b95bfa0",
       "version_major": 2,
       "version_minor": 0
      },
      "text/plain": [
       "Button(description='Toggle Pandas/Lux', layout=Layout(top='5px', width='140px'), style=ButtonStyle())"
      ]
     },
     "metadata": {},
     "output_type": "display_data"
    },
    {
     "data": {
      "application/vnd.jupyter.widget-view+json": {
       "model_id": "dd3f98210aa0471e906cdf70f14ed121",
       "version_major": 2,
       "version_minor": 0
      },
      "text/plain": [
       "Output()"
      ]
     },
     "metadata": {},
     "output_type": "display_data"
    }
   ],
   "source": [
    "df.MedHouseVal"
   ]
  },
  {
   "cell_type": "code",
   "execution_count": 26,
   "id": "c20250c8-4106-4c0f-aabc-61078440a544",
   "metadata": {},
   "outputs": [
    {
     "data": {
      "application/vnd.jupyter.widget-view+json": {
       "model_id": "d24bea9f548b44a7bb81e7352a4733de",
       "version_major": 2,
       "version_minor": 0
      },
      "text/plain": [
       "Button(description='Toggle Pandas/Lux', layout=Layout(top='5px', width='140px'), style=ButtonStyle())"
      ]
     },
     "metadata": {},
     "output_type": "display_data"
    },
    {
     "data": {
      "application/vnd.jupyter.widget-view+json": {
       "model_id": "f4690c3cf7ec44a9bf44825f89976018",
       "version_major": 2,
       "version_minor": 0
      },
      "text/plain": [
       "Output()"
      ]
     },
     "metadata": {},
     "output_type": "display_data"
    }
   ],
   "source": [
    "df.intent = [df.columns.tolist()]\n",
    "df"
   ]
  },
  {
   "cell_type": "code",
   "execution_count": 32,
   "id": "e3741d26-ea00-40c8-9171-68ab4e746bba",
   "metadata": {},
   "outputs": [
    {
     "data": {
      "application/vnd.jupyter.widget-view+json": {
       "model_id": "8d2901db33b8479585e6df72d2e70c14",
       "version_major": 2,
       "version_minor": 0
      },
      "text/plain": [
       "LuxWidget(recommendations=[{'action': 'Vis List', 'description': 'Shows a vis list defined by the intent', 'vs…"
      ]
     },
     "metadata": {},
     "output_type": "display_data"
    }
   ],
   "source": [
    "VisList([housing_raw.columns.tolist()], df)"
   ]
  },
  {
   "cell_type": "code",
   "execution_count": 28,
   "id": "e47e86ca-077b-4cd5-b4b8-79676576062d",
   "metadata": {},
   "outputs": [
    {
     "data": {
      "application/vnd.jupyter.widget-view+json": {
       "model_id": "a848d5864df44cdb9e90832ef8c4cdc1",
       "version_major": 2,
       "version_minor": 0
      },
      "text/plain": [
       "Button(description='Toggle Pandas/Lux', layout=Layout(top='5px', width='140px'), style=ButtonStyle())"
      ]
     },
     "metadata": {},
     "output_type": "display_data"
    },
    {
     "data": {
      "application/vnd.jupyter.widget-view+json": {
       "model_id": "9bcddbe3618245de87dc387517461403",
       "version_major": 2,
       "version_minor": 0
      },
      "text/plain": [
       "Output()"
      ]
     },
     "metadata": {},
     "output_type": "display_data"
    }
   ],
   "source": [
    "df.intent = ['MedHouseVal']\n",
    "df"
   ]
  },
  {
   "cell_type": "code",
   "execution_count": 33,
   "id": "a2c8ba62-c392-4ccb-bd84-4d7e1954ebaa",
   "metadata": {},
   "outputs": [
    {
     "data": {
      "application/vnd.jupyter.widget-view+json": {
       "model_id": "cdeaa29c5c7444948ac36a862d22d72e",
       "version_major": 2,
       "version_minor": 0
      },
      "text/plain": [
       "LuxWidget(current_vis={'config': {'view': {'continuousWidth': 400, 'continuousHeight': 300}, 'axis': {'labelCo…"
      ]
     },
     "metadata": {},
     "output_type": "display_data"
    }
   ],
   "source": [
    "Vis(['MedHouseVal', lux.Clause('MedInc')], df)"
   ]
  },
  {
   "cell_type": "code",
   "execution_count": 34,
   "id": "ec642120-6439-4540-9f33-79a4e55eb8fd",
   "metadata": {},
   "outputs": [
    {
     "data": {
      "application/vnd.jupyter.widget-view+json": {
       "model_id": "49c9acb10ad44e468091144eb5a55dee",
       "version_major": 2,
       "version_minor": 0
      },
      "text/plain": [
       "LuxWidget(recommendations=[{'action': 'Vis List', 'description': 'Shows a vis list defined by the intent', 'vs…"
      ]
     },
     "metadata": {},
     "output_type": "display_data"
    }
   ],
   "source": [
    "VisList([['AveRooms', 'AveBedrms', 'AveOccup']], df)"
   ]
  }
 ],
 "metadata": {
  "jupytext": {
   "cell_metadata_filter": "-all",
   "main_language": "python",
   "notebook_metadata_filter": "-all"
  },
  "kernelspec": {
   "display_name": "Python 3 (ipykernel)",
   "language": "python",
   "name": "python3"
  },
  "language_info": {
   "codemirror_mode": {
    "name": "ipython",
    "version": 3
   },
   "file_extension": ".py",
   "mimetype": "text/x-python",
   "name": "python",
   "nbconvert_exporter": "python",
   "pygments_lexer": "ipython3",
   "version": "3.8.10"
  }
 },
 "nbformat": 4,
 "nbformat_minor": 5
}
