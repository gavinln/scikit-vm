{
 "cells": [
  {
   "cell_type": "markdown",
   "id": "d5d0113b",
   "metadata": {},
   "source": [
    "jupyter:\n",
    "  jupytext:\n",
    "    text_representation:\n",
    "      extension: .py\n",
    "      format_name: light\n",
    "      format_version: '1.5'\n",
    "      jupytext_version: 1.13.6\n",
    "  kernelspec:\n",
    "    display_name: Python 3 (ipykernel)\n",
    "    language: python\n",
    "    name: python3"
   ]
  },
  {
   "cell_type": "markdown",
   "id": "0c9d2781",
   "metadata": {},
   "source": [
    "# CA housing pandas profiling visualization"
   ]
  },
  {
   "cell_type": "markdown",
   "id": "42289fee",
   "metadata": {},
   "source": [
    "## Setup libraries"
   ]
  },
  {
   "cell_type": "code",
   "execution_count": 1,
   "id": "1b03185b",
   "metadata": {},
   "outputs": [],
   "source": [
    "%load_ext autoreload\n",
    "%autoreload 2"
   ]
  },
  {
   "cell_type": "code",
   "execution_count": 2,
   "id": "960932c4",
   "metadata": {},
   "outputs": [],
   "source": [
    "import pandas as pd"
   ]
  },
  {
   "cell_type": "code",
   "execution_count": 3,
   "id": "6c033dda",
   "metadata": {},
   "outputs": [],
   "source": [
    "import seaborn as sns"
   ]
  },
  {
   "cell_type": "code",
   "execution_count": 4,
   "id": "ef19f988",
   "metadata": {},
   "outputs": [],
   "source": [
    "from sklearn.datasets import fetch_california_housing\n",
    "from sklearn.model_selection import train_test_split"
   ]
  },
  {
   "cell_type": "code",
   "execution_count": 5,
   "id": "eb7aa6de",
   "metadata": {
    "lines_to_next_cell": 2
   },
   "outputs": [],
   "source": [
    "from sklearn.metrics import r2_score\n",
    "from sklearn.metrics import mean_squared_error\n",
    "from sklearn.inspection import permutation_importance\n",
    "from sklearn.linear_model import SGDRegressor\n",
    "from sklearn.pipeline import make_pipeline\n",
    "from sklearn.preprocessing import StandardScaler"
   ]
  },
  {
   "cell_type": "code",
   "execution_count": 6,
   "id": "c66e3dae",
   "metadata": {},
   "outputs": [],
   "source": [
    "from lightgbm import LGBMRegressor"
   ]
  },
  {
   "cell_type": "code",
   "execution_count": 7,
   "id": "be0b15f5",
   "metadata": {
    "lines_to_next_cell": 2
   },
   "outputs": [],
   "source": [
    "import matplotlib.pyplot as plt"
   ]
  },
  {
   "cell_type": "code",
   "execution_count": 8,
   "id": "0c05567d",
   "metadata": {},
   "outputs": [],
   "source": [
    "from pandas_profiling import ProfileReport"
   ]
  },
  {
   "cell_type": "code",
   "execution_count": 9,
   "id": "03835110",
   "metadata": {},
   "outputs": [],
   "source": [
    "%matplotlib inline"
   ]
  },
  {
   "cell_type": "markdown",
   "id": "04b00710",
   "metadata": {},
   "source": [
    "## Get data"
   ]
  },
  {
   "cell_type": "code",
   "execution_count": 10,
   "id": "ef9bc19a",
   "metadata": {},
   "outputs": [],
   "source": [
    "california_housing = fetch_california_housing(as_frame=True)"
   ]
  },
  {
   "cell_type": "markdown",
   "id": "15212cd8",
   "metadata": {
    "lines_to_next_cell": 2
   },
   "source": [
    "## Useful functions"
   ]
  },
  {
   "cell_type": "code",
   "execution_count": 11,
   "id": "5b70cedf",
   "metadata": {
    "lines_to_next_cell": 1
   },
   "outputs": [],
   "source": [
    "def print_model_performance(test_data, pred_data):\n",
    "    r2 = r2_score(y_test, y_pred)\n",
    "    mse = mean_squared_error(y_test, y_pred)\n",
    "    print(\"R2 {:.3f}, mse {:.3f}\".format(r2, mse))"
   ]
  },
  {
   "cell_type": "markdown",
   "id": "f7d39a50",
   "metadata": {},
   "source": [
    "## Data summary"
   ]
  },
  {
   "cell_type": "code",
   "execution_count": 12,
   "id": "1538c0f1",
   "metadata": {},
   "outputs": [],
   "source": [
    "housing_raw = california_housing.frame"
   ]
  },
  {
   "cell_type": "code",
   "execution_count": 13,
   "id": "e6ead747",
   "metadata": {},
   "outputs": [
    {
     "data": {
      "text/plain": [
       "(20640, 9)"
      ]
     },
     "execution_count": 13,
     "metadata": {},
     "output_type": "execute_result"
    }
   ],
   "source": [
    "housing_raw.shape"
   ]
  },
  {
   "cell_type": "markdown",
   "id": "95d62a53",
   "metadata": {},
   "source": [
    "List missing values"
   ]
  },
  {
   "cell_type": "code",
   "execution_count": 14,
   "id": "1428d8b1",
   "metadata": {},
   "outputs": [
    {
     "data": {
      "text/plain": [
       "MedInc         0\n",
       "HouseAge       0\n",
       "AveRooms       0\n",
       "AveBedrms      0\n",
       "Population     0\n",
       "AveOccup       0\n",
       "Latitude       0\n",
       "Longitude      0\n",
       "MedHouseVal    0\n",
       "dtype: int64"
      ]
     },
     "execution_count": 14,
     "metadata": {},
     "output_type": "execute_result"
    }
   ],
   "source": [
    "housing_raw.isna().sum()"
   ]
  },
  {
   "cell_type": "markdown",
   "id": "dfdfc351",
   "metadata": {},
   "source": [
    "## Get training and test data"
   ]
  },
  {
   "cell_type": "code",
   "execution_count": 15,
   "id": "2566dbb2",
   "metadata": {},
   "outputs": [],
   "source": [
    "housing_df, housing_unseen = train_test_split(\n",
    "    housing_raw, test_size=0.2, random_state=42, shuffle=True\n",
    ")"
   ]
  },
  {
   "cell_type": "code",
   "execution_count": 16,
   "id": "797d8fb1",
   "metadata": {},
   "outputs": [],
   "source": [
    "y_train = housing_df.MedHouseVal\n",
    "X_train = housing_df.drop(columns=['MedHouseVal'])"
   ]
  },
  {
   "cell_type": "markdown",
   "id": "afd8daf1",
   "metadata": {},
   "source": [
    "## Gradient boosting regression"
   ]
  },
  {
   "cell_type": "code",
   "execution_count": 17,
   "id": "e1862455",
   "metadata": {},
   "outputs": [
    {
     "data": {
      "text/plain": [
       "LGBMRegressor()"
      ]
     },
     "execution_count": 17,
     "metadata": {},
     "output_type": "execute_result"
    }
   ],
   "source": [
    "gbm = LGBMRegressor()\n",
    "gbm.fit(X_train, y_train)"
   ]
  },
  {
   "cell_type": "code",
   "execution_count": 18,
   "id": "7db07cce",
   "metadata": {},
   "outputs": [
    {
     "data": {
      "text/plain": [
       "Pipeline(steps=[('standardscaler', StandardScaler()),\n",
       "                ('sgdregressor', SGDRegressor())])"
      ]
     },
     "execution_count": 18,
     "metadata": {},
     "output_type": "execute_result"
    }
   ],
   "source": [
    "reg = make_pipeline(\n",
    "    StandardScaler(), SGDRegressor(max_iter=1000, tol=1e-3))\n",
    "reg.fit(X_train, y_train)"
   ]
  },
  {
   "cell_type": "code",
   "execution_count": 19,
   "id": "f805b5ab",
   "metadata": {},
   "outputs": [],
   "source": [
    "y_test = housing_unseen.MedHouseVal\n",
    "X_test = housing_unseen.drop(columns='MedHouseVal')"
   ]
  },
  {
   "cell_type": "code",
   "execution_count": 20,
   "id": "bf94a082",
   "metadata": {},
   "outputs": [
    {
     "name": "stdout",
     "output_type": "stream",
     "text": [
      "R2 0.836, mse 0.215\n"
     ]
    }
   ],
   "source": [
    "y_pred = gbm.predict(X_test)\n",
    "print_model_performance(y_test, y_pred)"
   ]
  },
  {
   "cell_type": "code",
   "execution_count": 21,
   "id": "7da33aa2",
   "metadata": {},
   "outputs": [
    {
     "name": "stdout",
     "output_type": "stream",
     "text": [
      "R2 0.413, mse 0.769\n"
     ]
    }
   ],
   "source": [
    "y_pred = reg.predict(X_test)\n",
    "print_model_performance(y_test, y_pred)"
   ]
  },
  {
   "cell_type": "markdown",
   "id": "1afc85c3",
   "metadata": {},
   "source": [
    "## Feature importances"
   ]
  },
  {
   "cell_type": "code",
   "execution_count": 22,
   "id": "65eb94c0",
   "metadata": {},
   "outputs": [],
   "source": [
    "y_data = housing_raw.MedHouseVal\n",
    "X_data = housing_raw.drop(columns=['MedHouseVal'])"
   ]
  },
  {
   "cell_type": "code",
   "execution_count": 23,
   "id": "aa3c3293",
   "metadata": {},
   "outputs": [],
   "source": [
    "p_importance = permutation_importance(\n",
    "    gbm, X_data, y_data, n_repeats=10, random_state=0)"
   ]
  },
  {
   "cell_type": "code",
   "execution_count": 24,
   "id": "f855ce90",
   "metadata": {},
   "outputs": [],
   "source": [
    "p_importance_df = pd.DataFrame({\n",
    "    'feature': X_data.columns,\n",
    "    'importance': p_importance.importances_mean\n",
    "}).sort_values(by='importance', ascending=False)"
   ]
  },
  {
   "cell_type": "code",
   "execution_count": 25,
   "id": "bfc96dba",
   "metadata": {},
   "outputs": [
    {
     "data": {
      "text/plain": [
       "<AxesSubplot:xlabel='importance', ylabel='feature'>"
      ]
     },
     "execution_count": 25,
     "metadata": {},
     "output_type": "execute_result"
    },
    {
     "data": {
      "image/png": "[encoded data removed]",
      "text/plain": [
       "<Figure size 432x288 with 1 Axes>"
      ]
     },
     "metadata": {
      "needs_background": "light"
     },
     "output_type": "display_data"
    }
   ],
   "source": [
    "sns.barplot(x='importance', y='feature', data=p_importance_df)"
   ]
  },
  {
   "cell_type": "code",
   "execution_count": 26,
   "id": "aa2dd607",
   "metadata": {},
   "outputs": [
    {
     "data": {
      "text/plain": [
       "<AxesSubplot:>"
      ]
     },
     "execution_count": 26,
     "metadata": {},
     "output_type": "execute_result"
    },
    {
     "data": {
      "image/png": "[encoded data removed]",
      "text/plain": [
       "<Figure size 432x288 with 1 Axes>"
      ]
     },
     "metadata": {
      "needs_background": "light"
     },
     "output_type": "display_data"
    }
   ],
   "source": [
    "p_importance_df = pd.DataFrame(\n",
    "    p_importance.importances.T, columns=X_data.columns)\n",
    "importance_order = p_importance_df.mean().sort_values(\n",
    "    ascending=False).index.tolist()\n",
    "sns.boxplot(data=p_importance_df, orient='h', order=importance_order)"
   ]
  },
  {
   "cell_type": "markdown",
   "id": "49f8a891",
   "metadata": {},
   "source": [
    "## Pandas profiling"
   ]
  },
  {
   "cell_type": "code",
   "execution_count": 27,
   "id": "53dc1d68",
   "metadata": {},
   "outputs": [],
   "source": [
    "profile = ProfileReport(housing_raw, title=\"CA Housing\")"
   ]
  },
  {
   "cell_type": "markdown",
   "id": "695ed63e",
   "metadata": {},
   "source": [
    "profile.to_widgets()"
   ]
  },
  {
   "cell_type": "markdown",
   "id": "e06c5f59",
   "metadata": {},
   "source": [
    "## Skewed variables"
   ]
  },
  {
   "cell_type": "code",
   "execution_count": 28,
   "id": "150bd474",
   "metadata": {},
   "outputs": [
    {
     "data": {
      "text/html": [
       "<div>\n",
       "<style scoped>\n",
       "    .dataframe tbody tr th:only-of-type {\n",
       "        vertical-align: middle;\n",
       "    }\n",
       "\n",
       "    .dataframe tbody tr th {\n",
       "        vertical-align: top;\n",
       "    }\n",
       "\n",
       "    .dataframe thead th {\n",
       "        text-align: right;\n",
       "    }\n",
       "</style>\n",
       "<table border=\"1\" class=\"dataframe\">\n",
       "  <thead>\n",
       "    <tr style=\"text-align: right;\">\n",
       "      <th></th>\n",
       "      <th>AveRooms</th>\n",
       "      <th>AveBedrms</th>\n",
       "      <th>AveOccup</th>\n",
       "    </tr>\n",
       "  </thead>\n",
       "  <tbody>\n",
       "    <tr>\n",
       "      <th>count</th>\n",
       "      <td>20640.000000</td>\n",
       "      <td>20640.000000</td>\n",
       "      <td>20640.000000</td>\n",
       "    </tr>\n",
       "    <tr>\n",
       "      <th>mean</th>\n",
       "      <td>5.429000</td>\n",
       "      <td>1.096675</td>\n",
       "      <td>3.070655</td>\n",
       "    </tr>\n",
       "    <tr>\n",
       "      <th>std</th>\n",
       "      <td>2.474173</td>\n",
       "      <td>0.473911</td>\n",
       "      <td>10.386050</td>\n",
       "    </tr>\n",
       "    <tr>\n",
       "      <th>min</th>\n",
       "      <td>0.846154</td>\n",
       "      <td>0.333333</td>\n",
       "      <td>0.692308</td>\n",
       "    </tr>\n",
       "    <tr>\n",
       "      <th>25%</th>\n",
       "      <td>4.440716</td>\n",
       "      <td>1.006079</td>\n",
       "      <td>2.429741</td>\n",
       "    </tr>\n",
       "    <tr>\n",
       "      <th>50%</th>\n",
       "      <td>5.229129</td>\n",
       "      <td>1.048780</td>\n",
       "      <td>2.818116</td>\n",
       "    </tr>\n",
       "    <tr>\n",
       "      <th>75%</th>\n",
       "      <td>6.052381</td>\n",
       "      <td>1.099526</td>\n",
       "      <td>3.282261</td>\n",
       "    </tr>\n",
       "    <tr>\n",
       "      <th>max</th>\n",
       "      <td>141.909091</td>\n",
       "      <td>34.066667</td>\n",
       "      <td>1243.333333</td>\n",
       "    </tr>\n",
       "  </tbody>\n",
       "</table>\n",
       "</div>"
      ],
      "text/plain": [
       "           AveRooms     AveBedrms      AveOccup\n",
       "count  20640.000000  20640.000000  20640.000000\n",
       "mean       5.429000      1.096675      3.070655\n",
       "std        2.474173      0.473911     10.386050\n",
       "min        0.846154      0.333333      0.692308\n",
       "25%        4.440716      1.006079      2.429741\n",
       "50%        5.229129      1.048780      2.818116\n",
       "75%        6.052381      1.099526      3.282261\n",
       "max      141.909091     34.066667   1243.333333"
      ]
     },
     "execution_count": 28,
     "metadata": {},
     "output_type": "execute_result"
    }
   ],
   "source": [
    "cols = ['AveRooms', 'AveBedrms', 'AveOccup']\n",
    "housing_raw[cols].describe()"
   ]
  },
  {
   "cell_type": "code",
   "execution_count": 29,
   "id": "e2613337",
   "metadata": {},
   "outputs": [
    {
     "data": {
      "text/html": [
       "<div>\n",
       "<style scoped>\n",
       "    .dataframe tbody tr th:only-of-type {\n",
       "        vertical-align: middle;\n",
       "    }\n",
       "\n",
       "    .dataframe tbody tr th {\n",
       "        vertical-align: top;\n",
       "    }\n",
       "\n",
       "    .dataframe thead th {\n",
       "        text-align: right;\n",
       "    }\n",
       "</style>\n",
       "<table border=\"1\" class=\"dataframe\">\n",
       "  <thead>\n",
       "    <tr style=\"text-align: right;\">\n",
       "      <th></th>\n",
       "      <th>AveRooms</th>\n",
       "      <th>AveBedrms</th>\n",
       "      <th>AveOccup</th>\n",
       "    </tr>\n",
       "  </thead>\n",
       "  <tbody>\n",
       "    <tr>\n",
       "      <th>0.500</th>\n",
       "      <td>5.229129</td>\n",
       "      <td>1.048780</td>\n",
       "      <td>2.818116</td>\n",
       "    </tr>\n",
       "    <tr>\n",
       "      <th>0.900</th>\n",
       "      <td>6.961188</td>\n",
       "      <td>1.172727</td>\n",
       "      <td>3.885273</td>\n",
       "    </tr>\n",
       "    <tr>\n",
       "      <th>0.990</th>\n",
       "      <td>10.357033</td>\n",
       "      <td>2.127541</td>\n",
       "      <td>5.394812</td>\n",
       "    </tr>\n",
       "    <tr>\n",
       "      <th>0.999</th>\n",
       "      <td>34.199698</td>\n",
       "      <td>6.617232</td>\n",
       "      <td>13.630443</td>\n",
       "    </tr>\n",
       "  </tbody>\n",
       "</table>\n",
       "</div>"
      ],
      "text/plain": [
       "        AveRooms  AveBedrms   AveOccup\n",
       "0.500   5.229129   1.048780   2.818116\n",
       "0.900   6.961188   1.172727   3.885273\n",
       "0.990  10.357033   2.127541   5.394812\n",
       "0.999  34.199698   6.617232  13.630443"
      ]
     },
     "execution_count": 29,
     "metadata": {},
     "output_type": "execute_result"
    }
   ],
   "source": [
    "housing_raw[cols].quantile([0.5, 0.9, 0.99, 0.999])"
   ]
  },
  {
   "cell_type": "code",
   "execution_count": 30,
   "id": "bec0613d",
   "metadata": {},
   "outputs": [],
   "source": [
    "housing_data = housing_raw[\n",
    "    (housing_raw.AveRooms <= 10) &\n",
    "    (housing_raw.AveBedrms < 2) &\n",
    "    (housing_raw.AveOccup < 5)].reset_index(drop=True)"
   ]
  },
  {
   "cell_type": "code",
   "execution_count": 31,
   "id": "7cde5605",
   "metadata": {},
   "outputs": [
    {
     "data": {
      "text/plain": [
       "((20640, 9), (20022, 9))"
      ]
     },
     "execution_count": 31,
     "metadata": {},
     "output_type": "execute_result"
    }
   ],
   "source": [
    "housing_raw.shape, housing_data.shape"
   ]
  },
  {
   "cell_type": "code",
   "execution_count": 32,
   "id": "c5862f94",
   "metadata": {},
   "outputs": [],
   "source": [
    "profile = ProfileReport(housing_data, title=\"CA Housing\")\n",
    "# profile.to_widgets()"
   ]
  },
  {
   "cell_type": "markdown",
   "id": "1364c7db",
   "metadata": {},
   "source": [
    "## SGD Regressor"
   ]
  },
  {
   "cell_type": "markdown",
   "id": "d31f9de5",
   "metadata": {},
   "source": [
    "## Predict using cleaned data"
   ]
  },
  {
   "cell_type": "code",
   "execution_count": 33,
   "id": "0fd60d6d",
   "metadata": {},
   "outputs": [],
   "source": [
    "housing_train, housing_test = train_test_split(\n",
    "    housing_data, test_size=0.2, random_state=42, shuffle=True\n",
    ")"
   ]
  },
  {
   "cell_type": "code",
   "execution_count": 34,
   "id": "bf64b40e",
   "metadata": {},
   "outputs": [],
   "source": [
    "y_train = housing_train.MedHouseVal\n",
    "X_train = housing_train.drop(columns=['MedHouseVal'])"
   ]
  },
  {
   "cell_type": "code",
   "execution_count": 35,
   "id": "2dbfa3a8",
   "metadata": {},
   "outputs": [
    {
     "data": {
      "text/plain": [
       "LGBMRegressor()"
      ]
     },
     "execution_count": 35,
     "metadata": {},
     "output_type": "execute_result"
    }
   ],
   "source": [
    "gbm = LGBMRegressor()\n",
    "gbm.fit(X_train, y_train)"
   ]
  },
  {
   "cell_type": "code",
   "execution_count": 36,
   "id": "af83661d",
   "metadata": {},
   "outputs": [
    {
     "data": {
      "text/plain": [
       "Pipeline(steps=[('standardscaler', StandardScaler()),\n",
       "                ('sgdregressor', SGDRegressor())])"
      ]
     },
     "execution_count": 36,
     "metadata": {},
     "output_type": "execute_result"
    }
   ],
   "source": [
    "reg = make_pipeline(\n",
    "    StandardScaler(), SGDRegressor(max_iter=1000, tol=1e-3))\n",
    "reg.fit(X_train, y_train)"
   ]
  },
  {
   "cell_type": "code",
   "execution_count": 37,
   "id": "5235f0d7",
   "metadata": {},
   "outputs": [],
   "source": [
    "y_test = housing_test.MedHouseVal\n",
    "X_test = housing_test.drop(columns=['MedHouseVal'])"
   ]
  },
  {
   "cell_type": "code",
   "execution_count": 38,
   "id": "dc31dc9f",
   "metadata": {},
   "outputs": [
    {
     "name": "stdout",
     "output_type": "stream",
     "text": [
      "R2 0.831, mse 0.225\n"
     ]
    }
   ],
   "source": [
    "y_pred = gbm.predict(X_test)\n",
    "print_model_performance(y_test, y_pred)"
   ]
  },
  {
   "cell_type": "code",
   "execution_count": 39,
   "id": "b64365b9",
   "metadata": {},
   "outputs": [
    {
     "name": "stdout",
     "output_type": "stream",
     "text": [
      "R2 0.648, mse 0.468\n"
     ]
    }
   ],
   "source": [
    "y_pred = reg.predict(X_test)\n",
    "print_model_performance(y_test, y_pred)"
   ]
  }
 ],
 "metadata": {
  "jupytext": {
   "cell_metadata_filter": "-all",
   "main_language": "python",
   "notebook_metadata_filter": "-all"
  },
  "kernelspec": {
   "display_name": "Python 3 (ipykernel)",
   "language": "python",
   "name": "python3"
  },
  "language_info": {
   "codemirror_mode": {
    "name": "ipython",
    "version": 3
   },
   "file_extension": ".py",
   "mimetype": "text/x-python",
   "name": "python",
   "nbconvert_exporter": "python",
   "pygments_lexer": "ipython3",
   "version": "3.8.10"
  }
 },
 "nbformat": 4,
 "nbformat_minor": 5
}
