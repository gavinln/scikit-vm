{
 "cells": [
  {
   "cell_type": "markdown",
   "metadata": {},
   "source": [
    "Predict incomes from the census data set"
   ]
  },
  {
   "cell_type": "markdown",
   "metadata": {
    "heading_collapsed": true
   },
   "source": [
    "## Setup libraries"
   ]
  },
  {
   "cell_type": "code",
   "execution_count": 1,
   "metadata": {
    "ExecuteTime": {
     "end_time": "2020-10-05T13:37:32.502884Z",
     "start_time": "2020-10-05T13:37:29.518279Z"
    },
    "hidden": true
   },
   "outputs": [],
   "source": [
    "from pathlib import Path\n",
    "from collections import OrderedDict\n",
    "\n",
    "import pandas as pd\n",
    "import numpy as np\n",
    "import matplotlib.pyplot as plt\n",
    "import seaborn as sns\n",
    "\n",
    "from sklearn.preprocessing import StandardScaler\n",
    "from sklearn.preprocessing import OneHotEncoder\n",
    "from sklearn.preprocessing import OrdinalEncoder\n",
    "from sklearn.preprocessing import FunctionTransformer\n",
    "\n",
    "from sklearn.pipeline import Pipeline\n",
    "from sklearn.compose import ColumnTransformer\n",
    "\n",
    "from sklearn.naive_bayes import GaussianNB\n",
    "from sklearn.dummy import DummyClassifier\n",
    "from sklearn.ensemble import GradientBoostingClassifier\n",
    "from sklearn.linear_model import LogisticRegression\n",
    "\n",
    "from sklearn.metrics import roc_auc_score\n",
    "\n",
    "import xgboost as xgb"
   ]
  },
  {
   "cell_type": "code",
   "execution_count": 2,
   "metadata": {
    "ExecuteTime": {
     "end_time": "2020-10-05T13:37:32.512028Z",
     "start_time": "2020-10-05T13:37:32.505542Z"
    },
    "hidden": true
   },
   "outputs": [],
   "source": [
    "%matplotlib inline\n",
    "sns.set_style('whitegrid')"
   ]
  },
  {
   "cell_type": "markdown",
   "metadata": {
    "heading_collapsed": true
   },
   "source": [
    "## Get data"
   ]
  },
  {
   "cell_type": "markdown",
   "metadata": {
    "hidden": true
   },
   "source": [
    "The file uci_data_set.py is used to retrieve the data"
   ]
  },
  {
   "cell_type": "code",
   "execution_count": 3,
   "metadata": {
    "ExecuteTime": {
     "end_time": "2020-10-05T13:37:32.526283Z",
     "start_time": "2020-10-05T13:37:32.515357Z"
    },
    "hidden": true
   },
   "outputs": [],
   "source": [
    "data_root = Path.home() / 'uci_data' / 'adult'\n",
    "train_data = data_root / 'adult.data'\n",
    "test_data = data_root / 'adult.test'\n",
    "\n",
    "assert train_data.exists() and test_data.exists(\n",
    "), \"Use the python script to retrieve the data\""
   ]
  },
  {
   "cell_type": "markdown",
   "metadata": {
    "hidden": true
   },
   "source": [
    "Create a list of column names and types"
   ]
  },
  {
   "cell_type": "code",
   "execution_count": 4,
   "metadata": {
    "ExecuteTime": {
     "end_time": "2020-10-05T13:37:32.539717Z",
     "start_time": "2020-10-05T13:37:32.529568Z"
    },
    "hidden": true
   },
   "outputs": [],
   "source": [
    "inputs = OrderedDict(\n",
    "    ((\"age\",\n",
    "      (\"continuous\", )), (\"workclass\",\n",
    "                          (\"Private\", \"Self-emp-not-inc\", \"Self-emp-inc\",\n",
    "                           \"Federal-gov\", \"Local-gov\", \"?\", \"State-gov\",\n",
    "                           \"Without-pay\", \"Never-worked\")), (\"fnlwgt\",\n",
    "                                                             (\"continuous\", )),\n",
    "     (\"education\",\n",
    "      (\"Bachelors\", \"Some-college\", \"11th\", \"HS-grad\", \"Prof-school\",\n",
    "       \"Assoc-acdm\", \"Assoc-voc\", \"9th\", \"7th-8th\", \"12th\", \"Masters\",\n",
    "       \"1st-4th\", \"10th\", \"Doctorate\", \"5th-6th\", \"Preschool\")),\n",
    "     (\"education-num\",\n",
    "      (\"continuous\", )), (\"marital-status\",\n",
    "                          (\"Married-civ-spouse\", \"Divorced\", \"Never-married\",\n",
    "                           \"Separated\", \"Widowed\", \"Married-spouse-absent\",\n",
    "                           \"Married-AF-spouse\")),\n",
    "     (\"occupation\",\n",
    "      (\"Tech-support\", \"Craft-repair\", \"Other-service\", \"Sales\",\n",
    "       \"Exec-managerial\", \"Prof-specialty\", \"Handlers-cleaners\",\n",
    "       \"Machine-op-inspct\", \"Adm-clerical\", \"Farming-fishing\",\n",
    "       \"Transport-moving\", \"Priv-house-serv\", \"Protective-serv\",\n",
    "       \"Armed-Forces\")), (\"relationship\",\n",
    "                          (\"Wife\", \"Own-child\", \"Husband\", \"Not-in-family\",\n",
    "                           \"Other-relative\", \"Unmarried\")),\n",
    "     (\"race\", (\"White\", \"Asian-Pac-Islander\", \"Amer-Indian-Eskimo\", \"Other\",\n",
    "               \"Black\")), (\"sex\", (\"Female\", \"Male\")), (\"capital-gain\",\n",
    "                                                        (\"continuous\", )),\n",
    "     (\"capital-loss\", (\"continuous\", )), (\"hours-per-week\", (\"continuous\", )),\n",
    "     (\"native-country\",\n",
    "      (\"United-States\", \"Cambodia\", \"England\", \"Puerto-Rico\", \"Canada\",\n",
    "       \"Germany\", \"Outlying-US(Guam-USVI-etc)\", \"India\", \"Japan\", \"Greece\",\n",
    "       \"South\", \"China\", \"Cuba\", \"Iran\", \"Honduras\", \"Philippines\", \"Italy\",\n",
    "       \"Poland\", \"Jamaica\", \"Vietnam\", \"Mexico\", \"Portugal\", \"Ireland\",\n",
    "       \"France\", \"Dominican-Republic\", \"Laos\", \"Ecuador\", \"Taiwan\", \"Haiti\",\n",
    "       \"Columbia\", \"Hungary\", \"Guatemala\", \"Nicaragua\", \"Scotland\", \"Thailand\",\n",
    "       \"Yugoslavia\", \"El-Salvador\", \"Trinadad&Tobago\", \"Peru\", \"Hong\",\n",
    "       \"Holand-Netherlands\")), (\"income\", (\"<=50k\", \">50k\"))))"
   ]
  },
  {
   "cell_type": "markdown",
   "metadata": {
    "hidden": true
   },
   "source": [
    "Create data frames"
   ]
  },
  {
   "cell_type": "code",
   "execution_count": 5,
   "metadata": {
    "ExecuteTime": {
     "end_time": "2020-10-05T13:37:33.064001Z",
     "start_time": "2020-10-05T13:37:32.779344Z"
    },
    "hidden": true
   },
   "outputs": [],
   "source": [
    "train_df = pd.read_csv(train_data, names=list(inputs.keys()), header=None)\n",
    "test_df = pd.read_csv(test_data, names=list(inputs.keys()), header=None, skiprows=1)"
   ]
  },
  {
   "cell_type": "markdown",
   "metadata": {
    "hidden": true
   },
   "source": [
    "Drop rows with unknown values marked with ?"
   ]
  },
  {
   "cell_type": "code",
   "execution_count": 6,
   "metadata": {
    "ExecuteTime": {
     "end_time": "2020-10-05T13:37:33.827424Z",
     "start_time": "2020-10-05T13:37:33.764118Z"
    },
    "hidden": true
   },
   "outputs": [],
   "source": [
    "train_df = train_df.replace(' ?', np.nan).dropna()\n",
    "test_df = test_df.replace(' ?', np.nan).dropna()"
   ]
  },
  {
   "cell_type": "markdown",
   "metadata": {
    "hidden": true
   },
   "source": [
    "Get sizes of training and test data sets"
   ]
  },
  {
   "cell_type": "code",
   "execution_count": 7,
   "metadata": {
    "ExecuteTime": {
     "end_time": "2020-10-05T13:37:34.564443Z",
     "start_time": "2020-10-05T13:37:34.557019Z"
    },
    "hidden": true
   },
   "outputs": [
    {
     "data": {
      "text/plain": [
       "(30162, 15060)"
      ]
     },
     "execution_count": 7,
     "metadata": {},
     "output_type": "execute_result"
    }
   ],
   "source": [
    "train_len = train_df.shape[0]\n",
    "test_len = test_df.shape[0]\n",
    "train_len, test_len"
   ]
  },
  {
   "cell_type": "markdown",
   "metadata": {
    "hidden": true
   },
   "source": [
    "Combine train and test datasets"
   ]
  },
  {
   "cell_type": "code",
   "execution_count": 8,
   "metadata": {
    "ExecuteTime": {
     "end_time": "2020-10-05T13:37:35.140586Z",
     "start_time": "2020-10-05T13:37:35.121291Z"
    },
    "hidden": true
   },
   "outputs": [],
   "source": [
    "combined_df = pd.concat([train_df, test_df])"
   ]
  },
  {
   "cell_type": "markdown",
   "metadata": {
    "hidden": true
   },
   "source": [
    "Fix different strings for income in train and test data"
   ]
  },
  {
   "cell_type": "code",
   "execution_count": 9,
   "metadata": {
    "ExecuteTime": {
     "end_time": "2020-10-05T13:37:35.918278Z",
     "start_time": "2020-10-05T13:37:35.868676Z"
    },
    "hidden": true,
    "slideshow": {
     "slide_type": ""
    }
   },
   "outputs": [],
   "source": [
    "combined_df['income'] = combined_df.income.apply(\n",
    "    lambda x: x.strip()).replace(\n",
    "    to_replace={'<=50K.': '<=50K', '>50K.': '>50K'})"
   ]
  },
  {
   "cell_type": "markdown",
   "metadata": {},
   "source": [
    "## Get categorical and numeric columns"
   ]
  },
  {
   "cell_type": "markdown",
   "metadata": {},
   "source": [
    "Get the types of columns"
   ]
  },
  {
   "cell_type": "code",
   "execution_count": 10,
   "metadata": {
    "ExecuteTime": {
     "end_time": "2020-10-05T13:37:37.200187Z",
     "start_time": "2020-10-05T13:37:37.194697Z"
    }
   },
   "outputs": [],
   "source": [
    "kinds = pd.Series(dt.kind for dt in combined_df.dtypes)\n",
    "is_num = kinds != 'O'\n",
    "num_cols = combined_df.columns[is_num]\n",
    "cat_cols = combined_df.columns[~is_num]"
   ]
  },
  {
   "cell_type": "markdown",
   "metadata": {},
   "source": [
    "Convert categorical features to numeric values"
   ]
  },
  {
   "cell_type": "code",
   "execution_count": 11,
   "metadata": {
    "ExecuteTime": {
     "end_time": "2020-10-05T13:37:38.133748Z",
     "start_time": "2020-10-05T13:37:38.130533Z"
    }
   },
   "outputs": [],
   "source": [
    "# for feature in cat_cols:\n",
    "#     cat_col = combined_df[feature].astype('category')\n",
    "#     combined_df[feature] = cat_col.cat.codes"
   ]
  },
  {
   "cell_type": "markdown",
   "metadata": {},
   "source": [
    "## Clean data using pandas"
   ]
  },
  {
   "cell_type": "markdown",
   "metadata": {},
   "source": [
    "Split data into features and labels, training and test set"
   ]
  },
  {
   "cell_type": "code",
   "execution_count": 12,
   "metadata": {
    "ExecuteTime": {
     "end_time": "2020-10-05T13:37:39.556518Z",
     "start_time": "2020-10-05T13:37:39.481595Z"
    }
   },
   "outputs": [],
   "source": [
    "feature_df = combined_df.drop(labels='income', axis=1)\n",
    "label_df = combined_df[['income']].copy(deep=True)\n",
    "\n",
    "cat_cols = cat_cols.drop('income')\n",
    "\n",
    "feature_train = feature_df[:train_len]\n",
    "label_train = label_df[:train_len]\n",
    "\n",
    "feature_test = feature_df[train_len:]\n",
    "label_test = label_df[train_len:]"
   ]
  },
  {
   "cell_type": "markdown",
   "metadata": {},
   "source": [
    "## Clean data using sklearn pipeline"
   ]
  },
  {
   "cell_type": "markdown",
   "metadata": {},
   "source": [
    "Create a pipeline for categorical"
   ]
  },
  {
   "cell_type": "code",
   "execution_count": 13,
   "metadata": {
    "ExecuteTime": {
     "end_time": "2020-10-05T13:37:41.449030Z",
     "start_time": "2020-10-05T13:37:41.445851Z"
    }
   },
   "outputs": [],
   "source": [
    "cat_pipe = Pipeline(steps=[\n",
    "    ('ohe', OneHotEncoder())\n",
    "])"
   ]
  },
  {
   "cell_type": "markdown",
   "metadata": {},
   "source": [
    "Create a pipeline to transform numeric values"
   ]
  },
  {
   "cell_type": "code",
   "execution_count": 14,
   "metadata": {
    "ExecuteTime": {
     "end_time": "2020-10-05T13:37:42.663239Z",
     "start_time": "2020-10-05T13:37:42.659411Z"
    }
   },
   "outputs": [],
   "source": [
    "num_pipe = Pipeline(steps=[\n",
    "#    ('ft', FunctionTransformer(validate=False))\n",
    "    ('ss', StandardScaler())\n",
    "])"
   ]
  },
  {
   "cell_type": "markdown",
   "metadata": {},
   "source": [
    "Create a column transformer to encode columns"
   ]
  },
  {
   "cell_type": "code",
   "execution_count": 16,
   "metadata": {
    "ExecuteTime": {
     "end_time": "2020-10-05T13:37:54.593684Z",
     "start_time": "2020-10-05T13:37:54.588860Z"
    }
   },
   "outputs": [],
   "source": [
    "ct = ColumnTransformer(transformers=[\n",
    "    # ('cat', cat_pipe, cat_cols),\n",
    "    ('num', num_pipe, num_cols)b\n",
    "])"
   ]
  },
  {
   "cell_type": "markdown",
   "metadata": {},
   "source": [
    "Apply column transformation to the training and test data"
   ]
  },
  {
   "cell_type": "code",
   "execution_count": 19,
   "metadata": {
    "ExecuteTime": {
     "end_time": "2020-10-05T13:38:18.329013Z",
     "start_time": "2020-10-05T13:38:18.307276Z"
    }
   },
   "outputs": [],
   "source": [
    "X_train = ct.fit_transform(feature_train) # .todense()\n",
    "X_test = ct.transform(feature_test) # .todense()"
   ]
  },
  {
   "cell_type": "markdown",
   "metadata": {},
   "source": [
    "Compare old and new feature dimensions"
   ]
  },
  {
   "cell_type": "code",
   "execution_count": 20,
   "metadata": {
    "ExecuteTime": {
     "end_time": "2020-10-05T13:38:19.895588Z",
     "start_time": "2020-10-05T13:38:19.890358Z"
    }
   },
   "outputs": [
    {
     "data": {
      "text/plain": [
       "((30162, 14), (30162, 6))"
      ]
     },
     "execution_count": 20,
     "metadata": {},
     "output_type": "execute_result"
    }
   ],
   "source": [
    "feature_train.shape, X_train.shape"
   ]
  },
  {
   "cell_type": "markdown",
   "metadata": {},
   "source": [
    "Get categorical mappings"
   ]
  },
  {
   "cell_type": "code",
   "execution_count": 26,
   "metadata": {
    "ExecuteTime": {
     "end_time": "2020-10-05T13:40:35.090280Z",
     "start_time": "2020-10-05T13:40:35.087217Z"
    }
   },
   "outputs": [],
   "source": [
    "# oe = ct.named_transformers_['cat'].named_steps['oe']\n",
    "# cat_maps = dict(zip(cat_cols, oe.categories_))"
   ]
  },
  {
   "cell_type": "code",
   "execution_count": 28,
   "metadata": {
    "ExecuteTime": {
     "end_time": "2020-10-05T13:40:42.911123Z",
     "start_time": "2020-10-05T13:40:42.907273Z"
    }
   },
   "outputs": [],
   "source": [
    "# ohe = ct.named_transformers_['cat'].named_steps['ohe']"
   ]
  },
  {
   "cell_type": "code",
   "execution_count": 68,
   "metadata": {
    "ExecuteTime": {
     "end_time": "2020-10-05T02:33:23.851612Z",
     "start_time": "2020-10-05T02:33:23.846134Z"
    }
   },
   "outputs": [],
   "source": [
    "cat_cols_codes = ['x{}'.format(idx) for idx in range(len(ohe.categories_))]\n",
    "cat_maps = dict(zip(cat_cols, cat_cols_codes))\n",
    "cat_cols_enc = ohe.get_feature_names()"
   ]
  },
  {
   "cell_type": "code",
   "execution_count": 69,
   "metadata": {
    "ExecuteTime": {
     "end_time": "2020-10-05T02:33:29.424534Z",
     "start_time": "2020-10-05T02:33:29.418347Z"
    }
   },
   "outputs": [
    {
     "data": {
      "text/plain": [
       "array(['x0_ Federal-gov', 'x0_ Local-gov', 'x0_ Private',\n",
       "       'x0_ Self-emp-inc', 'x0_ Self-emp-not-inc', 'x0_ State-gov',\n",
       "       'x0_ Without-pay', 'x1_ 10th', 'x1_ 11th', 'x1_ 12th',\n",
       "       'x1_ 1st-4th', 'x1_ 5th-6th', 'x1_ 7th-8th', 'x1_ 9th',\n",
       "       'x1_ Assoc-acdm', 'x1_ Assoc-voc', 'x1_ Bachelors',\n",
       "       'x1_ Doctorate', 'x1_ HS-grad', 'x1_ Masters', 'x1_ Preschool',\n",
       "       'x1_ Prof-school', 'x1_ Some-college', 'x2_ Divorced',\n",
       "       'x2_ Married-AF-spouse', 'x2_ Married-civ-spouse',\n",
       "       'x2_ Married-spouse-absent', 'x2_ Never-married', 'x2_ Separated',\n",
       "       'x2_ Widowed', 'x3_ Adm-clerical', 'x3_ Armed-Forces',\n",
       "       'x3_ Craft-repair', 'x3_ Exec-managerial', 'x3_ Farming-fishing',\n",
       "       'x3_ Handlers-cleaners', 'x3_ Machine-op-inspct',\n",
       "       'x3_ Other-service', 'x3_ Priv-house-serv', 'x3_ Prof-specialty',\n",
       "       'x3_ Protective-serv', 'x3_ Sales', 'x3_ Tech-support',\n",
       "       'x3_ Transport-moving', 'x4_ Husband', 'x4_ Not-in-family',\n",
       "       'x4_ Other-relative', 'x4_ Own-child', 'x4_ Unmarried', 'x4_ Wife',\n",
       "       'x5_ Amer-Indian-Eskimo', 'x5_ Asian-Pac-Islander', 'x5_ Black',\n",
       "       'x5_ Other', 'x5_ White', 'x6_ Female', 'x6_ Male', 'x7_ Cambodia',\n",
       "       'x7_ Canada', 'x7_ China', 'x7_ Columbia', 'x7_ Cuba',\n",
       "       'x7_ Dominican-Republic', 'x7_ Ecuador', 'x7_ El-Salvador',\n",
       "       'x7_ England', 'x7_ France', 'x7_ Germany', 'x7_ Greece',\n",
       "       'x7_ Guatemala', 'x7_ Haiti', 'x7_ Holand-Netherlands',\n",
       "       'x7_ Honduras', 'x7_ Hong', 'x7_ Hungary', 'x7_ India', 'x7_ Iran',\n",
       "       'x7_ Ireland', 'x7_ Italy', 'x7_ Jamaica', 'x7_ Japan', 'x7_ Laos',\n",
       "       'x7_ Mexico', 'x7_ Nicaragua', 'x7_ Outlying-US(Guam-USVI-etc)',\n",
       "       'x7_ Peru', 'x7_ Philippines', 'x7_ Poland', 'x7_ Portugal',\n",
       "       'x7_ Puerto-Rico', 'x7_ Scotland', 'x7_ South', 'x7_ Taiwan',\n",
       "       'x7_ Thailand', 'x7_ Trinadad&Tobago', 'x7_ United-States',\n",
       "       'x7_ Vietnam', 'x7_ Yugoslavia'], dtype=object)"
      ]
     },
     "execution_count": 69,
     "metadata": {},
     "output_type": "execute_result"
    }
   ],
   "source": [
    "cat_cols_enc"
   ]
  },
  {
   "cell_type": "markdown",
   "metadata": {},
   "source": [
    "Get the names of all the columns"
   ]
  },
  {
   "cell_type": "code",
   "execution_count": 29,
   "metadata": {
    "ExecuteTime": {
     "end_time": "2020-10-05T13:40:58.897375Z",
     "start_time": "2020-10-05T13:40:58.890513Z"
    }
   },
   "outputs": [
    {
     "data": {
      "text/plain": [
       "Index(['age', 'fnlwgt', 'education-num', 'capital-gain', 'capital-loss',\n",
       "       'hours-per-week'],\n",
       "      dtype='object')"
      ]
     },
     "execution_count": 29,
     "metadata": {},
     "output_type": "execute_result"
    }
   ],
   "source": [
    "num_cols"
   ]
  },
  {
   "cell_type": "code",
   "execution_count": 22,
   "metadata": {
    "ExecuteTime": {
     "end_time": "2020-10-05T02:01:47.524775Z",
     "start_time": "2020-10-05T02:01:47.520218Z"
    }
   },
   "outputs": [],
   "source": [
    "all_cols = list(cat_cols_enc) + list(num_cols)"
   ]
  },
  {
   "cell_type": "markdown",
   "metadata": {},
   "source": [
    "## Setup training and test data"
   ]
  },
  {
   "cell_type": "code",
   "execution_count": 30,
   "metadata": {
    "ExecuteTime": {
     "end_time": "2020-10-05T13:41:04.428563Z",
     "start_time": "2020-10-05T13:41:04.420981Z"
    }
   },
   "outputs": [],
   "source": [
    "y_train = label_train.income == '<=50K'\n",
    "y_test = label_test.income == '<=50K'"
   ]
  },
  {
   "cell_type": "markdown",
   "metadata": {},
   "source": [
    "## Dummy classifier"
   ]
  },
  {
   "cell_type": "code",
   "execution_count": 31,
   "metadata": {
    "ExecuteTime": {
     "end_time": "2020-10-05T13:41:07.553973Z",
     "start_time": "2020-10-05T13:41:07.534363Z"
    }
   },
   "outputs": [
    {
     "data": {
      "text/plain": [
       "0.5007489531785307"
      ]
     },
     "execution_count": 31,
     "metadata": {},
     "output_type": "execute_result"
    }
   ],
   "source": [
    "clf = DummyClassifier(strategy='stratified')\n",
    "clf.fit(X_train, y_train)\n",
    "# clf.score(X_test, y_test)\n",
    "y_predict = clf.predict(X_test)\n",
    "roc_auc_score(y_test, y_predict)"
   ]
  },
  {
   "cell_type": "markdown",
   "metadata": {},
   "source": [
    "## Naive Bayes classifier"
   ]
  },
  {
   "cell_type": "code",
   "execution_count": 32,
   "metadata": {
    "ExecuteTime": {
     "end_time": "2020-10-05T13:41:09.117895Z",
     "start_time": "2020-10-05T13:41:09.099491Z"
    }
   },
   "outputs": [
    {
     "data": {
      "text/plain": [
       "0.6260741815759421"
      ]
     },
     "execution_count": 32,
     "metadata": {},
     "output_type": "execute_result"
    }
   ],
   "source": [
    "clf = GaussianNB()\n",
    "clf.fit(X_train, y_train)\n",
    "# clf.score(X_test, y_test)\n",
    "y_predict = clf.predict(X_test)\n",
    "roc_auc_score(y_test, y_predict)"
   ]
  },
  {
   "cell_type": "markdown",
   "metadata": {},
   "source": [
    "## Logistic regression classifier"
   ]
  },
  {
   "cell_type": "code",
   "execution_count": 33,
   "metadata": {
    "ExecuteTime": {
     "end_time": "2020-10-05T13:41:11.611769Z",
     "start_time": "2020-10-05T13:41:10.375993Z"
    }
   },
   "outputs": [
    {
     "data": {
      "text/plain": [
       "0.6683043871336125"
      ]
     },
     "execution_count": 33,
     "metadata": {},
     "output_type": "execute_result"
    }
   ],
   "source": [
    "clf = LogisticRegression(solver='lbfgs', n_jobs=-1)\n",
    "clf.fit(X_train, y_train)\n",
    "y_predict = clf.predict(X_test)\n",
    "roc_auc_score(y_test, y_predict)"
   ]
  },
  {
   "cell_type": "markdown",
   "metadata": {},
   "source": [
    "## Gradient boosting classifier"
   ]
  },
  {
   "cell_type": "code",
   "execution_count": 34,
   "metadata": {
    "ExecuteTime": {
     "end_time": "2020-10-05T13:41:17.241655Z",
     "start_time": "2020-10-05T13:41:15.137447Z"
    }
   },
   "outputs": [
    {
     "data": {
      "text/plain": [
       "0.7077852588503997"
      ]
     },
     "execution_count": 34,
     "metadata": {},
     "output_type": "execute_result"
    }
   ],
   "source": [
    "gbr = GradientBoostingClassifier()\n",
    "gbr.fit(X_train, y_train)\n",
    "y_predict = gbr.predict(X_test)\n",
    "roc_auc_score(y_test, y_predict)"
   ]
  },
  {
   "cell_type": "markdown",
   "metadata": {},
   "source": [
    "## XGBoost classifier"
   ]
  },
  {
   "cell_type": "markdown",
   "metadata": {},
   "source": [
    "Use the scikit-learn interface"
   ]
  },
  {
   "cell_type": "code",
   "execution_count": 36,
   "metadata": {
    "ExecuteTime": {
     "end_time": "2020-10-05T13:41:25.334239Z",
     "start_time": "2020-10-05T13:41:24.580449Z"
    }
   },
   "outputs": [
    {
     "data": {
      "text/plain": [
       "0.7223227540921202"
      ]
     },
     "execution_count": 36,
     "metadata": {},
     "output_type": "execute_result"
    }
   ],
   "source": [
    "xg_clf = xgb.XGBClassifier()\n",
    "xg_clf.fit(X_train, y_train)\n",
    "y_predict = xg_clf.predict(X_test)\n",
    "roc_auc_score(y_test, y_predict)"
   ]
  },
  {
   "cell_type": "code",
   "execution_count": 37,
   "metadata": {
    "ExecuteTime": {
     "end_time": "2020-10-05T13:41:26.260249Z",
     "start_time": "2020-10-05T13:41:26.063573Z"
    }
   },
   "outputs": [
    {
     "data": {
      "image/png": "[encoded data removed]",
      "text/plain": [
       "<Figure size 432x288 with 1 Axes>"
      ]
     },
     "metadata": {},
     "output_type": "display_data"
    }
   ],
   "source": [
    "xgb.plot_importance(xg_clf, max_num_features=10)\n",
    "plt.rcParams['figure.figsize'] = [5, 7]\n",
    "plt.show()"
   ]
  },
  {
   "cell_type": "code",
   "execution_count": 38,
   "metadata": {
    "ExecuteTime": {
     "end_time": "2020-10-05T13:41:31.060426Z",
     "start_time": "2020-10-05T13:41:31.018706Z"
    }
   },
   "outputs": [],
   "source": [
    "feature_importances = xg_clf.feature_importances_"
   ]
  },
  {
   "cell_type": "code",
   "execution_count": 44,
   "metadata": {
    "ExecuteTime": {
     "end_time": "2020-10-05T13:43:02.846855Z",
     "start_time": "2020-10-05T13:43:02.839932Z"
    }
   },
   "outputs": [
    {
     "data": {
      "text/plain": [
       "array([0.14932455, 0.02865257, 0.22947326, 0.37510052, 0.1446752 ,\n",
       "       0.07277388], dtype=float32)"
      ]
     },
     "execution_count": 44,
     "metadata": {},
     "output_type": "execute_result"
    }
   ],
   "source": [
    "feature_importances"
   ]
  },
  {
   "cell_type": "code",
   "execution_count": 39,
   "metadata": {
    "ExecuteTime": {
     "end_time": "2020-10-05T13:41:34.863976Z",
     "start_time": "2020-10-05T13:41:34.857508Z"
    }
   },
   "outputs": [
    {
     "data": {
      "text/plain": [
       "array([0.37510052, 0.22947326, 0.14932455, 0.1446752 , 0.07277388,\n",
       "       0.02865257], dtype=float32)"
      ]
     },
     "execution_count": 39,
     "metadata": {},
     "output_type": "execute_result"
    }
   ],
   "source": [
    "np.sort(feature_importances)[::-1]"
   ]
  },
  {
   "cell_type": "code",
   "execution_count": 40,
   "metadata": {
    "ExecuteTime": {
     "end_time": "2020-10-05T13:41:37.757797Z",
     "start_time": "2020-10-05T13:41:37.754552Z"
    }
   },
   "outputs": [],
   "source": [
    "ind = np.argsort(feature_importances)"
   ]
  },
  {
   "cell_type": "code",
   "execution_count": 45,
   "metadata": {
    "ExecuteTime": {
     "end_time": "2020-10-05T13:48:10.325979Z",
     "start_time": "2020-10-05T13:48:10.318504Z"
    }
   },
   "outputs": [
    {
     "data": {
      "text/plain": [
       "array([1, 5, 4, 0, 2, 3])"
      ]
     },
     "execution_count": 45,
     "metadata": {},
     "output_type": "execute_result"
    }
   ],
   "source": [
    "ind"
   ]
  },
  {
   "cell_type": "code",
   "execution_count": 46,
   "metadata": {
    "ExecuteTime": {
     "end_time": "2020-10-05T13:48:33.679016Z",
     "start_time": "2020-10-05T13:48:33.672720Z"
    }
   },
   "outputs": [
    {
     "data": {
      "text/plain": [
       "array([0.14932455, 0.02865257, 0.22947326, 0.37510052, 0.1446752 ,\n",
       "       0.07277388], dtype=float32)"
      ]
     },
     "execution_count": 46,
     "metadata": {},
     "output_type": "execute_result"
    }
   ],
   "source": [
    "feature_importances"
   ]
  },
  {
   "cell_type": "code",
   "execution_count": 47,
   "metadata": {
    "ExecuteTime": {
     "end_time": "2020-10-05T13:49:17.068871Z",
     "start_time": "2020-10-05T13:49:17.061582Z"
    }
   },
   "outputs": [
    {
     "data": {
      "text/plain": [
       "array(['age', 'fnlwgt', 'education-num', 'capital-gain', 'capital-loss',\n",
       "       'hours-per-week'], dtype=object)"
      ]
     },
     "execution_count": 47,
     "metadata": {},
     "output_type": "execute_result"
    }
   ],
   "source": [
    "num_cols.values"
   ]
  },
  {
   "cell_type": "code",
   "execution_count": null,
   "metadata": {},
   "outputs": [],
   "source": []
  }
 ],
 "metadata": {
  "jupytext": {
   "text_representation": {
    "extension": ".py",
    "format_name": "percent",
    "format_version": "1.2",
    "jupytext_version": "0.8.6"
   }
  },
  "kernelspec": {
   "display_name": "Python 3 (ipykernel)",
   "language": "python",
   "name": "python3"
  },
  "language_info": {
   "codemirror_mode": {
    "name": "ipython",
    "version": 3
   },
   "file_extension": ".py",
   "mimetype": "text/x-python",
   "name": "python",
   "nbconvert_exporter": "python",
   "pygments_lexer": "ipython3",
   "version": "3.8.10"
  },
  "toc": {
   "base_numbering": 1,
   "nav_menu": {},
   "number_sections": true,
   "sideBar": true,
   "skip_h1_title": false,
   "title_cell": "Table of Contents",
   "title_sidebar": "Contents",
   "toc_cell": false,
   "toc_position": {},
   "toc_section_display": true,
   "toc_window_display": false
  }
 },
 "nbformat": 4,
 "nbformat_minor": 4
}
