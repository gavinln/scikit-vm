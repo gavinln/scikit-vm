{
 "cells": [
  {
   "cell_type": "markdown",
   "id": "bd4b7c5c",
   "metadata": {},
   "source": [
    "# Optuna Hyperparameter optimization"
   ]
  },
  {
   "cell_type": "markdown",
   "id": "6f52dc4c",
   "metadata": {},
   "source": [
    "https://github.com/optuna/optuna"
   ]
  },
  {
   "cell_type": "markdown",
   "id": "2b9359e6-49b6-4c38-844e-b5ba043d8dee",
   "metadata": {},
   "source": [
    "Tutorials\n",
    "* lightgbm https://towardsdatascience.com/how-to-beat-the-heck-out-of-xgboost-with-lightgbm-comprehensive-tutorial-5eba52195997\n",
    "* optuna https://towardsdatascience.com/kagglers-guide-to-lightgbm-hyperparameter-tuning-with-optuna-in-2021-ed048d9838b5"
   ]
  },
  {
   "cell_type": "markdown",
   "id": "5d035ab6",
   "metadata": {},
   "source": [
    "## Setup libraries"
   ]
  },
  {
   "cell_type": "code",
   "execution_count": 2,
   "id": "ce46b848",
   "metadata": {},
   "outputs": [],
   "source": [
    "import optuna"
   ]
  },
  {
   "cell_type": "code",
   "execution_count": 3,
   "id": "25a5e88b",
   "metadata": {},
   "outputs": [],
   "source": [
    "import sklearn.datasets\n",
    "import sklearn.ensemble\n",
    "import sklearn.model_selection\n",
    "import sklearn.svm"
   ]
  },
  {
   "cell_type": "code",
   "execution_count": 4,
   "id": "ed701a78",
   "metadata": {},
   "outputs": [],
   "source": [
    "# FYI: Objective functions can take additional arguments\n",
    "# (https://optuna.readthedocs.io/en/stable/faq.html#objective-func-additional-args).\n",
    "def objective(trial):\n",
    "    iris = sklearn.datasets.load_iris()\n",
    "    x, y = iris.data, iris.target\n",
    "\n",
    "    classifier_name = trial.suggest_categorical(\n",
    "        \"classifier\", [\"SVC\", \"RandomForest\"]\n",
    "    )\n",
    "    if classifier_name == \"SVC\":\n",
    "        svc_c = trial.suggest_float(\"svc_c\", 1e-10, 1e10, log=True)\n",
    "        classifier_obj = sklearn.svm.SVC(C=svc_c, gamma=\"auto\")\n",
    "    else:\n",
    "        rf_max_depth = trial.suggest_int(\"rf_max_depth\", 2, 32, log=True)\n",
    "        classifier_obj = sklearn.ensemble.RandomForestClassifier(\n",
    "            max_depth=rf_max_depth, n_estimators=10\n",
    "        )\n",
    "\n",
    "    score = sklearn.model_selection.cross_val_score(\n",
    "        classifier_obj, x, y, n_jobs=-1, cv=3\n",
    "    )\n",
    "    accuracy = score.mean()\n",
    "    return accuracy"
   ]
  },
  {
   "cell_type": "markdown",
   "id": "25bf8329-9fcf-4874-8ab4-dbc43afe4483",
   "metadata": {
    "jp-MarkdownHeadingCollapsed": true,
    "tags": []
   },
   "source": [
    "## Optimize hyper parameters"
   ]
  },
  {
   "cell_type": "code",
   "execution_count": 7,
   "id": "af273679",
   "metadata": {},
   "outputs": [
    {
     "name": "stderr",
     "output_type": "stream",
     "text": [
      "\u001b[32m[I 2021-11-14 21:57:19,395]\u001b[0m A new study created in memory with name: no-name-6c49a3c3-92b5-40de-9d78-2d2a02beeda2\u001b[0m\n",
      "\u001b[32m[I 2021-11-14 21:57:19,432]\u001b[0m Trial 0 finished with value: 0.9533333333333333 and parameters: {'classifier': 'RandomForest', 'rf_max_depth': 9}. Best is trial 0 with value: 0.9533333333333333.\u001b[0m\n",
      "\u001b[32m[I 2021-11-14 21:57:19,468]\u001b[0m Trial 1 finished with value: 0.9533333333333333 and parameters: {'classifier': 'RandomForest', 'rf_max_depth': 29}. Best is trial 0 with value: 0.9533333333333333.\u001b[0m\n",
      "\u001b[32m[I 2021-11-14 21:57:19,481]\u001b[0m Trial 2 finished with value: 0.96 and parameters: {'classifier': 'SVC', 'svc_c': 193110242.45379505}. Best is trial 2 with value: 0.96.\u001b[0m\n",
      "\u001b[32m[I 2021-11-14 21:57:19,495]\u001b[0m Trial 3 finished with value: 0.9466666666666667 and parameters: {'classifier': 'SVC', 'svc_c': 0.12544090855342385}. Best is trial 2 with value: 0.96.\u001b[0m\n",
      "\u001b[32m[I 2021-11-14 21:57:19,507]\u001b[0m Trial 4 finished with value: 0.32 and parameters: {'classifier': 'SVC', 'svc_c': 0.0004082544414780217}. Best is trial 2 with value: 0.96.\u001b[0m\n",
      "\u001b[32m[I 2021-11-14 21:57:19,523]\u001b[0m Trial 5 finished with value: 0.96 and parameters: {'classifier': 'SVC', 'svc_c': 23370.520170043997}. Best is trial 2 with value: 0.96.\u001b[0m\n",
      "\u001b[32m[I 2021-11-14 21:57:19,559]\u001b[0m Trial 6 finished with value: 0.96 and parameters: {'classifier': 'RandomForest', 'rf_max_depth': 29}. Best is trial 2 with value: 0.96.\u001b[0m\n",
      "\u001b[32m[I 2021-11-14 21:57:19,572]\u001b[0m Trial 7 finished with value: 0.32 and parameters: {'classifier': 'SVC', 'svc_c': 0.0055683353879126055}. Best is trial 2 with value: 0.96.\u001b[0m\n",
      "\u001b[32m[I 2021-11-14 21:57:19,604]\u001b[0m Trial 8 finished with value: 0.9533333333333333 and parameters: {'classifier': 'RandomForest', 'rf_max_depth': 5}. Best is trial 2 with value: 0.96.\u001b[0m\n",
      "\u001b[32m[I 2021-11-14 21:57:19,631]\u001b[0m Trial 9 finished with value: 0.9533333333333333 and parameters: {'classifier': 'RandomForest', 'rf_max_depth': 13}. Best is trial 2 with value: 0.96.\u001b[0m\n",
      "\u001b[32m[I 2021-11-14 21:57:19,645]\u001b[0m Trial 10 finished with value: 0.96 and parameters: {'classifier': 'SVC', 'svc_c': 27638243.63021186}. Best is trial 2 with value: 0.96.\u001b[0m\n",
      "\u001b[32m[I 2021-11-14 21:57:19,664]\u001b[0m Trial 11 finished with value: 0.96 and parameters: {'classifier': 'SVC', 'svc_c': 219596045.4597587}. Best is trial 2 with value: 0.96.\u001b[0m\n",
      "\u001b[32m[I 2021-11-14 21:57:19,690]\u001b[0m Trial 12 finished with value: 0.96 and parameters: {'classifier': 'SVC', 'svc_c': 25961.954118787744}. Best is trial 2 with value: 0.96.\u001b[0m\n",
      "\u001b[32m[I 2021-11-14 21:57:19,711]\u001b[0m Trial 13 finished with value: 0.96 and parameters: {'classifier': 'SVC', 'svc_c': 7600.877387057896}. Best is trial 2 with value: 0.96.\u001b[0m\n",
      "\u001b[32m[I 2021-11-14 21:57:19,736]\u001b[0m Trial 14 finished with value: 0.96 and parameters: {'classifier': 'SVC', 'svc_c': 13891.513524637467}. Best is trial 2 with value: 0.96.\u001b[0m\n",
      "\u001b[32m[I 2021-11-14 21:57:19,758]\u001b[0m Trial 15 finished with value: 0.32 and parameters: {'classifier': 'SVC', 'svc_c': 1.396757953301576e-10}. Best is trial 2 with value: 0.96.\u001b[0m\n",
      "\u001b[32m[I 2021-11-14 21:57:19,779]\u001b[0m Trial 16 finished with value: 0.96 and parameters: {'classifier': 'SVC', 'svc_c': 3234724978.7604127}. Best is trial 2 with value: 0.96.\u001b[0m\n",
      "\u001b[32m[I 2021-11-14 21:57:19,798]\u001b[0m Trial 17 finished with value: 0.96 and parameters: {'classifier': 'SVC', 'svc_c': 9710167489.85089}. Best is trial 2 with value: 0.96.\u001b[0m\n",
      "\u001b[32m[I 2021-11-14 21:57:19,825]\u001b[0m Trial 18 finished with value: 0.9466666666666667 and parameters: {'classifier': 'SVC', 'svc_c': 428.11269438287195}. Best is trial 2 with value: 0.96.\u001b[0m\n",
      "\u001b[32m[I 2021-11-14 21:57:19,845]\u001b[0m Trial 19 finished with value: 0.96 and parameters: {'classifier': 'SVC', 'svc_c': 19627249.880215403}. Best is trial 2 with value: 0.96.\u001b[0m\n",
      "\u001b[32m[I 2021-11-14 21:57:19,863]\u001b[0m Trial 20 finished with value: 0.32 and parameters: {'classifier': 'SVC', 'svc_c': 1.0605199809857224e-05}. Best is trial 2 with value: 0.96.\u001b[0m\n",
      "\u001b[32m[I 2021-11-14 21:57:19,879]\u001b[0m Trial 21 finished with value: 0.96 and parameters: {'classifier': 'SVC', 'svc_c': 9415747073.474985}. Best is trial 2 with value: 0.96.\u001b[0m\n",
      "\u001b[32m[I 2021-11-14 21:57:19,893]\u001b[0m Trial 22 finished with value: 0.96 and parameters: {'classifier': 'SVC', 'svc_c': 3859017.663103257}. Best is trial 2 with value: 0.96.\u001b[0m\n",
      "\u001b[32m[I 2021-11-14 21:57:19,909]\u001b[0m Trial 23 finished with value: 0.96 and parameters: {'classifier': 'SVC', 'svc_c': 4812327.975779178}. Best is trial 2 with value: 0.96.\u001b[0m\n",
      "\u001b[32m[I 2021-11-14 21:57:19,928]\u001b[0m Trial 24 finished with value: 0.9733333333333333 and parameters: {'classifier': 'SVC', 'svc_c': 12.819420578743083}. Best is trial 24 with value: 0.9733333333333333.\u001b[0m\n",
      "\u001b[32m[I 2021-11-14 21:57:19,942]\u001b[0m Trial 25 finished with value: 0.96 and parameters: {'classifier': 'SVC', 'svc_c': 81.74194635820973}. Best is trial 24 with value: 0.9733333333333333.\u001b[0m\n",
      "\u001b[32m[I 2021-11-14 21:57:19,972]\u001b[0m Trial 26 finished with value: 0.9466666666666667 and parameters: {'classifier': 'RandomForest', 'rf_max_depth': 2}. Best is trial 24 with value: 0.9733333333333333.\u001b[0m\n",
      "\u001b[32m[I 2021-11-14 21:57:19,984]\u001b[0m Trial 27 finished with value: 0.9733333333333333 and parameters: {'classifier': 'SVC', 'svc_c': 14.251783299034498}. Best is trial 24 with value: 0.9733333333333333.\u001b[0m\n",
      "\u001b[32m[I 2021-11-14 21:57:19,998]\u001b[0m Trial 28 finished with value: 0.96 and parameters: {'classifier': 'SVC', 'svc_c': 80.64949421718589}. Best is trial 24 with value: 0.9733333333333333.\u001b[0m\n",
      "\u001b[32m[I 2021-11-14 21:57:20,033]\u001b[0m Trial 29 finished with value: 0.9533333333333333 and parameters: {'classifier': 'RandomForest', 'rf_max_depth': 2}. Best is trial 24 with value: 0.9733333333333333.\u001b[0m\n",
      "\u001b[32m[I 2021-11-14 21:57:20,052]\u001b[0m Trial 30 finished with value: 0.9666666666666667 and parameters: {'classifier': 'SVC', 'svc_c': 0.8237724598185394}. Best is trial 24 with value: 0.9733333333333333.\u001b[0m\n",
      "\u001b[32m[I 2021-11-14 21:57:20,071]\u001b[0m Trial 31 finished with value: 0.9666666666666667 and parameters: {'classifier': 'SVC', 'svc_c': 1.2556012122682139}. Best is trial 24 with value: 0.9733333333333333.\u001b[0m\n",
      "\u001b[32m[I 2021-11-14 21:57:20,089]\u001b[0m Trial 32 finished with value: 0.9666666666666667 and parameters: {'classifier': 'SVC', 'svc_c': 0.6976502804454217}. Best is trial 24 with value: 0.9733333333333333.\u001b[0m\n",
      "\u001b[32m[I 2021-11-14 21:57:20,110]\u001b[0m Trial 33 finished with value: 0.9666666666666667 and parameters: {'classifier': 'SVC', 'svc_c': 1.2530222671052966}. Best is trial 24 with value: 0.9733333333333333.\u001b[0m\n",
      "\u001b[32m[I 2021-11-14 21:57:20,124]\u001b[0m Trial 34 finished with value: 0.32 and parameters: {'classifier': 'SVC', 'svc_c': 0.00772068638977934}. Best is trial 24 with value: 0.9733333333333333.\u001b[0m\n",
      "\u001b[32m[I 2021-11-14 21:57:20,137]\u001b[0m Trial 35 finished with value: 0.98 and parameters: {'classifier': 'SVC', 'svc_c': 10.38578215389158}. Best is trial 35 with value: 0.98.\u001b[0m\n",
      "\u001b[32m[I 2021-11-14 21:57:20,178]\u001b[0m Trial 36 finished with value: 0.9533333333333333 and parameters: {'classifier': 'RandomForest', 'rf_max_depth': 4}. Best is trial 35 with value: 0.98.\u001b[0m\n",
      "\u001b[32m[I 2021-11-14 21:57:20,197]\u001b[0m Trial 37 finished with value: 0.96 and parameters: {'classifier': 'SVC', 'svc_c': 33.94078107116486}. Best is trial 35 with value: 0.98.\u001b[0m\n",
      "\u001b[32m[I 2021-11-14 21:57:20,215]\u001b[0m Trial 38 finished with value: 0.32 and parameters: {'classifier': 'SVC', 'svc_c': 1.3695097907646534e-05}. Best is trial 35 with value: 0.98.\u001b[0m\n",
      "\u001b[32m[I 2021-11-14 21:57:20,232]\u001b[0m Trial 39 finished with value: 0.98 and parameters: {'classifier': 'SVC', 'svc_c': 7.310688205973279}. Best is trial 35 with value: 0.98.\u001b[0m\n",
      "\u001b[32m[I 2021-11-14 21:57:20,272]\u001b[0m Trial 40 finished with value: 0.9533333333333333 and parameters: {'classifier': 'RandomForest', 'rf_max_depth': 15}. Best is trial 35 with value: 0.98.\u001b[0m\n",
      "\u001b[32m[I 2021-11-14 21:57:20,299]\u001b[0m Trial 41 finished with value: 0.98 and parameters: {'classifier': 'SVC', 'svc_c': 11.21564582349104}. Best is trial 35 with value: 0.98.\u001b[0m\n",
      "\u001b[32m[I 2021-11-14 21:57:20,316]\u001b[0m Trial 42 finished with value: 0.96 and parameters: {'classifier': 'SVC', 'svc_c': 849.601760755885}. Best is trial 35 with value: 0.98.\u001b[0m\n",
      "\u001b[32m[I 2021-11-14 21:57:20,344]\u001b[0m Trial 43 finished with value: 0.98 and parameters: {'classifier': 'SVC', 'svc_c': 11.115041120978331}. Best is trial 35 with value: 0.98.\u001b[0m\n",
      "\u001b[32m[I 2021-11-14 21:57:20,364]\u001b[0m Trial 44 finished with value: 0.7533333333333333 and parameters: {'classifier': 'SVC', 'svc_c': 0.027605523858121456}. Best is trial 35 with value: 0.98.\u001b[0m\n",
      "\u001b[32m[I 2021-11-14 21:57:20,380]\u001b[0m Trial 45 finished with value: 0.32 and parameters: {'classifier': 'SVC', 'svc_c': 0.0010988597900171563}. Best is trial 35 with value: 0.98.\u001b[0m\n",
      "\u001b[32m[I 2021-11-14 21:57:20,405]\u001b[0m Trial 46 finished with value: 0.94 and parameters: {'classifier': 'SVC', 'svc_c': 0.09651084952828405}. Best is trial 35 with value: 0.98.\u001b[0m\n",
      "\u001b[32m[I 2021-11-14 21:57:20,430]\u001b[0m Trial 47 finished with value: 0.98 and parameters: {'classifier': 'SVC', 'svc_c': 6.161180931003963}. Best is trial 35 with value: 0.98.\u001b[0m\n",
      "\u001b[32m[I 2021-11-14 21:57:20,460]\u001b[0m Trial 48 finished with value: 0.96 and parameters: {'classifier': 'RandomForest', 'rf_max_depth': 3}. Best is trial 35 with value: 0.98.\u001b[0m\n",
      "\u001b[32m[I 2021-11-14 21:57:20,477]\u001b[0m Trial 49 finished with value: 0.96 and parameters: {'classifier': 'SVC', 'svc_c': 275968.2466367827}. Best is trial 35 with value: 0.98.\u001b[0m\n",
      "\u001b[32m[I 2021-11-14 21:57:20,497]\u001b[0m Trial 50 finished with value: 0.96 and parameters: {'classifier': 'SVC', 'svc_c': 1128.579425693744}. Best is trial 35 with value: 0.98.\u001b[0m\n",
      "\u001b[32m[I 2021-11-14 21:57:20,518]\u001b[0m Trial 51 finished with value: 0.98 and parameters: {'classifier': 'SVC', 'svc_c': 7.051206341399309}. Best is trial 35 with value: 0.98.\u001b[0m\n",
      "\u001b[32m[I 2021-11-14 21:57:20,535]\u001b[0m Trial 52 finished with value: 0.9866666666666667 and parameters: {'classifier': 'SVC', 'svc_c': 4.738517484230827}. Best is trial 52 with value: 0.9866666666666667.\u001b[0m\n",
      "\u001b[32m[I 2021-11-14 21:57:20,551]\u001b[0m Trial 53 finished with value: 0.9733333333333333 and parameters: {'classifier': 'SVC', 'svc_c': 2.011664206038568}. Best is trial 52 with value: 0.9866666666666667.\u001b[0m\n",
      "\u001b[32m[I 2021-11-14 21:57:20,574]\u001b[0m Trial 54 finished with value: 0.9533333333333333 and parameters: {'classifier': 'SVC', 'svc_c': 503.14744368338154}. Best is trial 52 with value: 0.9866666666666667.\u001b[0m\n",
      "\u001b[32m[I 2021-11-14 21:57:20,596]\u001b[0m Trial 55 finished with value: 0.94 and parameters: {'classifier': 'SVC', 'svc_c': 0.10148871987342774}. Best is trial 52 with value: 0.9866666666666667.\u001b[0m\n",
      "\u001b[32m[I 2021-11-14 21:57:20,611]\u001b[0m Trial 56 finished with value: 0.32 and parameters: {'classifier': 'SVC', 'svc_c': 0.00014722284887110714}. Best is trial 52 with value: 0.9866666666666667.\u001b[0m\n",
      "\u001b[32m[I 2021-11-14 21:57:20,626]\u001b[0m Trial 57 finished with value: 0.96 and parameters: {'classifier': 'SVC', 'svc_c': 91.39328898979608}. Best is trial 52 with value: 0.9866666666666667.\u001b[0m\n",
      "\u001b[32m[I 2021-11-14 21:57:20,643]\u001b[0m Trial 58 finished with value: 0.96 and parameters: {'classifier': 'SVC', 'svc_c': 4370.42107471203}. Best is trial 52 with value: 0.9866666666666667.\u001b[0m\n",
      "\u001b[32m[I 2021-11-14 21:57:20,661]\u001b[0m Trial 59 finished with value: 0.98 and parameters: {'classifier': 'SVC', 'svc_c': 5.315398335146341}. Best is trial 52 with value: 0.9866666666666667.\u001b[0m\n",
      "\u001b[32m[I 2021-11-14 21:57:20,678]\u001b[0m Trial 60 finished with value: 0.96 and parameters: {'classifier': 'SVC', 'svc_c': 0.22173631603724467}. Best is trial 52 with value: 0.9866666666666667.\u001b[0m\n",
      "\u001b[32m[I 2021-11-14 21:57:20,694]\u001b[0m Trial 61 finished with value: 0.98 and parameters: {'classifier': 'SVC', 'svc_c': 9.940831799560675}. Best is trial 52 with value: 0.9866666666666667.\u001b[0m\n",
      "\u001b[32m[I 2021-11-14 21:57:20,717]\u001b[0m Trial 62 finished with value: 0.96 and parameters: {'classifier': 'SVC', 'svc_c': 143.67990186520862}. Best is trial 52 with value: 0.9866666666666667.\u001b[0m\n",
      "\u001b[32m[I 2021-11-14 21:57:20,738]\u001b[0m Trial 63 finished with value: 0.96 and parameters: {'classifier': 'SVC', 'svc_c': 67751.08069031163}. Best is trial 52 with value: 0.9866666666666667.\u001b[0m\n",
      "\u001b[32m[I 2021-11-14 21:57:20,758]\u001b[0m Trial 64 finished with value: 0.9866666666666667 and parameters: {'classifier': 'SVC', 'svc_c': 4.330950244707326}. Best is trial 52 with value: 0.9866666666666667.\u001b[0m\n",
      "\u001b[32m[I 2021-11-14 21:57:20,773]\u001b[0m Trial 65 finished with value: 0.32666666666666666 and parameters: {'classifier': 'SVC', 'svc_c': 0.017487370861602205}. Best is trial 52 with value: 0.9866666666666667.\u001b[0m\n",
      "\u001b[32m[I 2021-11-14 21:57:20,828]\u001b[0m Trial 66 finished with value: 0.96 and parameters: {'classifier': 'RandomForest', 'rf_max_depth': 8}. Best is trial 52 with value: 0.9866666666666667.\u001b[0m\n",
      "\u001b[32m[I 2021-11-14 21:57:20,850]\u001b[0m Trial 67 finished with value: 0.96 and parameters: {'classifier': 'SVC', 'svc_c': 0.18770954422488406}. Best is trial 52 with value: 0.9866666666666667.\u001b[0m\n",
      "\u001b[32m[I 2021-11-14 21:57:20,878]\u001b[0m Trial 68 finished with value: 0.32 and parameters: {'classifier': 'SVC', 'svc_c': 1.420906317287658e-10}. Best is trial 52 with value: 0.9866666666666667.\u001b[0m\n",
      "\u001b[32m[I 2021-11-14 21:57:20,897]\u001b[0m Trial 69 finished with value: 0.32 and parameters: {'classifier': 'SVC', 'svc_c': 0.002290784053488959}. Best is trial 52 with value: 0.9866666666666667.\u001b[0m\n",
      "\u001b[32m[I 2021-11-14 21:57:20,913]\u001b[0m Trial 70 finished with value: 0.96 and parameters: {'classifier': 'SVC', 'svc_c': 1796.464912824452}. Best is trial 52 with value: 0.9866666666666667.\u001b[0m\n",
      "\u001b[32m[I 2021-11-14 21:57:20,931]\u001b[0m Trial 71 finished with value: 0.9666666666666667 and parameters: {'classifier': 'SVC', 'svc_c': 17.154031676735126}. Best is trial 52 with value: 0.9866666666666667.\u001b[0m\n",
      "\u001b[32m[I 2021-11-14 21:57:20,950]\u001b[0m Trial 72 finished with value: 0.9866666666666667 and parameters: {'classifier': 'SVC', 'svc_c': 4.35606751206617}. Best is trial 52 with value: 0.9866666666666667.\u001b[0m\n",
      "\u001b[32m[I 2021-11-14 21:57:20,973]\u001b[0m Trial 73 finished with value: 0.9466666666666667 and parameters: {'classifier': 'SVC', 'svc_c': 172.52526303589295}. Best is trial 52 with value: 0.9866666666666667.\u001b[0m\n",
      "\u001b[32m[I 2021-11-14 21:57:20,988]\u001b[0m Trial 74 finished with value: 0.9733333333333333 and parameters: {'classifier': 'SVC', 'svc_c': 2.7278492020229415}. Best is trial 52 with value: 0.9866666666666667.\u001b[0m\n",
      "\u001b[32m[I 2021-11-14 21:57:21,008]\u001b[0m Trial 75 finished with value: 0.9666666666666667 and parameters: {'classifier': 'SVC', 'svc_c': 23.543961960578475}. Best is trial 52 with value: 0.9866666666666667.\u001b[0m\n",
      "\u001b[32m[I 2021-11-14 21:57:21,024]\u001b[0m Trial 76 finished with value: 0.96 and parameters: {'classifier': 'SVC', 'svc_c': 0.2646524506775218}. Best is trial 52 with value: 0.9866666666666667.\u001b[0m\n",
      "\u001b[32m[I 2021-11-14 21:57:21,042]\u001b[0m Trial 77 finished with value: 0.9866666666666667 and parameters: {'classifier': 'SVC', 'svc_c': 3.861581411714609}. Best is trial 52 with value: 0.9866666666666667.\u001b[0m\n",
      "\u001b[32m[I 2021-11-14 21:57:21,076]\u001b[0m Trial 78 finished with value: 0.9666666666666667 and parameters: {'classifier': 'RandomForest', 'rf_max_depth': 14}. Best is trial 52 with value: 0.9866666666666667.\u001b[0m\n",
      "\u001b[32m[I 2021-11-14 21:57:21,093]\u001b[0m Trial 79 finished with value: 0.9666666666666667 and parameters: {'classifier': 'SVC', 'svc_c': 0.5969737558439736}. Best is trial 52 with value: 0.9866666666666667.\u001b[0m\n",
      "\u001b[32m[I 2021-11-14 21:57:21,111]\u001b[0m Trial 80 finished with value: 0.7533333333333333 and parameters: {'classifier': 'SVC', 'svc_c': 0.027541982405781797}. Best is trial 52 with value: 0.9866666666666667.\u001b[0m\n",
      "\u001b[32m[I 2021-11-14 21:57:21,128]\u001b[0m Trial 81 finished with value: 0.9866666666666667 and parameters: {'classifier': 'SVC', 'svc_c': 3.7816937914015045}. Best is trial 52 with value: 0.9866666666666667.\u001b[0m\n",
      "\u001b[32m[I 2021-11-14 21:57:21,146]\u001b[0m Trial 82 finished with value: 0.9733333333333333 and parameters: {'classifier': 'SVC', 'svc_c': 3.4557543542900104}. Best is trial 52 with value: 0.9866666666666667.\u001b[0m\n",
      "\u001b[32m[I 2021-11-14 21:57:21,165]\u001b[0m Trial 83 finished with value: 0.96 and parameters: {'classifier': 'SVC', 'svc_c': 69.97266364450616}. Best is trial 52 with value: 0.9866666666666667.\u001b[0m\n",
      "\u001b[32m[I 2021-11-14 21:57:21,190]\u001b[0m Trial 84 finished with value: 0.9466666666666667 and parameters: {'classifier': 'SVC', 'svc_c': 316.21274536784176}. Best is trial 52 with value: 0.9866666666666667.\u001b[0m\n",
      "\u001b[32m[I 2021-11-14 21:57:21,207]\u001b[0m Trial 85 finished with value: 0.9666666666666667 and parameters: {'classifier': 'SVC', 'svc_c': 23.316569099765523}. Best is trial 52 with value: 0.9866666666666667.\u001b[0m\n",
      "\u001b[32m[I 2021-11-14 21:57:21,226]\u001b[0m Trial 86 finished with value: 0.9666666666666667 and parameters: {'classifier': 'SVC', 'svc_c': 0.7998771306847187}. Best is trial 52 with value: 0.9866666666666667.\u001b[0m\n",
      "\u001b[32m[I 2021-11-14 21:57:21,243]\u001b[0m Trial 87 finished with value: 0.96 and parameters: {'classifier': 'SVC', 'svc_c': 45.87651063637228}. Best is trial 52 with value: 0.9866666666666667.\u001b[0m\n",
      "\u001b[32m[I 2021-11-14 21:57:21,255]\u001b[0m Trial 88 finished with value: 0.9733333333333333 and parameters: {'classifier': 'SVC', 'svc_c': 2.8232020908516167}. Best is trial 52 with value: 0.9866666666666667.\u001b[0m\n",
      "\u001b[32m[I 2021-11-14 21:57:21,269]\u001b[0m Trial 89 finished with value: 0.9 and parameters: {'classifier': 'SVC', 'svc_c': 0.05087452888486883}. Best is trial 52 with value: 0.9866666666666667.\u001b[0m\n",
      "\u001b[32m[I 2021-11-14 21:57:21,308]\u001b[0m Trial 90 finished with value: 0.9533333333333333 and parameters: {'classifier': 'RandomForest', 'rf_max_depth': 20}. Best is trial 52 with value: 0.9866666666666667.\u001b[0m\n",
      "\u001b[32m[I 2021-11-14 21:57:21,324]\u001b[0m Trial 91 finished with value: 0.98 and parameters: {'classifier': 'SVC', 'svc_c': 5.792402493528563}. Best is trial 52 with value: 0.9866666666666667.\u001b[0m\n",
      "\u001b[32m[I 2021-11-14 21:57:21,339]\u001b[0m Trial 92 finished with value: 0.9733333333333333 and parameters: {'classifier': 'SVC', 'svc_c': 3.125550490794053}. Best is trial 52 with value: 0.9866666666666667.\u001b[0m\n",
      "\u001b[32m[I 2021-11-14 21:57:21,358]\u001b[0m Trial 93 finished with value: 0.96 and parameters: {'classifier': 'SVC', 'svc_c': 0.27860265713447463}. Best is trial 52 with value: 0.9866666666666667.\u001b[0m\n",
      "\u001b[32m[I 2021-11-14 21:57:21,380]\u001b[0m Trial 94 finished with value: 0.9666666666666667 and parameters: {'classifier': 'SVC', 'svc_c': 0.7660362106781139}. Best is trial 52 with value: 0.9866666666666667.\u001b[0m\n",
      "\u001b[32m[I 2021-11-14 21:57:21,399]\u001b[0m Trial 95 finished with value: 0.98 and parameters: {'classifier': 'SVC', 'svc_c': 8.848170371987482}. Best is trial 52 with value: 0.9866666666666667.\u001b[0m\n",
      "\u001b[32m[I 2021-11-14 21:57:21,421]\u001b[0m Trial 96 finished with value: 0.9866666666666667 and parameters: {'classifier': 'SVC', 'svc_c': 4.63352906127141}. Best is trial 52 with value: 0.9866666666666667.\u001b[0m\n",
      "\u001b[32m[I 2021-11-14 21:57:21,442]\u001b[0m Trial 97 finished with value: 0.96 and parameters: {'classifier': 'SVC', 'svc_c': 45.63307980801329}. Best is trial 52 with value: 0.9866666666666667.\u001b[0m\n",
      "\u001b[32m[I 2021-11-14 21:57:21,464]\u001b[0m Trial 98 finished with value: 0.9866666666666667 and parameters: {'classifier': 'SVC', 'svc_c': 3.767119918375561}. Best is trial 52 with value: 0.9866666666666667.\u001b[0m\n",
      "\u001b[32m[I 2021-11-14 21:57:21,480]\u001b[0m Trial 99 finished with value: 0.96 and parameters: {'classifier': 'SVC', 'svc_c': 3733.9669781878442}. Best is trial 52 with value: 0.9866666666666667.\u001b[0m\n"
     ]
    }
   ],
   "source": [
    "study = optuna.create_study(direction=\"maximize\")\n",
    "study.optimize(objective, n_trials=100)"
   ]
  },
  {
   "cell_type": "markdown",
   "id": "6d1c9c15-ca9b-48a6-8f61-dccc13c155a4",
   "metadata": {},
   "source": [
    "## Results"
   ]
  },
  {
   "cell_type": "code",
   "execution_count": 6,
   "id": "c6aa4bc8-448b-4746-b4ef-b894250ac486",
   "metadata": {},
   "outputs": [
    {
     "name": "stdout",
     "output_type": "stream",
     "text": [
      "FrozenTrial(number=43, values=[0.9866666666666667], datetime_start=datetime.datetime(2021, 11, 14, 21, 56, 7, 846108), datetime_complete=datetime.datetime(2021, 11, 14, 21, 56, 7, 861429), params={'classifier': 'SVC', 'svc_c': 4.34044996322569}, distributions={'classifier': CategoricalDistribution(choices=('SVC', 'RandomForest')), 'svc_c': LogUniformDistribution(high=10000000000.0, low=1e-10)}, user_attrs={}, system_attrs={}, intermediate_values={}, trial_id=43, state=TrialState.COMPLETE, value=None)\n"
     ]
    }
   ],
   "source": [
    "print(study.best_trial)"
   ]
  },
  {
   "cell_type": "code",
   "execution_count": 9,
   "id": "bc3b0c35-4f83-494f-b113-4ffcd8532935",
   "metadata": {},
   "outputs": [
    {
     "data": {
      "text/plain": [
       "{'classifier': 'SVC', 'svc_c': 4.738517484230827}"
      ]
     },
     "execution_count": 9,
     "metadata": {},
     "output_type": "execute_result"
    }
   ],
   "source": [
    "study.best_params"
   ]
  },
  {
   "cell_type": "code",
   "execution_count": null,
   "id": "d6a5d9b6-69fc-4ca8-80ff-804e240d7046",
   "metadata": {},
   "outputs": [],
   "source": []
  }
 ],
 "metadata": {
  "kernelspec": {
   "display_name": "Python 3 (ipykernel)",
   "language": "python",
   "name": "python3"
  },
  "language_info": {
   "codemirror_mode": {
    "name": "ipython",
    "version": 3
   },
   "file_extension": ".py",
   "mimetype": "text/x-python",
   "name": "python",
   "nbconvert_exporter": "python",
   "pygments_lexer": "ipython3",
   "version": "3.8.10"
  }
 },
 "nbformat": 4,
 "nbformat_minor": 5
}
