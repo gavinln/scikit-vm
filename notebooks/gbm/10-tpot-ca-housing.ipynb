{
 "cells": [
  {
   "cell_type": "markdown",
   "id": "7238e911",
   "metadata": {
    "papermill": {
     "duration": 0.027471,
     "end_time": "2022-01-10T00:05:54.193442",
     "exception": false,
     "start_time": "2022-01-10T00:05:54.165971",
     "status": "completed"
    },
    "tags": []
   },
   "source": [
    "# TPOT California housing"
   ]
  },
  {
   "cell_type": "markdown",
   "id": "fcac8615",
   "metadata": {
    "papermill": {
     "duration": 0.024818,
     "end_time": "2022-01-10T00:05:54.246033",
     "exception": false,
     "start_time": "2022-01-10T00:05:54.221215",
     "status": "completed"
    },
    "tags": []
   },
   "source": [
    "- https://github.com/EpistasisLab/tpot/\n",
    "\n",
    "-  https://inria.github.io/scikit-learn-mooc/python_scripts/datasets_california_housing.html"
   ]
  },
  {
   "cell_type": "markdown",
   "id": "eae6d427",
   "metadata": {
    "papermill": {
     "duration": 0.023333,
     "end_time": "2022-01-10T00:05:54.295595",
     "exception": false,
     "start_time": "2022-01-10T00:05:54.272262",
     "status": "completed"
    },
    "tags": []
   },
   "source": [
    "## Setup libraries"
   ]
  },
  {
   "cell_type": "code",
   "execution_count": 1,
   "id": "4a11d89b",
   "metadata": {
    "execution": {
     "iopub.execute_input": "2022-01-10T00:05:54.352286Z",
     "iopub.status.busy": "2022-01-10T00:05:54.351837Z",
     "iopub.status.idle": "2022-01-10T00:05:54.362109Z",
     "shell.execute_reply": "2022-01-10T00:05:54.362426Z"
    },
    "papermill": {
     "duration": 0.042995,
     "end_time": "2022-01-10T00:05:54.362609",
     "exception": false,
     "start_time": "2022-01-10T00:05:54.319614",
     "status": "completed"
    },
    "tags": []
   },
   "outputs": [],
   "source": [
    "%load_ext autoreload\n",
    "%autoreload 2"
   ]
  },
  {
   "cell_type": "code",
   "execution_count": 2,
   "id": "7c13a4de",
   "metadata": {
    "execution": {
     "iopub.execute_input": "2022-01-10T00:05:54.417126Z",
     "iopub.status.busy": "2022-01-10T00:05:54.416626Z",
     "iopub.status.idle": "2022-01-10T00:05:54.746466Z",
     "shell.execute_reply": "2022-01-10T00:05:54.746046Z"
    },
    "papermill": {
     "duration": 0.358807,
     "end_time": "2022-01-10T00:05:54.746558",
     "exception": false,
     "start_time": "2022-01-10T00:05:54.387751",
     "status": "completed"
    },
    "tags": []
   },
   "outputs": [],
   "source": [
    "import numpy as np\n",
    "import pandas as pd"
   ]
  },
  {
   "cell_type": "code",
   "execution_count": 3,
   "id": "73eacc0a",
   "metadata": {
    "execution": {
     "iopub.execute_input": "2022-01-10T00:05:54.798274Z",
     "iopub.status.busy": "2022-01-10T00:05:54.797814Z",
     "iopub.status.idle": "2022-01-10T00:05:55.088346Z",
     "shell.execute_reply": "2022-01-10T00:05:55.087999Z"
    },
    "papermill": {
     "duration": 0.318624,
     "end_time": "2022-01-10T00:05:55.088617",
     "exception": false,
     "start_time": "2022-01-10T00:05:54.769993",
     "status": "completed"
    },
    "tags": []
   },
   "outputs": [],
   "source": [
    "from sklearn.datasets import fetch_california_housing"
   ]
  },
  {
   "cell_type": "code",
   "execution_count": 4,
   "id": "37f19b30",
   "metadata": {
    "execution": {
     "iopub.execute_input": "2022-01-10T00:05:55.144119Z",
     "iopub.status.busy": "2022-01-10T00:05:55.143704Z",
     "iopub.status.idle": "2022-01-10T00:05:55.166955Z",
     "shell.execute_reply": "2022-01-10T00:05:55.167264Z"
    },
    "papermill": {
     "duration": 0.054844,
     "end_time": "2022-01-10T00:05:55.167393",
     "exception": false,
     "start_time": "2022-01-10T00:05:55.112549",
     "status": "completed"
    },
    "tags": []
   },
   "outputs": [],
   "source": [
    "from sklearn.model_selection import train_test_split"
   ]
  },
  {
   "cell_type": "code",
   "execution_count": 5,
   "id": "dc022ccc",
   "metadata": {
    "execution": {
     "iopub.execute_input": "2022-01-10T00:05:55.225558Z",
     "iopub.status.busy": "2022-01-10T00:05:55.225108Z",
     "iopub.status.idle": "2022-01-10T00:05:55.236014Z",
     "shell.execute_reply": "2022-01-10T00:05:55.236339Z"
    },
    "papermill": {
     "duration": 0.045553,
     "end_time": "2022-01-10T00:05:55.236450",
     "exception": false,
     "start_time": "2022-01-10T00:05:55.190897",
     "status": "completed"
    },
    "tags": []
   },
   "outputs": [],
   "source": [
    "from sklearn.metrics import mean_squared_error\n",
    "from sklearn.metrics import r2_score"
   ]
  },
  {
   "cell_type": "code",
   "execution_count": 6,
   "id": "4a1c01ec",
   "metadata": {
    "execution": {
     "iopub.execute_input": "2022-01-10T00:05:55.289004Z",
     "iopub.status.busy": "2022-01-10T00:05:55.288500Z",
     "iopub.status.idle": "2022-01-10T00:05:55.503571Z",
     "shell.execute_reply": "2022-01-10T00:05:55.503161Z"
    },
    "papermill": {
     "duration": 0.244229,
     "end_time": "2022-01-10T00:05:55.503662",
     "exception": false,
     "start_time": "2022-01-10T00:05:55.259433",
     "status": "completed"
    },
    "tags": []
   },
   "outputs": [
    {
     "name": "stderr",
     "output_type": "stream",
     "text": [
      "/home/gavin/.local/share/virtualenvs/scikit-vm-8S7AlGJB/lib/python3.8/site-packages/tpot/builtins/__init__.py:36: UserWarning: Warning: optional dependency `torch` is not available. - skipping import of NN models.\n",
      "  warnings.warn(\"Warning: optional dependency `torch` is not available. - skipping import of NN models.\")\n"
     ]
    }
   ],
   "source": [
    "from tpot import TPOTRegressor\n",
    "from tpot.config import regressor_config_dict"
   ]
  },
  {
   "cell_type": "code",
   "execution_count": 7,
   "id": "da0bcba9",
   "metadata": {
    "execution": {
     "iopub.execute_input": "2022-01-10T00:05:55.559805Z",
     "iopub.status.busy": "2022-01-10T00:05:55.559367Z",
     "iopub.status.idle": "2022-01-10T00:05:55.576970Z",
     "shell.execute_reply": "2022-01-10T00:05:55.577330Z"
    },
    "papermill": {
     "duration": 0.04998,
     "end_time": "2022-01-10T00:05:55.577482",
     "exception": false,
     "start_time": "2022-01-10T00:05:55.527502",
     "status": "completed"
    },
    "tags": []
   },
   "outputs": [],
   "source": [
    "random_state = 786"
   ]
  },
  {
   "cell_type": "markdown",
   "id": "7c03636a",
   "metadata": {
    "papermill": {
     "duration": 0.02781,
     "end_time": "2022-01-10T00:05:55.637155",
     "exception": false,
     "start_time": "2022-01-10T00:05:55.609345",
     "status": "completed"
    },
    "tags": []
   },
   "source": [
    "## Get data"
   ]
  },
  {
   "cell_type": "code",
   "execution_count": 8,
   "id": "dafeda70",
   "metadata": {
    "execution": {
     "iopub.execute_input": "2022-01-10T00:05:55.709345Z",
     "iopub.status.busy": "2022-01-10T00:05:55.708428Z",
     "iopub.status.idle": "2022-01-10T00:05:55.743569Z",
     "shell.execute_reply": "2022-01-10T00:05:55.742999Z"
    },
    "papermill": {
     "duration": 0.076362,
     "end_time": "2022-01-10T00:05:55.743675",
     "exception": false,
     "start_time": "2022-01-10T00:05:55.667313",
     "status": "completed"
    },
    "tags": []
   },
   "outputs": [],
   "source": [
    "california_housing_data = fetch_california_housing(as_frame=True)"
   ]
  },
  {
   "cell_type": "code",
   "execution_count": 9,
   "id": "459b0f49",
   "metadata": {
    "execution": {
     "iopub.execute_input": "2022-01-10T00:05:55.819122Z",
     "iopub.status.busy": "2022-01-10T00:05:55.818602Z",
     "iopub.status.idle": "2022-01-10T00:05:55.844002Z",
     "shell.execute_reply": "2022-01-10T00:05:55.843066Z"
    },
    "papermill": {
     "duration": 0.070278,
     "end_time": "2022-01-10T00:05:55.844193",
     "exception": false,
     "start_time": "2022-01-10T00:05:55.773915",
     "status": "completed"
    },
    "tags": []
   },
   "outputs": [],
   "source": [
    "california_housing = california_housing_data.data"
   ]
  },
  {
   "cell_type": "code",
   "execution_count": 10,
   "id": "314e3950",
   "metadata": {
    "execution": {
     "iopub.execute_input": "2022-01-10T00:05:55.922276Z",
     "iopub.status.busy": "2022-01-10T00:05:55.921460Z",
     "iopub.status.idle": "2022-01-10T00:05:55.938637Z",
     "shell.execute_reply": "2022-01-10T00:05:55.939066Z"
    },
    "papermill": {
     "duration": 0.064859,
     "end_time": "2022-01-10T00:05:55.939199",
     "exception": false,
     "start_time": "2022-01-10T00:05:55.874340",
     "status": "completed"
    },
    "tags": []
   },
   "outputs": [],
   "source": [
    "california_housing[\"target\"] = california_housing_data.target"
   ]
  },
  {
   "cell_type": "code",
   "execution_count": 11,
   "id": "d2c0796d",
   "metadata": {
    "execution": {
     "iopub.execute_input": "2022-01-10T00:05:55.993081Z",
     "iopub.status.busy": "2022-01-10T00:05:55.992504Z",
     "iopub.status.idle": "2022-01-10T00:05:56.017301Z",
     "shell.execute_reply": "2022-01-10T00:05:56.017929Z"
    },
    "papermill": {
     "duration": 0.055344,
     "end_time": "2022-01-10T00:05:56.018086",
     "exception": false,
     "start_time": "2022-01-10T00:05:55.962742",
     "status": "completed"
    },
    "tags": []
   },
   "outputs": [
    {
     "data": {
      "text/plain": [
       "float64    9\n",
       "dtype: int64"
      ]
     },
     "execution_count": 11,
     "metadata": {},
     "output_type": "execute_result"
    }
   ],
   "source": [
    "california_housing.dtypes.value_counts()"
   ]
  },
  {
   "cell_type": "code",
   "execution_count": 12,
   "id": "073f3047",
   "metadata": {
    "execution": {
     "iopub.execute_input": "2022-01-10T00:05:56.078890Z",
     "iopub.status.busy": "2022-01-10T00:05:56.078355Z",
     "iopub.status.idle": "2022-01-10T00:05:56.098624Z",
     "shell.execute_reply": "2022-01-10T00:05:56.099298Z"
    },
    "papermill": {
     "duration": 0.05528,
     "end_time": "2022-01-10T00:05:56.099513",
     "exception": false,
     "start_time": "2022-01-10T00:05:56.044233",
     "status": "completed"
    },
    "tags": []
   },
   "outputs": [
    {
     "data": {
      "text/plain": [
       "Index(['MedInc', 'HouseAge', 'AveRooms', 'AveBedrms', 'Population', 'AveOccup',\n",
       "       'Latitude', 'Longitude', 'target'],\n",
       "      dtype='object')"
      ]
     },
     "execution_count": 12,
     "metadata": {},
     "output_type": "execute_result"
    }
   ],
   "source": [
    "california_housing.columns"
   ]
  },
  {
   "cell_type": "markdown",
   "id": "5f1e7f14",
   "metadata": {
    "papermill": {
     "duration": 0.028602,
     "end_time": "2022-01-10T00:05:56.153523",
     "exception": false,
     "start_time": "2022-01-10T00:05:56.124921",
     "status": "completed"
    },
    "tags": []
   },
   "source": [
    "Split data into training data and unseen data for predictions"
   ]
  },
  {
   "cell_type": "code",
   "execution_count": 13,
   "id": "0500a869",
   "metadata": {
    "execution": {
     "iopub.execute_input": "2022-01-10T00:05:56.217604Z",
     "iopub.status.busy": "2022-01-10T00:05:56.217119Z",
     "iopub.status.idle": "2022-01-10T00:05:56.240774Z",
     "shell.execute_reply": "2022-01-10T00:05:56.241127Z"
    },
    "papermill": {
     "duration": 0.056115,
     "end_time": "2022-01-10T00:05:56.241245",
     "exception": false,
     "start_time": "2022-01-10T00:05:56.185130",
     "status": "completed"
    },
    "tags": []
   },
   "outputs": [],
   "source": [
    "housing_data = california_housing.sample(frac=0.9, random_state=random_state)\n",
    "data_unseen = california_housing.drop(housing_data.index)"
   ]
  },
  {
   "cell_type": "code",
   "execution_count": 14,
   "id": "b15d8d7a",
   "metadata": {
    "execution": {
     "iopub.execute_input": "2022-01-10T00:05:56.308117Z",
     "iopub.status.busy": "2022-01-10T00:05:56.307554Z",
     "iopub.status.idle": "2022-01-10T00:05:56.324731Z",
     "shell.execute_reply": "2022-01-10T00:05:56.325046Z"
    },
    "papermill": {
     "duration": 0.056581,
     "end_time": "2022-01-10T00:05:56.325164",
     "exception": false,
     "start_time": "2022-01-10T00:05:56.268583",
     "status": "completed"
    },
    "tags": []
   },
   "outputs": [
    {
     "data": {
      "text/plain": [
       "'training data: (18576, 9), prediction data: (2064, 9)'"
      ]
     },
     "execution_count": 14,
     "metadata": {},
     "output_type": "execute_result"
    }
   ],
   "source": [
    "f\"training data: {housing_data.shape}, prediction data: {data_unseen.shape}\""
   ]
  },
  {
   "cell_type": "code",
   "execution_count": 15,
   "id": "520eccda",
   "metadata": {
    "execution": {
     "iopub.execute_input": "2022-01-10T00:05:56.385619Z",
     "iopub.status.busy": "2022-01-10T00:05:56.383144Z",
     "iopub.status.idle": "2022-01-10T00:05:56.414435Z",
     "shell.execute_reply": "2022-01-10T00:05:56.414770Z"
    },
    "papermill": {
     "duration": 0.063903,
     "end_time": "2022-01-10T00:05:56.414895",
     "exception": false,
     "start_time": "2022-01-10T00:05:56.350992",
     "status": "completed"
    },
    "tags": []
   },
   "outputs": [
    {
     "data": {
      "text/html": [
       "<div>\n",
       "<style scoped>\n",
       "    .dataframe tbody tr th:only-of-type {\n",
       "        vertical-align: middle;\n",
       "    }\n",
       "\n",
       "    .dataframe tbody tr th {\n",
       "        vertical-align: top;\n",
       "    }\n",
       "\n",
       "    .dataframe thead th {\n",
       "        text-align: right;\n",
       "    }\n",
       "</style>\n",
       "<table border=\"1\" class=\"dataframe\">\n",
       "  <thead>\n",
       "    <tr style=\"text-align: right;\">\n",
       "      <th></th>\n",
       "      <th>MedInc</th>\n",
       "      <th>HouseAge</th>\n",
       "      <th>AveRooms</th>\n",
       "      <th>AveBedrms</th>\n",
       "      <th>Population</th>\n",
       "      <th>AveOccup</th>\n",
       "      <th>Latitude</th>\n",
       "      <th>Longitude</th>\n",
       "      <th>target</th>\n",
       "    </tr>\n",
       "  </thead>\n",
       "  <tbody>\n",
       "    <tr>\n",
       "      <th>10877</th>\n",
       "      <td>3.9844</td>\n",
       "      <td>38.0</td>\n",
       "      <td>5.403042</td>\n",
       "      <td>1.140684</td>\n",
       "      <td>1236.0</td>\n",
       "      <td>4.699620</td>\n",
       "      <td>33.72</td>\n",
       "      <td>-117.88</td>\n",
       "      <td>1.653</td>\n",
       "    </tr>\n",
       "    <tr>\n",
       "      <th>16711</th>\n",
       "      <td>3.5682</td>\n",
       "      <td>10.0</td>\n",
       "      <td>6.100875</td>\n",
       "      <td>1.023907</td>\n",
       "      <td>4660.0</td>\n",
       "      <td>2.717201</td>\n",
       "      <td>35.03</td>\n",
       "      <td>-120.50</td>\n",
       "      <td>2.773</td>\n",
       "    </tr>\n",
       "    <tr>\n",
       "      <th>13597</th>\n",
       "      <td>2.2917</td>\n",
       "      <td>44.0</td>\n",
       "      <td>3.514019</td>\n",
       "      <td>0.813084</td>\n",
       "      <td>273.0</td>\n",
       "      <td>2.551402</td>\n",
       "      <td>34.09</td>\n",
       "      <td>-117.28</td>\n",
       "      <td>0.908</td>\n",
       "    </tr>\n",
       "    <tr>\n",
       "      <th>17134</th>\n",
       "      <td>5.6234</td>\n",
       "      <td>42.0</td>\n",
       "      <td>5.334225</td>\n",
       "      <td>1.101604</td>\n",
       "      <td>794.0</td>\n",
       "      <td>2.122995</td>\n",
       "      <td>37.46</td>\n",
       "      <td>-122.15</td>\n",
       "      <td>3.796</td>\n",
       "    </tr>\n",
       "    <tr>\n",
       "      <th>4392</th>\n",
       "      <td>2.5521</td>\n",
       "      <td>38.0</td>\n",
       "      <td>2.859848</td>\n",
       "      <td>1.011364</td>\n",
       "      <td>2899.0</td>\n",
       "      <td>3.660354</td>\n",
       "      <td>34.08</td>\n",
       "      <td>-118.27</td>\n",
       "      <td>1.575</td>\n",
       "    </tr>\n",
       "  </tbody>\n",
       "</table>\n",
       "</div>"
      ],
      "text/plain": [
       "       MedInc  HouseAge  AveRooms  AveBedrms  Population  AveOccup  Latitude  \\\n",
       "10877  3.9844      38.0  5.403042   1.140684      1236.0  4.699620     33.72   \n",
       "16711  3.5682      10.0  6.100875   1.023907      4660.0  2.717201     35.03   \n",
       "13597  2.2917      44.0  3.514019   0.813084       273.0  2.551402     34.09   \n",
       "17134  5.6234      42.0  5.334225   1.101604       794.0  2.122995     37.46   \n",
       "4392   2.5521      38.0  2.859848   1.011364      2899.0  3.660354     34.08   \n",
       "\n",
       "       Longitude  target  \n",
       "10877    -117.88   1.653  \n",
       "16711    -120.50   2.773  \n",
       "13597    -117.28   0.908  \n",
       "17134    -122.15   3.796  \n",
       "4392     -118.27   1.575  "
      ]
     },
     "execution_count": 15,
     "metadata": {},
     "output_type": "execute_result"
    }
   ],
   "source": [
    "housing_data.head()"
   ]
  },
  {
   "cell_type": "markdown",
   "id": "84a1a11a",
   "metadata": {
    "papermill": {
     "duration": 0.032106,
     "end_time": "2022-01-10T00:05:56.475698",
     "exception": false,
     "start_time": "2022-01-10T00:05:56.443592",
     "status": "completed"
    },
    "tags": []
   },
   "source": [
    "## Get TPOT data"
   ]
  },
  {
   "cell_type": "code",
   "execution_count": 16,
   "id": "95456e49",
   "metadata": {
    "execution": {
     "iopub.execute_input": "2022-01-10T00:05:56.541870Z",
     "iopub.status.busy": "2022-01-10T00:05:56.540890Z",
     "iopub.status.idle": "2022-01-10T00:05:56.578391Z",
     "shell.execute_reply": "2022-01-10T00:05:56.577580Z"
    },
    "papermill": {
     "duration": 0.073231,
     "end_time": "2022-01-10T00:05:56.578611",
     "exception": false,
     "start_time": "2022-01-10T00:05:56.505380",
     "status": "completed"
    },
    "tags": []
   },
   "outputs": [
    {
     "data": {
      "text/html": [
       "<div>\n",
       "<style scoped>\n",
       "    .dataframe tbody tr th:only-of-type {\n",
       "        vertical-align: middle;\n",
       "    }\n",
       "\n",
       "    .dataframe tbody tr th {\n",
       "        vertical-align: top;\n",
       "    }\n",
       "\n",
       "    .dataframe thead th {\n",
       "        text-align: right;\n",
       "    }\n",
       "</style>\n",
       "<table border=\"1\" class=\"dataframe\">\n",
       "  <thead>\n",
       "    <tr style=\"text-align: right;\">\n",
       "      <th></th>\n",
       "      <th>MedInc</th>\n",
       "      <th>HouseAge</th>\n",
       "      <th>AveRooms</th>\n",
       "      <th>AveBedrms</th>\n",
       "      <th>Population</th>\n",
       "      <th>AveOccup</th>\n",
       "      <th>Latitude</th>\n",
       "      <th>Longitude</th>\n",
       "    </tr>\n",
       "  </thead>\n",
       "  <tbody>\n",
       "    <tr>\n",
       "      <th>10877</th>\n",
       "      <td>3.9844</td>\n",
       "      <td>38.0</td>\n",
       "      <td>5.403042</td>\n",
       "      <td>1.140684</td>\n",
       "      <td>1236.0</td>\n",
       "      <td>4.699620</td>\n",
       "      <td>33.72</td>\n",
       "      <td>-117.88</td>\n",
       "    </tr>\n",
       "    <tr>\n",
       "      <th>16711</th>\n",
       "      <td>3.5682</td>\n",
       "      <td>10.0</td>\n",
       "      <td>6.100875</td>\n",
       "      <td>1.023907</td>\n",
       "      <td>4660.0</td>\n",
       "      <td>2.717201</td>\n",
       "      <td>35.03</td>\n",
       "      <td>-120.50</td>\n",
       "    </tr>\n",
       "    <tr>\n",
       "      <th>13597</th>\n",
       "      <td>2.2917</td>\n",
       "      <td>44.0</td>\n",
       "      <td>3.514019</td>\n",
       "      <td>0.813084</td>\n",
       "      <td>273.0</td>\n",
       "      <td>2.551402</td>\n",
       "      <td>34.09</td>\n",
       "      <td>-117.28</td>\n",
       "    </tr>\n",
       "    <tr>\n",
       "      <th>17134</th>\n",
       "      <td>5.6234</td>\n",
       "      <td>42.0</td>\n",
       "      <td>5.334225</td>\n",
       "      <td>1.101604</td>\n",
       "      <td>794.0</td>\n",
       "      <td>2.122995</td>\n",
       "      <td>37.46</td>\n",
       "      <td>-122.15</td>\n",
       "    </tr>\n",
       "    <tr>\n",
       "      <th>4392</th>\n",
       "      <td>2.5521</td>\n",
       "      <td>38.0</td>\n",
       "      <td>2.859848</td>\n",
       "      <td>1.011364</td>\n",
       "      <td>2899.0</td>\n",
       "      <td>3.660354</td>\n",
       "      <td>34.08</td>\n",
       "      <td>-118.27</td>\n",
       "    </tr>\n",
       "    <tr>\n",
       "      <th>...</th>\n",
       "      <td>...</td>\n",
       "      <td>...</td>\n",
       "      <td>...</td>\n",
       "      <td>...</td>\n",
       "      <td>...</td>\n",
       "      <td>...</td>\n",
       "      <td>...</td>\n",
       "      <td>...</td>\n",
       "    </tr>\n",
       "    <tr>\n",
       "      <th>15026</th>\n",
       "      <td>2.6678</td>\n",
       "      <td>34.0</td>\n",
       "      <td>5.076220</td>\n",
       "      <td>1.102134</td>\n",
       "      <td>1592.0</td>\n",
       "      <td>2.426829</td>\n",
       "      <td>32.77</td>\n",
       "      <td>-117.01</td>\n",
       "    </tr>\n",
       "    <tr>\n",
       "      <th>11161</th>\n",
       "      <td>2.4609</td>\n",
       "      <td>23.0</td>\n",
       "      <td>4.344000</td>\n",
       "      <td>1.072000</td>\n",
       "      <td>825.0</td>\n",
       "      <td>3.300000</td>\n",
       "      <td>33.83</td>\n",
       "      <td>-118.01</td>\n",
       "    </tr>\n",
       "    <tr>\n",
       "      <th>19386</th>\n",
       "      <td>2.4717</td>\n",
       "      <td>37.0</td>\n",
       "      <td>4.748634</td>\n",
       "      <td>1.101093</td>\n",
       "      <td>936.0</td>\n",
       "      <td>2.557377</td>\n",
       "      <td>37.77</td>\n",
       "      <td>-120.85</td>\n",
       "    </tr>\n",
       "    <tr>\n",
       "      <th>10903</th>\n",
       "      <td>1.9309</td>\n",
       "      <td>31.0</td>\n",
       "      <td>3.762821</td>\n",
       "      <td>1.100427</td>\n",
       "      <td>1810.0</td>\n",
       "      <td>3.867521</td>\n",
       "      <td>33.75</td>\n",
       "      <td>-117.86</td>\n",
       "    </tr>\n",
       "    <tr>\n",
       "      <th>20514</th>\n",
       "      <td>1.6420</td>\n",
       "      <td>24.0</td>\n",
       "      <td>3.707510</td>\n",
       "      <td>1.086957</td>\n",
       "      <td>508.0</td>\n",
       "      <td>2.007905</td>\n",
       "      <td>38.58</td>\n",
       "      <td>-121.52</td>\n",
       "    </tr>\n",
       "  </tbody>\n",
       "</table>\n",
       "<p>18576 rows × 8 columns</p>\n",
       "</div>"
      ],
      "text/plain": [
       "       MedInc  HouseAge  AveRooms  AveBedrms  Population  AveOccup  Latitude  \\\n",
       "10877  3.9844      38.0  5.403042   1.140684      1236.0  4.699620     33.72   \n",
       "16711  3.5682      10.0  6.100875   1.023907      4660.0  2.717201     35.03   \n",
       "13597  2.2917      44.0  3.514019   0.813084       273.0  2.551402     34.09   \n",
       "17134  5.6234      42.0  5.334225   1.101604       794.0  2.122995     37.46   \n",
       "4392   2.5521      38.0  2.859848   1.011364      2899.0  3.660354     34.08   \n",
       "...       ...       ...       ...        ...         ...       ...       ...   \n",
       "15026  2.6678      34.0  5.076220   1.102134      1592.0  2.426829     32.77   \n",
       "11161  2.4609      23.0  4.344000   1.072000       825.0  3.300000     33.83   \n",
       "19386  2.4717      37.0  4.748634   1.101093       936.0  2.557377     37.77   \n",
       "10903  1.9309      31.0  3.762821   1.100427      1810.0  3.867521     33.75   \n",
       "20514  1.6420      24.0  3.707510   1.086957       508.0  2.007905     38.58   \n",
       "\n",
       "       Longitude  \n",
       "10877    -117.88  \n",
       "16711    -120.50  \n",
       "13597    -117.28  \n",
       "17134    -122.15  \n",
       "4392     -118.27  \n",
       "...          ...  \n",
       "15026    -117.01  \n",
       "11161    -118.01  \n",
       "19386    -120.85  \n",
       "10903    -117.86  \n",
       "20514    -121.52  \n",
       "\n",
       "[18576 rows x 8 columns]"
      ]
     },
     "execution_count": 16,
     "metadata": {},
     "output_type": "execute_result"
    }
   ],
   "source": [
    "housing_data.drop(\"target\", axis=1)"
   ]
  },
  {
   "cell_type": "markdown",
   "id": "cd4e57c5",
   "metadata": {
    "papermill": {
     "duration": 0.026796,
     "end_time": "2022-01-10T00:05:56.634751",
     "exception": false,
     "start_time": "2022-01-10T00:05:56.607955",
     "status": "completed"
    },
    "tags": []
   },
   "source": [
    "## Use TPOT without LightGBM"
   ]
  },
  {
   "cell_type": "code",
   "execution_count": 17,
   "id": "f8aed1ac",
   "metadata": {
    "execution": {
     "iopub.execute_input": "2022-01-10T00:05:56.697283Z",
     "iopub.status.busy": "2022-01-10T00:05:56.696426Z",
     "iopub.status.idle": "2022-01-10T00:10:47.608398Z",
     "shell.execute_reply": "2022-01-10T00:10:47.607251Z"
    },
    "papermill": {
     "duration": 290.946338,
     "end_time": "2022-01-10T00:10:47.608577",
     "exception": false,
     "start_time": "2022-01-10T00:05:56.662239",
     "status": "completed"
    },
    "tags": []
   },
   "outputs": [
    {
     "data": {
      "application/json": {
       "ascii": false,
       "bar_format": null,
       "colour": null,
       "elapsed": 0.01773548126220703,
       "initial": 0,
       "n": 0,
       "ncols": null,
       "nrows": 41,
       "postfix": null,
       "prefix": "Optimization Progress",
       "rate": null,
       "total": 300,
       "unit": "pipeline",
       "unit_divisor": 1000,
       "unit_scale": false
      },
      "application/vnd.jupyter.widget-view+json": {
       "model_id": "3b99405c1999486997e323bff3f5f4f4",
       "version_major": 2,
       "version_minor": 0
      },
      "text/plain": [
       "Optimization Progress:   0%|          | 0/300 [00:00<?, ?pipeline/s]"
      ]
     },
     "metadata": {},
     "output_type": "display_data"
    },
    {
     "name": "stdout",
     "output_type": "stream",
     "text": [
      "\n",
      "Generation 1 - Current best internal CV score: -0.3511771786398378\n",
      "\n",
      "Generation 2 - Current best internal CV score: -0.35004596761106127\n",
      "\n",
      "Generation 3 - Current best internal CV score: -0.35004596761106127\n",
      "\n",
      "Generation 4 - Current best internal CV score: -0.3418461310118981\n",
      "\n",
      "Generation 5 - Current best internal CV score: -0.3418461310118981\n",
      "\n",
      "Best pipeline: DecisionTreeRegressor(LassoLarsCV(StandardScaler(input_matrix), normalize=False), max_depth=9, min_samples_leaf=17, min_samples_split=3)\n",
      "-0.3657954855098522\n"
     ]
    }
   ],
   "source": [
    "X_train, X_test, y_train, y_test = train_test_split(\n",
    "    housing_data.drop(\"target\", axis=1),\n",
    "    housing_data.target,\n",
    "    train_size=0.75,\n",
    "    test_size=0.25,\n",
    "    random_state=random_state,\n",
    ")\n",
    "# about 5 minutes to execute\n",
    "tpot = TPOTRegressor(\n",
    "    generations=5,\n",
    "    population_size=50,\n",
    "    verbosity=2,\n",
    "    config_dict=\"TPOT light\",\n",
    "    random_state=random_state,\n",
    ")\n",
    "tpot.fit(X_train, y_train)\n",
    "print(tpot.score(X_test, y_test))\n",
    "tpot.export(\"tpot_ca_housing.py\")"
   ]
  },
  {
   "cell_type": "markdown",
   "id": "3f1ac7a9",
   "metadata": {
    "papermill": {
     "duration": 0.029497,
     "end_time": "2022-01-10T00:10:47.718307",
     "exception": false,
     "start_time": "2022-01-10T00:10:47.688810",
     "status": "completed"
    },
    "tags": []
   },
   "source": [
    "## Use TPOT with LightGBMRegressor"
   ]
  },
  {
   "cell_type": "code",
   "execution_count": 18,
   "id": "a209bd9c",
   "metadata": {
    "execution": {
     "iopub.execute_input": "2022-01-10T00:10:47.781636Z",
     "iopub.status.busy": "2022-01-10T00:10:47.780114Z",
     "iopub.status.idle": "2022-01-10T00:10:47.798332Z",
     "shell.execute_reply": "2022-01-10T00:10:47.797895Z"
    },
    "papermill": {
     "duration": 0.050869,
     "end_time": "2022-01-10T00:10:47.798434",
     "exception": false,
     "start_time": "2022-01-10T00:10:47.747565",
     "status": "completed"
    },
    "tags": []
   },
   "outputs": [],
   "source": [
    "regressor_config_dict = {}"
   ]
  },
  {
   "cell_type": "code",
   "execution_count": 19,
   "id": "d1486680",
   "metadata": {
    "execution": {
     "iopub.execute_input": "2022-01-10T00:10:47.867993Z",
     "iopub.status.busy": "2022-01-10T00:10:47.867382Z",
     "iopub.status.idle": "2022-01-10T00:10:47.882576Z",
     "shell.execute_reply": "2022-01-10T00:10:47.882216Z"
    },
    "papermill": {
     "duration": 0.052756,
     "end_time": "2022-01-10T00:10:47.882704",
     "exception": false,
     "start_time": "2022-01-10T00:10:47.829948",
     "status": "completed"
    },
    "tags": []
   },
   "outputs": [],
   "source": [
    "regressor_config_dict[\"lightgbm.LGBMRegressor\"] = {\n",
    "    \"boosting_type\": [\"gbdt\", \"dart\"],\n",
    "    \"min_child_samples\": [1, 5, 7, 10, 15, 20, 35, 50, 100, 200, 500, 1000],\n",
    "    \"num_leaves\": [\n",
    "        2,\n",
    "        4,\n",
    "        7,\n",
    "        10,\n",
    "        15,\n",
    "        20,\n",
    "        25,\n",
    "        30,\n",
    "        35,\n",
    "        40,\n",
    "        50,\n",
    "        65,\n",
    "        80,\n",
    "        100,\n",
    "        125,\n",
    "        150,\n",
    "        200,\n",
    "        250,\n",
    "        500,\n",
    "    ],\n",
    "    \"colsample_bytree\": [0.7, 0.9, 1.0],\n",
    "    \"subsample\": [0.7, 0.9, 1.0],\n",
    "    \"learning_rate\": [0.01, 0.05, 0.1],\n",
    "    \"n_estimators\": [\n",
    "        5,\n",
    "        20,\n",
    "        35,\n",
    "        50,\n",
    "        75,\n",
    "        100,\n",
    "        150,\n",
    "        200,\n",
    "        350,\n",
    "        500,\n",
    "        750,\n",
    "        1000,\n",
    "        1500,\n",
    "        2000,\n",
    "    ],\n",
    "}"
   ]
  },
  {
   "cell_type": "code",
   "execution_count": 20,
   "id": "f924c36d",
   "metadata": {
    "execution": {
     "iopub.execute_input": "2022-01-10T00:10:47.980128Z",
     "iopub.status.busy": "2022-01-10T00:10:47.979424Z",
     "iopub.status.idle": "2022-01-10T00:10:47.996972Z",
     "shell.execute_reply": "2022-01-10T00:10:47.996516Z"
    },
    "papermill": {
     "duration": 0.053506,
     "end_time": "2022-01-10T00:10:47.997070",
     "exception": false,
     "start_time": "2022-01-10T00:10:47.943564",
     "status": "completed"
    },
    "tags": []
   },
   "outputs": [],
   "source": [
    "X_train, X_test, y_train, y_test = train_test_split(\n",
    "    housing_data.drop(\"target\", axis=1),\n",
    "    housing_data.target,\n",
    "    train_size=0.75,\n",
    "    test_size=0.25,\n",
    "    random_state=random_state,\n",
    ")"
   ]
  },
  {
   "cell_type": "markdown",
   "id": "02a4f9d4-1591-447d-9a3a-6c5073a1933c",
   "metadata": {
    "papermill": {
     "duration": 0.030655,
     "end_time": "2022-01-10T00:10:48.056957",
     "exception": false,
     "start_time": "2022-01-10T00:10:48.026302",
     "status": "completed"
    },
    "tags": []
   },
   "source": [
    "Very slow!! More than 1 hour"
   ]
  },
  {
   "cell_type": "code",
   "execution_count": 21,
   "id": "82f1c6c0",
   "metadata": {
    "execution": {
     "iopub.execute_input": "2022-01-10T00:10:48.120879Z",
     "iopub.status.busy": "2022-01-10T00:10:48.120370Z",
     "iopub.status.idle": "2022-01-10T00:10:48.136997Z",
     "shell.execute_reply": "2022-01-10T00:10:48.136468Z"
    },
    "papermill": {
     "duration": 0.050563,
     "end_time": "2022-01-10T00:10:48.137109",
     "exception": false,
     "start_time": "2022-01-10T00:10:48.086546",
     "status": "completed"
    },
    "tags": []
   },
   "outputs": [],
   "source": [
    "tpot = TPOTRegressor(\n",
    "    generations=2,\n",
    "    population_size=20,\n",
    "    verbosity=2,\n",
    "    config_dict=regressor_config_dict,\n",
    "    random_state=random_state,\n",
    ")"
   ]
  },
  {
   "cell_type": "code",
   "execution_count": 22,
   "id": "41c68bd9",
   "metadata": {
    "execution": {
     "iopub.execute_input": "2022-01-10T00:10:48.215836Z",
     "iopub.status.busy": "2022-01-10T00:10:48.215249Z",
     "iopub.status.idle": "2022-01-10T00:10:48.231315Z",
     "shell.execute_reply": "2022-01-10T00:10:48.230890Z"
    },
    "papermill": {
     "duration": 0.058858,
     "end_time": "2022-01-10T00:10:48.231410",
     "exception": false,
     "start_time": "2022-01-10T00:10:48.172552",
     "status": "completed"
    },
    "tags": []
   },
   "outputs": [],
   "source": [
    "# tpot.fit(X_train, y_train)"
   ]
  },
  {
   "cell_type": "code",
   "execution_count": 23,
   "id": "8be668a6",
   "metadata": {
    "execution": {
     "iopub.execute_input": "2022-01-10T00:10:48.295141Z",
     "iopub.status.busy": "2022-01-10T00:10:48.294260Z",
     "iopub.status.idle": "2022-01-10T00:10:48.314859Z",
     "shell.execute_reply": "2022-01-10T00:10:48.314417Z"
    },
    "papermill": {
     "duration": 0.053561,
     "end_time": "2022-01-10T00:10:48.314961",
     "exception": false,
     "start_time": "2022-01-10T00:10:48.261400",
     "status": "completed"
    },
    "tags": []
   },
   "outputs": [],
   "source": [
    "# print(tpot.score(X_test, y_test))\n",
    "# tpot.export(\"tpot_ca_housing2.py\")"
   ]
  },
  {
   "cell_type": "markdown",
   "id": "1c41861e",
   "metadata": {
    "papermill": {
     "duration": 0.031154,
     "end_time": "2022-01-10T00:10:48.376280",
     "exception": false,
     "start_time": "2022-01-10T00:10:48.345126",
     "status": "completed"
    },
    "tags": []
   },
   "source": [
    "Use the generated pipeline with TPOT and LGBMRegressor"
   ]
  },
  {
   "cell_type": "code",
   "execution_count": 24,
   "id": "46061c29",
   "metadata": {
    "execution": {
     "iopub.execute_input": "2022-01-10T00:10:48.442197Z",
     "iopub.status.busy": "2022-01-10T00:10:48.441356Z",
     "iopub.status.idle": "2022-01-10T00:10:48.899986Z",
     "shell.execute_reply": "2022-01-10T00:10:48.899511Z"
    },
    "papermill": {
     "duration": 0.494205,
     "end_time": "2022-01-10T00:10:48.900089",
     "exception": false,
     "start_time": "2022-01-10T00:10:48.405884",
     "status": "completed"
    },
    "tags": []
   },
   "outputs": [],
   "source": [
    "import numpy as np\n",
    "import pandas as pd\n",
    "from lightgbm import LGBMRegressor\n",
    "from sklearn.model_selection import train_test_split\n",
    "from sklearn.pipeline import make_pipeline, make_union\n",
    "from tpot.builtins import StackingEstimator\n",
    "from tpot.export_utils import set_param_recursive\n",
    "from sklearn.preprocessing import FunctionTransformer\n",
    "from copy import copy"
   ]
  },
  {
   "cell_type": "code",
   "execution_count": 25,
   "id": "8c7c3df2",
   "metadata": {
    "execution": {
     "iopub.execute_input": "2022-01-10T00:10:48.971236Z",
     "iopub.status.busy": "2022-01-10T00:10:48.970330Z",
     "iopub.status.idle": "2022-01-10T00:10:48.994808Z",
     "shell.execute_reply": "2022-01-10T00:10:48.994420Z"
    },
    "papermill": {
     "duration": 0.064924,
     "end_time": "2022-01-10T00:10:48.994902",
     "exception": false,
     "start_time": "2022-01-10T00:10:48.929978",
     "status": "completed"
    },
    "tags": []
   },
   "outputs": [],
   "source": [
    "tpot_data = housing_data"
   ]
  },
  {
   "cell_type": "code",
   "execution_count": 26,
   "id": "b225ccb3",
   "metadata": {
    "execution": {
     "iopub.execute_input": "2022-01-10T00:10:49.063323Z",
     "iopub.status.busy": "2022-01-10T00:10:49.062385Z",
     "iopub.status.idle": "2022-01-10T00:10:49.081619Z",
     "shell.execute_reply": "2022-01-10T00:10:49.081171Z"
    },
    "papermill": {
     "duration": 0.056072,
     "end_time": "2022-01-10T00:10:49.081716",
     "exception": false,
     "start_time": "2022-01-10T00:10:49.025644",
     "status": "completed"
    },
    "tags": []
   },
   "outputs": [],
   "source": [
    "features = tpot_data.drop(\"target\", axis=1)\n",
    "(\n",
    "    training_features,\n",
    "    testing_features,\n",
    "    training_target,\n",
    "    testing_target,\n",
    ") = train_test_split(features, tpot_data[\"target\"], random_state=786)"
   ]
  },
  {
   "cell_type": "code",
   "execution_count": 27,
   "id": "958a6caf",
   "metadata": {
    "execution": {
     "iopub.execute_input": "2022-01-10T00:10:49.149170Z",
     "iopub.status.busy": "2022-01-10T00:10:49.148541Z",
     "iopub.status.idle": "2022-01-10T00:10:49.174628Z",
     "shell.execute_reply": "2022-01-10T00:10:49.174147Z"
    },
    "papermill": {
     "duration": 0.062721,
     "end_time": "2022-01-10T00:10:49.174726",
     "exception": false,
     "start_time": "2022-01-10T00:10:49.112005",
     "status": "completed"
    },
    "tags": []
   },
   "outputs": [
    {
     "data": {
      "text/plain": [
       "((13932, 8), (4644, 8))"
      ]
     },
     "execution_count": 27,
     "metadata": {},
     "output_type": "execute_result"
    }
   ],
   "source": [
    "training_features.shape, testing_features.shape"
   ]
  },
  {
   "cell_type": "code",
   "execution_count": 28,
   "id": "23cf8405",
   "metadata": {
    "execution": {
     "iopub.execute_input": "2022-01-10T00:10:49.240040Z",
     "iopub.status.busy": "2022-01-10T00:10:49.236690Z",
     "iopub.status.idle": "2022-01-10T00:10:49.257096Z",
     "shell.execute_reply": "2022-01-10T00:10:49.256405Z"
    },
    "papermill": {
     "duration": 0.053148,
     "end_time": "2022-01-10T00:10:49.257263",
     "exception": false,
     "start_time": "2022-01-10T00:10:49.204115",
     "status": "completed"
    },
    "tags": []
   },
   "outputs": [],
   "source": [
    "# Average CV score on the training set was: -0.18957608561214184\n",
    "exported_pipeline = make_pipeline(\n",
    "    make_union(FunctionTransformer(copy), FunctionTransformer(copy)),\n",
    "    LGBMRegressor(\n",
    "        boosting_type=\"dart\",\n",
    "        colsample_bytree=0.7,\n",
    "        learning_rate=0.1,\n",
    "        min_child_samples=10,\n",
    "        n_estimators=1000,\n",
    "        num_leaves=25,\n",
    "        subsample=0.7,\n",
    "    ),\n",
    ")\n",
    "# Fix random state for all the steps in exported pipeline\n",
    "set_param_recursive(exported_pipeline.steps, \"random_state\", 786)"
   ]
  },
  {
   "cell_type": "code",
   "execution_count": 29,
   "id": "d51a50b7",
   "metadata": {
    "execution": {
     "iopub.execute_input": "2022-01-10T00:10:49.341239Z",
     "iopub.status.busy": "2022-01-10T00:10:49.338038Z",
     "iopub.status.idle": "2022-01-10T00:12:39.283266Z",
     "shell.execute_reply": "2022-01-10T00:12:39.282146Z"
    },
    "papermill": {
     "duration": 109.98198,
     "end_time": "2022-01-10T00:12:39.283408",
     "exception": false,
     "start_time": "2022-01-10T00:10:49.301428",
     "status": "completed"
    },
    "tags": []
   },
   "outputs": [],
   "source": [
    "exported_pipeline.fit(training_features, training_target)\n",
    "results = exported_pipeline.predict(testing_features)"
   ]
  },
  {
   "cell_type": "code",
   "execution_count": 30,
   "id": "49b50c3c",
   "metadata": {
    "execution": {
     "iopub.execute_input": "2022-01-10T00:12:39.369238Z",
     "iopub.status.busy": "2022-01-10T00:12:39.366860Z",
     "iopub.status.idle": "2022-01-10T00:12:39.389781Z",
     "shell.execute_reply": "2022-01-10T00:12:39.390136Z"
    },
    "papermill": {
     "duration": 0.069544,
     "end_time": "2022-01-10T00:12:39.390257",
     "exception": false,
     "start_time": "2022-01-10T00:12:39.320713",
     "status": "completed"
    },
    "tags": []
   },
   "outputs": [
    {
     "data": {
      "text/plain": [
       "array([1.03853863, 1.70204281, 0.80637984, ..., 1.41110387, 2.4489894 ,\n",
       "       2.84154706])"
      ]
     },
     "execution_count": 30,
     "metadata": {},
     "output_type": "execute_result"
    }
   ],
   "source": [
    "results"
   ]
  },
  {
   "cell_type": "code",
   "execution_count": 31,
   "id": "ac32a108",
   "metadata": {
    "execution": {
     "iopub.execute_input": "2022-01-10T00:12:39.471729Z",
     "iopub.status.busy": "2022-01-10T00:12:39.471266Z",
     "iopub.status.idle": "2022-01-10T00:12:39.491616Z",
     "shell.execute_reply": "2022-01-10T00:12:39.491155Z"
    },
    "papermill": {
     "duration": 0.066601,
     "end_time": "2022-01-10T00:12:39.491716",
     "exception": false,
     "start_time": "2022-01-10T00:12:39.425115",
     "status": "completed"
    },
    "tags": []
   },
   "outputs": [],
   "source": [
    "mse = mean_squared_error(testing_target, results)\n",
    "r2 = r2_score(testing_target, results)"
   ]
  },
  {
   "cell_type": "code",
   "execution_count": 32,
   "id": "2f50d9fd",
   "metadata": {
    "execution": {
     "iopub.execute_input": "2022-01-10T00:12:39.570576Z",
     "iopub.status.busy": "2022-01-10T00:12:39.570017Z",
     "iopub.status.idle": "2022-01-10T00:12:39.589302Z",
     "shell.execute_reply": "2022-01-10T00:12:39.589648Z"
    },
    "papermill": {
     "duration": 0.065245,
     "end_time": "2022-01-10T00:12:39.589765",
     "exception": false,
     "start_time": "2022-01-10T00:12:39.524520",
     "status": "completed"
    },
    "tags": []
   },
   "outputs": [
    {
     "name": "stdout",
     "output_type": "stream",
     "text": [
      "mse: 0.21549949177407549, r2: 0.8406993781824423\n"
     ]
    }
   ],
   "source": [
    "print(f'mse: {mse}, r2: {r2}')"
   ]
  }
 ],
 "metadata": {
  "jupytext": {
   "formats": "ipynb,py:light"
  },
  "kernelspec": {
   "display_name": "Python 3 (ipykernel)",
   "language": "python",
   "name": "python3"
  },
  "language_info": {
   "codemirror_mode": {
    "name": "ipython",
    "version": 3
   },
   "file_extension": ".py",
   "mimetype": "text/x-python",
   "name": "python",
   "nbconvert_exporter": "python",
   "pygments_lexer": "ipython3",
   "version": "3.8.10"
  },
  "papermill": {
   "default_parameters": {},
   "duration": 407.051743,
   "end_time": "2022-01-10T00:12:40.040719",
   "environment_variables": {},
   "exception": null,
   "input_path": "10-tpot-ca-housing.ipynb",
   "output_path": "10-tpot-ca-housing-out.ipynb",
   "parameters": {},
   "start_time": "2022-01-10T00:05:52.988976",
   "version": "2.3.3"
  },
  "widgets": {
   "application/vnd.jupyter.widget-state+json": {
    "state": {
     "1634bd9d82ef4af39259ca2c9364ebcb": {
      "model_module": "@jupyter-widgets/base",
      "model_module_version": "2.0.0",
      "model_name": "LayoutModel",
      "state": {
       "_model_module": "@jupyter-widgets/base",
       "_model_module_version": "2.0.0",
       "_model_name": "LayoutModel",
       "_view_count": null,
       "_view_module": "@jupyter-widgets/base",
       "_view_module_version": "2.0.0",
       "_view_name": "LayoutView",
       "align_content": null,
       "align_items": null,
       "align_self": null,
       "border_bottom": null,
       "border_left": null,
       "border_right": null,
       "border_top": null,
       "bottom": null,
       "display": null,
       "flex": null,
       "flex_flow": null,
       "grid_area": null,
       "grid_auto_columns": null,
       "grid_auto_flow": null,
       "grid_auto_rows": null,
       "grid_column": null,
       "grid_gap": null,
       "grid_row": null,
       "grid_template_areas": null,
       "grid_template_columns": null,
       "grid_template_rows": null,
       "height": null,
       "justify_content": null,
       "justify_items": null,
       "left": null,
       "margin": null,
       "max_height": null,
       "max_width": null,
       "min_height": null,
       "min_width": null,
       "object_fit": null,
       "object_position": null,
       "order": null,
       "overflow": null,
       "padding": null,
       "right": null,
       "top": null,
       "visibility": null,
       "width": null
      }
     },
     "16dc666f015c4f28a26a30de5ba86e0d": {
      "model_module": "@jupyter-widgets/controls",
      "model_module_version": "2.0.0",
      "model_name": "HTMLModel",
      "state": {
       "_dom_classes": [],
       "_model_module": "@jupyter-widgets/controls",
       "_model_module_version": "2.0.0",
       "_model_name": "HTMLModel",
       "_view_count": null,
       "_view_module": "@jupyter-widgets/controls",
       "_view_module_version": "2.0.0",
       "_view_name": "HTMLView",
       "description": "",
       "description_allow_html": false,
       "layout": "IPY_MODEL_1634bd9d82ef4af39259ca2c9364ebcb",
       "placeholder": "​",
       "style": "IPY_MODEL_e2e0b44f3b0e4666b43fd46a1c9fe61c",
       "tabbable": null,
       "tooltip": null,
       "value": "Optimization Progress: 100%"
      }
     },
     "175769f7eb2b435a914d69b73c2a2309": {
      "model_module": "@jupyter-widgets/controls",
      "model_module_version": "2.0.0",
      "model_name": "HTMLModel",
      "state": {
       "_dom_classes": [],
       "_model_module": "@jupyter-widgets/controls",
       "_model_module_version": "2.0.0",
       "_model_name": "HTMLModel",
       "_view_count": null,
       "_view_module": "@jupyter-widgets/controls",
       "_view_module_version": "2.0.0",
       "_view_name": "HTMLView",
       "description": "",
       "description_allow_html": false,
       "layout": "IPY_MODEL_f9ac18050600485d85affae57bfb36ba",
       "placeholder": "​",
       "style": "IPY_MODEL_8069198ada7f4111a1c38bce317a0d03",
       "tabbable": null,
       "tooltip": null,
       "value": " 300/300 [04:49&lt;00:00,  2.30s/pipeline]"
      }
     },
     "1c10588cbf5f481b9925a99053bc5b3f": {
      "model_module": "@jupyter-widgets/controls",
      "model_module_version": "2.0.0",
      "model_name": "ProgressStyleModel",
      "state": {
       "_model_module": "@jupyter-widgets/controls",
       "_model_module_version": "2.0.0",
       "_model_name": "ProgressStyleModel",
       "_view_count": null,
       "_view_module": "@jupyter-widgets/base",
       "_view_module_version": "2.0.0",
       "_view_name": "StyleView",
       "bar_color": null,
       "description_width": ""
      }
     },
     "2b93e99771a1404685776114e1c426a8": {
      "model_module": "@jupyter-widgets/base",
      "model_module_version": "2.0.0",
      "model_name": "LayoutModel",
      "state": {
       "_model_module": "@jupyter-widgets/base",
       "_model_module_version": "2.0.0",
       "_model_name": "LayoutModel",
       "_view_count": null,
       "_view_module": "@jupyter-widgets/base",
       "_view_module_version": "2.0.0",
       "_view_name": "LayoutView",
       "align_content": null,
       "align_items": null,
       "align_self": null,
       "border_bottom": null,
       "border_left": null,
       "border_right": null,
       "border_top": null,
       "bottom": null,
       "display": null,
       "flex": null,
       "flex_flow": null,
       "grid_area": null,
       "grid_auto_columns": null,
       "grid_auto_flow": null,
       "grid_auto_rows": null,
       "grid_column": null,
       "grid_gap": null,
       "grid_row": null,
       "grid_template_areas": null,
       "grid_template_columns": null,
       "grid_template_rows": null,
       "height": null,
       "justify_content": null,
       "justify_items": null,
       "left": null,
       "margin": null,
       "max_height": null,
       "max_width": null,
       "min_height": null,
       "min_width": null,
       "object_fit": null,
       "object_position": null,
       "order": null,
       "overflow": null,
       "padding": null,
       "right": null,
       "top": null,
       "visibility": null,
       "width": null
      }
     },
     "3b99405c1999486997e323bff3f5f4f4": {
      "model_module": "@jupyter-widgets/controls",
      "model_module_version": "2.0.0",
      "model_name": "HBoxModel",
      "state": {
       "_dom_classes": [],
       "_model_module": "@jupyter-widgets/controls",
       "_model_module_version": "2.0.0",
       "_model_name": "HBoxModel",
       "_view_count": null,
       "_view_module": "@jupyter-widgets/controls",
       "_view_module_version": "2.0.0",
       "_view_name": "HBoxView",
       "box_style": "",
       "children": [
        "IPY_MODEL_16dc666f015c4f28a26a30de5ba86e0d",
        "IPY_MODEL_3d69daa687e0470b8e24864ddcfc4d41",
        "IPY_MODEL_175769f7eb2b435a914d69b73c2a2309"
       ],
       "layout": "IPY_MODEL_700e64eb4cde437fa4bb385a9237e99b",
       "tabbable": null,
       "tooltip": null
      }
     },
     "3d69daa687e0470b8e24864ddcfc4d41": {
      "model_module": "@jupyter-widgets/controls",
      "model_module_version": "2.0.0",
      "model_name": "FloatProgressModel",
      "state": {
       "_dom_classes": [],
       "_model_module": "@jupyter-widgets/controls",
       "_model_module_version": "2.0.0",
       "_model_name": "FloatProgressModel",
       "_view_count": null,
       "_view_module": "@jupyter-widgets/controls",
       "_view_module_version": "2.0.0",
       "_view_name": "ProgressView",
       "bar_style": "",
       "description": "",
       "description_allow_html": false,
       "layout": "IPY_MODEL_2b93e99771a1404685776114e1c426a8",
       "max": 300,
       "min": 0,
       "orientation": "horizontal",
       "style": "IPY_MODEL_1c10588cbf5f481b9925a99053bc5b3f",
       "tabbable": null,
       "tooltip": null,
       "value": 300
      }
     },
     "700e64eb4cde437fa4bb385a9237e99b": {
      "model_module": "@jupyter-widgets/base",
      "model_module_version": "2.0.0",
      "model_name": "LayoutModel",
      "state": {
       "_model_module": "@jupyter-widgets/base",
       "_model_module_version": "2.0.0",
       "_model_name": "LayoutModel",
       "_view_count": null,
       "_view_module": "@jupyter-widgets/base",
       "_view_module_version": "2.0.0",
       "_view_name": "LayoutView",
       "align_content": null,
       "align_items": null,
       "align_self": null,
       "border_bottom": null,
       "border_left": null,
       "border_right": null,
       "border_top": null,
       "bottom": null,
       "display": null,
       "flex": null,
       "flex_flow": null,
       "grid_area": null,
       "grid_auto_columns": null,
       "grid_auto_flow": null,
       "grid_auto_rows": null,
       "grid_column": null,
       "grid_gap": null,
       "grid_row": null,
       "grid_template_areas": null,
       "grid_template_columns": null,
       "grid_template_rows": null,
       "height": null,
       "justify_content": null,
       "justify_items": null,
       "left": null,
       "margin": null,
       "max_height": null,
       "max_width": null,
       "min_height": null,
       "min_width": null,
       "object_fit": null,
       "object_position": null,
       "order": null,
       "overflow": null,
       "padding": null,
       "right": null,
       "top": null,
       "visibility": null,
       "width": null
      }
     },
     "8069198ada7f4111a1c38bce317a0d03": {
      "model_module": "@jupyter-widgets/controls",
      "model_module_version": "2.0.0",
      "model_name": "HTMLStyleModel",
      "state": {
       "_model_module": "@jupyter-widgets/controls",
       "_model_module_version": "2.0.0",
       "_model_name": "HTMLStyleModel",
       "_view_count": null,
       "_view_module": "@jupyter-widgets/base",
       "_view_module_version": "2.0.0",
       "_view_name": "StyleView",
       "background": null,
       "description_width": "",
       "font_size": null,
       "text_color": null
      }
     },
     "e2e0b44f3b0e4666b43fd46a1c9fe61c": {
      "model_module": "@jupyter-widgets/controls",
      "model_module_version": "2.0.0",
      "model_name": "HTMLStyleModel",
      "state": {
       "_model_module": "@jupyter-widgets/controls",
       "_model_module_version": "2.0.0",
       "_model_name": "HTMLStyleModel",
       "_view_count": null,
       "_view_module": "@jupyter-widgets/base",
       "_view_module_version": "2.0.0",
       "_view_name": "StyleView",
       "background": null,
       "description_width": "",
       "font_size": null,
       "text_color": null
      }
     },
     "f9ac18050600485d85affae57bfb36ba": {
      "model_module": "@jupyter-widgets/base",
      "model_module_version": "2.0.0",
      "model_name": "LayoutModel",
      "state": {
       "_model_module": "@jupyter-widgets/base",
       "_model_module_version": "2.0.0",
       "_model_name": "LayoutModel",
       "_view_count": null,
       "_view_module": "@jupyter-widgets/base",
       "_view_module_version": "2.0.0",
       "_view_name": "LayoutView",
       "align_content": null,
       "align_items": null,
       "align_self": null,
       "border_bottom": null,
       "border_left": null,
       "border_right": null,
       "border_top": null,
       "bottom": null,
       "display": null,
       "flex": null,
       "flex_flow": null,
       "grid_area": null,
       "grid_auto_columns": null,
       "grid_auto_flow": null,
       "grid_auto_rows": null,
       "grid_column": null,
       "grid_gap": null,
       "grid_row": null,
       "grid_template_areas": null,
       "grid_template_columns": null,
       "grid_template_rows": null,
       "height": null,
       "justify_content": null,
       "justify_items": null,
       "left": null,
       "margin": null,
       "max_height": null,
       "max_width": null,
       "min_height": null,
       "min_width": null,
       "object_fit": null,
       "object_position": null,
       "order": null,
       "overflow": null,
       "padding": null,
       "right": null,
       "top": null,
       "visibility": null,
       "width": null
      }
     }
    },
    "version_major": 2,
    "version_minor": 0
   }
  }
 },
 "nbformat": 4,
 "nbformat_minor": 5
}
