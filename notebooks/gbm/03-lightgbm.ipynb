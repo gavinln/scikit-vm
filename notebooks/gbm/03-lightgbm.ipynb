{
 "cells": [
  {
   "cell_type": "markdown",
   "id": "0d99593b",
   "metadata": {},
   "source": [
    "# Lightgbm classification and regression"
   ]
  },
  {
   "cell_type": "markdown",
   "id": "898d69db",
   "metadata": {},
   "source": [
    "https://machinelearningmastery.com/light-gradient-boosted-machine-lightgbm-ensemble/"
   ]
  },
  {
   "cell_type": "markdown",
   "id": "9e33f205",
   "metadata": {},
   "source": [
    "## Setup libraries"
   ]
  },
  {
   "cell_type": "code",
   "execution_count": null,
   "id": "6cc58b4f",
   "metadata": {},
   "outputs": [],
   "source": [
    "import pandas as pd\n",
    "import seaborn as sns"
   ]
  },
  {
   "cell_type": "code",
   "execution_count": null,
   "id": "1606f2c7",
   "metadata": {},
   "outputs": [],
   "source": [
    "import numpy as np\n",
    "from sklearn.datasets import make_classification\n",
    "from sklearn.datasets import make_regression\n",
    "from sklearn.model_selection import RepeatedKFold\n",
    "from sklearn.model_selection import RepeatedStratifiedKFold\n",
    "from sklearn.model_selection import cross_val_score"
   ]
  },
  {
   "cell_type": "code",
   "execution_count": null,
   "id": "140a5ba3",
   "metadata": {},
   "outputs": [],
   "source": [
    "from lightgbm import LGBMClassifier\n",
    "from lightgbm import LGBMRegressor"
   ]
  },
  {
   "cell_type": "code",
   "execution_count": null,
   "id": "93d82600",
   "metadata": {},
   "outputs": [],
   "source": [
    "import matplotlib.pyplot as plt"
   ]
  },
  {
   "cell_type": "markdown",
   "id": "56e3e9cf",
   "metadata": {
    "lines_to_next_cell": 2
   },
   "source": [
    "## Reusable functions"
   ]
  },
  {
   "cell_type": "code",
   "execution_count": null,
   "id": "909cb85d",
   "metadata": {},
   "outputs": [],
   "source": [
    "def get_accuracy(n_scores):\n",
    "    return 'Accuracy: {:.3f} Stdev: {:.3f}'.format(\n",
    "        np.mean(n_scores), np.std(n_scores))"
   ]
  },
  {
   "cell_type": "markdown",
   "id": "0c8aab2d",
   "metadata": {},
   "source": [
    "## Get datasets"
   ]
  },
  {
   "cell_type": "markdown",
   "id": "bafb1de7",
   "metadata": {
    "lines_to_next_cell": 2
   },
   "source": [
    "Get classification dataset"
   ]
  },
  {
   "cell_type": "code",
   "execution_count": null,
   "id": "283aa752",
   "metadata": {
    "lines_to_next_cell": 2
   },
   "outputs": [],
   "source": [
    "def get_clf_dataset():\n",
    "    X, y = make_classification(\n",
    "        n_samples=1000, n_features=20, n_informative=15, n_redundant=5,\n",
    "        random_state=1)\n",
    "    return X, y"
   ]
  },
  {
   "cell_type": "markdown",
   "id": "0f09db5c",
   "metadata": {
    "lines_to_next_cell": 2
   },
   "source": [
    "Get regresson dataset"
   ]
  },
  {
   "cell_type": "code",
   "execution_count": null,
   "id": "7c3ea6b9",
   "metadata": {},
   "outputs": [],
   "source": [
    "def get_reg_dataset():\n",
    "    X, y = make_regression(\n",
    "        n_samples=1000, n_features=20, n_informative=15, noise=0.1,\n",
    "        random_state=7)\n",
    "    return X, y"
   ]
  },
  {
   "cell_type": "markdown",
   "id": "6933ec65",
   "metadata": {
    "lines_to_next_cell": 2
   },
   "source": [
    "## LightGBM for classification"
   ]
  },
  {
   "cell_type": "markdown",
   "id": "91cbd3d1",
   "metadata": {},
   "source": [
    "## LightGBM for regression"
   ]
  }
 ],
 "metadata": {
  "kernelspec": {
   "display_name": "Python 3 (ipykernel)",
   "language": "python",
   "name": "python3"
  }
 },
 "nbformat": 4,
 "nbformat_minor": 5
}
