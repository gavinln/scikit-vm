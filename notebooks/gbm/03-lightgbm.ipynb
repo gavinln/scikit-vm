{
 "cells": [
  {
   "cell_type": "markdown",
   "id": "0d99593b",
   "metadata": {},
   "source": [
    "# Lightgbm classification and regression"
   ]
  },
  {
   "cell_type": "markdown",
   "id": "898d69db",
   "metadata": {},
   "source": [
    "https://machinelearningmastery.com/light-gradient-boosted-machine-lightgbm-ensemble/"
   ]
  },
  {
   "cell_type": "markdown",
   "id": "9e33f205",
   "metadata": {},
   "source": [
    "## Setup libraries"
   ]
  },
  {
   "cell_type": "code",
   "execution_count": 24,
   "id": "6cc58b4f",
   "metadata": {},
   "outputs": [],
   "source": [
    "import pandas as pd\n",
    "import seaborn as sns"
   ]
  },
  {
   "cell_type": "code",
   "execution_count": 25,
   "id": "1606f2c7",
   "metadata": {},
   "outputs": [],
   "source": [
    "import numpy as np\n",
    "from sklearn.datasets import make_classification\n",
    "from sklearn.datasets import make_regression\n",
    "from sklearn.model_selection import RepeatedKFold\n",
    "from sklearn.model_selection import RepeatedStratifiedKFold\n",
    "from sklearn.model_selection import cross_val_score"
   ]
  },
  {
   "cell_type": "code",
   "execution_count": 26,
   "id": "140a5ba3",
   "metadata": {},
   "outputs": [],
   "source": [
    "import lightgbm\n",
    "from lightgbm import LGBMClassifier\n",
    "from lightgbm import LGBMRegressor"
   ]
  },
  {
   "cell_type": "code",
   "execution_count": 27,
   "id": "93d82600",
   "metadata": {},
   "outputs": [],
   "source": [
    "import matplotlib.pyplot as plt"
   ]
  },
  {
   "cell_type": "code",
   "execution_count": 28,
   "id": "545237e9-e6f3-4289-aca8-786b971100a9",
   "metadata": {},
   "outputs": [
    {
     "data": {
      "text/plain": [
       "'3.3.1'"
      ]
     },
     "execution_count": 28,
     "metadata": {},
     "output_type": "execute_result"
    }
   ],
   "source": [
    "lightgbm.__version__"
   ]
  },
  {
   "cell_type": "markdown",
   "id": "56e3e9cf",
   "metadata": {
    "lines_to_next_cell": 2
   },
   "source": [
    "## Reusable functions"
   ]
  },
  {
   "cell_type": "code",
   "execution_count": 29,
   "id": "909cb85d",
   "metadata": {},
   "outputs": [],
   "source": [
    "def get_accuracy(n_scores):\n",
    "    return 'Accuracy: {:.3f} Stdev: {:.3f}'.format(\n",
    "        np.mean(n_scores), np.std(n_scores))"
   ]
  },
  {
   "cell_type": "markdown",
   "id": "0c8aab2d",
   "metadata": {},
   "source": [
    "## Get datasets"
   ]
  },
  {
   "cell_type": "markdown",
   "id": "bafb1de7",
   "metadata": {
    "lines_to_next_cell": 2
   },
   "source": [
    "Get classification dataset"
   ]
  },
  {
   "cell_type": "code",
   "execution_count": 30,
   "id": "283aa752",
   "metadata": {
    "lines_to_next_cell": 2
   },
   "outputs": [],
   "source": [
    "def get_clf_dataset():\n",
    "    X, y = make_classification(\n",
    "        n_samples=1000, n_features=20, n_informative=15, n_redundant=5,\n",
    "        random_state=1)\n",
    "    return X, y"
   ]
  },
  {
   "cell_type": "markdown",
   "id": "0f09db5c",
   "metadata": {
    "lines_to_next_cell": 2
   },
   "source": [
    "Get regresson dataset"
   ]
  },
  {
   "cell_type": "code",
   "execution_count": 31,
   "id": "7c3ea6b9",
   "metadata": {},
   "outputs": [],
   "source": [
    "def get_reg_dataset():\n",
    "    X, y = make_regression(\n",
    "        n_samples=1000, n_features=20, n_informative=15, noise=0.1,\n",
    "        random_state=7)\n",
    "    return X, y"
   ]
  },
  {
   "cell_type": "markdown",
   "id": "6933ec65",
   "metadata": {
    "lines_to_next_cell": 2
   },
   "source": [
    "## LightGBM for classification"
   ]
  },
  {
   "cell_type": "markdown",
   "id": "34c9f878-a00f-40a5-8610-d125dfc14e3b",
   "metadata": {},
   "source": [
    "Size of classification data"
   ]
  },
  {
   "cell_type": "code",
   "execution_count": 32,
   "id": "7925d6aa-9f1d-4ade-9c45-06241d329600",
   "metadata": {},
   "outputs": [
    {
     "name": "stdout",
     "output_type": "stream",
     "text": [
      "(1000, 20) (1000,)\n"
     ]
    }
   ],
   "source": [
    "X, y = get_clf_dataset()\n",
    "print(X.shape, y.shape)"
   ]
  },
  {
   "cell_type": "markdown",
   "id": "11bd46d9-ac01-4a57-aff3-e2e3d8c37503",
   "metadata": {},
   "source": [
    "Values of the target variable"
   ]
  },
  {
   "cell_type": "code",
   "execution_count": 33,
   "id": "db96b553-b606-43d3-9ebb-ae9adbd4aec3",
   "metadata": {},
   "outputs": [
    {
     "data": {
      "text/plain": [
       "0    501\n",
       "1    499\n",
       "dtype: int64"
      ]
     },
     "execution_count": 33,
     "metadata": {},
     "output_type": "execute_result"
    }
   ],
   "source": [
    "pd.Series(y).value_counts()"
   ]
  },
  {
   "cell_type": "markdown",
   "id": "eb027410-2cbc-45d0-9d19-23acfc33c4da",
   "metadata": {},
   "source": [
    "Train model"
   ]
  },
  {
   "cell_type": "code",
   "execution_count": 34,
   "id": "eb75a8fd-3c19-4e52-8e02-ad5d6730a9bc",
   "metadata": {},
   "outputs": [],
   "source": [
    "model = LGBMClassifier()\n",
    "cv = RepeatedStratifiedKFold(n_splits=10, n_repeats=3)\n",
    "n_scores = cross_val_score(\n",
    "    model, X, y, scoring='accuracy', cv=cv, n_jobs=-1)"
   ]
  },
  {
   "cell_type": "markdown",
   "id": "68108c44-f0ba-4e6d-bf94-03849747e4a9",
   "metadata": {},
   "source": [
    "Display results"
   ]
  },
  {
   "cell_type": "code",
   "execution_count": 35,
   "id": "fe180d5d-c4cc-4e6c-8205-7ae0cb4f4497",
   "metadata": {},
   "outputs": [
    {
     "name": "stdout",
     "output_type": "stream",
     "text": [
      "Accuracy: 0.929 (0.026)\n"
     ]
    }
   ],
   "source": [
    "print(\"Accuracy: {:.3f} ({:.3f})\".format(\n",
    "    np.mean(n_scores), np.std(n_scores)))"
   ]
  },
  {
   "cell_type": "markdown",
   "id": "91cbd3d1",
   "metadata": {},
   "source": [
    "## LightGBM for regression"
   ]
  },
  {
   "cell_type": "markdown",
   "id": "59f8424d-c104-4175-b3ea-a8cf1803ba1c",
   "metadata": {},
   "source": [
    "Size of regression data"
   ]
  },
  {
   "cell_type": "code",
   "execution_count": 36,
   "id": "beb372f0-b9df-4fce-b8b9-d465bb638833",
   "metadata": {},
   "outputs": [
    {
     "name": "stdout",
     "output_type": "stream",
     "text": [
      "(1000, 20) (1000,)\n"
     ]
    }
   ],
   "source": [
    "X, y = get_reg_dataset()\n",
    "print(X.shape, y.shape)"
   ]
  },
  {
   "cell_type": "markdown",
   "id": "de979f7d-bbe6-4a10-ad77-01bfacf8bff5",
   "metadata": {},
   "source": [
    "Description of the target variable"
   ]
  },
  {
   "cell_type": "code",
   "execution_count": 38,
   "id": "da76c00b-eb1c-4f7b-a201-92833d6c88ac",
   "metadata": {},
   "outputs": [
    {
     "data": {
      "text/plain": [
       "count    1000.000000\n",
       "mean        3.477325\n",
       "std       220.375737\n",
       "min      -663.293131\n",
       "25%      -143.686509\n",
       "50%         4.344965\n",
       "75%       160.826633\n",
       "max       661.461884\n",
       "dtype: float64"
      ]
     },
     "execution_count": 38,
     "metadata": {},
     "output_type": "execute_result"
    }
   ],
   "source": [
    "pd.Series(y).describe()"
   ]
  },
  {
   "cell_type": "markdown",
   "id": "d0935b8a-1e6a-4b8c-8f11-f99854a50ba9",
   "metadata": {},
   "source": [
    "Train model"
   ]
  },
  {
   "cell_type": "code",
   "execution_count": 39,
   "id": "097e4dd1-a8bf-4814-b05b-195901ad21b5",
   "metadata": {},
   "outputs": [],
   "source": [
    "model = LGBMRegressor()\n",
    "cv = RepeatedKFold(n_splits=10, n_repeats=3)\n",
    "n_scores = cross_val_score(\n",
    "    model, X, y, scoring='neg_mean_absolute_error', cv=cv,\n",
    "    n_jobs=-1, error_score='raise')"
   ]
  },
  {
   "cell_type": "markdown",
   "id": "ada28c58-a03c-433f-a9f4-8b90d25e2dcc",
   "metadata": {},
   "source": [
    "Display results"
   ]
  },
  {
   "cell_type": "code",
   "execution_count": 41,
   "id": "fc614883-1aba-4649-b5e8-8ec825e73572",
   "metadata": {},
   "outputs": [
    {
     "name": "stdout",
     "output_type": "stream",
     "text": [
      "Mean absolute error (MAE): -59.897 (4.350)\n"
     ]
    }
   ],
   "source": [
    "print(\"Mean absolute error (MAE): {:.3f} ({:.3f})\".format(\n",
    "    np.mean(n_scores), np.std(n_scores)))"
   ]
  }
 ],
 "metadata": {
  "kernelspec": {
   "display_name": "Python 3 (ipykernel)",
   "language": "python",
   "name": "python3"
  },
  "language_info": {
   "codemirror_mode": {
    "name": "ipython",
    "version": 3
   },
   "file_extension": ".py",
   "mimetype": "text/x-python",
   "name": "python",
   "nbconvert_exporter": "python",
   "pygments_lexer": "ipython3",
   "version": "3.8.10"
  }
 },
 "nbformat": 4,
 "nbformat_minor": 5
}
