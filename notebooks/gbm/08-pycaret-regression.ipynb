{
 "cells": [
  {
   "cell_type": "markdown",
   "id": "dc516f39",
   "metadata": {},
   "source": [
    "# Pycaret regression"
   ]
  },
  {
   "cell_type": "markdown",
   "id": "5c066ae5",
   "metadata": {},
   "source": [
    "- https://github.com/pycaret/pycaret/blob/master/tutorials/Regression%20Tutorial%20Level%20Beginner%20-%20REG101.ipynb\n",
    "\n",
    "- https://github.com/pycaret/pycaret/blob/master/tutorials/Regression%20Tutorial%20Level%20Intermediate%20-%20REG102.ipynb"
   ]
  },
  {
   "cell_type": "markdown",
   "id": "aa2a34c8",
   "metadata": {
    "jp-MarkdownHeadingCollapsed": true,
    "tags": []
   },
   "source": [
    "## Setup libraries"
   ]
  },
  {
   "cell_type": "code",
   "execution_count": 1,
   "id": "238c70b4",
   "metadata": {},
   "outputs": [],
   "source": [
    "%load_ext autoreload\n",
    "%autoreload 2"
   ]
  },
  {
   "cell_type": "code",
   "execution_count": 2,
   "id": "6b01dc2c",
   "metadata": {},
   "outputs": [],
   "source": [
    "import numpy as np\n",
    "import pandas as pd"
   ]
  },
  {
   "cell_type": "code",
   "execution_count": 3,
   "id": "d73da0b2-d24e-440d-bdcc-9d317c74f678",
   "metadata": {},
   "outputs": [],
   "source": [
    "random_state = 786"
   ]
  },
  {
   "cell_type": "code",
   "execution_count": 4,
   "id": "f891f011-b8b3-48b6-8ba9-78ac6f5bcbc1",
   "metadata": {},
   "outputs": [],
   "source": [
    "from pycaret import regression as reg"
   ]
  },
  {
   "cell_type": "code",
   "execution_count": 69,
   "id": "a0aedacc-b94f-4146-9271-5b837d56d4be",
   "metadata": {},
   "outputs": [],
   "source": [
    "from pycaret.utils import check_metric"
   ]
  },
  {
   "cell_type": "code",
   "execution_count": 5,
   "id": "e143ed98-b71a-413c-8f47-2eac860421f6",
   "metadata": {},
   "outputs": [],
   "source": [
    "from pycaret.datasets import get_data"
   ]
  },
  {
   "cell_type": "markdown",
   "id": "50b4c1c8-b6ce-4efa-aed3-04eda7ca8ed9",
   "metadata": {
    "tags": []
   },
   "source": [
    "## Get data"
   ]
  },
  {
   "cell_type": "code",
   "execution_count": 6,
   "id": "56cef843-08c4-4304-af8b-fe3cbf835c10",
   "metadata": {},
   "outputs": [
    {
     "data": {
      "text/html": [
       "<div>\n",
       "<style scoped>\n",
       "    .dataframe tbody tr th:only-of-type {\n",
       "        vertical-align: middle;\n",
       "    }\n",
       "\n",
       "    .dataframe tbody tr th {\n",
       "        vertical-align: top;\n",
       "    }\n",
       "\n",
       "    .dataframe thead th {\n",
       "        text-align: right;\n",
       "    }\n",
       "</style>\n",
       "<table border=\"1\" class=\"dataframe\">\n",
       "  <thead>\n",
       "    <tr style=\"text-align: right;\">\n",
       "      <th></th>\n",
       "      <th>Carat Weight</th>\n",
       "      <th>Cut</th>\n",
       "      <th>Color</th>\n",
       "      <th>Clarity</th>\n",
       "      <th>Polish</th>\n",
       "      <th>Symmetry</th>\n",
       "      <th>Report</th>\n",
       "      <th>Price</th>\n",
       "    </tr>\n",
       "  </thead>\n",
       "  <tbody>\n",
       "    <tr>\n",
       "      <th>0</th>\n",
       "      <td>1.10</td>\n",
       "      <td>Ideal</td>\n",
       "      <td>H</td>\n",
       "      <td>SI1</td>\n",
       "      <td>VG</td>\n",
       "      <td>EX</td>\n",
       "      <td>GIA</td>\n",
       "      <td>5169</td>\n",
       "    </tr>\n",
       "    <tr>\n",
       "      <th>1</th>\n",
       "      <td>0.83</td>\n",
       "      <td>Ideal</td>\n",
       "      <td>H</td>\n",
       "      <td>VS1</td>\n",
       "      <td>ID</td>\n",
       "      <td>ID</td>\n",
       "      <td>AGSL</td>\n",
       "      <td>3470</td>\n",
       "    </tr>\n",
       "    <tr>\n",
       "      <th>2</th>\n",
       "      <td>0.85</td>\n",
       "      <td>Ideal</td>\n",
       "      <td>H</td>\n",
       "      <td>SI1</td>\n",
       "      <td>EX</td>\n",
       "      <td>EX</td>\n",
       "      <td>GIA</td>\n",
       "      <td>3183</td>\n",
       "    </tr>\n",
       "    <tr>\n",
       "      <th>3</th>\n",
       "      <td>0.91</td>\n",
       "      <td>Ideal</td>\n",
       "      <td>E</td>\n",
       "      <td>SI1</td>\n",
       "      <td>VG</td>\n",
       "      <td>VG</td>\n",
       "      <td>GIA</td>\n",
       "      <td>4370</td>\n",
       "    </tr>\n",
       "    <tr>\n",
       "      <th>4</th>\n",
       "      <td>0.83</td>\n",
       "      <td>Ideal</td>\n",
       "      <td>G</td>\n",
       "      <td>SI1</td>\n",
       "      <td>EX</td>\n",
       "      <td>EX</td>\n",
       "      <td>GIA</td>\n",
       "      <td>3171</td>\n",
       "    </tr>\n",
       "  </tbody>\n",
       "</table>\n",
       "</div>"
      ],
      "text/plain": [
       "   Carat Weight    Cut Color Clarity Polish Symmetry Report  Price\n",
       "0          1.10  Ideal     H     SI1     VG       EX    GIA   5169\n",
       "1          0.83  Ideal     H     VS1     ID       ID   AGSL   3470\n",
       "2          0.85  Ideal     H     SI1     EX       EX    GIA   3183\n",
       "3          0.91  Ideal     E     SI1     VG       VG    GIA   4370\n",
       "4          0.83  Ideal     G     SI1     EX       EX    GIA   3171"
      ]
     },
     "metadata": {},
     "output_type": "display_data"
    }
   ],
   "source": [
    "dataset = get_data('diamond')"
   ]
  },
  {
   "cell_type": "code",
   "execution_count": 7,
   "id": "9d962ded-cc0d-4286-adc0-e3ad99450407",
   "metadata": {},
   "outputs": [
    {
     "data": {
      "text/plain": [
       "(6000, 8)"
      ]
     },
     "execution_count": 7,
     "metadata": {},
     "output_type": "execute_result"
    }
   ],
   "source": [
    "dataset.shape"
   ]
  },
  {
   "cell_type": "code",
   "execution_count": 8,
   "id": "6034b39f-2bfd-44c6-a715-c3e87168652c",
   "metadata": {},
   "outputs": [
    {
     "data": {
      "text/plain": [
       "object     6\n",
       "float64    1\n",
       "int64      1\n",
       "dtype: int64"
      ]
     },
     "execution_count": 8,
     "metadata": {},
     "output_type": "execute_result"
    }
   ],
   "source": [
    "dataset.dtypes.value_counts()"
   ]
  },
  {
   "cell_type": "markdown",
   "id": "013a9f1a-a2cb-4da8-8c60-59a4bc47e79d",
   "metadata": {},
   "source": [
    "Split data into training data and unseen data for predictions"
   ]
  },
  {
   "cell_type": "code",
   "execution_count": 9,
   "id": "0d168c7b-478d-49e4-8e03-7dc27774365e",
   "metadata": {
    "tags": []
   },
   "outputs": [],
   "source": [
    "data = dataset.sample(frac=0.9, random_state = random_state)\n",
    "data_unseen = dataset.drop(data.index)"
   ]
  },
  {
   "cell_type": "code",
   "execution_count": 10,
   "id": "7c44c771-64f7-4a5c-992c-6ed3a89df1dc",
   "metadata": {},
   "outputs": [
    {
     "data": {
      "text/plain": [
       "'training data: (5400, 8), prediction data: (600, 8)'"
      ]
     },
     "execution_count": 10,
     "metadata": {},
     "output_type": "execute_result"
    }
   ],
   "source": [
    "f'training data: {data.shape}, prediction data: {data_unseen.shape}'"
   ]
  },
  {
   "cell_type": "markdown",
   "id": "0b85af8e-977e-4761-92f8-d81c2ee0c197",
   "metadata": {
    "jp-MarkdownHeadingCollapsed": true,
    "tags": []
   },
   "source": [
    "## Setup pycaret"
   ]
  },
  {
   "cell_type": "code",
   "execution_count": 39,
   "id": "c008949d-7141-45f5-a28a-e7fc4ce79fcc",
   "metadata": {},
   "outputs": [],
   "source": [
    "exp_reg1 = reg.setup(data=data, target='Price', session_id=1,\n",
    "                     silent=True, verbose=False)"
   ]
  },
  {
   "cell_type": "markdown",
   "id": "e13f4f32-403f-4135-9b2c-fcbac426b8e7",
   "metadata": {},
   "source": [
    "Display models"
   ]
  },
  {
   "cell_type": "code",
   "execution_count": 40,
   "id": "edda22ec-cb12-4fa4-b736-e5d75f37d1af",
   "metadata": {},
   "outputs": [
    {
     "data": {
      "text/html": [
       "<div>\n",
       "<style scoped>\n",
       "    .dataframe tbody tr th:only-of-type {\n",
       "        vertical-align: middle;\n",
       "    }\n",
       "\n",
       "    .dataframe tbody tr th {\n",
       "        vertical-align: top;\n",
       "    }\n",
       "\n",
       "    .dataframe thead th {\n",
       "        text-align: right;\n",
       "    }\n",
       "</style>\n",
       "<table border=\"1\" class=\"dataframe\">\n",
       "  <thead>\n",
       "    <tr style=\"text-align: right;\">\n",
       "      <th></th>\n",
       "      <th>Name</th>\n",
       "      <th>Reference</th>\n",
       "      <th>Turbo</th>\n",
       "    </tr>\n",
       "    <tr>\n",
       "      <th>ID</th>\n",
       "      <th></th>\n",
       "      <th></th>\n",
       "      <th></th>\n",
       "    </tr>\n",
       "  </thead>\n",
       "  <tbody>\n",
       "    <tr>\n",
       "      <th>lr</th>\n",
       "      <td>Linear Regression</td>\n",
       "      <td>sklearn.linear_model._base.LinearRegression</td>\n",
       "      <td>True</td>\n",
       "    </tr>\n",
       "    <tr>\n",
       "      <th>lasso</th>\n",
       "      <td>Lasso Regression</td>\n",
       "      <td>sklearn.linear_model._coordinate_descent.Lasso</td>\n",
       "      <td>True</td>\n",
       "    </tr>\n",
       "    <tr>\n",
       "      <th>ridge</th>\n",
       "      <td>Ridge Regression</td>\n",
       "      <td>sklearn.linear_model._ridge.Ridge</td>\n",
       "      <td>True</td>\n",
       "    </tr>\n",
       "    <tr>\n",
       "      <th>en</th>\n",
       "      <td>Elastic Net</td>\n",
       "      <td>sklearn.linear_model._coordinate_descent.Elast...</td>\n",
       "      <td>True</td>\n",
       "    </tr>\n",
       "    <tr>\n",
       "      <th>lar</th>\n",
       "      <td>Least Angle Regression</td>\n",
       "      <td>sklearn.linear_model._least_angle.Lars</td>\n",
       "      <td>True</td>\n",
       "    </tr>\n",
       "    <tr>\n",
       "      <th>llar</th>\n",
       "      <td>Lasso Least Angle Regression</td>\n",
       "      <td>sklearn.linear_model._least_angle.LassoLars</td>\n",
       "      <td>True</td>\n",
       "    </tr>\n",
       "    <tr>\n",
       "      <th>omp</th>\n",
       "      <td>Orthogonal Matching Pursuit</td>\n",
       "      <td>sklearn.linear_model._omp.OrthogonalMatchingPu...</td>\n",
       "      <td>True</td>\n",
       "    </tr>\n",
       "    <tr>\n",
       "      <th>br</th>\n",
       "      <td>Bayesian Ridge</td>\n",
       "      <td>sklearn.linear_model._bayes.BayesianRidge</td>\n",
       "      <td>True</td>\n",
       "    </tr>\n",
       "    <tr>\n",
       "      <th>ard</th>\n",
       "      <td>Automatic Relevance Determination</td>\n",
       "      <td>sklearn.linear_model._bayes.ARDRegression</td>\n",
       "      <td>False</td>\n",
       "    </tr>\n",
       "    <tr>\n",
       "      <th>par</th>\n",
       "      <td>Passive Aggressive Regressor</td>\n",
       "      <td>sklearn.linear_model._passive_aggressive.Passi...</td>\n",
       "      <td>True</td>\n",
       "    </tr>\n",
       "    <tr>\n",
       "      <th>ransac</th>\n",
       "      <td>Random Sample Consensus</td>\n",
       "      <td>sklearn.linear_model._ransac.RANSACRegressor</td>\n",
       "      <td>False</td>\n",
       "    </tr>\n",
       "    <tr>\n",
       "      <th>tr</th>\n",
       "      <td>TheilSen Regressor</td>\n",
       "      <td>sklearn.linear_model._theil_sen.TheilSenRegressor</td>\n",
       "      <td>False</td>\n",
       "    </tr>\n",
       "    <tr>\n",
       "      <th>huber</th>\n",
       "      <td>Huber Regressor</td>\n",
       "      <td>sklearn.linear_model._huber.HuberRegressor</td>\n",
       "      <td>True</td>\n",
       "    </tr>\n",
       "    <tr>\n",
       "      <th>kr</th>\n",
       "      <td>Kernel Ridge</td>\n",
       "      <td>sklearn.kernel_ridge.KernelRidge</td>\n",
       "      <td>False</td>\n",
       "    </tr>\n",
       "    <tr>\n",
       "      <th>svm</th>\n",
       "      <td>Support Vector Regression</td>\n",
       "      <td>sklearn.svm._classes.SVR</td>\n",
       "      <td>False</td>\n",
       "    </tr>\n",
       "    <tr>\n",
       "      <th>knn</th>\n",
       "      <td>K Neighbors Regressor</td>\n",
       "      <td>sklearn.neighbors._regression.KNeighborsRegressor</td>\n",
       "      <td>True</td>\n",
       "    </tr>\n",
       "    <tr>\n",
       "      <th>dt</th>\n",
       "      <td>Decision Tree Regressor</td>\n",
       "      <td>sklearn.tree._classes.DecisionTreeRegressor</td>\n",
       "      <td>True</td>\n",
       "    </tr>\n",
       "    <tr>\n",
       "      <th>rf</th>\n",
       "      <td>Random Forest Regressor</td>\n",
       "      <td>sklearn.ensemble._forest.RandomForestRegressor</td>\n",
       "      <td>True</td>\n",
       "    </tr>\n",
       "    <tr>\n",
       "      <th>et</th>\n",
       "      <td>Extra Trees Regressor</td>\n",
       "      <td>sklearn.ensemble._forest.ExtraTreesRegressor</td>\n",
       "      <td>True</td>\n",
       "    </tr>\n",
       "    <tr>\n",
       "      <th>ada</th>\n",
       "      <td>AdaBoost Regressor</td>\n",
       "      <td>sklearn.ensemble._weight_boosting.AdaBoostRegr...</td>\n",
       "      <td>True</td>\n",
       "    </tr>\n",
       "    <tr>\n",
       "      <th>gbr</th>\n",
       "      <td>Gradient Boosting Regressor</td>\n",
       "      <td>sklearn.ensemble._gb.GradientBoostingRegressor</td>\n",
       "      <td>True</td>\n",
       "    </tr>\n",
       "    <tr>\n",
       "      <th>mlp</th>\n",
       "      <td>MLP Regressor</td>\n",
       "      <td>sklearn.neural_network._multilayer_perceptron....</td>\n",
       "      <td>False</td>\n",
       "    </tr>\n",
       "    <tr>\n",
       "      <th>xgboost</th>\n",
       "      <td>Extreme Gradient Boosting</td>\n",
       "      <td>xgboost.sklearn.XGBRegressor</td>\n",
       "      <td>True</td>\n",
       "    </tr>\n",
       "    <tr>\n",
       "      <th>lightgbm</th>\n",
       "      <td>Light Gradient Boosting Machine</td>\n",
       "      <td>lightgbm.sklearn.LGBMRegressor</td>\n",
       "      <td>True</td>\n",
       "    </tr>\n",
       "    <tr>\n",
       "      <th>dummy</th>\n",
       "      <td>Dummy Regressor</td>\n",
       "      <td>sklearn.dummy.DummyRegressor</td>\n",
       "      <td>True</td>\n",
       "    </tr>\n",
       "  </tbody>\n",
       "</table>\n",
       "</div>"
      ],
      "text/plain": [
       "                                       Name  \\\n",
       "ID                                            \n",
       "lr                        Linear Regression   \n",
       "lasso                      Lasso Regression   \n",
       "ridge                      Ridge Regression   \n",
       "en                              Elastic Net   \n",
       "lar                  Least Angle Regression   \n",
       "llar           Lasso Least Angle Regression   \n",
       "omp             Orthogonal Matching Pursuit   \n",
       "br                           Bayesian Ridge   \n",
       "ard       Automatic Relevance Determination   \n",
       "par            Passive Aggressive Regressor   \n",
       "ransac              Random Sample Consensus   \n",
       "tr                       TheilSen Regressor   \n",
       "huber                       Huber Regressor   \n",
       "kr                             Kernel Ridge   \n",
       "svm               Support Vector Regression   \n",
       "knn                   K Neighbors Regressor   \n",
       "dt                  Decision Tree Regressor   \n",
       "rf                  Random Forest Regressor   \n",
       "et                    Extra Trees Regressor   \n",
       "ada                      AdaBoost Regressor   \n",
       "gbr             Gradient Boosting Regressor   \n",
       "mlp                           MLP Regressor   \n",
       "xgboost           Extreme Gradient Boosting   \n",
       "lightgbm    Light Gradient Boosting Machine   \n",
       "dummy                       Dummy Regressor   \n",
       "\n",
       "                                                  Reference  Turbo  \n",
       "ID                                                                  \n",
       "lr              sklearn.linear_model._base.LinearRegression   True  \n",
       "lasso        sklearn.linear_model._coordinate_descent.Lasso   True  \n",
       "ridge                     sklearn.linear_model._ridge.Ridge   True  \n",
       "en        sklearn.linear_model._coordinate_descent.Elast...   True  \n",
       "lar                  sklearn.linear_model._least_angle.Lars   True  \n",
       "llar            sklearn.linear_model._least_angle.LassoLars   True  \n",
       "omp       sklearn.linear_model._omp.OrthogonalMatchingPu...   True  \n",
       "br                sklearn.linear_model._bayes.BayesianRidge   True  \n",
       "ard               sklearn.linear_model._bayes.ARDRegression  False  \n",
       "par       sklearn.linear_model._passive_aggressive.Passi...   True  \n",
       "ransac         sklearn.linear_model._ransac.RANSACRegressor  False  \n",
       "tr        sklearn.linear_model._theil_sen.TheilSenRegressor  False  \n",
       "huber            sklearn.linear_model._huber.HuberRegressor   True  \n",
       "kr                         sklearn.kernel_ridge.KernelRidge  False  \n",
       "svm                                sklearn.svm._classes.SVR  False  \n",
       "knn       sklearn.neighbors._regression.KNeighborsRegressor   True  \n",
       "dt              sklearn.tree._classes.DecisionTreeRegressor   True  \n",
       "rf           sklearn.ensemble._forest.RandomForestRegressor   True  \n",
       "et             sklearn.ensemble._forest.ExtraTreesRegressor   True  \n",
       "ada       sklearn.ensemble._weight_boosting.AdaBoostRegr...   True  \n",
       "gbr          sklearn.ensemble._gb.GradientBoostingRegressor   True  \n",
       "mlp       sklearn.neural_network._multilayer_perceptron....  False  \n",
       "xgboost                        xgboost.sklearn.XGBRegressor   True  \n",
       "lightgbm                     lightgbm.sklearn.LGBMRegressor   True  \n",
       "dummy                          sklearn.dummy.DummyRegressor   True  "
      ]
     },
     "execution_count": 40,
     "metadata": {},
     "output_type": "execute_result"
    }
   ],
   "source": [
    "reg.models()"
   ]
  },
  {
   "cell_type": "markdown",
   "id": "0f431ed7-c073-4bc2-9b8a-c072d024685e",
   "metadata": {
    "jp-MarkdownHeadingCollapsed": true,
    "tags": []
   },
   "source": [
    "## Train models"
   ]
  },
  {
   "cell_type": "code",
   "execution_count": 38,
   "id": "58b7bf34-1fc7-44a9-9abd-20b64a7a8464",
   "metadata": {},
   "outputs": [
    {
     "data": {
      "text/html": [
       "<style type=\"text/css\">\n",
       "#T_3d80f_ th {\n",
       "  text-align: left;\n",
       "}\n",
       "#T_3d80f_row0_col0, #T_3d80f_row1_col0, #T_3d80f_row1_col1, #T_3d80f_row1_col2, #T_3d80f_row1_col3, #T_3d80f_row1_col4, #T_3d80f_row1_col5, #T_3d80f_row1_col6, #T_3d80f_row2_col0, #T_3d80f_row2_col1, #T_3d80f_row2_col2, #T_3d80f_row2_col3, #T_3d80f_row2_col4, #T_3d80f_row2_col5, #T_3d80f_row2_col6, #T_3d80f_row3_col0, #T_3d80f_row3_col1, #T_3d80f_row3_col2, #T_3d80f_row3_col3, #T_3d80f_row3_col4, #T_3d80f_row3_col5, #T_3d80f_row3_col6, #T_3d80f_row4_col0, #T_3d80f_row4_col1, #T_3d80f_row4_col2, #T_3d80f_row4_col3, #T_3d80f_row4_col4, #T_3d80f_row4_col5, #T_3d80f_row4_col6, #T_3d80f_row5_col0, #T_3d80f_row5_col1, #T_3d80f_row5_col2, #T_3d80f_row5_col3, #T_3d80f_row5_col4, #T_3d80f_row5_col5, #T_3d80f_row5_col6, #T_3d80f_row6_col0, #T_3d80f_row6_col1, #T_3d80f_row6_col2, #T_3d80f_row6_col3, #T_3d80f_row6_col4, #T_3d80f_row6_col5, #T_3d80f_row6_col6, #T_3d80f_row7_col0, #T_3d80f_row7_col1, #T_3d80f_row7_col2, #T_3d80f_row7_col3, #T_3d80f_row7_col4, #T_3d80f_row7_col5, #T_3d80f_row7_col6, #T_3d80f_row8_col0, #T_3d80f_row8_col1, #T_3d80f_row8_col2, #T_3d80f_row8_col3, #T_3d80f_row8_col4, #T_3d80f_row8_col5, #T_3d80f_row8_col6, #T_3d80f_row9_col0, #T_3d80f_row9_col1, #T_3d80f_row9_col2, #T_3d80f_row9_col3, #T_3d80f_row9_col4, #T_3d80f_row9_col5, #T_3d80f_row9_col6, #T_3d80f_row10_col0, #T_3d80f_row10_col1, #T_3d80f_row10_col2, #T_3d80f_row10_col3, #T_3d80f_row10_col4, #T_3d80f_row10_col5, #T_3d80f_row10_col6, #T_3d80f_row11_col0, #T_3d80f_row11_col1, #T_3d80f_row11_col2, #T_3d80f_row11_col3, #T_3d80f_row11_col4, #T_3d80f_row11_col5, #T_3d80f_row11_col6, #T_3d80f_row12_col0, #T_3d80f_row12_col1, #T_3d80f_row12_col2, #T_3d80f_row12_col3, #T_3d80f_row12_col4, #T_3d80f_row12_col5, #T_3d80f_row12_col6, #T_3d80f_row13_col0, #T_3d80f_row13_col1, #T_3d80f_row13_col2, #T_3d80f_row13_col3, #T_3d80f_row13_col4, #T_3d80f_row13_col5, #T_3d80f_row13_col6, #T_3d80f_row14_col0, #T_3d80f_row14_col1, #T_3d80f_row14_col2, #T_3d80f_row14_col3, #T_3d80f_row14_col4, #T_3d80f_row14_col5, #T_3d80f_row14_col6, #T_3d80f_row15_col0, #T_3d80f_row15_col1, #T_3d80f_row15_col2, #T_3d80f_row15_col3, #T_3d80f_row15_col4, #T_3d80f_row15_col5, #T_3d80f_row15_col6, #T_3d80f_row16_col0, #T_3d80f_row16_col1, #T_3d80f_row16_col2, #T_3d80f_row16_col3, #T_3d80f_row16_col4, #T_3d80f_row16_col5, #T_3d80f_row16_col6, #T_3d80f_row17_col0, #T_3d80f_row17_col1, #T_3d80f_row17_col2, #T_3d80f_row17_col3, #T_3d80f_row17_col4, #T_3d80f_row17_col5, #T_3d80f_row17_col6, #T_3d80f_row18_col0, #T_3d80f_row18_col1, #T_3d80f_row18_col2, #T_3d80f_row18_col3, #T_3d80f_row18_col4, #T_3d80f_row18_col5, #T_3d80f_row18_col6 {\n",
       "  text-align: left;\n",
       "}\n",
       "#T_3d80f_row0_col1, #T_3d80f_row0_col2, #T_3d80f_row0_col3, #T_3d80f_row0_col4, #T_3d80f_row0_col5, #T_3d80f_row0_col6 {\n",
       "  text-align: left;\n",
       "  background-color: yellow;\n",
       "}\n",
       "#T_3d80f_row0_col7, #T_3d80f_row1_col7, #T_3d80f_row2_col7, #T_3d80f_row3_col7, #T_3d80f_row4_col7, #T_3d80f_row5_col7, #T_3d80f_row7_col7, #T_3d80f_row8_col7, #T_3d80f_row11_col7, #T_3d80f_row12_col7, #T_3d80f_row13_col7, #T_3d80f_row15_col7, #T_3d80f_row18_col7 {\n",
       "  text-align: left;\n",
       "  background-color: lightgrey;\n",
       "}\n",
       "#T_3d80f_row6_col7, #T_3d80f_row9_col7, #T_3d80f_row10_col7, #T_3d80f_row14_col7, #T_3d80f_row16_col7, #T_3d80f_row17_col7 {\n",
       "  text-align: left;\n",
       "  background-color: yellow;\n",
       "  background-color: lightgrey;\n",
       "}\n",
       "</style>\n",
       "<table id=\"T_3d80f_\">\n",
       "  <thead>\n",
       "    <tr>\n",
       "      <th class=\"blank level0\" >&nbsp;</th>\n",
       "      <th class=\"col_heading level0 col0\" >Model</th>\n",
       "      <th class=\"col_heading level0 col1\" >MAE</th>\n",
       "      <th class=\"col_heading level0 col2\" >MSE</th>\n",
       "      <th class=\"col_heading level0 col3\" >RMSE</th>\n",
       "      <th class=\"col_heading level0 col4\" >R2</th>\n",
       "      <th class=\"col_heading level0 col5\" >RMSLE</th>\n",
       "      <th class=\"col_heading level0 col6\" >MAPE</th>\n",
       "      <th class=\"col_heading level0 col7\" >TT (Sec)</th>\n",
       "    </tr>\n",
       "  </thead>\n",
       "  <tbody>\n",
       "    <tr>\n",
       "      <th id=\"T_3d80f_level0_row0\" class=\"row_heading level0 row0\" >xgboost</th>\n",
       "      <td id=\"T_3d80f_row0_col0\" class=\"data row0 col0\" >Extreme Gradient Boosting</td>\n",
       "      <td id=\"T_3d80f_row0_col1\" class=\"data row0 col1\" >784.7684</td>\n",
       "      <td id=\"T_3d80f_row0_col2\" class=\"data row0 col2\" >2845918.4783</td>\n",
       "      <td id=\"T_3d80f_row0_col3\" class=\"data row0 col3\" >1684.6939</td>\n",
       "      <td id=\"T_3d80f_row0_col4\" class=\"data row0 col4\" >0.9726</td>\n",
       "      <td id=\"T_3d80f_row0_col5\" class=\"data row0 col5\" >0.0802</td>\n",
       "      <td id=\"T_3d80f_row0_col6\" class=\"data row0 col6\" >0.0592</td>\n",
       "      <td id=\"T_3d80f_row0_col7\" class=\"data row0 col7\" >2.9150</td>\n",
       "    </tr>\n",
       "    <tr>\n",
       "      <th id=\"T_3d80f_level0_row1\" class=\"row_heading level0 row1\" >et</th>\n",
       "      <td id=\"T_3d80f_row1_col0\" class=\"data row1 col0\" >Extra Trees Regressor</td>\n",
       "      <td id=\"T_3d80f_row1_col1\" class=\"data row1 col1\" >822.3515</td>\n",
       "      <td id=\"T_3d80f_row1_col2\" class=\"data row1 col2\" >3438296.9392</td>\n",
       "      <td id=\"T_3d80f_row1_col3\" class=\"data row1 col3\" >1852.6626</td>\n",
       "      <td id=\"T_3d80f_row1_col4\" class=\"data row1 col4\" >0.9670</td>\n",
       "      <td id=\"T_3d80f_row1_col5\" class=\"data row1 col5\" >0.0863</td>\n",
       "      <td id=\"T_3d80f_row1_col6\" class=\"data row1 col6\" >0.0636</td>\n",
       "      <td id=\"T_3d80f_row1_col7\" class=\"data row1 col7\" >0.3000</td>\n",
       "    </tr>\n",
       "    <tr>\n",
       "      <th id=\"T_3d80f_level0_row2\" class=\"row_heading level0 row2\" >gbr</th>\n",
       "      <td id=\"T_3d80f_row2_col0\" class=\"data row2 col0\" >Gradient Boosting Regressor</td>\n",
       "      <td id=\"T_3d80f_row2_col1\" class=\"data row2 col1\" >961.1828</td>\n",
       "      <td id=\"T_3d80f_row2_col2\" class=\"data row2 col2\" >3706978.6876</td>\n",
       "      <td id=\"T_3d80f_row2_col3\" class=\"data row2 col3\" >1924.5037</td>\n",
       "      <td id=\"T_3d80f_row2_col4\" class=\"data row2 col4\" >0.9644</td>\n",
       "      <td id=\"T_3d80f_row2_col5\" class=\"data row2 col5\" >0.1070</td>\n",
       "      <td id=\"T_3d80f_row2_col6\" class=\"data row2 col6\" >0.0808</td>\n",
       "      <td id=\"T_3d80f_row2_col7\" class=\"data row2 col7\" >0.0850</td>\n",
       "    </tr>\n",
       "    <tr>\n",
       "      <th id=\"T_3d80f_level0_row3\" class=\"row_heading level0 row3\" >rf</th>\n",
       "      <td id=\"T_3d80f_row3_col0\" class=\"data row3 col0\" >Random Forest Regressor</td>\n",
       "      <td id=\"T_3d80f_row3_col1\" class=\"data row3 col1\" >844.0056</td>\n",
       "      <td id=\"T_3d80f_row3_col2\" class=\"data row3 col2\" >3719851.6818</td>\n",
       "      <td id=\"T_3d80f_row3_col3\" class=\"data row3 col3\" >1927.1235</td>\n",
       "      <td id=\"T_3d80f_row3_col4\" class=\"data row3 col4\" >0.9643</td>\n",
       "      <td id=\"T_3d80f_row3_col5\" class=\"data row3 col5\" >0.0879</td>\n",
       "      <td id=\"T_3d80f_row3_col6\" class=\"data row3 col6\" >0.0634</td>\n",
       "      <td id=\"T_3d80f_row3_col7\" class=\"data row3 col7\" >0.3550</td>\n",
       "    </tr>\n",
       "    <tr>\n",
       "      <th id=\"T_3d80f_level0_row4\" class=\"row_heading level0 row4\" >lightgbm</th>\n",
       "      <td id=\"T_3d80f_row4_col0\" class=\"data row4 col0\" >Light Gradient Boosting Machine</td>\n",
       "      <td id=\"T_3d80f_row4_col1\" class=\"data row4 col1\" >875.5905</td>\n",
       "      <td id=\"T_3d80f_row4_col2\" class=\"data row4 col2\" >3913796.8272</td>\n",
       "      <td id=\"T_3d80f_row4_col3\" class=\"data row4 col3\" >1978.2357</td>\n",
       "      <td id=\"T_3d80f_row4_col4\" class=\"data row4 col4\" >0.9624</td>\n",
       "      <td id=\"T_3d80f_row4_col5\" class=\"data row4 col5\" >0.0881</td>\n",
       "      <td id=\"T_3d80f_row4_col6\" class=\"data row4 col6\" >0.0638</td>\n",
       "      <td id=\"T_3d80f_row4_col7\" class=\"data row4 col7\" >0.0450</td>\n",
       "    </tr>\n",
       "    <tr>\n",
       "      <th id=\"T_3d80f_level0_row5\" class=\"row_heading level0 row5\" >dt</th>\n",
       "      <td id=\"T_3d80f_row5_col0\" class=\"data row5 col0\" >Decision Tree Regressor</td>\n",
       "      <td id=\"T_3d80f_row5_col1\" class=\"data row5 col1\" >1104.0932</td>\n",
       "      <td id=\"T_3d80f_row5_col2\" class=\"data row5 col2\" >6278546.7221</td>\n",
       "      <td id=\"T_3d80f_row5_col3\" class=\"data row5 col3\" >2501.8293</td>\n",
       "      <td id=\"T_3d80f_row5_col4\" class=\"data row5 col4\" >0.9396</td>\n",
       "      <td id=\"T_3d80f_row5_col5\" class=\"data row5 col5\" >0.1190</td>\n",
       "      <td id=\"T_3d80f_row5_col6\" class=\"data row5 col6\" >0.0849</td>\n",
       "      <td id=\"T_3d80f_row5_col7\" class=\"data row5 col7\" >0.0150</td>\n",
       "    </tr>\n",
       "    <tr>\n",
       "      <th id=\"T_3d80f_level0_row6\" class=\"row_heading level0 row6\" >ridge</th>\n",
       "      <td id=\"T_3d80f_row6_col0\" class=\"data row6 col0\" >Ridge Regression</td>\n",
       "      <td id=\"T_3d80f_row6_col1\" class=\"data row6 col1\" >2510.5747</td>\n",
       "      <td id=\"T_3d80f_row6_col2\" class=\"data row6 col2\" >15024372.8903</td>\n",
       "      <td id=\"T_3d80f_row6_col3\" class=\"data row6 col3\" >3875.5541</td>\n",
       "      <td id=\"T_3d80f_row6_col4\" class=\"data row6 col4\" >0.8558</td>\n",
       "      <td id=\"T_3d80f_row6_col5\" class=\"data row6 col5\" >0.6468</td>\n",
       "      <td id=\"T_3d80f_row6_col6\" class=\"data row6 col6\" >0.2995</td>\n",
       "      <td id=\"T_3d80f_row6_col7\" class=\"data row6 col7\" >0.0100</td>\n",
       "    </tr>\n",
       "    <tr>\n",
       "      <th id=\"T_3d80f_level0_row7\" class=\"row_heading level0 row7\" >llar</th>\n",
       "      <td id=\"T_3d80f_row7_col0\" class=\"data row7 col0\" >Lasso Least Angle Regression</td>\n",
       "      <td id=\"T_3d80f_row7_col1\" class=\"data row7 col1\" >2464.1477</td>\n",
       "      <td id=\"T_3d80f_row7_col2\" class=\"data row7 col2\" >15118747.8487</td>\n",
       "      <td id=\"T_3d80f_row7_col3\" class=\"data row7 col3\" >3888.2280</td>\n",
       "      <td id=\"T_3d80f_row7_col4\" class=\"data row7 col4\" >0.8548</td>\n",
       "      <td id=\"T_3d80f_row7_col5\" class=\"data row7 col5\" >0.6588</td>\n",
       "      <td id=\"T_3d80f_row7_col6\" class=\"data row7 col6\" >0.2877</td>\n",
       "      <td id=\"T_3d80f_row7_col7\" class=\"data row7 col7\" >0.0150</td>\n",
       "    </tr>\n",
       "    <tr>\n",
       "      <th id=\"T_3d80f_level0_row8\" class=\"row_heading level0 row8\" >lasso</th>\n",
       "      <td id=\"T_3d80f_row8_col0\" class=\"data row8 col0\" >Lasso Regression</td>\n",
       "      <td id=\"T_3d80f_row8_col1\" class=\"data row8 col1\" >2507.7848</td>\n",
       "      <td id=\"T_3d80f_row8_col2\" class=\"data row8 col2\" >15133841.0724</td>\n",
       "      <td id=\"T_3d80f_row8_col3\" class=\"data row8 col3\" >3890.1915</td>\n",
       "      <td id=\"T_3d80f_row8_col4\" class=\"data row8 col4\" >0.8547</td>\n",
       "      <td id=\"T_3d80f_row8_col5\" class=\"data row8 col5\" >0.6600</td>\n",
       "      <td id=\"T_3d80f_row8_col6\" class=\"data row8 col6\" >0.2985</td>\n",
       "      <td id=\"T_3d80f_row8_col7\" class=\"data row8 col7\" >0.0150</td>\n",
       "    </tr>\n",
       "    <tr>\n",
       "      <th id=\"T_3d80f_level0_row9\" class=\"row_heading level0 row9\" >lr</th>\n",
       "      <td id=\"T_3d80f_row9_col0\" class=\"data row9 col0\" >Linear Regression</td>\n",
       "      <td id=\"T_3d80f_row9_col1\" class=\"data row9 col1\" >2510.0621</td>\n",
       "      <td id=\"T_3d80f_row9_col2\" class=\"data row9 col2\" >15139038.5164</td>\n",
       "      <td id=\"T_3d80f_row9_col3\" class=\"data row9 col3\" >3890.8870</td>\n",
       "      <td id=\"T_3d80f_row9_col4\" class=\"data row9 col4\" >0.8546</td>\n",
       "      <td id=\"T_3d80f_row9_col5\" class=\"data row9 col5\" >0.6499</td>\n",
       "      <td id=\"T_3d80f_row9_col6\" class=\"data row9 col6\" >0.2991</td>\n",
       "      <td id=\"T_3d80f_row9_col7\" class=\"data row9 col7\" >0.0100</td>\n",
       "    </tr>\n",
       "    <tr>\n",
       "      <th id=\"T_3d80f_level0_row10\" class=\"row_heading level0 row10\" >br</th>\n",
       "      <td id=\"T_3d80f_row10_col0\" class=\"data row10 col0\" >Bayesian Ridge</td>\n",
       "      <td id=\"T_3d80f_row10_col1\" class=\"data row10 col1\" >2511.5712</td>\n",
       "      <td id=\"T_3d80f_row10_col2\" class=\"data row10 col2\" >15165768.6588</td>\n",
       "      <td id=\"T_3d80f_row10_col3\" class=\"data row10 col3\" >3894.1794</td>\n",
       "      <td id=\"T_3d80f_row10_col4\" class=\"data row10 col4\" >0.8544</td>\n",
       "      <td id=\"T_3d80f_row10_col5\" class=\"data row10 col5\" >0.6543</td>\n",
       "      <td id=\"T_3d80f_row10_col6\" class=\"data row10 col6\" >0.2992</td>\n",
       "      <td id=\"T_3d80f_row10_col7\" class=\"data row10 col7\" >0.0100</td>\n",
       "    </tr>\n",
       "    <tr>\n",
       "      <th id=\"T_3d80f_level0_row11\" class=\"row_heading level0 row11\" >huber</th>\n",
       "      <td id=\"T_3d80f_row11_col0\" class=\"data row11 col0\" >Huber Regressor</td>\n",
       "      <td id=\"T_3d80f_row11_col1\" class=\"data row11 col1\" >1992.4192</td>\n",
       "      <td id=\"T_3d80f_row11_col2\" class=\"data row11 col2\" >19627998.2443</td>\n",
       "      <td id=\"T_3d80f_row11_col3\" class=\"data row11 col3\" >4428.8215</td>\n",
       "      <td id=\"T_3d80f_row11_col4\" class=\"data row11 col4\" >0.8117</td>\n",
       "      <td id=\"T_3d80f_row11_col5\" class=\"data row11 col5\" >0.4241</td>\n",
       "      <td id=\"T_3d80f_row11_col6\" class=\"data row11 col6\" >0.1712</td>\n",
       "      <td id=\"T_3d80f_row11_col7\" class=\"data row11 col7\" >0.0500</td>\n",
       "    </tr>\n",
       "    <tr>\n",
       "      <th id=\"T_3d80f_level0_row12\" class=\"row_heading level0 row12\" >par</th>\n",
       "      <td id=\"T_3d80f_row12_col0\" class=\"data row12 col0\" >Passive Aggressive Regressor</td>\n",
       "      <td id=\"T_3d80f_row12_col1\" class=\"data row12 col1\" >1999.5818</td>\n",
       "      <td id=\"T_3d80f_row12_col2\" class=\"data row12 col2\" >21384269.9814</td>\n",
       "      <td id=\"T_3d80f_row12_col3\" class=\"data row12 col3\" >4621.8093</td>\n",
       "      <td id=\"T_3d80f_row12_col4\" class=\"data row12 col4\" >0.7948</td>\n",
       "      <td id=\"T_3d80f_row12_col5\" class=\"data row12 col5\" >0.4095</td>\n",
       "      <td id=\"T_3d80f_row12_col6\" class=\"data row12 col6\" >0.1615</td>\n",
       "      <td id=\"T_3d80f_row12_col7\" class=\"data row12 col7\" >0.0250</td>\n",
       "    </tr>\n",
       "    <tr>\n",
       "      <th id=\"T_3d80f_level0_row13\" class=\"row_heading level0 row13\" >ada</th>\n",
       "      <td id=\"T_3d80f_row13_col0\" class=\"data row13 col0\" >AdaBoost Regressor</td>\n",
       "      <td id=\"T_3d80f_row13_col1\" class=\"data row13 col1\" >4149.4571</td>\n",
       "      <td id=\"T_3d80f_row13_col2\" class=\"data row13 col2\" >24036407.8133</td>\n",
       "      <td id=\"T_3d80f_row13_col3\" class=\"data row13 col3\" >4901.1160</td>\n",
       "      <td id=\"T_3d80f_row13_col4\" class=\"data row13 col4\" >0.7693</td>\n",
       "      <td id=\"T_3d80f_row13_col5\" class=\"data row13 col5\" >0.4898</td>\n",
       "      <td id=\"T_3d80f_row13_col6\" class=\"data row13 col6\" >0.5663</td>\n",
       "      <td id=\"T_3d80f_row13_col7\" class=\"data row13 col7\" >0.0850</td>\n",
       "    </tr>\n",
       "    <tr>\n",
       "      <th id=\"T_3d80f_level0_row14\" class=\"row_heading level0 row14\" >omp</th>\n",
       "      <td id=\"T_3d80f_row14_col0\" class=\"data row14 col0\" >Orthogonal Matching Pursuit</td>\n",
       "      <td id=\"T_3d80f_row14_col1\" class=\"data row14 col1\" >2924.7910</td>\n",
       "      <td id=\"T_3d80f_row14_col2\" class=\"data row14 col2\" >24844246.1624</td>\n",
       "      <td id=\"T_3d80f_row14_col3\" class=\"data row14 col3\" >4983.0076</td>\n",
       "      <td id=\"T_3d80f_row14_col4\" class=\"data row14 col4\" >0.7616</td>\n",
       "      <td id=\"T_3d80f_row14_col5\" class=\"data row14 col5\" >0.4338</td>\n",
       "      <td id=\"T_3d80f_row14_col6\" class=\"data row14 col6\" >0.2728</td>\n",
       "      <td id=\"T_3d80f_row14_col7\" class=\"data row14 col7\" >0.0100</td>\n",
       "    </tr>\n",
       "    <tr>\n",
       "      <th id=\"T_3d80f_level0_row15\" class=\"row_heading level0 row15\" >knn</th>\n",
       "      <td id=\"T_3d80f_row15_col0\" class=\"data row15 col0\" >K Neighbors Regressor</td>\n",
       "      <td id=\"T_3d80f_row15_col1\" class=\"data row15 col1\" >3548.7164</td>\n",
       "      <td id=\"T_3d80f_row15_col2\" class=\"data row15 col2\" >34252584.2253</td>\n",
       "      <td id=\"T_3d80f_row15_col3\" class=\"data row15 col3\" >5852.4797</td>\n",
       "      <td id=\"T_3d80f_row15_col4\" class=\"data row15 col4\" >0.6711</td>\n",
       "      <td id=\"T_3d80f_row15_col5\" class=\"data row15 col5\" >0.4151</td>\n",
       "      <td id=\"T_3d80f_row15_col6\" class=\"data row15 col6\" >0.3443</td>\n",
       "      <td id=\"T_3d80f_row15_col7\" class=\"data row15 col7\" >0.0700</td>\n",
       "    </tr>\n",
       "    <tr>\n",
       "      <th id=\"T_3d80f_level0_row16\" class=\"row_heading level0 row16\" >en</th>\n",
       "      <td id=\"T_3d80f_row16_col0\" class=\"data row16 col0\" >Elastic Net</td>\n",
       "      <td id=\"T_3d80f_row16_col1\" class=\"data row16 col1\" >5098.1613</td>\n",
       "      <td id=\"T_3d80f_row16_col2\" class=\"data row16 col2\" >58227760.1788</td>\n",
       "      <td id=\"T_3d80f_row16_col3\" class=\"data row16 col3\" >7629.7092</td>\n",
       "      <td id=\"T_3d80f_row16_col4\" class=\"data row16 col4\" >0.4411</td>\n",
       "      <td id=\"T_3d80f_row16_col5\" class=\"data row16 col5\" >0.5405</td>\n",
       "      <td id=\"T_3d80f_row16_col6\" class=\"data row16 col6\" >0.5882</td>\n",
       "      <td id=\"T_3d80f_row16_col7\" class=\"data row16 col7\" >0.0100</td>\n",
       "    </tr>\n",
       "    <tr>\n",
       "      <th id=\"T_3d80f_level0_row17\" class=\"row_heading level0 row17\" >dummy</th>\n",
       "      <td id=\"T_3d80f_row17_col0\" class=\"data row17 col0\" >Dummy Regressor</td>\n",
       "      <td id=\"T_3d80f_row17_col1\" class=\"data row17 col1\" >7375.2834</td>\n",
       "      <td id=\"T_3d80f_row17_col2\" class=\"data row17 col2\" >104149277.8287</td>\n",
       "      <td id=\"T_3d80f_row17_col3\" class=\"data row17 col3\" >10204.9709</td>\n",
       "      <td id=\"T_3d80f_row17_col4\" class=\"data row17 col4\" >-0.0000</td>\n",
       "      <td id=\"T_3d80f_row17_col5\" class=\"data row17 col5\" >0.7639</td>\n",
       "      <td id=\"T_3d80f_row17_col6\" class=\"data row17 col6\" >0.9030</td>\n",
       "      <td id=\"T_3d80f_row17_col7\" class=\"data row17 col7\" >0.0100</td>\n",
       "    </tr>\n",
       "    <tr>\n",
       "      <th id=\"T_3d80f_level0_row18\" class=\"row_heading level0 row18\" >lar</th>\n",
       "      <td id=\"T_3d80f_row18_col0\" class=\"data row18 col0\" >Least Angle Regression</td>\n",
       "      <td id=\"T_3d80f_row18_col1\" class=\"data row18 col1\" >8376.5467</td>\n",
       "      <td id=\"T_3d80f_row18_col2\" class=\"data row18 col2\" >137085226.7160</td>\n",
       "      <td id=\"T_3d80f_row18_col3\" class=\"data row18 col3\" >9990.3792</td>\n",
       "      <td id=\"T_3d80f_row18_col4\" class=\"data row18 col4\" >-0.2963</td>\n",
       "      <td id=\"T_3d80f_row18_col5\" class=\"data row18 col5\" >0.8936</td>\n",
       "      <td id=\"T_3d80f_row18_col6\" class=\"data row18 col6\" >1.1206</td>\n",
       "      <td id=\"T_3d80f_row18_col7\" class=\"data row18 col7\" >0.0150</td>\n",
       "    </tr>\n",
       "  </tbody>\n",
       "</table>\n"
      ],
      "text/plain": [
       "<pandas.io.formats.style.Styler at 0x7f478eb4d3a0>"
      ]
     },
     "metadata": {},
     "output_type": "display_data"
    },
    {
     "data": {
      "text/plain": [
       "XGBRegressor(base_score=0.5, booster='gbtree', colsample_bylevel=1,\n",
       "             colsample_bynode=1, colsample_bytree=1, enable_categorical=False,\n",
       "             gamma=0, gpu_id=-1, importance_type=None,\n",
       "             interaction_constraints='', learning_rate=0.300000012,\n",
       "             max_delta_step=0, max_depth=6, min_child_weight=1, missing=nan,\n",
       "             monotone_constraints='()', n_estimators=100, n_jobs=-1,\n",
       "             num_parallel_tree=1, objective='reg:squarederror',\n",
       "             predictor='auto', random_state=1, reg_alpha=0, reg_lambda=1,\n",
       "             scale_pos_weight=1, subsample=1, tree_method='auto',\n",
       "             validate_parameters=1, verbosity=0)"
      ]
     },
     "execution_count": 38,
     "metadata": {},
     "output_type": "execute_result"
    }
   ],
   "source": [
    "reg.compare_models(fold=2)"
   ]
  },
  {
   "cell_type": "markdown",
   "id": "425f56c6-7c73-47ec-a986-003704b48fa7",
   "metadata": {
    "jp-MarkdownHeadingCollapsed": true,
    "tags": []
   },
   "source": [
    "## Create selected models"
   ]
  },
  {
   "cell_type": "code",
   "execution_count": 41,
   "id": "c06bfa66-4150-44b7-9b58-d22804119920",
   "metadata": {},
   "outputs": [
    {
     "data": {
      "text/html": [
       "<style type=\"text/css\">\n",
       "#T_acd62_row10_col0, #T_acd62_row10_col1, #T_acd62_row10_col2, #T_acd62_row10_col3, #T_acd62_row10_col4, #T_acd62_row10_col5 {\n",
       "  background: yellow;\n",
       "}\n",
       "</style>\n",
       "<table id=\"T_acd62_\">\n",
       "  <thead>\n",
       "    <tr>\n",
       "      <th class=\"blank level0\" >&nbsp;</th>\n",
       "      <th class=\"col_heading level0 col0\" >MAE</th>\n",
       "      <th class=\"col_heading level0 col1\" >MSE</th>\n",
       "      <th class=\"col_heading level0 col2\" >RMSE</th>\n",
       "      <th class=\"col_heading level0 col3\" >R2</th>\n",
       "      <th class=\"col_heading level0 col4\" >RMSLE</th>\n",
       "      <th class=\"col_heading level0 col5\" >MAPE</th>\n",
       "    </tr>\n",
       "  </thead>\n",
       "  <tbody>\n",
       "    <tr>\n",
       "      <th id=\"T_acd62_level0_row0\" class=\"row_heading level0 row0\" >0</th>\n",
       "      <td id=\"T_acd62_row0_col0\" class=\"data row0 col0\" >819.7131</td>\n",
       "      <td id=\"T_acd62_row0_col1\" class=\"data row0 col1\" >5226390.2203</td>\n",
       "      <td id=\"T_acd62_row0_col2\" class=\"data row0 col2\" >2286.1300</td>\n",
       "      <td id=\"T_acd62_row0_col3\" class=\"data row0 col3\" >0.9587</td>\n",
       "      <td id=\"T_acd62_row0_col4\" class=\"data row0 col4\" >0.0759</td>\n",
       "      <td id=\"T_acd62_row0_col5\" class=\"data row0 col5\" >0.0557</td>\n",
       "    </tr>\n",
       "    <tr>\n",
       "      <th id=\"T_acd62_level0_row1\" class=\"row_heading level0 row1\" >1</th>\n",
       "      <td id=\"T_acd62_row1_col0\" class=\"data row1 col0\" >726.7474</td>\n",
       "      <td id=\"T_acd62_row1_col1\" class=\"data row1 col1\" >1813142.5767</td>\n",
       "      <td id=\"T_acd62_row1_col2\" class=\"data row1 col2\" >1346.5298</td>\n",
       "      <td id=\"T_acd62_row1_col3\" class=\"data row1 col3\" >0.9805</td>\n",
       "      <td id=\"T_acd62_row1_col4\" class=\"data row1 col4\" >0.0862</td>\n",
       "      <td id=\"T_acd62_row1_col5\" class=\"data row1 col5\" >0.0603</td>\n",
       "    </tr>\n",
       "    <tr>\n",
       "      <th id=\"T_acd62_level0_row2\" class=\"row_heading level0 row2\" >2</th>\n",
       "      <td id=\"T_acd62_row2_col0\" class=\"data row2 col0\" >678.8696</td>\n",
       "      <td id=\"T_acd62_row2_col1\" class=\"data row2 col1\" >1606613.9362</td>\n",
       "      <td id=\"T_acd62_row2_col2\" class=\"data row2 col2\" >1267.5228</td>\n",
       "      <td id=\"T_acd62_row2_col3\" class=\"data row2 col3\" >0.9826</td>\n",
       "      <td id=\"T_acd62_row2_col4\" class=\"data row2 col4\" >0.0704</td>\n",
       "      <td id=\"T_acd62_row2_col5\" class=\"data row2 col5\" >0.0533</td>\n",
       "    </tr>\n",
       "    <tr>\n",
       "      <th id=\"T_acd62_level0_row3\" class=\"row_heading level0 row3\" >3</th>\n",
       "      <td id=\"T_acd62_row3_col0\" class=\"data row3 col0\" >749.9280</td>\n",
       "      <td id=\"T_acd62_row3_col1\" class=\"data row3 col1\" >2026524.5136</td>\n",
       "      <td id=\"T_acd62_row3_col2\" class=\"data row3 col2\" >1423.5605</td>\n",
       "      <td id=\"T_acd62_row3_col3\" class=\"data row3 col3\" >0.9793</td>\n",
       "      <td id=\"T_acd62_row3_col4\" class=\"data row3 col4\" >0.0776</td>\n",
       "      <td id=\"T_acd62_row3_col5\" class=\"data row3 col5\" >0.0592</td>\n",
       "    </tr>\n",
       "    <tr>\n",
       "      <th id=\"T_acd62_level0_row4\" class=\"row_heading level0 row4\" >4</th>\n",
       "      <td id=\"T_acd62_row4_col0\" class=\"data row4 col0\" >758.4384</td>\n",
       "      <td id=\"T_acd62_row4_col1\" class=\"data row4 col1\" >3087541.8524</td>\n",
       "      <td id=\"T_acd62_row4_col2\" class=\"data row4 col2\" >1757.1402</td>\n",
       "      <td id=\"T_acd62_row4_col3\" class=\"data row4 col3\" >0.9697</td>\n",
       "      <td id=\"T_acd62_row4_col4\" class=\"data row4 col4\" >0.0764</td>\n",
       "      <td id=\"T_acd62_row4_col5\" class=\"data row4 col5\" >0.0534</td>\n",
       "    </tr>\n",
       "    <tr>\n",
       "      <th id=\"T_acd62_level0_row5\" class=\"row_heading level0 row5\" >5</th>\n",
       "      <td id=\"T_acd62_row5_col0\" class=\"data row5 col0\" >798.8683</td>\n",
       "      <td id=\"T_acd62_row5_col1\" class=\"data row5 col1\" >3414721.8222</td>\n",
       "      <td id=\"T_acd62_row5_col2\" class=\"data row5 col2\" >1847.8966</td>\n",
       "      <td id=\"T_acd62_row5_col3\" class=\"data row5 col3\" >0.9664</td>\n",
       "      <td id=\"T_acd62_row5_col4\" class=\"data row5 col4\" >0.0798</td>\n",
       "      <td id=\"T_acd62_row5_col5\" class=\"data row5 col5\" >0.0552</td>\n",
       "    </tr>\n",
       "    <tr>\n",
       "      <th id=\"T_acd62_level0_row6\" class=\"row_heading level0 row6\" >6</th>\n",
       "      <td id=\"T_acd62_row6_col0\" class=\"data row6 col0\" >814.6627</td>\n",
       "      <td id=\"T_acd62_row6_col1\" class=\"data row6 col1\" >2813097.8239</td>\n",
       "      <td id=\"T_acd62_row6_col2\" class=\"data row6 col2\" >1677.2292</td>\n",
       "      <td id=\"T_acd62_row6_col3\" class=\"data row6 col3\" >0.9759</td>\n",
       "      <td id=\"T_acd62_row6_col4\" class=\"data row6 col4\" >0.0778</td>\n",
       "      <td id=\"T_acd62_row6_col5\" class=\"data row6 col5\" >0.0581</td>\n",
       "    </tr>\n",
       "    <tr>\n",
       "      <th id=\"T_acd62_level0_row7\" class=\"row_heading level0 row7\" >7</th>\n",
       "      <td id=\"T_acd62_row7_col0\" class=\"data row7 col0\" >640.4804</td>\n",
       "      <td id=\"T_acd62_row7_col1\" class=\"data row7 col1\" >1729378.4640</td>\n",
       "      <td id=\"T_acd62_row7_col2\" class=\"data row7 col2\" >1315.0584</td>\n",
       "      <td id=\"T_acd62_row7_col3\" class=\"data row7 col3\" >0.9834</td>\n",
       "      <td id=\"T_acd62_row7_col4\" class=\"data row7 col4\" >0.0671</td>\n",
       "      <td id=\"T_acd62_row7_col5\" class=\"data row7 col5\" >0.0510</td>\n",
       "    </tr>\n",
       "    <tr>\n",
       "      <th id=\"T_acd62_level0_row8\" class=\"row_heading level0 row8\" >8</th>\n",
       "      <td id=\"T_acd62_row8_col0\" class=\"data row8 col0\" >795.6116</td>\n",
       "      <td id=\"T_acd62_row8_col1\" class=\"data row8 col1\" >5712935.2728</td>\n",
       "      <td id=\"T_acd62_row8_col2\" class=\"data row8 col2\" >2390.1747</td>\n",
       "      <td id=\"T_acd62_row8_col3\" class=\"data row8 col3\" >0.9504</td>\n",
       "      <td id=\"T_acd62_row8_col4\" class=\"data row8 col4\" >0.0804</td>\n",
       "      <td id=\"T_acd62_row8_col5\" class=\"data row8 col5\" >0.0556</td>\n",
       "    </tr>\n",
       "    <tr>\n",
       "      <th id=\"T_acd62_level0_row9\" class=\"row_heading level0 row9\" >9</th>\n",
       "      <td id=\"T_acd62_row9_col0\" class=\"data row9 col0\" >726.5343</td>\n",
       "      <td id=\"T_acd62_row9_col1\" class=\"data row9 col1\" >2457014.6766</td>\n",
       "      <td id=\"T_acd62_row9_col2\" class=\"data row9 col2\" >1567.4867</td>\n",
       "      <td id=\"T_acd62_row9_col3\" class=\"data row9 col3\" >0.9729</td>\n",
       "      <td id=\"T_acd62_row9_col4\" class=\"data row9 col4\" >0.0784</td>\n",
       "      <td id=\"T_acd62_row9_col5\" class=\"data row9 col5\" >0.0577</td>\n",
       "    </tr>\n",
       "    <tr>\n",
       "      <th id=\"T_acd62_level0_row10\" class=\"row_heading level0 row10\" >Mean</th>\n",
       "      <td id=\"T_acd62_row10_col0\" class=\"data row10 col0\" >750.9854</td>\n",
       "      <td id=\"T_acd62_row10_col1\" class=\"data row10 col1\" >2988736.1159</td>\n",
       "      <td id=\"T_acd62_row10_col2\" class=\"data row10 col2\" >1687.8729</td>\n",
       "      <td id=\"T_acd62_row10_col3\" class=\"data row10 col3\" >0.9720</td>\n",
       "      <td id=\"T_acd62_row10_col4\" class=\"data row10 col4\" >0.0770</td>\n",
       "      <td id=\"T_acd62_row10_col5\" class=\"data row10 col5\" >0.0560</td>\n",
       "    </tr>\n",
       "    <tr>\n",
       "      <th id=\"T_acd62_level0_row11\" class=\"row_heading level0 row11\" >SD</th>\n",
       "      <td id=\"T_acd62_row11_col0\" class=\"data row11 col0\" >56.3175</td>\n",
       "      <td id=\"T_acd62_row11_col1\" class=\"data row11 col1\" >1368841.6484</td>\n",
       "      <td id=\"T_acd62_row11_col2\" class=\"data row11 col2\" >373.9267</td>\n",
       "      <td id=\"T_acd62_row11_col3\" class=\"data row11 col3\" >0.0103</td>\n",
       "      <td id=\"T_acd62_row11_col4\" class=\"data row11 col4\" >0.0050</td>\n",
       "      <td id=\"T_acd62_row11_col5\" class=\"data row11 col5\" >0.0028</td>\n",
       "    </tr>\n",
       "  </tbody>\n",
       "</table>\n"
      ],
      "text/plain": [
       "<pandas.io.formats.style.Styler at 0x7f478eb40f70>"
      ]
     },
     "metadata": {},
     "output_type": "display_data"
    }
   ],
   "source": [
    "lightgbm = reg.create_model('lightgbm')"
   ]
  },
  {
   "cell_type": "code",
   "execution_count": 42,
   "id": "eacb2a3b-3faf-47dc-8572-673d9e795fc5",
   "metadata": {},
   "outputs": [
    {
     "data": {
      "text/html": [
       "<style type=\"text/css\">\n",
       "#T_87318_row10_col0, #T_87318_row10_col1, #T_87318_row10_col2, #T_87318_row10_col3, #T_87318_row10_col4, #T_87318_row10_col5 {\n",
       "  background: yellow;\n",
       "}\n",
       "</style>\n",
       "<table id=\"T_87318_\">\n",
       "  <thead>\n",
       "    <tr>\n",
       "      <th class=\"blank level0\" >&nbsp;</th>\n",
       "      <th class=\"col_heading level0 col0\" >MAE</th>\n",
       "      <th class=\"col_heading level0 col1\" >MSE</th>\n",
       "      <th class=\"col_heading level0 col2\" >RMSE</th>\n",
       "      <th class=\"col_heading level0 col3\" >R2</th>\n",
       "      <th class=\"col_heading level0 col4\" >RMSLE</th>\n",
       "      <th class=\"col_heading level0 col5\" >MAPE</th>\n",
       "    </tr>\n",
       "  </thead>\n",
       "  <tbody>\n",
       "    <tr>\n",
       "      <th id=\"T_87318_level0_row0\" class=\"row_heading level0 row0\" >0</th>\n",
       "      <td id=\"T_87318_row0_col0\" class=\"data row0 col0\" >1180.2588</td>\n",
       "      <td id=\"T_87318_row0_col1\" class=\"data row0 col1\" >7515806.6978</td>\n",
       "      <td id=\"T_87318_row0_col2\" class=\"data row0 col2\" >2741.4972</td>\n",
       "      <td id=\"T_87318_row0_col3\" class=\"data row0 col3\" >0.9407</td>\n",
       "      <td id=\"T_87318_row0_col4\" class=\"data row0 col4\" >0.1140</td>\n",
       "      <td id=\"T_87318_row0_col5\" class=\"data row0 col5\" >0.0836</td>\n",
       "    </tr>\n",
       "    <tr>\n",
       "      <th id=\"T_87318_level0_row1\" class=\"row_heading level0 row1\" >1</th>\n",
       "      <td id=\"T_87318_row1_col0\" class=\"data row1 col0\" >877.1209</td>\n",
       "      <td id=\"T_87318_row1_col1\" class=\"data row1 col1\" >2601959.1639</td>\n",
       "      <td id=\"T_87318_row1_col2\" class=\"data row1 col2\" >1613.0589</td>\n",
       "      <td id=\"T_87318_row1_col3\" class=\"data row1 col3\" >0.9720</td>\n",
       "      <td id=\"T_87318_row1_col4\" class=\"data row1 col4\" >0.1024</td>\n",
       "      <td id=\"T_87318_row1_col5\" class=\"data row1 col5\" >0.0741</td>\n",
       "    </tr>\n",
       "    <tr>\n",
       "      <th id=\"T_87318_level0_row2\" class=\"row_heading level0 row2\" >2</th>\n",
       "      <td id=\"T_87318_row2_col0\" class=\"data row2 col0\" >926.3010</td>\n",
       "      <td id=\"T_87318_row2_col1\" class=\"data row2 col1\" >3620165.9118</td>\n",
       "      <td id=\"T_87318_row2_col2\" class=\"data row2 col2\" >1902.6734</td>\n",
       "      <td id=\"T_87318_row2_col3\" class=\"data row2 col3\" >0.9608</td>\n",
       "      <td id=\"T_87318_row2_col4\" class=\"data row2 col4\" >0.1066</td>\n",
       "      <td id=\"T_87318_row2_col5\" class=\"data row2 col5\" >0.0752</td>\n",
       "    </tr>\n",
       "    <tr>\n",
       "      <th id=\"T_87318_level0_row3\" class=\"row_heading level0 row3\" >3</th>\n",
       "      <td id=\"T_87318_row3_col0\" class=\"data row3 col0\" >1103.5024</td>\n",
       "      <td id=\"T_87318_row3_col1\" class=\"data row3 col1\" >4394142.9132</td>\n",
       "      <td id=\"T_87318_row3_col2\" class=\"data row3 col2\" >2096.2211</td>\n",
       "      <td id=\"T_87318_row3_col3\" class=\"data row3 col3\" >0.9550</td>\n",
       "      <td id=\"T_87318_row3_col4\" class=\"data row3 col4\" >0.1124</td>\n",
       "      <td id=\"T_87318_row3_col5\" class=\"data row3 col5\" >0.0832</td>\n",
       "    </tr>\n",
       "    <tr>\n",
       "      <th id=\"T_87318_level0_row4\" class=\"row_heading level0 row4\" >4</th>\n",
       "      <td id=\"T_87318_row4_col0\" class=\"data row4 col0\" >907.2028</td>\n",
       "      <td id=\"T_87318_row4_col1\" class=\"data row4 col1\" >3698851.9817</td>\n",
       "      <td id=\"T_87318_row4_col2\" class=\"data row4 col2\" >1923.2400</td>\n",
       "      <td id=\"T_87318_row4_col3\" class=\"data row4 col3\" >0.9637</td>\n",
       "      <td id=\"T_87318_row4_col4\" class=\"data row4 col4\" >0.1076</td>\n",
       "      <td id=\"T_87318_row4_col5\" class=\"data row4 col5\" >0.0734</td>\n",
       "    </tr>\n",
       "    <tr>\n",
       "      <th id=\"T_87318_level0_row5\" class=\"row_heading level0 row5\" >5</th>\n",
       "      <td id=\"T_87318_row5_col0\" class=\"data row5 col0\" >872.6578</td>\n",
       "      <td id=\"T_87318_row5_col1\" class=\"data row5 col1\" >2256264.8075</td>\n",
       "      <td id=\"T_87318_row5_col2\" class=\"data row5 col2\" >1502.0868</td>\n",
       "      <td id=\"T_87318_row5_col3\" class=\"data row5 col3\" >0.9778</td>\n",
       "      <td id=\"T_87318_row5_col4\" class=\"data row5 col4\" >0.1007</td>\n",
       "      <td id=\"T_87318_row5_col5\" class=\"data row5 col5\" >0.0752</td>\n",
       "    </tr>\n",
       "    <tr>\n",
       "      <th id=\"T_87318_level0_row6\" class=\"row_heading level0 row6\" >6</th>\n",
       "      <td id=\"T_87318_row6_col0\" class=\"data row6 col0\" >1120.1969</td>\n",
       "      <td id=\"T_87318_row6_col1\" class=\"data row6 col1\" >4926813.7531</td>\n",
       "      <td id=\"T_87318_row6_col2\" class=\"data row6 col2\" >2219.6427</td>\n",
       "      <td id=\"T_87318_row6_col3\" class=\"data row6 col3\" >0.9577</td>\n",
       "      <td id=\"T_87318_row6_col4\" class=\"data row6 col4\" >0.1201</td>\n",
       "      <td id=\"T_87318_row6_col5\" class=\"data row6 col5\" >0.0851</td>\n",
       "    </tr>\n",
       "    <tr>\n",
       "      <th id=\"T_87318_level0_row7\" class=\"row_heading level0 row7\" >7</th>\n",
       "      <td id=\"T_87318_row7_col0\" class=\"data row7 col0\" >1085.3404</td>\n",
       "      <td id=\"T_87318_row7_col1\" class=\"data row7 col1\" >8854864.3025</td>\n",
       "      <td id=\"T_87318_row7_col2\" class=\"data row7 col2\" >2975.7124</td>\n",
       "      <td id=\"T_87318_row7_col3\" class=\"data row7 col3\" >0.9152</td>\n",
       "      <td id=\"T_87318_row7_col4\" class=\"data row7 col4\" >0.1100</td>\n",
       "      <td id=\"T_87318_row7_col5\" class=\"data row7 col5\" >0.0792</td>\n",
       "    </tr>\n",
       "    <tr>\n",
       "      <th id=\"T_87318_level0_row8\" class=\"row_heading level0 row8\" >8</th>\n",
       "      <td id=\"T_87318_row8_col0\" class=\"data row8 col0\" >880.7451</td>\n",
       "      <td id=\"T_87318_row8_col1\" class=\"data row8 col1\" >3511094.0326</td>\n",
       "      <td id=\"T_87318_row8_col2\" class=\"data row8 col2\" >1873.7914</td>\n",
       "      <td id=\"T_87318_row8_col3\" class=\"data row8 col3\" >0.9695</td>\n",
       "      <td id=\"T_87318_row8_col4\" class=\"data row8 col4\" >0.0978</td>\n",
       "      <td id=\"T_87318_row8_col5\" class=\"data row8 col5\" >0.0735</td>\n",
       "    </tr>\n",
       "    <tr>\n",
       "      <th id=\"T_87318_level0_row9\" class=\"row_heading level0 row9\" >9</th>\n",
       "      <td id=\"T_87318_row9_col0\" class=\"data row9 col0\" >971.1127</td>\n",
       "      <td id=\"T_87318_row9_col1\" class=\"data row9 col1\" >6504720.6301</td>\n",
       "      <td id=\"T_87318_row9_col2\" class=\"data row9 col2\" >2550.4354</td>\n",
       "      <td id=\"T_87318_row9_col3\" class=\"data row9 col3\" >0.9284</td>\n",
       "      <td id=\"T_87318_row9_col4\" class=\"data row9 col4\" >0.1012</td>\n",
       "      <td id=\"T_87318_row9_col5\" class=\"data row9 col5\" >0.0726</td>\n",
       "    </tr>\n",
       "    <tr>\n",
       "      <th id=\"T_87318_level0_row10\" class=\"row_heading level0 row10\" >Mean</th>\n",
       "      <td id=\"T_87318_row10_col0\" class=\"data row10 col0\" >992.4439</td>\n",
       "      <td id=\"T_87318_row10_col1\" class=\"data row10 col1\" >4788468.4194</td>\n",
       "      <td id=\"T_87318_row10_col2\" class=\"data row10 col2\" >2139.8359</td>\n",
       "      <td id=\"T_87318_row10_col3\" class=\"data row10 col3\" >0.9541</td>\n",
       "      <td id=\"T_87318_row10_col4\" class=\"data row10 col4\" >0.1073</td>\n",
       "      <td id=\"T_87318_row10_col5\" class=\"data row10 col5\" >0.0775</td>\n",
       "    </tr>\n",
       "    <tr>\n",
       "      <th id=\"T_87318_level0_row11\" class=\"row_heading level0 row11\" >SD</th>\n",
       "      <td id=\"T_87318_row11_col0\" class=\"data row11 col0\" >111.7048</td>\n",
       "      <td id=\"T_87318_row11_col1\" class=\"data row11 col1\" >2060845.9710</td>\n",
       "      <td id=\"T_87318_row11_col2\" class=\"data row11 col2\" >457.7889</td>\n",
       "      <td id=\"T_87318_row11_col3\" class=\"data row11 col3\" >0.0191</td>\n",
       "      <td id=\"T_87318_row11_col4\" class=\"data row11 col4\" >0.0066</td>\n",
       "      <td id=\"T_87318_row11_col5\" class=\"data row11 col5\" >0.0046</td>\n",
       "    </tr>\n",
       "  </tbody>\n",
       "</table>\n"
      ],
      "text/plain": [
       "<pandas.io.formats.style.Styler at 0x7f478e9237f0>"
      ]
     },
     "metadata": {},
     "output_type": "display_data"
    }
   ],
   "source": [
    "dt = reg.create_model('dt')"
   ]
  },
  {
   "cell_type": "code",
   "execution_count": 48,
   "id": "619a8b4c-7a6f-4962-b06b-336a26520663",
   "metadata": {},
   "outputs": [
    {
     "data": {
      "text/html": [
       "<style type=\"text/css\">\n",
       "#T_1bd05_row10_col0, #T_1bd05_row10_col1, #T_1bd05_row10_col2, #T_1bd05_row10_col3, #T_1bd05_row10_col4, #T_1bd05_row10_col5 {\n",
       "  background: yellow;\n",
       "}\n",
       "</style>\n",
       "<table id=\"T_1bd05_\">\n",
       "  <thead>\n",
       "    <tr>\n",
       "      <th class=\"blank level0\" >&nbsp;</th>\n",
       "      <th class=\"col_heading level0 col0\" >MAE</th>\n",
       "      <th class=\"col_heading level0 col1\" >MSE</th>\n",
       "      <th class=\"col_heading level0 col2\" >RMSE</th>\n",
       "      <th class=\"col_heading level0 col3\" >R2</th>\n",
       "      <th class=\"col_heading level0 col4\" >RMSLE</th>\n",
       "      <th class=\"col_heading level0 col5\" >MAPE</th>\n",
       "    </tr>\n",
       "  </thead>\n",
       "  <tbody>\n",
       "    <tr>\n",
       "      <th id=\"T_1bd05_level0_row0\" class=\"row_heading level0 row0\" >0</th>\n",
       "      <td id=\"T_1bd05_row0_col0\" class=\"data row0 col0\" >2564.5523</td>\n",
       "      <td id=\"T_1bd05_row0_col1\" class=\"data row0 col1\" >23712404.8274</td>\n",
       "      <td id=\"T_1bd05_row0_col2\" class=\"data row0 col2\" >4869.5385</td>\n",
       "      <td id=\"T_1bd05_row0_col3\" class=\"data row0 col3\" >0.8128</td>\n",
       "      <td id=\"T_1bd05_row0_col4\" class=\"data row0 col4\" >0.6053</td>\n",
       "      <td id=\"T_1bd05_row0_col5\" class=\"data row0 col5\" >0.2853</td>\n",
       "    </tr>\n",
       "    <tr>\n",
       "      <th id=\"T_1bd05_level0_row1\" class=\"row_heading level0 row1\" >1</th>\n",
       "      <td id=\"T_1bd05_row1_col0\" class=\"data row1 col0\" >2364.2795</td>\n",
       "      <td id=\"T_1bd05_row1_col1\" class=\"data row1 col1\" >10635652.8935</td>\n",
       "      <td id=\"T_1bd05_row1_col2\" class=\"data row1 col2\" >3261.2349</td>\n",
       "      <td id=\"T_1bd05_row1_col3\" class=\"data row1 col3\" >0.8855</td>\n",
       "      <td id=\"T_1bd05_row1_col4\" class=\"data row1 col4\" >0.5785</td>\n",
       "      <td id=\"T_1bd05_row1_col5\" class=\"data row1 col5\" >0.3080</td>\n",
       "    </tr>\n",
       "    <tr>\n",
       "      <th id=\"T_1bd05_level0_row2\" class=\"row_heading level0 row2\" >2</th>\n",
       "      <td id=\"T_1bd05_row2_col0\" class=\"data row2 col0\" >2341.1413</td>\n",
       "      <td id=\"T_1bd05_row2_col1\" class=\"data row2 col1\" >11493577.0903</td>\n",
       "      <td id=\"T_1bd05_row2_col2\" class=\"data row2 col2\" >3390.2179</td>\n",
       "      <td id=\"T_1bd05_row2_col3\" class=\"data row2 col3\" >0.8755</td>\n",
       "      <td id=\"T_1bd05_row2_col4\" class=\"data row2 col4\" >0.5823</td>\n",
       "      <td id=\"T_1bd05_row2_col5\" class=\"data row2 col5\" >0.2899</td>\n",
       "    </tr>\n",
       "    <tr>\n",
       "      <th id=\"T_1bd05_level0_row3\" class=\"row_heading level0 row3\" >3</th>\n",
       "      <td id=\"T_1bd05_row3_col0\" class=\"data row3 col0\" >2598.1472</td>\n",
       "      <td id=\"T_1bd05_row3_col1\" class=\"data row3 col1\" >12530128.7799</td>\n",
       "      <td id=\"T_1bd05_row3_col2\" class=\"data row3 col2\" >3539.7922</td>\n",
       "      <td id=\"T_1bd05_row3_col3\" class=\"data row3 col3\" >0.8718</td>\n",
       "      <td id=\"T_1bd05_row3_col4\" class=\"data row3 col4\" >0.6870</td>\n",
       "      <td id=\"T_1bd05_row3_col5\" class=\"data row3 col5\" >0.3210</td>\n",
       "    </tr>\n",
       "    <tr>\n",
       "      <th id=\"T_1bd05_level0_row4\" class=\"row_heading level0 row4\" >4</th>\n",
       "      <td id=\"T_1bd05_row4_col0\" class=\"data row4 col0\" >2549.5950</td>\n",
       "      <td id=\"T_1bd05_row4_col1\" class=\"data row4 col1\" >14013642.4637</td>\n",
       "      <td id=\"T_1bd05_row4_col2\" class=\"data row4 col2\" >3743.4800</td>\n",
       "      <td id=\"T_1bd05_row4_col3\" class=\"data row4 col3\" >0.8627</td>\n",
       "      <td id=\"T_1bd05_row4_col4\" class=\"data row4 col4\" >0.6154</td>\n",
       "      <td id=\"T_1bd05_row4_col5\" class=\"data row4 col5\" >0.2932</td>\n",
       "    </tr>\n",
       "    <tr>\n",
       "      <th id=\"T_1bd05_level0_row5\" class=\"row_heading level0 row5\" >5</th>\n",
       "      <td id=\"T_1bd05_row5_col0\" class=\"data row5 col0\" >2575.0472</td>\n",
       "      <td id=\"T_1bd05_row5_col1\" class=\"data row5 col1\" >15986891.8037</td>\n",
       "      <td id=\"T_1bd05_row5_col2\" class=\"data row5 col2\" >3998.3611</td>\n",
       "      <td id=\"T_1bd05_row5_col3\" class=\"data row5 col3\" >0.8429</td>\n",
       "      <td id=\"T_1bd05_row5_col4\" class=\"data row5 col4\" >0.7697</td>\n",
       "      <td id=\"T_1bd05_row5_col5\" class=\"data row5 col5\" >0.3021</td>\n",
       "    </tr>\n",
       "    <tr>\n",
       "      <th id=\"T_1bd05_level0_row6\" class=\"row_heading level0 row6\" >6</th>\n",
       "      <td id=\"T_1bd05_row6_col0\" class=\"data row6 col0\" >2585.2975</td>\n",
       "      <td id=\"T_1bd05_row6_col1\" class=\"data row6 col1\" >15759587.9084</td>\n",
       "      <td id=\"T_1bd05_row6_col2\" class=\"data row6 col2\" >3969.8347</td>\n",
       "      <td id=\"T_1bd05_row6_col3\" class=\"data row6 col3\" >0.8648</td>\n",
       "      <td id=\"T_1bd05_row6_col4\" class=\"data row6 col4\" >0.5988</td>\n",
       "      <td id=\"T_1bd05_row6_col5\" class=\"data row6 col5\" >0.3064</td>\n",
       "    </tr>\n",
       "    <tr>\n",
       "      <th id=\"T_1bd05_level0_row7\" class=\"row_heading level0 row7\" >7</th>\n",
       "      <td id=\"T_1bd05_row7_col0\" class=\"data row7 col0\" >2321.2792</td>\n",
       "      <td id=\"T_1bd05_row7_col1\" class=\"data row7 col1\" >13135988.2659</td>\n",
       "      <td id=\"T_1bd05_row7_col2\" class=\"data row7 col2\" >3624.3604</td>\n",
       "      <td id=\"T_1bd05_row7_col3\" class=\"data row7 col3\" >0.8741</td>\n",
       "      <td id=\"T_1bd05_row7_col4\" class=\"data row7 col4\" >0.5808</td>\n",
       "      <td id=\"T_1bd05_row7_col5\" class=\"data row7 col5\" >0.2692</td>\n",
       "    </tr>\n",
       "    <tr>\n",
       "      <th id=\"T_1bd05_level0_row8\" class=\"row_heading level0 row8\" >8</th>\n",
       "      <td id=\"T_1bd05_row8_col0\" class=\"data row8 col0\" >2691.0154</td>\n",
       "      <td id=\"T_1bd05_row8_col1\" class=\"data row8 col1\" >19178598.7591</td>\n",
       "      <td id=\"T_1bd05_row8_col2\" class=\"data row8 col2\" >4379.3377</td>\n",
       "      <td id=\"T_1bd05_row8_col3\" class=\"data row8 col3\" >0.8336</td>\n",
       "      <td id=\"T_1bd05_row8_col4\" class=\"data row8 col4\" >0.7628</td>\n",
       "      <td id=\"T_1bd05_row8_col5\" class=\"data row8 col5\" >0.3230</td>\n",
       "    </tr>\n",
       "    <tr>\n",
       "      <th id=\"T_1bd05_level0_row9\" class=\"row_heading level0 row9\" >9</th>\n",
       "      <td id=\"T_1bd05_row9_col0\" class=\"data row9 col0\" >2388.9613</td>\n",
       "      <td id=\"T_1bd05_row9_col1\" class=\"data row9 col1\" >12870198.4658</td>\n",
       "      <td id=\"T_1bd05_row9_col2\" class=\"data row9 col2\" >3587.5059</td>\n",
       "      <td id=\"T_1bd05_row9_col3\" class=\"data row9 col3\" >0.8583</td>\n",
       "      <td id=\"T_1bd05_row9_col4\" class=\"data row9 col4\" >0.6297</td>\n",
       "      <td id=\"T_1bd05_row9_col5\" class=\"data row9 col5\" >0.2818</td>\n",
       "    </tr>\n",
       "    <tr>\n",
       "      <th id=\"T_1bd05_level0_row10\" class=\"row_heading level0 row10\" >Mean</th>\n",
       "      <td id=\"T_1bd05_row10_col0\" class=\"data row10 col0\" >2497.9316</td>\n",
       "      <td id=\"T_1bd05_row10_col1\" class=\"data row10 col1\" >14931667.1258</td>\n",
       "      <td id=\"T_1bd05_row10_col2\" class=\"data row10 col2\" >3836.3663</td>\n",
       "      <td id=\"T_1bd05_row10_col3\" class=\"data row10 col3\" >0.8582</td>\n",
       "      <td id=\"T_1bd05_row10_col4\" class=\"data row10 col4\" >0.6410</td>\n",
       "      <td id=\"T_1bd05_row10_col5\" class=\"data row10 col5\" >0.2980</td>\n",
       "    </tr>\n",
       "    <tr>\n",
       "      <th id=\"T_1bd05_level0_row11\" class=\"row_heading level0 row11\" >SD</th>\n",
       "      <td id=\"T_1bd05_row11_col0\" class=\"data row11 col0\" >123.9106</td>\n",
       "      <td id=\"T_1bd05_row11_col1\" class=\"data row11 col1\" >3758952.0815</td>\n",
       "      <td id=\"T_1bd05_row11_col2\" class=\"data row11 col2\" >462.5587</td>\n",
       "      <td id=\"T_1bd05_row11_col3\" class=\"data row11 col3\" >0.0211</td>\n",
       "      <td id=\"T_1bd05_row11_col4\" class=\"data row11 col4\" >0.0695</td>\n",
       "      <td id=\"T_1bd05_row11_col5\" class=\"data row11 col5\" >0.0164</td>\n",
       "    </tr>\n",
       "  </tbody>\n",
       "</table>\n"
      ],
      "text/plain": [
       "<pandas.io.formats.style.Styler at 0x7f478e953190>"
      ]
     },
     "metadata": {},
     "output_type": "display_data"
    }
   ],
   "source": [
    "ridge = reg.create_model('ridge')"
   ]
  },
  {
   "cell_type": "markdown",
   "id": "ee3862dd-365e-46d1-b8f0-163ff5eacfe5",
   "metadata": {
    "jp-MarkdownHeadingCollapsed": true,
    "tags": []
   },
   "source": [
    "## Tune models"
   ]
  },
  {
   "cell_type": "code",
   "execution_count": 45,
   "id": "b52aafc7-0a72-469e-8cbf-84eeb5383995",
   "metadata": {},
   "outputs": [
    {
     "data": {
      "text/html": [
       "<style type=\"text/css\">\n",
       "#T_dc670_row10_col0, #T_dc670_row10_col1, #T_dc670_row10_col2, #T_dc670_row10_col3, #T_dc670_row10_col4, #T_dc670_row10_col5 {\n",
       "  background: yellow;\n",
       "}\n",
       "</style>\n",
       "<table id=\"T_dc670_\">\n",
       "  <thead>\n",
       "    <tr>\n",
       "      <th class=\"blank level0\" >&nbsp;</th>\n",
       "      <th class=\"col_heading level0 col0\" >MAE</th>\n",
       "      <th class=\"col_heading level0 col1\" >MSE</th>\n",
       "      <th class=\"col_heading level0 col2\" >RMSE</th>\n",
       "      <th class=\"col_heading level0 col3\" >R2</th>\n",
       "      <th class=\"col_heading level0 col4\" >RMSLE</th>\n",
       "      <th class=\"col_heading level0 col5\" >MAPE</th>\n",
       "    </tr>\n",
       "  </thead>\n",
       "  <tbody>\n",
       "    <tr>\n",
       "      <th id=\"T_dc670_level0_row0\" class=\"row_heading level0 row0\" >0</th>\n",
       "      <td id=\"T_dc670_row0_col0\" class=\"data row0 col0\" >883.7661</td>\n",
       "      <td id=\"T_dc670_row0_col1\" class=\"data row0 col1\" >4116194.2430</td>\n",
       "      <td id=\"T_dc670_row0_col2\" class=\"data row0 col2\" >2028.8406</td>\n",
       "      <td id=\"T_dc670_row0_col3\" class=\"data row0 col3\" >0.9675</td>\n",
       "      <td id=\"T_dc670_row0_col4\" class=\"data row0 col4\" >0.0946</td>\n",
       "      <td id=\"T_dc670_row0_col5\" class=\"data row0 col5\" >0.0658</td>\n",
       "    </tr>\n",
       "    <tr>\n",
       "      <th id=\"T_dc670_level0_row1\" class=\"row_heading level0 row1\" >1</th>\n",
       "      <td id=\"T_dc670_row1_col0\" class=\"data row1 col0\" >791.2449</td>\n",
       "      <td id=\"T_dc670_row1_col1\" class=\"data row1 col1\" >1992894.8305</td>\n",
       "      <td id=\"T_dc670_row1_col2\" class=\"data row1 col2\" >1411.6993</td>\n",
       "      <td id=\"T_dc670_row1_col3\" class=\"data row1 col3\" >0.9785</td>\n",
       "      <td id=\"T_dc670_row1_col4\" class=\"data row1 col4\" >0.0930</td>\n",
       "      <td id=\"T_dc670_row1_col5\" class=\"data row1 col5\" >0.0656</td>\n",
       "    </tr>\n",
       "    <tr>\n",
       "      <th id=\"T_dc670_level0_row2\" class=\"row_heading level0 row2\" >2</th>\n",
       "      <td id=\"T_dc670_row2_col0\" class=\"data row2 col0\" >748.9464</td>\n",
       "      <td id=\"T_dc670_row2_col1\" class=\"data row2 col1\" >1696934.8990</td>\n",
       "      <td id=\"T_dc670_row2_col2\" class=\"data row2 col2\" >1302.6645</td>\n",
       "      <td id=\"T_dc670_row2_col3\" class=\"data row2 col3\" >0.9816</td>\n",
       "      <td id=\"T_dc670_row2_col4\" class=\"data row2 col4\" >0.0895</td>\n",
       "      <td id=\"T_dc670_row2_col5\" class=\"data row2 col5\" >0.0650</td>\n",
       "    </tr>\n",
       "    <tr>\n",
       "      <th id=\"T_dc670_level0_row3\" class=\"row_heading level0 row3\" >3</th>\n",
       "      <td id=\"T_dc670_row3_col0\" class=\"data row3 col0\" >824.7931</td>\n",
       "      <td id=\"T_dc670_row3_col1\" class=\"data row3 col1\" >1897146.9364</td>\n",
       "      <td id=\"T_dc670_row3_col2\" class=\"data row3 col2\" >1377.3696</td>\n",
       "      <td id=\"T_dc670_row3_col3\" class=\"data row3 col3\" >0.9806</td>\n",
       "      <td id=\"T_dc670_row3_col4\" class=\"data row3 col4\" >0.1019</td>\n",
       "      <td id=\"T_dc670_row3_col5\" class=\"data row3 col5\" >0.0720</td>\n",
       "    </tr>\n",
       "    <tr>\n",
       "      <th id=\"T_dc670_level0_row4\" class=\"row_heading level0 row4\" >4</th>\n",
       "      <td id=\"T_dc670_row4_col0\" class=\"data row4 col0\" >846.7398</td>\n",
       "      <td id=\"T_dc670_row4_col1\" class=\"data row4 col1\" >3287837.7731</td>\n",
       "      <td id=\"T_dc670_row4_col2\" class=\"data row4 col2\" >1813.2396</td>\n",
       "      <td id=\"T_dc670_row4_col3\" class=\"data row4 col3\" >0.9678</td>\n",
       "      <td id=\"T_dc670_row4_col4\" class=\"data row4 col4\" >0.0931</td>\n",
       "      <td id=\"T_dc670_row4_col5\" class=\"data row4 col5\" >0.0659</td>\n",
       "    </tr>\n",
       "    <tr>\n",
       "      <th id=\"T_dc670_level0_row5\" class=\"row_heading level0 row5\" >5</th>\n",
       "      <td id=\"T_dc670_row5_col0\" class=\"data row5 col0\" >868.9575</td>\n",
       "      <td id=\"T_dc670_row5_col1\" class=\"data row5 col1\" >2983141.5705</td>\n",
       "      <td id=\"T_dc670_row5_col2\" class=\"data row5 col2\" >1727.1773</td>\n",
       "      <td id=\"T_dc670_row5_col3\" class=\"data row5 col3\" >0.9707</td>\n",
       "      <td id=\"T_dc670_row5_col4\" class=\"data row5 col4\" >0.0879</td>\n",
       "      <td id=\"T_dc670_row5_col5\" class=\"data row5 col5\" >0.0677</td>\n",
       "    </tr>\n",
       "    <tr>\n",
       "      <th id=\"T_dc670_level0_row6\" class=\"row_heading level0 row6\" >6</th>\n",
       "      <td id=\"T_dc670_row6_col0\" class=\"data row6 col0\" >825.9926</td>\n",
       "      <td id=\"T_dc670_row6_col1\" class=\"data row6 col1\" >2316757.4640</td>\n",
       "      <td id=\"T_dc670_row6_col2\" class=\"data row6 col2\" >1522.0898</td>\n",
       "      <td id=\"T_dc670_row6_col3\" class=\"data row6 col3\" >0.9801</td>\n",
       "      <td id=\"T_dc670_row6_col4\" class=\"data row6 col4\" >0.0825</td>\n",
       "      <td id=\"T_dc670_row6_col5\" class=\"data row6 col5\" >0.0646</td>\n",
       "    </tr>\n",
       "    <tr>\n",
       "      <th id=\"T_dc670_level0_row7\" class=\"row_heading level0 row7\" >7</th>\n",
       "      <td id=\"T_dc670_row7_col0\" class=\"data row7 col0\" >770.7400</td>\n",
       "      <td id=\"T_dc670_row7_col1\" class=\"data row7 col1\" >1657084.0263</td>\n",
       "      <td id=\"T_dc670_row7_col2\" class=\"data row7 col2\" >1287.2778</td>\n",
       "      <td id=\"T_dc670_row7_col3\" class=\"data row7 col3\" >0.9841</td>\n",
       "      <td id=\"T_dc670_row7_col4\" class=\"data row7 col4\" >0.0880</td>\n",
       "      <td id=\"T_dc670_row7_col5\" class=\"data row7 col5\" >0.0668</td>\n",
       "    </tr>\n",
       "    <tr>\n",
       "      <th id=\"T_dc670_level0_row8\" class=\"row_heading level0 row8\" >8</th>\n",
       "      <td id=\"T_dc670_row8_col0\" class=\"data row8 col0\" >819.3008</td>\n",
       "      <td id=\"T_dc670_row8_col1\" class=\"data row8 col1\" >3582224.0383</td>\n",
       "      <td id=\"T_dc670_row8_col2\" class=\"data row8 col2\" >1892.6764</td>\n",
       "      <td id=\"T_dc670_row8_col3\" class=\"data row8 col3\" >0.9689</td>\n",
       "      <td id=\"T_dc670_row8_col4\" class=\"data row8 col4\" >0.0892</td>\n",
       "      <td id=\"T_dc670_row8_col5\" class=\"data row8 col5\" >0.0664</td>\n",
       "    </tr>\n",
       "    <tr>\n",
       "      <th id=\"T_dc670_level0_row9\" class=\"row_heading level0 row9\" >9</th>\n",
       "      <td id=\"T_dc670_row9_col0\" class=\"data row9 col0\" >781.3500</td>\n",
       "      <td id=\"T_dc670_row9_col1\" class=\"data row9 col1\" >1690087.5325</td>\n",
       "      <td id=\"T_dc670_row9_col2\" class=\"data row9 col2\" >1300.0337</td>\n",
       "      <td id=\"T_dc670_row9_col3\" class=\"data row9 col3\" >0.9814</td>\n",
       "      <td id=\"T_dc670_row9_col4\" class=\"data row9 col4\" >0.0952</td>\n",
       "      <td id=\"T_dc670_row9_col5\" class=\"data row9 col5\" >0.0715</td>\n",
       "    </tr>\n",
       "    <tr>\n",
       "      <th id=\"T_dc670_level0_row10\" class=\"row_heading level0 row10\" >Mean</th>\n",
       "      <td id=\"T_dc670_row10_col0\" class=\"data row10 col0\" >816.1831</td>\n",
       "      <td id=\"T_dc670_row10_col1\" class=\"data row10 col1\" >2522030.3314</td>\n",
       "      <td id=\"T_dc670_row10_col2\" class=\"data row10 col2\" >1566.3069</td>\n",
       "      <td id=\"T_dc670_row10_col3\" class=\"data row10 col3\" >0.9761</td>\n",
       "      <td id=\"T_dc670_row10_col4\" class=\"data row10 col4\" >0.0915</td>\n",
       "      <td id=\"T_dc670_row10_col5\" class=\"data row10 col5\" >0.0671</td>\n",
       "    </tr>\n",
       "    <tr>\n",
       "      <th id=\"T_dc670_level0_row11\" class=\"row_heading level0 row11\" >SD</th>\n",
       "      <td id=\"T_dc670_row11_col0\" class=\"data row11 col0\" >41.0944</td>\n",
       "      <td id=\"T_dc670_row11_col1\" class=\"data row11 col1\" >854289.0539</td>\n",
       "      <td id=\"T_dc670_row11_col2\" class=\"data row11 col2\" >262.1319</td>\n",
       "      <td id=\"T_dc670_row11_col3\" class=\"data row11 col3\" >0.0062</td>\n",
       "      <td id=\"T_dc670_row11_col4\" class=\"data row11 col4\" >0.0050</td>\n",
       "      <td id=\"T_dc670_row11_col5\" class=\"data row11 col5\" >0.0025</td>\n",
       "    </tr>\n",
       "  </tbody>\n",
       "</table>\n"
      ],
      "text/plain": [
       "<pandas.io.formats.style.Styler at 0x7f478eb2e340>"
      ]
     },
     "metadata": {},
     "output_type": "display_data"
    }
   ],
   "source": [
    "tuned_lightgbm = reg.tune_model(lightgbm)"
   ]
  },
  {
   "cell_type": "code",
   "execution_count": 46,
   "id": "dfa3c734-815d-4c17-a625-9443b282942c",
   "metadata": {},
   "outputs": [
    {
     "data": {
      "text/html": [
       "<style type=\"text/css\">\n",
       "#T_282b0_row10_col0, #T_282b0_row10_col1, #T_282b0_row10_col2, #T_282b0_row10_col3, #T_282b0_row10_col4, #T_282b0_row10_col5 {\n",
       "  background: yellow;\n",
       "}\n",
       "</style>\n",
       "<table id=\"T_282b0_\">\n",
       "  <thead>\n",
       "    <tr>\n",
       "      <th class=\"blank level0\" >&nbsp;</th>\n",
       "      <th class=\"col_heading level0 col0\" >MAE</th>\n",
       "      <th class=\"col_heading level0 col1\" >MSE</th>\n",
       "      <th class=\"col_heading level0 col2\" >RMSE</th>\n",
       "      <th class=\"col_heading level0 col3\" >R2</th>\n",
       "      <th class=\"col_heading level0 col4\" >RMSLE</th>\n",
       "      <th class=\"col_heading level0 col5\" >MAPE</th>\n",
       "    </tr>\n",
       "  </thead>\n",
       "  <tbody>\n",
       "    <tr>\n",
       "      <th id=\"T_282b0_level0_row0\" class=\"row_heading level0 row0\" >0</th>\n",
       "      <td id=\"T_282b0_row0_col0\" class=\"data row0 col0\" >1040.7156</td>\n",
       "      <td id=\"T_282b0_row0_col1\" class=\"data row0 col1\" >7264356.1792</td>\n",
       "      <td id=\"T_282b0_row0_col2\" class=\"data row0 col2\" >2695.2470</td>\n",
       "      <td id=\"T_282b0_row0_col3\" class=\"data row0 col3\" >0.9427</td>\n",
       "      <td id=\"T_282b0_row0_col4\" class=\"data row0 col4\" >0.1011</td>\n",
       "      <td id=\"T_282b0_row0_col5\" class=\"data row0 col5\" >0.0710</td>\n",
       "    </tr>\n",
       "    <tr>\n",
       "      <th id=\"T_282b0_level0_row1\" class=\"row_heading level0 row1\" >1</th>\n",
       "      <td id=\"T_282b0_row1_col0\" class=\"data row1 col0\" >909.9881</td>\n",
       "      <td id=\"T_282b0_row1_col1\" class=\"data row1 col1\" >3104372.5800</td>\n",
       "      <td id=\"T_282b0_row1_col2\" class=\"data row1 col2\" >1761.9230</td>\n",
       "      <td id=\"T_282b0_row1_col3\" class=\"data row1 col3\" >0.9666</td>\n",
       "      <td id=\"T_282b0_row1_col4\" class=\"data row1 col4\" >0.1046</td>\n",
       "      <td id=\"T_282b0_row1_col5\" class=\"data row1 col5\" >0.0731</td>\n",
       "    </tr>\n",
       "    <tr>\n",
       "      <th id=\"T_282b0_level0_row2\" class=\"row_heading level0 row2\" >2</th>\n",
       "      <td id=\"T_282b0_row2_col0\" class=\"data row2 col0\" >944.2302</td>\n",
       "      <td id=\"T_282b0_row2_col1\" class=\"data row2 col1\" >2877343.2553</td>\n",
       "      <td id=\"T_282b0_row2_col2\" class=\"data row2 col2\" >1696.2733</td>\n",
       "      <td id=\"T_282b0_row2_col3\" class=\"data row2 col3\" >0.9688</td>\n",
       "      <td id=\"T_282b0_row2_col4\" class=\"data row2 col4\" >0.1078</td>\n",
       "      <td id=\"T_282b0_row2_col5\" class=\"data row2 col5\" >0.0762</td>\n",
       "    </tr>\n",
       "    <tr>\n",
       "      <th id=\"T_282b0_level0_row3\" class=\"row_heading level0 row3\" >3</th>\n",
       "      <td id=\"T_282b0_row3_col0\" class=\"data row3 col0\" >1113.0172</td>\n",
       "      <td id=\"T_282b0_row3_col1\" class=\"data row3 col1\" >4957736.8075</td>\n",
       "      <td id=\"T_282b0_row3_col2\" class=\"data row3 col2\" >2226.5976</td>\n",
       "      <td id=\"T_282b0_row3_col3\" class=\"data row3 col3\" >0.9493</td>\n",
       "      <td id=\"T_282b0_row3_col4\" class=\"data row3 col4\" >0.1161</td>\n",
       "      <td id=\"T_282b0_row3_col5\" class=\"data row3 col5\" >0.0839</td>\n",
       "    </tr>\n",
       "    <tr>\n",
       "      <th id=\"T_282b0_level0_row4\" class=\"row_heading level0 row4\" >4</th>\n",
       "      <td id=\"T_282b0_row4_col0\" class=\"data row4 col0\" >1132.1601</td>\n",
       "      <td id=\"T_282b0_row4_col1\" class=\"data row4 col1\" >8698242.7493</td>\n",
       "      <td id=\"T_282b0_row4_col2\" class=\"data row4 col2\" >2949.2783</td>\n",
       "      <td id=\"T_282b0_row4_col3\" class=\"data row4 col3\" >0.9148</td>\n",
       "      <td id=\"T_282b0_row4_col4\" class=\"data row4 col4\" >0.1094</td>\n",
       "      <td id=\"T_282b0_row4_col5\" class=\"data row4 col5\" >0.0739</td>\n",
       "    </tr>\n",
       "    <tr>\n",
       "      <th id=\"T_282b0_level0_row5\" class=\"row_heading level0 row5\" >5</th>\n",
       "      <td id=\"T_282b0_row5_col0\" class=\"data row5 col0\" >941.0476</td>\n",
       "      <td id=\"T_282b0_row5_col1\" class=\"data row5 col1\" >3162128.9749</td>\n",
       "      <td id=\"T_282b0_row5_col2\" class=\"data row5 col2\" >1778.2376</td>\n",
       "      <td id=\"T_282b0_row5_col3\" class=\"data row5 col3\" >0.9689</td>\n",
       "      <td id=\"T_282b0_row5_col4\" class=\"data row5 col4\" >0.1012</td>\n",
       "      <td id=\"T_282b0_row5_col5\" class=\"data row5 col5\" >0.0761</td>\n",
       "    </tr>\n",
       "    <tr>\n",
       "      <th id=\"T_282b0_level0_row6\" class=\"row_heading level0 row6\" >6</th>\n",
       "      <td id=\"T_282b0_row6_col0\" class=\"data row6 col0\" >981.0317</td>\n",
       "      <td id=\"T_282b0_row6_col1\" class=\"data row6 col1\" >3958984.9405</td>\n",
       "      <td id=\"T_282b0_row6_col2\" class=\"data row6 col2\" >1989.7198</td>\n",
       "      <td id=\"T_282b0_row6_col3\" class=\"data row6 col3\" >0.9660</td>\n",
       "      <td id=\"T_282b0_row6_col4\" class=\"data row6 col4\" >0.0997</td>\n",
       "      <td id=\"T_282b0_row6_col5\" class=\"data row6 col5\" >0.0725</td>\n",
       "    </tr>\n",
       "    <tr>\n",
       "      <th id=\"T_282b0_level0_row7\" class=\"row_heading level0 row7\" >7</th>\n",
       "      <td id=\"T_282b0_row7_col0\" class=\"data row7 col0\" >862.8611</td>\n",
       "      <td id=\"T_282b0_row7_col1\" class=\"data row7 col1\" >2520264.9041</td>\n",
       "      <td id=\"T_282b0_row7_col2\" class=\"data row7 col2\" >1587.5342</td>\n",
       "      <td id=\"T_282b0_row7_col3\" class=\"data row7 col3\" >0.9759</td>\n",
       "      <td id=\"T_282b0_row7_col4\" class=\"data row7 col4\" >0.0974</td>\n",
       "      <td id=\"T_282b0_row7_col5\" class=\"data row7 col5\" >0.0714</td>\n",
       "    </tr>\n",
       "    <tr>\n",
       "      <th id=\"T_282b0_level0_row8\" class=\"row_heading level0 row8\" >8</th>\n",
       "      <td id=\"T_282b0_row8_col0\" class=\"data row8 col0\" >951.1442</td>\n",
       "      <td id=\"T_282b0_row8_col1\" class=\"data row8 col1\" >4280902.3089</td>\n",
       "      <td id=\"T_282b0_row8_col2\" class=\"data row8 col2\" >2069.0341</td>\n",
       "      <td id=\"T_282b0_row8_col3\" class=\"data row8 col3\" >0.9629</td>\n",
       "      <td id=\"T_282b0_row8_col4\" class=\"data row8 col4\" >0.1057</td>\n",
       "      <td id=\"T_282b0_row8_col5\" class=\"data row8 col5\" >0.0759</td>\n",
       "    </tr>\n",
       "    <tr>\n",
       "      <th id=\"T_282b0_level0_row9\" class=\"row_heading level0 row9\" >9</th>\n",
       "      <td id=\"T_282b0_row9_col0\" class=\"data row9 col0\" >872.1857</td>\n",
       "      <td id=\"T_282b0_row9_col1\" class=\"data row9 col1\" >2965944.8833</td>\n",
       "      <td id=\"T_282b0_row9_col2\" class=\"data row9 col2\" >1722.1919</td>\n",
       "      <td id=\"T_282b0_row9_col3\" class=\"data row9 col3\" >0.9673</td>\n",
       "      <td id=\"T_282b0_row9_col4\" class=\"data row9 col4\" >0.1071</td>\n",
       "      <td id=\"T_282b0_row9_col5\" class=\"data row9 col5\" >0.0762</td>\n",
       "    </tr>\n",
       "    <tr>\n",
       "      <th id=\"T_282b0_level0_row10\" class=\"row_heading level0 row10\" >Mean</th>\n",
       "      <td id=\"T_282b0_row10_col0\" class=\"data row10 col0\" >974.8381</td>\n",
       "      <td id=\"T_282b0_row10_col1\" class=\"data row10 col1\" >4379027.7583</td>\n",
       "      <td id=\"T_282b0_row10_col2\" class=\"data row10 col2\" >2047.6037</td>\n",
       "      <td id=\"T_282b0_row10_col3\" class=\"data row10 col3\" >0.9583</td>\n",
       "      <td id=\"T_282b0_row10_col4\" class=\"data row10 col4\" >0.1050</td>\n",
       "      <td id=\"T_282b0_row10_col5\" class=\"data row10 col5\" >0.0750</td>\n",
       "    </tr>\n",
       "    <tr>\n",
       "      <th id=\"T_282b0_level0_row11\" class=\"row_heading level0 row11\" >SD</th>\n",
       "      <td id=\"T_282b0_row11_col0\" class=\"data row11 col0\" >88.3990</td>\n",
       "      <td id=\"T_282b0_row11_col1\" class=\"data row11 col1\" >1957400.1724</td>\n",
       "      <td id=\"T_282b0_row11_col2\" class=\"data row11 col2\" >431.6792</td>\n",
       "      <td id=\"T_282b0_row11_col3\" class=\"data row11 col3\" >0.0173</td>\n",
       "      <td id=\"T_282b0_row11_col4\" class=\"data row11 col4\" >0.0052</td>\n",
       "      <td id=\"T_282b0_row11_col5\" class=\"data row11 col5\" >0.0035</td>\n",
       "    </tr>\n",
       "  </tbody>\n",
       "</table>\n"
      ],
      "text/plain": [
       "<pandas.io.formats.style.Styler at 0x7f478eabc9d0>"
      ]
     },
     "metadata": {},
     "output_type": "display_data"
    }
   ],
   "source": [
    "tuned_dt = reg.tune_model(dt)"
   ]
  },
  {
   "cell_type": "code",
   "execution_count": 49,
   "id": "3d8a69a6-3ab9-468f-843c-d24f225157c5",
   "metadata": {},
   "outputs": [
    {
     "data": {
      "text/html": [
       "<style type=\"text/css\">\n",
       "#T_90216_row10_col0, #T_90216_row10_col1, #T_90216_row10_col2, #T_90216_row10_col3, #T_90216_row10_col4, #T_90216_row10_col5 {\n",
       "  background: yellow;\n",
       "}\n",
       "</style>\n",
       "<table id=\"T_90216_\">\n",
       "  <thead>\n",
       "    <tr>\n",
       "      <th class=\"blank level0\" >&nbsp;</th>\n",
       "      <th class=\"col_heading level0 col0\" >MAE</th>\n",
       "      <th class=\"col_heading level0 col1\" >MSE</th>\n",
       "      <th class=\"col_heading level0 col2\" >RMSE</th>\n",
       "      <th class=\"col_heading level0 col3\" >R2</th>\n",
       "      <th class=\"col_heading level0 col4\" >RMSLE</th>\n",
       "      <th class=\"col_heading level0 col5\" >MAPE</th>\n",
       "    </tr>\n",
       "  </thead>\n",
       "  <tbody>\n",
       "    <tr>\n",
       "      <th id=\"T_90216_level0_row0\" class=\"row_heading level0 row0\" >0</th>\n",
       "      <td id=\"T_90216_row0_col0\" class=\"data row0 col0\" >2562.6819</td>\n",
       "      <td id=\"T_90216_row0_col1\" class=\"data row0 col1\" >23713324.3295</td>\n",
       "      <td id=\"T_90216_row0_col2\" class=\"data row0 col2\" >4869.6329</td>\n",
       "      <td id=\"T_90216_row0_col3\" class=\"data row0 col3\" >0.8128</td>\n",
       "      <td id=\"T_90216_row0_col4\" class=\"data row0 col4\" >0.6061</td>\n",
       "      <td id=\"T_90216_row0_col5\" class=\"data row0 col5\" >0.2849</td>\n",
       "    </tr>\n",
       "    <tr>\n",
       "      <th id=\"T_90216_level0_row1\" class=\"row_heading level0 row1\" >1</th>\n",
       "      <td id=\"T_90216_row1_col0\" class=\"data row1 col0\" >2362.6380</td>\n",
       "      <td id=\"T_90216_row1_col1\" class=\"data row1 col1\" >10628359.4900</td>\n",
       "      <td id=\"T_90216_row1_col2\" class=\"data row1 col2\" >3260.1165</td>\n",
       "      <td id=\"T_90216_row1_col3\" class=\"data row1 col3\" >0.8855</td>\n",
       "      <td id=\"T_90216_row1_col4\" class=\"data row1 col4\" >0.5787</td>\n",
       "      <td id=\"T_90216_row1_col5\" class=\"data row1 col5\" >0.3077</td>\n",
       "    </tr>\n",
       "    <tr>\n",
       "      <th id=\"T_90216_level0_row2\" class=\"row_heading level0 row2\" >2</th>\n",
       "      <td id=\"T_90216_row2_col0\" class=\"data row2 col0\" >2339.6941</td>\n",
       "      <td id=\"T_90216_row2_col1\" class=\"data row2 col1\" >11494655.5105</td>\n",
       "      <td id=\"T_90216_row2_col2\" class=\"data row2 col2\" >3390.3769</td>\n",
       "      <td id=\"T_90216_row2_col3\" class=\"data row2 col3\" >0.8755</td>\n",
       "      <td id=\"T_90216_row2_col4\" class=\"data row2 col4\" >0.5822</td>\n",
       "      <td id=\"T_90216_row2_col5\" class=\"data row2 col5\" >0.2895</td>\n",
       "    </tr>\n",
       "    <tr>\n",
       "      <th id=\"T_90216_level0_row3\" class=\"row_heading level0 row3\" >3</th>\n",
       "      <td id=\"T_90216_row3_col0\" class=\"data row3 col0\" >2597.0127</td>\n",
       "      <td id=\"T_90216_row3_col1\" class=\"data row3 col1\" >12525914.5673</td>\n",
       "      <td id=\"T_90216_row3_col2\" class=\"data row3 col2\" >3539.1969</td>\n",
       "      <td id=\"T_90216_row3_col3\" class=\"data row3 col3\" >0.8718</td>\n",
       "      <td id=\"T_90216_row3_col4\" class=\"data row3 col4\" >0.6794</td>\n",
       "      <td id=\"T_90216_row3_col5\" class=\"data row3 col5\" >0.3208</td>\n",
       "    </tr>\n",
       "    <tr>\n",
       "      <th id=\"T_90216_level0_row4\" class=\"row_heading level0 row4\" >4</th>\n",
       "      <td id=\"T_90216_row4_col0\" class=\"data row4 col0\" >2568.0736</td>\n",
       "      <td id=\"T_90216_row4_col1\" class=\"data row4 col1\" >14556484.2071</td>\n",
       "      <td id=\"T_90216_row4_col2\" class=\"data row4 col2\" >3815.2961</td>\n",
       "      <td id=\"T_90216_row4_col3\" class=\"data row4 col3\" >0.8573</td>\n",
       "      <td id=\"T_90216_row4_col4\" class=\"data row4 col4\" >0.6254</td>\n",
       "      <td id=\"T_90216_row4_col5\" class=\"data row4 col5\" >0.2934</td>\n",
       "    </tr>\n",
       "    <tr>\n",
       "      <th id=\"T_90216_level0_row5\" class=\"row_heading level0 row5\" >5</th>\n",
       "      <td id=\"T_90216_row5_col0\" class=\"data row5 col0\" >2573.2211</td>\n",
       "      <td id=\"T_90216_row5_col1\" class=\"data row5 col1\" >15981363.8065</td>\n",
       "      <td id=\"T_90216_row5_col2\" class=\"data row5 col2\" >3997.6698</td>\n",
       "      <td id=\"T_90216_row5_col3\" class=\"data row5 col3\" >0.8429</td>\n",
       "      <td id=\"T_90216_row5_col4\" class=\"data row5 col4\" >0.7664</td>\n",
       "      <td id=\"T_90216_row5_col5\" class=\"data row5 col5\" >0.3017</td>\n",
       "    </tr>\n",
       "    <tr>\n",
       "      <th id=\"T_90216_level0_row6\" class=\"row_heading level0 row6\" >6</th>\n",
       "      <td id=\"T_90216_row6_col0\" class=\"data row6 col0\" >2583.7097</td>\n",
       "      <td id=\"T_90216_row6_col1\" class=\"data row6 col1\" >15755836.2047</td>\n",
       "      <td id=\"T_90216_row6_col2\" class=\"data row6 col2\" >3969.3622</td>\n",
       "      <td id=\"T_90216_row6_col3\" class=\"data row6 col3\" >0.8649</td>\n",
       "      <td id=\"T_90216_row6_col4\" class=\"data row6 col4\" >0.5941</td>\n",
       "      <td id=\"T_90216_row6_col5\" class=\"data row6 col5\" >0.3061</td>\n",
       "    </tr>\n",
       "    <tr>\n",
       "      <th id=\"T_90216_level0_row7\" class=\"row_heading level0 row7\" >7</th>\n",
       "      <td id=\"T_90216_row7_col0\" class=\"data row7 col0\" >2320.8443</td>\n",
       "      <td id=\"T_90216_row7_col1\" class=\"data row7 col1\" >13144471.9847</td>\n",
       "      <td id=\"T_90216_row7_col2\" class=\"data row7 col2\" >3625.5306</td>\n",
       "      <td id=\"T_90216_row7_col3\" class=\"data row7 col3\" >0.8741</td>\n",
       "      <td id=\"T_90216_row7_col4\" class=\"data row7 col4\" >0.5826</td>\n",
       "      <td id=\"T_90216_row7_col5\" class=\"data row7 col5\" >0.2690</td>\n",
       "    </tr>\n",
       "    <tr>\n",
       "      <th id=\"T_90216_level0_row8\" class=\"row_heading level0 row8\" >8</th>\n",
       "      <td id=\"T_90216_row8_col0\" class=\"data row8 col0\" >2685.1756</td>\n",
       "      <td id=\"T_90216_row8_col1\" class=\"data row8 col1\" >18573920.8149</td>\n",
       "      <td id=\"T_90216_row8_col2\" class=\"data row8 col2\" >4309.7472</td>\n",
       "      <td id=\"T_90216_row8_col3\" class=\"data row8 col3\" >0.8388</td>\n",
       "      <td id=\"T_90216_row8_col4\" class=\"data row8 col4\" >0.7547</td>\n",
       "      <td id=\"T_90216_row8_col5\" class=\"data row8 col5\" >0.3230</td>\n",
       "    </tr>\n",
       "    <tr>\n",
       "      <th id=\"T_90216_level0_row9\" class=\"row_heading level0 row9\" >9</th>\n",
       "      <td id=\"T_90216_row9_col0\" class=\"data row9 col0\" >2387.7019</td>\n",
       "      <td id=\"T_90216_row9_col1\" class=\"data row9 col1\" >12871131.8894</td>\n",
       "      <td id=\"T_90216_row9_col2\" class=\"data row9 col2\" >3587.6360</td>\n",
       "      <td id=\"T_90216_row9_col3\" class=\"data row9 col3\" >0.8583</td>\n",
       "      <td id=\"T_90216_row9_col4\" class=\"data row9 col4\" >0.6283</td>\n",
       "      <td id=\"T_90216_row9_col5\" class=\"data row9 col5\" >0.2815</td>\n",
       "    </tr>\n",
       "    <tr>\n",
       "      <th id=\"T_90216_level0_row10\" class=\"row_heading level0 row10\" >Mean</th>\n",
       "      <td id=\"T_90216_row10_col0\" class=\"data row10 col0\" >2498.0753</td>\n",
       "      <td id=\"T_90216_row10_col1\" class=\"data row10 col1\" >14924546.2805</td>\n",
       "      <td id=\"T_90216_row10_col2\" class=\"data row10 col2\" >3836.4565</td>\n",
       "      <td id=\"T_90216_row10_col3\" class=\"data row10 col3\" >0.8582</td>\n",
       "      <td id=\"T_90216_row10_col4\" class=\"data row10 col4\" >0.6398</td>\n",
       "      <td id=\"T_90216_row10_col5\" class=\"data row10 col5\" >0.2978</td>\n",
       "    </tr>\n",
       "    <tr>\n",
       "      <th id=\"T_90216_level0_row11\" class=\"row_heading level0 row11\" >SD</th>\n",
       "      <td id=\"T_90216_row11_col0\" class=\"data row11 col0\" >124.0444</td>\n",
       "      <td id=\"T_90216_row11_col1\" class=\"data row11 col1\" >3685972.2040</td>\n",
       "      <td id=\"T_90216_row11_col2\" class=\"data row11 col2\" >454.0351</td>\n",
       "      <td id=\"T_90216_row11_col3\" class=\"data row11 col3\" >0.0205</td>\n",
       "      <td id=\"T_90216_row11_col4\" class=\"data row11 col4\" >0.0669</td>\n",
       "      <td id=\"T_90216_row11_col5\" class=\"data row11 col5\" >0.0164</td>\n",
       "    </tr>\n",
       "  </tbody>\n",
       "</table>\n"
      ],
      "text/plain": [
       "<pandas.io.formats.style.Styler at 0x7f478e953250>"
      ]
     },
     "metadata": {},
     "output_type": "display_data"
    }
   ],
   "source": [
    "tuned_ridge = reg.tune_model(ridge)"
   ]
  },
  {
   "cell_type": "markdown",
   "id": "9df1eab7-6443-4e72-af32-424bea23698f",
   "metadata": {
    "jp-MarkdownHeadingCollapsed": true,
    "tags": []
   },
   "source": [
    "## Plot models"
   ]
  },
  {
   "cell_type": "markdown",
   "id": "3670fa4f-b1d8-409a-962a-258700e0e0bf",
   "metadata": {},
   "source": [
    "### Residuals plot"
   ]
  },
  {
   "cell_type": "code",
   "execution_count": 52,
   "id": "ed0fedda-af35-45f1-96f5-60eff239269c",
   "metadata": {},
   "outputs": [
    {
     "data": {
      "image/png": "[encoded data removed]",
      "text/plain": [
       "<Figure size 576x396 with 2 Axes>"
      ]
     },
     "metadata": {},
     "output_type": "display_data"
    }
   ],
   "source": [
    "reg.plot_model(tuned_lightgbm, plot='residuals')"
   ]
  },
  {
   "cell_type": "code",
   "execution_count": 53,
   "id": "78760098-4940-41b1-8bd2-c9fc086e54b1",
   "metadata": {},
   "outputs": [
    {
     "data": {
      "image/png": "[encoded data removed]",
      "text/plain": [
       "<Figure size 576x396 with 2 Axes>"
      ]
     },
     "metadata": {},
     "output_type": "display_data"
    }
   ],
   "source": [
    "reg.plot_model(tuned_ridge, plot='residuals')"
   ]
  },
  {
   "cell_type": "markdown",
   "id": "95345080-5147-41a3-8104-e76e90237759",
   "metadata": {},
   "source": [
    "### Error plot"
   ]
  },
  {
   "cell_type": "code",
   "execution_count": 55,
   "id": "fe222c02-10c2-4ffa-8138-b2169d207532",
   "metadata": {},
   "outputs": [
    {
     "data": {
      "image/png": "[encoded data removed]",
      "text/plain": [
       "<Figure size 576x396 with 1 Axes>"
      ]
     },
     "metadata": {},
     "output_type": "display_data"
    }
   ],
   "source": [
    "reg.plot_model(tuned_lightgbm, plot='error')"
   ]
  },
  {
   "cell_type": "code",
   "execution_count": 56,
   "id": "2468c5b4-5b0b-469a-bfb7-4ff4d50f666a",
   "metadata": {},
   "outputs": [
    {
     "data": {
      "image/png": "[encoded data removed]",
      "text/plain": [
       "<Figure size 576x396 with 1 Axes>"
      ]
     },
     "metadata": {},
     "output_type": "display_data"
    }
   ],
   "source": [
    "reg.plot_model(tuned_ridge, plot='error')"
   ]
  },
  {
   "cell_type": "markdown",
   "id": "8ed35b33-01c4-4331-80cb-5ffc33fb0ab7",
   "metadata": {
    "jp-MarkdownHeadingCollapsed": true,
    "tags": []
   },
   "source": [
    "## Predict on hold-out sample"
   ]
  },
  {
   "cell_type": "code",
   "execution_count": 61,
   "id": "36b34f86-fdaa-44f8-849f-d6fc931e6fe3",
   "metadata": {},
   "outputs": [
    {
     "data": {
      "text/html": [
       "<style type=\"text/css\">\n",
       "</style>\n",
       "<table id=\"T_56dca_\">\n",
       "  <thead>\n",
       "    <tr>\n",
       "      <th class=\"blank level0\" >&nbsp;</th>\n",
       "      <th class=\"col_heading level0 col0\" >Model</th>\n",
       "      <th class=\"col_heading level0 col1\" >MAE</th>\n",
       "      <th class=\"col_heading level0 col2\" >MSE</th>\n",
       "      <th class=\"col_heading level0 col3\" >RMSE</th>\n",
       "      <th class=\"col_heading level0 col4\" >R2</th>\n",
       "      <th class=\"col_heading level0 col5\" >RMSLE</th>\n",
       "      <th class=\"col_heading level0 col6\" >MAPE</th>\n",
       "    </tr>\n",
       "  </thead>\n",
       "  <tbody>\n",
       "    <tr>\n",
       "      <th id=\"T_56dca_level0_row0\" class=\"row_heading level0 row0\" >0</th>\n",
       "      <td id=\"T_56dca_row0_col0\" class=\"data row0 col0\" >Light Gradient Boosting Machine</td>\n",
       "      <td id=\"T_56dca_row0_col1\" class=\"data row0 col1\" >799.5301</td>\n",
       "      <td id=\"T_56dca_row0_col2\" class=\"data row0 col2\" >3072145.2126</td>\n",
       "      <td id=\"T_56dca_row0_col3\" class=\"data row0 col3\" >1752.7536</td>\n",
       "      <td id=\"T_56dca_row0_col4\" class=\"data row0 col4\" >0.9701</td>\n",
       "      <td id=\"T_56dca_row0_col5\" class=\"data row0 col5\" >0.0897</td>\n",
       "      <td id=\"T_56dca_row0_col6\" class=\"data row0 col6\" >0.0659</td>\n",
       "    </tr>\n",
       "  </tbody>\n",
       "</table>\n"
      ],
      "text/plain": [
       "<pandas.io.formats.style.Styler at 0x7f478eb1b280>"
      ]
     },
     "metadata": {},
     "output_type": "display_data"
    }
   ],
   "source": [
    "_ = reg.predict_model(tuned_lightgbm, verbose=True)"
   ]
  },
  {
   "cell_type": "markdown",
   "id": "a7b7aa9e-ae38-44c9-9ad3-ef2dc13e9d41",
   "metadata": {
    "jp-MarkdownHeadingCollapsed": true,
    "tags": []
   },
   "source": [
    "## Finalize model"
   ]
  },
  {
   "cell_type": "code",
   "execution_count": 62,
   "id": "ae2f41ac-b6a0-4059-9c2f-29c275935a23",
   "metadata": {},
   "outputs": [],
   "source": [
    "final_lightgbm = reg.finalize_model(tuned_lightgbm)"
   ]
  },
  {
   "cell_type": "code",
   "execution_count": 64,
   "id": "32f5e07e-f2a9-48e6-8909-d45d56f51260",
   "metadata": {},
   "outputs": [
    {
     "data": {
      "text/plain": [
       "LGBMRegressor(bagging_fraction=0.8, bagging_freq=3, boosting_type='gbdt',\n",
       "              class_weight=None, colsample_bytree=1.0, feature_fraction=0.5,\n",
       "              importance_type='split', learning_rate=0.3, max_depth=-1,\n",
       "              min_child_samples=26, min_child_weight=0.001, min_split_gain=0.8,\n",
       "              n_estimators=230, n_jobs=-1, num_leaves=100, objective=None,\n",
       "              random_state=1, reg_alpha=0.005, reg_lambda=4, silent='warn',\n",
       "              subsample=1.0, subsample_for_bin=200000, subsample_freq=0)"
      ]
     },
     "execution_count": 64,
     "metadata": {},
     "output_type": "execute_result"
    }
   ],
   "source": [
    "final_lightgbm"
   ]
  },
  {
   "cell_type": "markdown",
   "id": "9f7dfe51-4b87-47c1-bbf9-4a98f644151f",
   "metadata": {
    "jp-MarkdownHeadingCollapsed": true,
    "tags": []
   },
   "source": [
    "## Predict on unseen data"
   ]
  },
  {
   "cell_type": "code",
   "execution_count": 67,
   "id": "a128e4a3-cf2d-4cdd-8e77-7fb9cc3bf175",
   "metadata": {},
   "outputs": [],
   "source": [
    "unseen_predictions = reg.predict_model(final_lightgbm, data=data_unseen, verbose=True)"
   ]
  },
  {
   "cell_type": "code",
   "execution_count": 75,
   "id": "9261fad5-50e3-4a9b-a59f-d67cecb3eb0a",
   "metadata": {},
   "outputs": [
    {
     "data": {
      "text/plain": [
       "0.9791"
      ]
     },
     "execution_count": 75,
     "metadata": {},
     "output_type": "execute_result"
    }
   ],
   "source": [
    "check_metric(unseen_predictions.Price, unseen_predictions.Label, metric='R2')"
   ]
  },
  {
   "cell_type": "markdown",
   "id": "bee5b561-4cb7-45bb-b79a-9c9d577a5af8",
   "metadata": {
    "jp-MarkdownHeadingCollapsed": true,
    "tags": []
   },
   "source": [
    "## Save the model"
   ]
  },
  {
   "cell_type": "code",
   "execution_count": 77,
   "id": "82769365-3039-42f8-a223-1f8b5bfa4073",
   "metadata": {},
   "outputs": [
    {
     "name": "stdout",
     "output_type": "stream",
     "text": [
      "Transformation Pipeline and Model Successfully Saved\n"
     ]
    },
    {
     "data": {
      "text/plain": [
       "(Pipeline(memory=None,\n",
       "          steps=[('dtypes',\n",
       "                  DataTypes_Auto_infer(categorical_features=[],\n",
       "                                       display_types=False, features_todrop=[],\n",
       "                                       id_columns=[], ml_usecase='regression',\n",
       "                                       numerical_features=[], target='Price',\n",
       "                                       time_features=[])),\n",
       "                 ('imputer',\n",
       "                  Simple_Imputer(categorical_strategy='not_available',\n",
       "                                 fill_value_categorical=None,\n",
       "                                 fill_value_numerical=None,\n",
       "                                 numeric_strategy=...\n",
       "                                boosting_type='gbdt', class_weight=None,\n",
       "                                colsample_bytree=1.0, feature_fraction=0.5,\n",
       "                                importance_type='split', learning_rate=0.3,\n",
       "                                max_depth=-1, min_child_samples=26,\n",
       "                                min_child_weight=0.001, min_split_gain=0.8,\n",
       "                                n_estimators=230, n_jobs=-1, num_leaves=100,\n",
       "                                objective=None, random_state=1, reg_alpha=0.005,\n",
       "                                reg_lambda=4, silent='warn', subsample=1.0,\n",
       "                                subsample_for_bin=200000, subsample_freq=0)]],\n",
       "          verbose=False),\n",
       " 'diamond_final_lightgbm_2022-01-08.pkl.pkl')"
      ]
     },
     "execution_count": 77,
     "metadata": {},
     "output_type": "execute_result"
    }
   ],
   "source": [
    "model_file = 'diamond_final_lightgbm_2022-01-08.pkl'\n",
    "reg.save_model(final_lightgbm, model_file)"
   ]
  },
  {
   "cell_type": "markdown",
   "id": "57282628-3cab-4b7d-a9f6-c3409a2a3b9c",
   "metadata": {
    "jp-MarkdownHeadingCollapsed": true,
    "tags": []
   },
   "source": [
    "## Use the saved model"
   ]
  },
  {
   "cell_type": "code",
   "execution_count": 78,
   "id": "51b5e4ea-f084-41ab-bdbb-30dd9b6afad5",
   "metadata": {},
   "outputs": [
    {
     "name": "stdout",
     "output_type": "stream",
     "text": [
      "Transformation Pipeline and Model Successfully Loaded\n"
     ]
    }
   ],
   "source": [
    "saved_final_lightgbm = reg.load_model(model_file)"
   ]
  },
  {
   "cell_type": "code",
   "execution_count": 80,
   "id": "0ba87240-c1f7-447c-afe5-f161be7cb9ea",
   "metadata": {},
   "outputs": [],
   "source": [
    "new_prediction = reg.predict_model(saved_final_lightgbm, data=data_unseen)"
   ]
  },
  {
   "cell_type": "code",
   "execution_count": 81,
   "id": "00d71d4c-cdf3-49e0-80d6-8783a9b892ca",
   "metadata": {},
   "outputs": [
    {
     "data": {
      "text/plain": [
       "0.9791"
      ]
     },
     "execution_count": 81,
     "metadata": {},
     "output_type": "execute_result"
    }
   ],
   "source": [
    "check_metric(new_prediction.Price, new_prediction.Label, 'R2')"
   ]
  }
 ],
 "metadata": {
  "jupytext": {
   "formats": "ipynb,auto:light"
  },
  "kernelspec": {
   "display_name": "Python 3 (ipykernel)",
   "language": "python",
   "name": "python3"
  },
  "language_info": {
   "codemirror_mode": {
    "name": "ipython",
    "version": 3
   },
   "file_extension": ".py",
   "mimetype": "text/x-python",
   "name": "python",
   "nbconvert_exporter": "python",
   "pygments_lexer": "ipython3",
   "version": "3.8.10"
  }
 },
 "nbformat": 4,
 "nbformat_minor": 5
}
