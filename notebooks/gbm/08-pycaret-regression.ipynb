{
 "cells": [
  {
   "cell_type": "markdown",
   "id": "57295cac",
   "metadata": {},
   "source": [
    "# Pycaret regression"
   ]
  },
  {
   "cell_type": "markdown",
   "id": "3681bbb2",
   "metadata": {},
   "source": [
    "- https://github.com/pycaret/pycaret/blob/master/tutorials/Regression%20Tutorial%20Level%20Beginner%20-%20REG101.ipynb\n",
    "\n",
    "- https://github.com/pycaret/pycaret/blob/master/tutorials/Regression%20Tutorial%20Level%20Intermediate%20-%20REG102.ipynb"
   ]
  },
  {
   "cell_type": "markdown",
   "id": "70e96b9c",
   "metadata": {
    "tags": []
   },
   "source": [
    "## Setup libraries"
   ]
  },
  {
   "cell_type": "code",
   "execution_count": null,
   "id": "d0e4d69a",
   "metadata": {},
   "outputs": [],
   "source": [
    "%load_ext autoreload\n",
    "%autoreload 2"
   ]
  },
  {
   "cell_type": "code",
   "execution_count": null,
   "id": "29b5fe71",
   "metadata": {},
   "outputs": [],
   "source": [
    "import numpy as np\n",
    "import pandas as pd"
   ]
  },
  {
   "cell_type": "code",
   "execution_count": null,
   "id": "30297d26",
   "metadata": {},
   "outputs": [],
   "source": [
    "random_state = 786"
   ]
  },
  {
   "cell_type": "code",
   "execution_count": null,
   "id": "c74317c6",
   "metadata": {},
   "outputs": [],
   "source": [
    "from pycaret import regression as reg"
   ]
  },
  {
   "cell_type": "code",
   "execution_count": null,
   "id": "c3c53b98",
   "metadata": {},
   "outputs": [],
   "source": [
    "from pycaret.utils import check_metric"
   ]
  },
  {
   "cell_type": "code",
   "execution_count": null,
   "id": "770cac30",
   "metadata": {},
   "outputs": [],
   "source": [
    "from pycaret.datasets import get_data"
   ]
  },
  {
   "cell_type": "markdown",
   "id": "88be9331",
   "metadata": {
    "tags": []
   },
   "source": [
    "## Get data"
   ]
  },
  {
   "cell_type": "code",
   "execution_count": null,
   "id": "6c4e6b65",
   "metadata": {},
   "outputs": [],
   "source": [
    "testdataset = get_data('diamond')"
   ]
  },
  {
   "cell_type": "code",
   "execution_count": null,
   "id": "80116f33",
   "metadata": {},
   "outputs": [],
   "source": [
    "dataset.shape"
   ]
  },
  {
   "cell_type": "code",
   "execution_count": null,
   "id": "0df04eae",
   "metadata": {},
   "outputs": [],
   "source": [
    "dataset.dtypes.value_counts()"
   ]
  },
  {
   "cell_type": "markdown",
   "id": "2fa6568d",
   "metadata": {},
   "source": [
    "Split data into training data and unseen data for predictions"
   ]
  },
  {
   "cell_type": "code",
   "execution_count": null,
   "id": "8adf10fe",
   "metadata": {
    "tags": []
   },
   "outputs": [],
   "source": [
    "data = dataset.sample(frac=0.9, random_state = random_state)\n",
    "data_unseen = dataset.drop(data.index)"
   ]
  },
  {
   "cell_type": "code",
   "execution_count": null,
   "id": "157562aa",
   "metadata": {},
   "outputs": [],
   "source": [
    "f'training data: {data.shape}, prediction data: {data_unseen.shape}'"
   ]
  },
  {
   "cell_type": "markdown",
   "id": "6e9ef8fa",
   "metadata": {
    "tags": []
   },
   "source": [
    "## Setup pycaret"
   ]
  },
  {
   "cell_type": "code",
   "execution_count": null,
   "id": "3a36a4e3",
   "metadata": {},
   "outputs": [],
   "source": [
    "exp_reg1 = reg.setup(data=data, target='Price', session_id=1,\n",
    "                     silent=True, verbose=False)"
   ]
  },
  {
   "cell_type": "markdown",
   "id": "c751a78d",
   "metadata": {},
   "source": [
    "Display models"
   ]
  },
  {
   "cell_type": "code",
   "execution_count": null,
   "id": "e75a6e82",
   "metadata": {},
   "outputs": [],
   "source": [
    "reg.models()"
   ]
  },
  {
   "cell_type": "markdown",
   "id": "532290b5",
   "metadata": {
    "incorrectly_encoded_metadata": "jp-MarkdownHeadingCollapsed=true",
    "tags": []
   },
   "source": [
    "## Train models"
   ]
  },
  {
   "cell_type": "code",
   "execution_count": null,
   "id": "ea18d564",
   "metadata": {},
   "outputs": [],
   "source": [
    "reg.compare_models(fold=2)"
   ]
  },
  {
   "cell_type": "markdown",
   "id": "f6565d03",
   "metadata": {
    "incorrectly_encoded_metadata": "jp-MarkdownHeadingCollapsed=true",
    "tags": []
   },
   "source": [
    "## Create selected models"
   ]
  },
  {
   "cell_type": "code",
   "execution_count": null,
   "id": "e40c837c",
   "metadata": {},
   "outputs": [],
   "source": [
    "lightgbm = reg.create_model('lightgbm')"
   ]
  },
  {
   "cell_type": "code",
   "execution_count": null,
   "id": "52067200",
   "metadata": {},
   "outputs": [],
   "source": [
    "dt = reg.create_model('dt')"
   ]
  },
  {
   "cell_type": "code",
   "execution_count": null,
   "id": "52072d76",
   "metadata": {},
   "outputs": [],
   "source": [
    "ridge = reg.create_model('ridge')"
   ]
  },
  {
   "cell_type": "markdown",
   "id": "1fdcaa9b",
   "metadata": {
    "incorrectly_encoded_metadata": "jp-MarkdownHeadingCollapsed=true",
    "tags": []
   },
   "source": [
    "## Tune models"
   ]
  },
  {
   "cell_type": "code",
   "execution_count": null,
   "id": "38276165",
   "metadata": {},
   "outputs": [],
   "source": [
    "tuned_lightgbm = reg.tune_model(lightgbm)"
   ]
  },
  {
   "cell_type": "code",
   "execution_count": null,
   "id": "cddbd1a0",
   "metadata": {},
   "outputs": [],
   "source": [
    "tuned_dt = reg.tune_model(dt)"
   ]
  },
  {
   "cell_type": "code",
   "execution_count": null,
   "id": "a7235324",
   "metadata": {},
   "outputs": [],
   "source": [
    "tuned_ridge = reg.tune_model(ridge)"
   ]
  },
  {
   "cell_type": "markdown",
   "id": "699671c8",
   "metadata": {
    "incorrectly_encoded_metadata": "jp-MarkdownHeadingCollapsed=true",
    "tags": []
   },
   "source": [
    "## Plot models"
   ]
  },
  {
   "cell_type": "markdown",
   "id": "0f05c1c2",
   "metadata": {},
   "source": [
    "### Residuals plot"
   ]
  },
  {
   "cell_type": "code",
   "execution_count": null,
   "id": "c50f222e",
   "metadata": {},
   "outputs": [],
   "source": [
    "reg.plot_model(tuned_lightgbm, plot='residuals')"
   ]
  },
  {
   "cell_type": "code",
   "execution_count": null,
   "id": "c98b31d0",
   "metadata": {},
   "outputs": [],
   "source": [
    "reg.plot_model(tuned_ridge, plot='residuals')"
   ]
  },
  {
   "cell_type": "markdown",
   "id": "3782b840",
   "metadata": {},
   "source": [
    "### Error plot"
   ]
  },
  {
   "cell_type": "code",
   "execution_count": null,
   "id": "3d0f5a85",
   "metadata": {},
   "outputs": [],
   "source": [
    "reg.plot_model(tuned_lightgbm, plot='error')"
   ]
  },
  {
   "cell_type": "code",
   "execution_count": null,
   "id": "d55e360b",
   "metadata": {},
   "outputs": [],
   "source": [
    "reg.plot_model(tuned_ridge, plot='error')"
   ]
  },
  {
   "cell_type": "markdown",
   "id": "fb248702",
   "metadata": {
    "tags": []
   },
   "source": [
    "## Predict on hold-out sample"
   ]
  },
  {
   "cell_type": "code",
   "execution_count": null,
   "id": "df88359c",
   "metadata": {},
   "outputs": [],
   "source": [
    "_ = reg.predict_model(tuned_lightgbm, verbose=True)"
   ]
  },
  {
   "cell_type": "markdown",
   "id": "19492596",
   "metadata": {
    "tags": []
   },
   "source": [
    "## Finalize model"
   ]
  },
  {
   "cell_type": "code",
   "execution_count": null,
   "id": "eb1e0b0f",
   "metadata": {},
   "outputs": [],
   "source": [
    "final_lightgbm = reg.finalize_model(tuned_lightgbm)"
   ]
  },
  {
   "cell_type": "code",
   "execution_count": null,
   "id": "6f253228",
   "metadata": {},
   "outputs": [],
   "source": [
    "final_lightgbm"
   ]
  },
  {
   "cell_type": "markdown",
   "id": "e18ed340",
   "metadata": {
    "incorrectly_encoded_metadata": "jp-MarkdownHeadingCollapsed=true",
    "tags": []
   },
   "source": [
    "## Predict on unseen data"
   ]
  },
  {
   "cell_type": "code",
   "execution_count": null,
   "id": "92a1610a",
   "metadata": {},
   "outputs": [],
   "source": [
    "unseen_predictions = reg.predict_model(final_lightgbm, data=data_unseen, verbose=True)"
   ]
  },
  {
   "cell_type": "code",
   "execution_count": null,
   "id": "56494058",
   "metadata": {},
   "outputs": [],
   "source": [
    "check_metric(unseen_predictions.Price, unseen_predictions.Label, metric='R2')"
   ]
  },
  {
   "cell_type": "markdown",
   "id": "9500d445",
   "metadata": {
    "incorrectly_encoded_metadata": "jp-MarkdownHeadingCollapsed=true",
    "tags": []
   },
   "source": [
    "## Save the model"
   ]
  },
  {
   "cell_type": "code",
   "execution_count": null,
   "id": "75a58475",
   "metadata": {},
   "outputs": [],
   "source": [
    "model_file = 'diamond_final_lightgbm_2022-01-08.pkl'\n",
    "reg.save_model(final_lightgbm, model_file)"
   ]
  },
  {
   "cell_type": "markdown",
   "id": "b4357596",
   "metadata": {
    "incorrectly_encoded_metadata": "jp-MarkdownHeadingCollapsed=true",
    "tags": []
   },
   "source": [
    "## Use the saved model"
   ]
  },
  {
   "cell_type": "code",
   "execution_count": null,
   "id": "5e79a46d",
   "metadata": {},
   "outputs": [],
   "source": [
    "saved_final_lightgbm = reg.load_model(model_file)"
   ]
  },
  {
   "cell_type": "code",
   "execution_count": null,
   "id": "2563a179",
   "metadata": {},
   "outputs": [],
   "source": [
    "new_prediction = reg.predict_model(saved_final_lightgbm, data=data_unseen)"
   ]
  },
  {
   "cell_type": "code",
   "execution_count": null,
   "id": "8c065518",
   "metadata": {},
   "outputs": [],
   "source": [
    "check_metric(new_prediction.Price, new_prediction.Label, 'R2')"
   ]
  }
 ],
 "metadata": {
  "jupytext": {
   "formats": "ipynb,py:light"
  },
  "kernelspec": {
   "display_name": "Python 3 (ipykernel)",
   "language": "python",
   "name": "python3"
  }
 },
 "nbformat": 4,
 "nbformat_minor": 5
}
