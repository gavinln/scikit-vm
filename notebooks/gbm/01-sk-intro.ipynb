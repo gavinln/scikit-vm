{
 "cells": [
  {
   "cell_type": "markdown",
   "id": "dc0c963e",
   "metadata": {},
   "source": [
    "# Scikit gradient boosting regressor"
   ]
  },
  {
   "cell_type": "markdown",
   "id": "d21e391d-a36b-49df-9f05-f7210f6f120d",
   "metadata": {},
   "source": [
    "From https://scikit-learn.org/stable/modules/generated/sklearn.ensemble.GradientBoostingRegressor.html#sklearn.ensemble.GradientBoostingRegressor"
   ]
  },
  {
   "cell_type": "markdown",
   "id": "e2104350",
   "metadata": {
    "tags": []
   },
   "source": [
    "## Setup libraries"
   ]
  },
  {
   "cell_type": "code",
   "execution_count": 1,
   "id": "62a9484c",
   "metadata": {},
   "outputs": [],
   "source": [
    "import pandas as pd"
   ]
  },
  {
   "cell_type": "code",
   "execution_count": 2,
   "id": "ec9856eb",
   "metadata": {},
   "outputs": [],
   "source": [
    "import numpy as np\n",
    "from sklearn.metrics import mean_squared_error\n",
    "from sklearn.datasets import make_friedman1\n",
    "from sklearn.ensemble import GradientBoostingRegressor\n",
    "from sklearn.model_selection import train_test_split"
   ]
  },
  {
   "cell_type": "code",
   "execution_count": 3,
   "id": "8af91662-ec78-439f-9b6b-a16c1319ada7",
   "metadata": {},
   "outputs": [],
   "source": [
    "import matplotlib.pyplot as plt"
   ]
  },
  {
   "cell_type": "markdown",
   "id": "1138a601",
   "metadata": {},
   "source": [
    "## Get dataset"
   ]
  },
  {
   "cell_type": "markdown",
   "id": "9c089838",
   "metadata": {},
   "source": [
    "Create synthetic data set"
   ]
  },
  {
   "cell_type": "code",
   "execution_count": 4,
   "id": "f757da32",
   "metadata": {},
   "outputs": [],
   "source": [
    "X, y = make_friedman1(n_samples=1200, random_state=0, noise=1.0)"
   ]
  },
  {
   "cell_type": "markdown",
   "id": "1ed7ba8b",
   "metadata": {},
   "source": [
    "Get data set dimensions"
   ]
  },
  {
   "cell_type": "code",
   "execution_count": 5,
   "id": "cee6b4f7",
   "metadata": {},
   "outputs": [
    {
     "data": {
      "text/plain": [
       "((1200, 10), (1200,))"
      ]
     },
     "execution_count": 5,
     "metadata": {},
     "output_type": "execute_result"
    }
   ],
   "source": [
    "X.shape, y.shape"
   ]
  },
  {
   "cell_type": "markdown",
   "id": "9bdd0dbe",
   "metadata": {},
   "source": [
    "Averages of each of of 10 predictors"
   ]
  },
  {
   "cell_type": "code",
   "execution_count": 6,
   "id": "31cc934f",
   "metadata": {},
   "outputs": [
    {
     "data": {
      "text/plain": [
       "array([0.49999786, 0.47909536, 0.49046296, 0.49668261, 0.49717968,\n",
       "       0.49800347, 0.49032889, 0.49809652, 0.50313312, 0.5038007 ])"
      ]
     },
     "execution_count": 6,
     "metadata": {},
     "output_type": "execute_result"
    }
   ],
   "source": [
    "X.mean(axis=0)"
   ]
  },
  {
   "cell_type": "markdown",
   "id": "f4688c22-5f65-43f2-9356-001252285e73",
   "metadata": {},
   "source": [
    "## Get training and test datasets"
   ]
  },
  {
   "cell_type": "code",
   "execution_count": 7,
   "id": "052cc62c-ba4f-4096-a13b-c858025d9da6",
   "metadata": {},
   "outputs": [],
   "source": [
    "X_train, X_test, y_train, y_test = train_test_split(\n",
    "    X, y, random_state=0)"
   ]
  },
  {
   "cell_type": "code",
   "execution_count": 8,
   "id": "fa185df2-20a8-4f04-ad66-adebe6c4c1b4",
   "metadata": {},
   "outputs": [
    {
     "data": {
      "text/plain": [
       "((900, 10), (300, 10))"
      ]
     },
     "execution_count": 8,
     "metadata": {},
     "output_type": "execute_result"
    }
   ],
   "source": [
    "X_train.shape, X_test.shape"
   ]
  },
  {
   "cell_type": "markdown",
   "id": "ac2b3d25-eac3-43b0-9d26-761c25087d62",
   "metadata": {},
   "source": [
    "## Gradient boosting model"
   ]
  },
  {
   "cell_type": "code",
   "execution_count": 9,
   "id": "e4693a14-e9a4-4caf-9b42-02264a88d93c",
   "metadata": {},
   "outputs": [],
   "source": [
    "reg = GradientBoostingRegressor(random_state=0)"
   ]
  },
  {
   "cell_type": "code",
   "execution_count": 10,
   "id": "f2750cb4-db3e-48b1-a2e8-a227b9d39cd6",
   "metadata": {},
   "outputs": [
    {
     "data": {
      "text/plain": [
       "GradientBoostingRegressor(random_state=0)"
      ]
     },
     "execution_count": 10,
     "metadata": {},
     "output_type": "execute_result"
    }
   ],
   "source": [
    "reg.fit(X_train, y_train)"
   ]
  },
  {
   "cell_type": "markdown",
   "id": "60e21d9f-a362-472a-8179-d2f586238bf7",
   "metadata": {},
   "source": [
    "## Model diagnostics"
   ]
  },
  {
   "cell_type": "markdown",
   "id": "e9f3eeda-20e9-4959-8574-3f7e02027558",
   "metadata": {},
   "source": [
    "Get coefficient of determination $R^2$"
   ]
  },
  {
   "cell_type": "code",
   "execution_count": 11,
   "id": "3ac3a261-627b-434e-8368-7dc286387c86",
   "metadata": {},
   "outputs": [
    {
     "data": {
      "text/plain": [
       "0.9066430363882557"
      ]
     },
     "execution_count": 11,
     "metadata": {},
     "output_type": "execute_result"
    }
   ],
   "source": [
    "reg.score(X_test, y_test)"
   ]
  },
  {
   "cell_type": "code",
   "execution_count": 12,
   "id": "35a14c6e-0137-49a9-b2db-b31158c55509",
   "metadata": {},
   "outputs": [
    {
     "data": {
      "text/plain": [
       "100"
      ]
     },
     "execution_count": 12,
     "metadata": {},
     "output_type": "execute_result"
    }
   ],
   "source": [
    "reg.n_estimators"
   ]
  },
  {
   "cell_type": "code",
   "execution_count": 13,
   "id": "8a9bfad7-4231-4cae-8ccd-24a8ce5258bc",
   "metadata": {},
   "outputs": [
    {
     "data": {
      "text/plain": [
       "Text(0.5, 1.0, 'Deviance vs iterations')"
      ]
     },
     "execution_count": 13,
     "metadata": {},
     "output_type": "execute_result"
    },
    {
     "data": {
      "image/png": "[encoded data removed]",
      "text/plain": [
       "<Figure size 432x288 with 1 Axes>"
      ]
     },
     "metadata": {
      "needs_background": "light"
     },
     "output_type": "display_data"
    }
   ],
   "source": [
    "fig, ax = plt.subplots(1, 1)\n",
    "ax.plot(np.arange(reg.n_estimators) + 1, reg.train_score_, 'r-',\n",
    "        label='Training Set deviance')\n",
    "ax.set_xlabel('Boosting iterations')\n",
    "ax.set_ylabel('Deviance')\n",
    "ax.set_title('Deviance vs iterations')"
   ]
  }
 ],
 "metadata": {
  "kernelspec": {
   "display_name": "Python 3 (ipykernel)",
   "language": "python",
   "name": "python3"
  },
  "language_info": {
   "codemirror_mode": {
    "name": "ipython",
    "version": 3
   },
   "file_extension": ".py",
   "mimetype": "text/x-python",
   "name": "python",
   "nbconvert_exporter": "python",
   "pygments_lexer": "ipython3",
   "version": "3.8.10"
  }
 },
 "nbformat": 4,
 "nbformat_minor": 5
}
