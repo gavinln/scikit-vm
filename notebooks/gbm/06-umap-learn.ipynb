{
 "cells": [
  {
   "cell_type": "markdown",
   "id": "3f7aed54",
   "metadata": {},
   "source": [
    "# UMAP model"
   ]
  },
  {
   "cell_type": "markdown",
   "id": "aaac4a51-1b34-4219-b1bf-5a418470b07c",
   "metadata": {},
   "source": [
    "https://umap-learn.readthedocs.io/en/0.5dev/index.html"
   ]
  },
  {
   "cell_type": "markdown",
   "id": "5a7db4dd",
   "metadata": {},
   "source": [
    "## Setup libraries"
   ]
  },
  {
   "cell_type": "code",
   "execution_count": 1,
   "id": "afdf9e69",
   "metadata": {},
   "outputs": [],
   "source": [
    "%load_ext autoreload\n",
    "%autoreload 2"
   ]
  },
  {
   "cell_type": "code",
   "execution_count": 2,
   "id": "8871ed0a",
   "metadata": {},
   "outputs": [],
   "source": [
    "import numpy as np"
   ]
  },
  {
   "cell_type": "code",
   "execution_count": 3,
   "id": "87e3d933-911c-4e2d-b054-750f6d572d6c",
   "metadata": {},
   "outputs": [],
   "source": [
    "import seaborn as sns"
   ]
  },
  {
   "cell_type": "code",
   "execution_count": 4,
   "id": "09504ba4-08d4-47d9-902a-78b55deecaee",
   "metadata": {},
   "outputs": [],
   "source": [
    "from umap import UMAP"
   ]
  },
  {
   "cell_type": "code",
   "execution_count": 5,
   "id": "acfc1fb0-58cf-42ac-b5f8-dead6fd0ed4c",
   "metadata": {},
   "outputs": [],
   "source": [
    "from sklearn.datasets import load_digits"
   ]
  },
  {
   "cell_type": "code",
   "execution_count": 6,
   "id": "be41a007",
   "metadata": {},
   "outputs": [],
   "source": [
    "from sklearn.datasets import fetch_california_housing\n",
    "from sklearn.model_selection import cross_val_score\n",
    "from sklearn.pipeline import Pipeline"
   ]
  },
  {
   "cell_type": "code",
   "execution_count": 7,
   "id": "b3edaef6",
   "metadata": {},
   "outputs": [],
   "source": [
    "from sklearn.decomposition import PCA"
   ]
  },
  {
   "cell_type": "code",
   "execution_count": 8,
   "id": "bc88c02d",
   "metadata": {},
   "outputs": [],
   "source": [
    "from sklearn.preprocessing import StandardScaler"
   ]
  },
  {
   "cell_type": "code",
   "execution_count": 9,
   "id": "47586906",
   "metadata": {},
   "outputs": [],
   "source": [
    "from sklearn.linear_model import LinearRegression\n",
    "from sklearn.svm import SVR\n",
    "from lightgbm import LGBMRegressor"
   ]
  },
  {
   "cell_type": "code",
   "execution_count": 10,
   "id": "d9f672f1",
   "metadata": {},
   "outputs": [],
   "source": [
    "from sklearn.model_selection import GridSearchCV"
   ]
  },
  {
   "cell_type": "markdown",
   "id": "97171b53",
   "metadata": {
    "lines_to_next_cell": 2,
    "tags": []
   },
   "source": [
    "## Create utility functions"
   ]
  },
  {
   "cell_type": "code",
   "execution_count": 11,
   "id": "ecac0ffb",
   "metadata": {},
   "outputs": [],
   "source": [
    "def cross_val_score_print(estimator, X_val, y_val):\n",
    "    score = cross_val_score(\n",
    "        estimator,\n",
    "        X_val,\n",
    "        y_val,\n",
    "        cv=3,\n",
    "        scoring=\"r2\",\n",
    "        n_jobs=-1,\n",
    "        error_score=\"raise\",\n",
    "    )\n",
    "    print(\n",
    "        \"R2 {:.3f} +/- {:.3f}, count {}\".format(\n",
    "            np.mean(score), np.std(score), np.size(score)\n",
    "        )\n",
    "    )"
   ]
  },
  {
   "cell_type": "code",
   "execution_count": 12,
   "id": "43ea700d",
   "metadata": {},
   "outputs": [],
   "source": [
    "def get_params_str(params):\n",
    "    params_str = []\n",
    "    key_prefix = \"regressor\"\n",
    "    key_prefix_len = len(key_prefix)\n",
    "    for key, value in params.items():\n",
    "        trimmed_key = (\n",
    "            key[key_prefix_len:] if key.startswith(key_prefix) else key\n",
    "        )\n",
    "        trimmed_key = (\n",
    "            trimmed_key[2:] if trimmed_key.startswith(\"__\") else trimmed_key\n",
    "        )\n",
    "        params_str.append(f\"{trimmed_key}: {value}\")\n",
    "    return \", \".join(params_str)"
   ]
  },
  {
   "cell_type": "code",
   "execution_count": 13,
   "id": "d6192cb0",
   "metadata": {},
   "outputs": [],
   "source": [
    "def display_grid_cv_scores(grid):\n",
    "    for idx, params in enumerate(grid.cv_results_[\"params\"]):\n",
    "        print(\n",
    "            \"{}: R2 {:.3f} +/- {:.3f}\".format(\n",
    "                get_params_str(params),\n",
    "                grid.cv_results_[\"mean_test_score\"][idx],\n",
    "                grid.cv_results_[\"std_test_score\"][idx],\n",
    "            )\n",
    "        )"
   ]
  },
  {
   "cell_type": "markdown",
   "id": "d587ffcf",
   "metadata": {
    "tags": []
   },
   "source": [
    "## Get data"
   ]
  },
  {
   "cell_type": "code",
   "execution_count": 14,
   "id": "b411a1b1",
   "metadata": {},
   "outputs": [],
   "source": [
    "california_housing = fetch_california_housing(as_frame=True)"
   ]
  },
  {
   "cell_type": "code",
   "execution_count": 15,
   "id": "75c16b33",
   "metadata": {},
   "outputs": [],
   "source": [
    "X_val = california_housing.data\n",
    "y_val = california_housing.target"
   ]
  },
  {
   "cell_type": "code",
   "execution_count": 16,
   "id": "a6e6798d",
   "metadata": {},
   "outputs": [],
   "source": [
    "digits = load_digits()"
   ]
  },
  {
   "cell_type": "markdown",
   "id": "17eb6b5d",
   "metadata": {},
   "source": [
    "## UMAP example"
   ]
  },
  {
   "cell_type": "code",
   "execution_count": 17,
   "id": "20c22053",
   "metadata": {},
   "outputs": [],
   "source": [
    "mapper = UMAP().fit_transform(digits.data)"
   ]
  },
  {
   "cell_type": "code",
   "execution_count": 18,
   "id": "16c7d194-a29e-469f-ba28-ccdba4b249e5",
   "metadata": {},
   "outputs": [
    {
     "data": {
      "text/plain": [
       "<AxesSubplot:>"
      ]
     },
     "execution_count": 18,
     "metadata": {},
     "output_type": "execute_result"
    },
    {
     "data": {
      "image/png": "[encoded data removed]",
      "text/plain": [
       "<Figure size 432x288 with 1 Axes>"
      ]
     },
     "metadata": {
      "needs_background": "light"
     },
     "output_type": "display_data"
    }
   ],
   "source": [
    "sns.scatterplot(x=mapper[:, 0], y=mapper[:, 1], hue=digits.target)"
   ]
  },
  {
   "cell_type": "markdown",
   "id": "dbc29d14",
   "metadata": {},
   "source": [
    "## Cross validation for one estimator"
   ]
  },
  {
   "cell_type": "code",
   "execution_count": 19,
   "id": "a956035e",
   "metadata": {
    "lines_to_next_cell": 2
   },
   "outputs": [
    {
     "name": "stdout",
     "output_type": "stream",
     "text": [
      "R2 0.360 +/- 0.089, count 3\n"
     ]
    }
   ],
   "source": [
    "pipe = Pipeline([(\"scalar\", StandardScaler()), (\"dim_reducer\", UMAP()), (\"regressor\", SVR())])\n",
    "cross_val_score_print(pipe, X_val, y_val)"
   ]
  },
  {
   "cell_type": "markdown",
   "id": "c509e52a",
   "metadata": {},
   "source": [
    "## Cross validation for multiple estimators"
   ]
  },
  {
   "cell_type": "code",
   "execution_count": 20,
   "id": "a6f69730",
   "metadata": {},
   "outputs": [],
   "source": [
    "steps = [\n",
    "    (\"scaler\", StandardScaler()),\n",
    "    (\"dim_reducer\", \"passthrough\"),\n",
    "    (\"regressor\", \"passthrough\"),\n",
    "]"
   ]
  },
  {
   "cell_type": "code",
   "execution_count": 21,
   "id": "f410e24f",
   "metadata": {},
   "outputs": [],
   "source": [
    "pipe = Pipeline(steps)"
   ]
  },
  {
   "cell_type": "code",
   "execution_count": 22,
   "id": "487df468",
   "metadata": {},
   "outputs": [],
   "source": [
    "regressors = [\n",
    "    LinearRegression(),\n",
    "    SVR(),\n",
    "    LGBMRegressor(),\n",
    "]"
   ]
  },
  {
   "cell_type": "code",
   "execution_count": 23,
   "id": "f958f74d",
   "metadata": {},
   "outputs": [
    {
     "name": "stdout",
     "output_type": "stream",
     "text": [
      "dim_reducer: PCA(n_components=6), dim_reducer__n_components: 3, : LinearRegression(): R2 -0.058 +/- 0.094\n",
      "dim_reducer: PCA(n_components=6), dim_reducer__n_components: 3, : SVR(): R2 0.147 +/- 0.148\n",
      "dim_reducer: PCA(n_components=6), dim_reducer__n_components: 3, : LGBMRegressor(): R2 0.190 +/- 0.168\n",
      "dim_reducer: PCA(n_components=6), dim_reducer__n_components: 6, : LinearRegression(): R2 0.458 +/- 0.029\n",
      "dim_reducer: PCA(n_components=6), dim_reducer__n_components: 6, : SVR(): R2 0.574 +/- 0.060\n",
      "dim_reducer: PCA(n_components=6), dim_reducer__n_components: 6, : LGBMRegressor(): R2 0.572 +/- 0.052\n",
      "dim_reducer: UMAP(), dim_reducer__n_components: 3, : LinearRegression(): R2 0.062 +/- 0.171\n",
      "dim_reducer: UMAP(), dim_reducer__n_components: 3, : SVR(): R2 0.446 +/- 0.024\n",
      "dim_reducer: UMAP(), dim_reducer__n_components: 3, : LGBMRegressor(): R2 0.479 +/- 0.004\n",
      "dim_reducer: UMAP(), dim_reducer__n_components: 6, : LinearRegression(): R2 0.390 +/- 0.009\n",
      "dim_reducer: UMAP(), dim_reducer__n_components: 6, : SVR(): R2 0.465 +/- 0.027\n",
      "dim_reducer: UMAP(), dim_reducer__n_components: 6, : LGBMRegressor(): R2 0.495 +/- 0.006\n"
     ]
    }
   ],
   "source": [
    "param_grid = [\n",
    "    {\n",
    "        \"dim_reducer\": [PCA(), UMAP()],\n",
    "        \"dim_reducer__n_components\": [3, 6],\n",
    "        \"regressor\": regressors,\n",
    "    }\n",
    "]\n",
    "grid = GridSearchCV(pipe, cv=3, scoring=\"r2\", n_jobs=-1, param_grid=param_grid)\n",
    "grid.fit(X_val, y_val)\n",
    "display_grid_cv_scores(grid)"
   ]
  }
 ],
 "metadata": {
  "kernelspec": {
   "display_name": "Python 3 (ipykernel)",
   "language": "python",
   "name": "python3"
  },
  "language_info": {
   "codemirror_mode": {
    "name": "ipython",
    "version": 3
   },
   "file_extension": ".py",
   "mimetype": "text/x-python",
   "name": "python",
   "nbconvert_exporter": "python",
   "pygments_lexer": "ipython3",
   "version": "3.8.10"
  }
 },
 "nbformat": 4,
 "nbformat_minor": 5
}
