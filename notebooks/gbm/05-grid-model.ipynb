{
 "cells": [
  {
   "cell_type": "markdown",
   "id": "ab21a581",
   "metadata": {},
   "source": [
    "# Select model"
   ]
  },
  {
   "cell_type": "markdown",
   "id": "920a9d16",
   "metadata": {},
   "source": [
    "## Setup libraries"
   ]
  },
  {
   "cell_type": "code",
   "execution_count": 1,
   "id": "4197c5af",
   "metadata": {},
   "outputs": [],
   "source": [
    "%load_ext autoreload\n",
    "%autoreload 2"
   ]
  },
  {
   "cell_type": "code",
   "execution_count": 2,
   "id": "ab26c9cd",
   "metadata": {},
   "outputs": [],
   "source": [
    "import numpy as np"
   ]
  },
  {
   "cell_type": "code",
   "execution_count": 3,
   "id": "f520fd22",
   "metadata": {},
   "outputs": [],
   "source": [
    "from sklearn.datasets import fetch_california_housing\n",
    "from sklearn.model_selection import cross_val_score\n",
    "from sklearn.pipeline import Pipeline"
   ]
  },
  {
   "cell_type": "code",
   "execution_count": 4,
   "id": "a3d430be",
   "metadata": {},
   "outputs": [],
   "source": [
    "from sklearn.decomposition import PCA\n",
    "from sklearn.decomposition import FastICA "
   ]
  },
  {
   "cell_type": "code",
   "execution_count": 5,
   "id": "78d741ed",
   "metadata": {},
   "outputs": [],
   "source": [
    "from sklearn.preprocessing import StandardScaler\n",
    "from sklearn.preprocessing import MinMaxScaler\n",
    "from sklearn.preprocessing import RobustScaler"
   ]
  },
  {
   "cell_type": "code",
   "execution_count": 6,
   "id": "1621a378",
   "metadata": {},
   "outputs": [],
   "source": [
    "from sklearn.linear_model import LinearRegression\n",
    "from sklearn.svm import SVR\n",
    "from sklearn.ensemble import RandomForestRegressor"
   ]
  },
  {
   "cell_type": "code",
   "execution_count": 7,
   "id": "a6ee37a1",
   "metadata": {},
   "outputs": [],
   "source": [
    "from sklearn.model_selection import GridSearchCV"
   ]
  },
  {
   "cell_type": "code",
   "execution_count": 8,
   "id": "229cbb57",
   "metadata": {},
   "outputs": [],
   "source": [
    "from lightgbm import LGBMRegressor"
   ]
  },
  {
   "cell_type": "markdown",
   "id": "d188d8ab",
   "metadata": {
    "lines_to_next_cell": 2
   },
   "source": [
    "## Create utility functions"
   ]
  },
  {
   "cell_type": "code",
   "execution_count": 9,
   "id": "c2c04acc",
   "metadata": {},
   "outputs": [],
   "source": [
    "def cross_val_score_print(estimator, X_val, y_val):\n",
    "    score = cross_val_score(\n",
    "        estimator,\n",
    "        X_val,\n",
    "        y_val,\n",
    "        cv=3,\n",
    "        scoring=\"r2\",\n",
    "        n_jobs=-1,\n",
    "        error_score=\"raise\",\n",
    "    )\n",
    "    print(\n",
    "        \"R2 {:.3f} +/- {:.3f}, count {}\".format(\n",
    "            np.mean(score), np.std(score), np.size(score)\n",
    "        )\n",
    "    )"
   ]
  },
  {
   "cell_type": "code",
   "execution_count": 10,
   "id": "eacb89e5",
   "metadata": {},
   "outputs": [],
   "source": [
    "def get_params_str(params):\n",
    "    params_str = []\n",
    "    key_prefix = \"regressor\"\n",
    "    for key, value in params.items():\n",
    "        trimmed_key = (\n",
    "            key[len(key_prefix) :] if key.startswith(key_prefix) else key\n",
    "        )\n",
    "        trimmed_key = (\n",
    "            trimmed_key[2:] if trimmed_key.startswith(\"__\") else trimmed_key\n",
    "        )\n",
    "        params_str.append(f\"{trimmed_key}: {value}\")\n",
    "    return \", \".join(params_str)"
   ]
  },
  {
   "cell_type": "code",
   "execution_count": 11,
   "id": "7835bf1f",
   "metadata": {},
   "outputs": [],
   "source": [
    "def display_grid_cv_scores(grid):\n",
    "    for idx, params in enumerate(grid.cv_results_[\"params\"]):\n",
    "        print(\n",
    "            \"{}: R2 {:.3f} +/- {:.3f}\".format(\n",
    "                get_params_str(params),\n",
    "                grid.cv_results_[\"mean_test_score\"][idx],\n",
    "                grid.cv_results_[\"std_test_score\"][idx],\n",
    "            )\n",
    "        )"
   ]
  },
  {
   "cell_type": "markdown",
   "id": "5f72b3dc",
   "metadata": {},
   "source": [
    "## Get data"
   ]
  },
  {
   "cell_type": "code",
   "execution_count": 12,
   "id": "538030e0",
   "metadata": {},
   "outputs": [],
   "source": [
    "california_housing = fetch_california_housing(as_frame=True)"
   ]
  },
  {
   "cell_type": "code",
   "execution_count": 13,
   "id": "ba4e1fad",
   "metadata": {
    "lines_to_next_cell": 2
   },
   "outputs": [],
   "source": [
    "X_val = california_housing.data\n",
    "y_val = california_housing.target"
   ]
  },
  {
   "cell_type": "markdown",
   "id": "c8212126",
   "metadata": {},
   "source": [
    "## Cross validation for one estimator"
   ]
  },
  {
   "cell_type": "code",
   "execution_count": 14,
   "id": "4b16820f",
   "metadata": {
    "lines_to_next_cell": 2
   },
   "outputs": [
    {
     "name": "stdout",
     "output_type": "stream",
     "text": [
      "R2 0.677 +/- 0.029, count 3\n"
     ]
    }
   ],
   "source": [
    "pipe = Pipeline([(\"scalar\", StandardScaler()), (\"regressor\", SVR())])\n",
    "cross_val_score_print(pipe, X_val, y_val)"
   ]
  },
  {
   "cell_type": "markdown",
   "id": "517f2b76",
   "metadata": {},
   "source": [
    "## Cross validation for multiple estimators"
   ]
  },
  {
   "cell_type": "code",
   "execution_count": 15,
   "id": "4f7e4dad",
   "metadata": {},
   "outputs": [],
   "source": [
    "steps = [\n",
    "    (\"dim_reducer\", \"passthrough\"),\n",
    "    (\"scaler\", StandardScaler()),\n",
    "    (\"regressor\", \"passthrough\"),\n",
    "]"
   ]
  },
  {
   "cell_type": "code",
   "execution_count": 16,
   "id": "04917d40",
   "metadata": {},
   "outputs": [],
   "source": [
    "pipe = Pipeline(steps)"
   ]
  },
  {
   "cell_type": "code",
   "execution_count": 17,
   "id": "7d9597fc",
   "metadata": {},
   "outputs": [],
   "source": [
    "regressors = [\n",
    "    LinearRegression(),\n",
    "    SVR(),\n",
    "    RandomForestRegressor(),\n",
    "    LGBMRegressor(),\n",
    "]"
   ]
  },
  {
   "cell_type": "code",
   "execution_count": 18,
   "id": "d7b3ed68",
   "metadata": {},
   "outputs": [
    {
     "name": "stdout",
     "output_type": "stream",
     "text": [
      "dim_reducer: PCA(), dim_reducer__n_components: 3, : LinearRegression(): R2 -0.024 +/- 0.005\n",
      "dim_reducer: PCA(), dim_reducer__n_components: 3, : SVR(): R2 0.036 +/- 0.040\n",
      "dim_reducer: PCA(), dim_reducer__n_components: 3, : RandomForestRegressor(): R2 -0.004 +/- 0.012\n",
      "dim_reducer: PCA(), dim_reducer__n_components: 3, : LGBMRegressor(): R2 0.074 +/- 0.001\n",
      "dim_reducer: PCA(), dim_reducer__n_components: 6, : LinearRegression(): R2 0.483 +/- 0.030\n",
      "dim_reducer: PCA(), dim_reducer__n_components: 6, : SVR(): R2 0.614 +/- 0.054\n",
      "dim_reducer: PCA(), dim_reducer__n_components: 6, : RandomForestRegressor(): R2 0.581 +/- 0.026\n",
      "dim_reducer: PCA(), dim_reducer__n_components: 6, : LGBMRegressor(): R2 0.610 +/- 0.031\n",
      "dim_reducer: FastICA(n_components=6), dim_reducer__n_components: 3, : LinearRegression(): R2 -0.024 +/- 0.005\n",
      "dim_reducer: FastICA(n_components=6), dim_reducer__n_components: 3, : SVR(): R2 0.036 +/- 0.040\n",
      "dim_reducer: FastICA(n_components=6), dim_reducer__n_components: 3, : RandomForestRegressor(): R2 0.017 +/- 0.016\n",
      "dim_reducer: FastICA(n_components=6), dim_reducer__n_components: 3, : LGBMRegressor(): R2 0.088 +/- 0.011\n",
      "dim_reducer: FastICA(n_components=6), dim_reducer__n_components: 6, : LinearRegression(): R2 0.483 +/- 0.030\n",
      "dim_reducer: FastICA(n_components=6), dim_reducer__n_components: 6, : SVR(): R2 0.614 +/- 0.054\n",
      "dim_reducer: FastICA(n_components=6), dim_reducer__n_components: 6, : RandomForestRegressor(): R2 0.618 +/- 0.088\n",
      "dim_reducer: FastICA(n_components=6), dim_reducer__n_components: 6, : LGBMRegressor(): R2 0.615 +/- 0.089\n"
     ]
    }
   ],
   "source": [
    "param_grid = [\n",
    "    {\n",
    "        \"dim_reducer\": [PCA(), FastICA()],\n",
    "        \"dim_reducer__n_components\": [3, 6],\n",
    "        \"regressor\": regressors,\n",
    "    }\n",
    "]\n",
    "grid = GridSearchCV(pipe, cv=3, scoring=\"r2\", n_jobs=-1, param_grid=param_grid)\n",
    "grid.fit(X_val, y_val)\n",
    "display_grid_cv_scores(grid)"
   ]
  },
  {
   "cell_type": "code",
   "execution_count": 19,
   "id": "6e5bddc5",
   "metadata": {},
   "outputs": [
    {
     "name": "stdout",
     "output_type": "stream",
     "text": [
      ": LinearRegression(), scaler: StandardScaler(): R2 0.576 +/- 0.015\n",
      ": LinearRegression(), scaler: MinMaxScaler(): R2 0.576 +/- 0.015\n",
      ": LinearRegression(), scaler: RobustScaler(): R2 0.576 +/- 0.015\n",
      ": SVR(), scaler: StandardScaler(): R2 0.677 +/- 0.029\n",
      ": SVR(), scaler: MinMaxScaler(): R2 0.604 +/- 0.028\n",
      ": SVR(), scaler: RobustScaler(): R2 0.644 +/- 0.017\n",
      ": RandomForestRegressor(), scaler: StandardScaler(): R2 0.655 +/- 0.048\n",
      ": RandomForestRegressor(), scaler: MinMaxScaler(): R2 0.658 +/- 0.047\n",
      ": RandomForestRegressor(), scaler: RobustScaler(): R2 0.656 +/- 0.049\n",
      ": LGBMRegressor(), scaler: StandardScaler(): R2 0.698 +/- 0.032\n",
      ": LGBMRegressor(), scaler: MinMaxScaler(): R2 0.702 +/- 0.031\n",
      ": LGBMRegressor(), scaler: RobustScaler(): R2 0.698 +/- 0.032\n"
     ]
    }
   ],
   "source": [
    "param_grid = [\n",
    "    {\n",
    "        \"scaler\": [StandardScaler(), MinMaxScaler(), RobustScaler()],\n",
    "        \"regressor\": regressors,\n",
    "    }\n",
    "]\n",
    "grid = GridSearchCV(pipe, cv=3, scoring=\"r2\", n_jobs=-1, param_grid=param_grid)\n",
    "grid.fit(X_val, y_val)\n",
    "display_grid_cv_scores(grid)"
   ]
  },
  {
   "cell_type": "code",
   "execution_count": 20,
   "id": "157dc734",
   "metadata": {},
   "outputs": [
    {
     "name": "stdout",
     "output_type": "stream",
     "text": [
      ": LinearRegression(): R2 0.576 +/- 0.015\n",
      ": SVR(), C: 1.0: R2 0.677 +/- 0.029\n",
      ": SVR(), C: 2.0: R2 0.682 +/- 0.028\n",
      ": SVR(), C: 3.0: R2 0.684 +/- 0.028\n",
      ": RandomForestRegressor(), n_estimators: 100: R2 0.655 +/- 0.048\n",
      ": RandomForestRegressor(), n_estimators: 200: R2 0.658 +/- 0.048\n",
      ": LGBMRegressor(n_estimators=80, num_leaves=40), n_estimators: 20, num_leaves: 20: R2 0.623 +/- 0.050\n",
      ": LGBMRegressor(n_estimators=80, num_leaves=40), n_estimators: 20, num_leaves: 40: R2 0.645 +/- 0.046\n",
      ": LGBMRegressor(n_estimators=80, num_leaves=40), n_estimators: 20, num_leaves: 80: R2 0.647 +/- 0.051\n",
      ": LGBMRegressor(n_estimators=80, num_leaves=40), n_estimators: 40, num_leaves: 20: R2 0.672 +/- 0.039\n",
      ": LGBMRegressor(n_estimators=80, num_leaves=40), n_estimators: 40, num_leaves: 40: R2 0.683 +/- 0.040\n",
      ": LGBMRegressor(n_estimators=80, num_leaves=40), n_estimators: 40, num_leaves: 80: R2 0.676 +/- 0.047\n",
      ": LGBMRegressor(n_estimators=80, num_leaves=40), n_estimators: 80, num_leaves: 20: R2 0.692 +/- 0.034\n",
      ": LGBMRegressor(n_estimators=80, num_leaves=40), n_estimators: 80, num_leaves: 40: R2 0.696 +/- 0.036\n",
      ": LGBMRegressor(n_estimators=80, num_leaves=40), n_estimators: 80, num_leaves: 80: R2 0.680 +/- 0.042\n"
     ]
    }
   ],
   "source": [
    "param_grid = [\n",
    "    {\"regressor\": [LinearRegression()]},\n",
    "    {\"regressor\": [SVR()], \"regressor__C\": [1.0, 2.0, 3.0]},\n",
    "    {\n",
    "        \"regressor\": [RandomForestRegressor()],\n",
    "        \"regressor__n_estimators\": [100, 200],\n",
    "    },\n",
    "    {\n",
    "        \"regressor\": [LGBMRegressor()],\n",
    "        \"regressor__num_leaves\": [20, 40, 80],\n",
    "        \"regressor__n_estimators\": [20, 40, 80],\n",
    "    },\n",
    "]\n",
    "grid = GridSearchCV(pipe, cv=3, scoring=\"r2\", n_jobs=-1, param_grid=param_grid)\n",
    "grid.fit(X_val, y_val)\n",
    "display_grid_cv_scores(grid)"
   ]
  }
 ],
 "metadata": {
  "kernelspec": {
   "display_name": "Python 3 (ipykernel)",
   "language": "python",
   "name": "python3"
  },
  "language_info": {
   "codemirror_mode": {
    "name": "ipython",
    "version": 3
   },
   "file_extension": ".py",
   "mimetype": "text/x-python",
   "name": "python",
   "nbconvert_exporter": "python",
   "pygments_lexer": "ipython3",
   "version": "3.8.10"
  }
 },
 "nbformat": 4,
 "nbformat_minor": 5
}
