{
 "cells": [
  {
   "cell_type": "code",
   "execution_count": null,
   "id": "e3f2e83e-3e3f-4ed4-a68d-079c009f30b5",
   "metadata": {},
   "outputs": [],
   "source": [
    "# Scikit gradient boosting regressor diagnostics"
   ]
  },
  {
   "cell_type": "markdown",
   "id": "c4d935c2",
   "metadata": {},
   "source": [
    "From https://scikit-learn.org/stable/auto_examples/ensemble/plot_gradient_boosting_regression.html#sphx-glr-auto-examples-ensemble-plot-gradient-boosting-regression-py"
   ]
  },
  {
   "cell_type": "markdown",
   "id": "923e42ba",
   "metadata": {
    "tags": []
   },
   "source": [
    "## Setup libraries"
   ]
  },
  {
   "cell_type": "code",
   "execution_count": 1,
   "id": "5e5dcab2",
   "metadata": {},
   "outputs": [],
   "source": [
    "import pandas as pd\n",
    "import seaborn as sns"
   ]
  },
  {
   "cell_type": "code",
   "execution_count": 2,
   "id": "3d0140db",
   "metadata": {
    "lines_to_next_cell": 2
   },
   "outputs": [],
   "source": [
    "import numpy as np\n",
    "from sklearn.metrics import mean_squared_error\n",
    "from sklearn.datasets import load_diabetes\n",
    "from sklearn.ensemble import GradientBoostingRegressor\n",
    "from sklearn.model_selection import train_test_split\n",
    "from sklearn.inspection import permutation_importance"
   ]
  },
  {
   "cell_type": "code",
   "execution_count": 3,
   "id": "259cdc19",
   "metadata": {},
   "outputs": [],
   "source": [
    "import matplotlib.pyplot as plt"
   ]
  },
  {
   "cell_type": "markdown",
   "id": "63092fd2",
   "metadata": {},
   "source": [
    "## Get dataset"
   ]
  },
  {
   "cell_type": "markdown",
   "id": "4c3a468f",
   "metadata": {},
   "source": [
    "Load data"
   ]
  },
  {
   "cell_type": "code",
   "execution_count": 4,
   "id": "f08617e5",
   "metadata": {},
   "outputs": [],
   "source": [
    "diabetes = load_diabetes()\n",
    "X, y = diabetes.data, diabetes.target"
   ]
  },
  {
   "cell_type": "markdown",
   "id": "de25b168",
   "metadata": {},
   "source": [
    "Get data set dimensions"
   ]
  },
  {
   "cell_type": "code",
   "execution_count": 5,
   "id": "330e0aca",
   "metadata": {},
   "outputs": [
    {
     "name": "stdout",
     "output_type": "stream",
     "text": [
      "(442, 10), (442,)\n"
     ]
    }
   ],
   "source": [
    "print(f'{X.shape}, {y.shape}')"
   ]
  },
  {
   "cell_type": "markdown",
   "id": "c2cc88ec",
   "metadata": {},
   "source": [
    "Averages of each of of 10 predictors"
   ]
  },
  {
   "cell_type": "markdown",
   "id": "ca717f87",
   "metadata": {},
   "source": [
    "## Get training and test datasets"
   ]
  },
  {
   "cell_type": "code",
   "execution_count": 6,
   "id": "35ca6ee7",
   "metadata": {},
   "outputs": [],
   "source": [
    "X_train, X_test, y_train, y_test = train_test_split(\n",
    "    X, y, test_size=0.1, random_state=0)"
   ]
  },
  {
   "cell_type": "code",
   "execution_count": 7,
   "id": "781a6b5e",
   "metadata": {},
   "outputs": [
    {
     "name": "stdout",
     "output_type": "stream",
     "text": [
      "Train size: (397, 10), Test size: (45, 10)\n"
     ]
    }
   ],
   "source": [
    "print(f'Train size: {X_train.shape}, Test size: {X_test.shape}')"
   ]
  },
  {
   "cell_type": "code",
   "execution_count": 8,
   "id": "b1f89e1a",
   "metadata": {},
   "outputs": [],
   "source": [
    "params = {\n",
    "    \"n_estimators\": 500,\n",
    "    \"max_depth\": 4,\n",
    "    \"min_samples_split\": 5,\n",
    "    \"learning_rate\": 0.01,\n",
    "    \"loss\": \"squared_error\",\n",
    "}"
   ]
  },
  {
   "cell_type": "markdown",
   "id": "8c36e85d",
   "metadata": {},
   "source": [
    "## Gradient boosting model"
   ]
  },
  {
   "cell_type": "code",
   "execution_count": 9,
   "id": "602e7432",
   "metadata": {},
   "outputs": [],
   "source": [
    "reg = GradientBoostingRegressor(**params, random_state=0)"
   ]
  },
  {
   "cell_type": "code",
   "execution_count": 10,
   "id": "834c7d04",
   "metadata": {},
   "outputs": [
    {
     "data": {
      "text/plain": [
       "GradientBoostingRegressor(learning_rate=0.01, max_depth=4, min_samples_split=5,\n",
       "                          n_estimators=500, random_state=0)"
      ]
     },
     "execution_count": 10,
     "metadata": {},
     "output_type": "execute_result"
    }
   ],
   "source": [
    "reg.fit(X_train, y_train)"
   ]
  },
  {
   "cell_type": "code",
   "execution_count": 11,
   "id": "49679699",
   "metadata": {},
   "outputs": [],
   "source": [
    "mse = mean_squared_error(y_test, reg.predict(X_test))"
   ]
  },
  {
   "cell_type": "code",
   "execution_count": 12,
   "id": "ec82914d",
   "metadata": {},
   "outputs": [
    {
     "name": "stdout",
     "output_type": "stream",
     "text": [
      "Mean suqred error (MSE) on test set: 3436.943471167774\n"
     ]
    }
   ],
   "source": [
    "print(f'Mean suqred error (MSE) on test set: {mse}')"
   ]
  },
  {
   "cell_type": "markdown",
   "id": "6b04606a",
   "metadata": {},
   "source": [
    "## Plot training deviance"
   ]
  },
  {
   "cell_type": "markdown",
   "id": "da53b7b9",
   "metadata": {},
   "source": [
    "Compute test set deviance"
   ]
  },
  {
   "cell_type": "code",
   "execution_count": 13,
   "id": "50330d2d",
   "metadata": {},
   "outputs": [],
   "source": [
    "test_score = np.zeros(reg.n_estimators, dtype=np.float64)\n",
    "for i, y_pred in enumerate(reg.staged_predict(X_test)):\n",
    "    test_score[i] = reg.loss_(y_test, y_pred)"
   ]
  },
  {
   "cell_type": "code",
   "execution_count": 14,
   "id": "0ca94529",
   "metadata": {},
   "outputs": [
    {
     "data": {
      "text/plain": [
       "500"
      ]
     },
     "execution_count": 14,
     "metadata": {},
     "output_type": "execute_result"
    }
   ],
   "source": [
    "reg.n_estimators"
   ]
  },
  {
   "cell_type": "code",
   "execution_count": 15,
   "id": "15e29075",
   "metadata": {},
   "outputs": [
    {
     "data": {
      "text/plain": [
       "Text(0.5, 1.0, 'Deviance vs iterations')"
      ]
     },
     "execution_count": 15,
     "metadata": {},
     "output_type": "execute_result"
    },
    {
     "data": {
      "image/png": "[encoded data removed]",
      "text/plain": [
       "<Figure size 432x288 with 1 Axes>"
      ]
     },
     "metadata": {
      "needs_background": "light"
     },
     "output_type": "display_data"
    }
   ],
   "source": [
    "fig, ax = plt.subplots(1, 1)\n",
    "ax.plot(np.arange(reg.n_estimators) + 1, reg.train_score_, 'b-',\n",
    "        label='Training set deviance')\n",
    "ax.plot(np.arange(reg.n_estimators) + 1, test_score, 'r-',\n",
    "        label='Test set deviance')\n",
    "ax.set_xlabel('Boosting iterations')\n",
    "ax.set_ylabel('Deviance')\n",
    "ax.set_title('Deviance vs iterations')"
   ]
  },
  {
   "cell_type": "markdown",
   "id": "35eeb4f0",
   "metadata": {},
   "source": [
    "## Plot feature importance"
   ]
  },
  {
   "cell_type": "markdown",
   "id": "aa461310",
   "metadata": {},
   "source": [
    "Impurity based feature importance can be misleading for high cardinaltiy features. Permutation importance computed on a test set is an alternative."
   ]
  },
  {
   "cell_type": "markdown",
   "id": "fe8043c9",
   "metadata": {},
   "source": [
    "get gbm feature importance"
   ]
  },
  {
   "cell_type": "code",
   "execution_count": 16,
   "id": "7c2f358a",
   "metadata": {},
   "outputs": [],
   "source": [
    "feature_importance1 = pd.DataFrame({\n",
    "    'feature_name': diabetes.feature_names,\n",
    "    'importance': reg.feature_importances_})"
   ]
  },
  {
   "cell_type": "code",
   "execution_count": 17,
   "id": "162050be",
   "metadata": {},
   "outputs": [],
   "source": [
    "feature_importance2 = feature_importance1.sort_values(\n",
    "    by='importance', ascending=False)"
   ]
  },
  {
   "cell_type": "markdown",
   "id": "83973f3d",
   "metadata": {},
   "source": [
    "get permutation based feature importance"
   ]
  },
  {
   "cell_type": "code",
   "execution_count": 18,
   "id": "bd098df2",
   "metadata": {},
   "outputs": [],
   "source": [
    "result = permutation_importance(\n",
    "    reg, X_test, y_test, n_repeats=10, random_state=42, n_jobs=2)"
   ]
  },
  {
   "cell_type": "code",
   "execution_count": 19,
   "id": "69cbbbf7",
   "metadata": {},
   "outputs": [],
   "source": [
    "fi_permutation = pd.DataFrame(\n",
    "    result.importances.T, columns=diabetes.feature_names)"
   ]
  },
  {
   "cell_type": "code",
   "execution_count": 20,
   "id": "b9834990",
   "metadata": {},
   "outputs": [],
   "source": [
    "fi_permutation2 = pd.melt(\n",
    "    fi_permutation, value_vars=fi_permutation.columns)"
   ]
  },
  {
   "cell_type": "markdown",
   "id": "3d27ade1",
   "metadata": {},
   "source": [
    "get permutation feature importance ordering"
   ]
  },
  {
   "cell_type": "code",
   "execution_count": 21,
   "id": "a543460c",
   "metadata": {},
   "outputs": [],
   "source": [
    "fi_mean = pd.Series(\n",
    "    result.importances_mean, index=diabetes.feature_names\n",
    ").sort_values(ascending=False)"
   ]
  },
  {
   "cell_type": "code",
   "execution_count": 22,
   "id": "46ddd2b7",
   "metadata": {},
   "outputs": [
    {
     "data": {
      "image/png": "[encoded data removed]",
      "text/plain": [
       "<Figure size 432x288 with 2 Axes>"
      ]
     },
     "metadata": {
      "needs_background": "light"
     },
     "output_type": "display_data"
    }
   ],
   "source": [
    "fig, ax = plt.subplots(1, 2)\n",
    "sns.barplot(\n",
    "    data=feature_importance2, y='feature_name', x='importance',\n",
    "    ax=ax[0])\n",
    "\n",
    "sns.boxplot(\n",
    "    data=fi_permutation2, y='variable', x='value',\n",
    "    order=fi_mean.index, ax=ax[1])\n",
    "ax[1].set_xlabel('permutation imp')\n",
    "ax[1].set_ylabel('')\n",
    "fig.set_tight_layout('tight')"
   ]
  }
 ],
 "metadata": {
  "kernelspec": {
   "display_name": "Python 3 (ipykernel)",
   "language": "python",
   "name": "python3"
  },
  "language_info": {
   "codemirror_mode": {
    "name": "ipython",
    "version": 3
   },
   "file_extension": ".py",
   "mimetype": "text/x-python",
   "name": "python",
   "nbconvert_exporter": "python",
   "pygments_lexer": "ipython3",
   "version": "3.8.10"
  }
 },
 "nbformat": 4,
 "nbformat_minor": 5
}
