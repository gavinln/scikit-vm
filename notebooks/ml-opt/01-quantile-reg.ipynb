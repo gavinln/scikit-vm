{
 "cells": [
  {
   "cell_type": "markdown",
   "id": "83f27919",
   "metadata": {},
   "source": [
    "# Quantile loss for regression"
   ]
  },
  {
   "cell_type": "markdown",
   "id": "0b3386ae",
   "metadata": {},
   "source": [
    "https://hippocampus-garden.com/lgbm_custom/"
   ]
  },
  {
   "cell_type": "markdown",
   "id": "02f96aaf",
   "metadata": {
    "incorrectly_encoded_metadata": "tags=[] toc-hr-collapsed=true"
   },
   "source": [
    "## Setup libraries"
   ]
  },
  {
   "cell_type": "code",
   "execution_count": 1,
   "id": "9674eaad",
   "metadata": {},
   "outputs": [],
   "source": [
    "%load_ext autoreload\n",
    "%autoreload 2"
   ]
  },
  {
   "cell_type": "code",
   "execution_count": 2,
   "id": "e1b7f12d",
   "metadata": {},
   "outputs": [],
   "source": [
    "import warnings"
   ]
  },
  {
   "cell_type": "code",
   "execution_count": 3,
   "id": "862de387",
   "metadata": {},
   "outputs": [],
   "source": [
    "import pandas as pd\n",
    "import seaborn as sns\n",
    "import numpy as np"
   ]
  },
  {
   "cell_type": "code",
   "execution_count": 4,
   "id": "03f81102",
   "metadata": {},
   "outputs": [],
   "source": [
    "from sklearn.model_selection import train_test_split"
   ]
  },
  {
   "cell_type": "code",
   "execution_count": 5,
   "id": "a85c04f5",
   "metadata": {},
   "outputs": [],
   "source": [
    "from sklearn.metrics import mean_squared_error"
   ]
  },
  {
   "cell_type": "code",
   "execution_count": 6,
   "id": "dddcc0f6",
   "metadata": {},
   "outputs": [],
   "source": [
    "import lightgbm as lgb"
   ]
  },
  {
   "cell_type": "code",
   "execution_count": 7,
   "id": "51ac3350",
   "metadata": {
    "lines_to_next_cell": 2
   },
   "outputs": [],
   "source": [
    "import matplotlib.pyplot as plt"
   ]
  },
  {
   "cell_type": "code",
   "execution_count": 8,
   "id": "61755a7d",
   "metadata": {
    "lines_to_next_cell": 2
   },
   "outputs": [],
   "source": [
    "warnings.simplefilter(\"ignore\")"
   ]
  },
  {
   "cell_type": "markdown",
   "id": "0d1c1341",
   "metadata": {
    "lines_to_next_cell": 2
   },
   "source": [
    "## Utility functions"
   ]
  },
  {
   "cell_type": "code",
   "execution_count": 9,
   "id": "07a6e051",
   "metadata": {},
   "outputs": [],
   "source": [
    "def print_mse_performance(model, X_test, y_test, name):\n",
    "    'display mean-squared-error for fitted model'\n",
    "\n",
    "    y_pred = model.predict(X_test)\n",
    "    mse = mean_squared_error(y_test, y_pred)\n",
    "    model_name = model.__class__.__name__\n",
    "    print('{}, {}, mse = {:.2f}'.format(model_name, name, mse))"
   ]
  },
  {
   "cell_type": "code",
   "execution_count": 10,
   "id": "3696743f",
   "metadata": {},
   "outputs": [],
   "source": [
    "def plot_actual_predict(actual, predict, ax, title):\n",
    "    'plot actual label vs predicted label'\n",
    "    model_predict = pd.DataFrame(\n",
    "        {'actual': actual, 'predict': predict, 'residual': predict - actual}\n",
    "    )\n",
    "    ax = sns.scatterplot(x='actual', y='predict', data=model_predict, ax=ax)\n",
    "    (xmin, xmax), (ymin, ymax) = [ax.get_xlim(), ax.get_ylim()]\n",
    "    min_axis, max_axis = min(xmin, ymin), max(xmax, ymax)\n",
    "    ax.set_xlim(min_axis, max_axis)\n",
    "    ax.set_ylim(min_axis, max_axis)\n",
    "    ax.plot([0, 1], [0, 1], transform=ax.transAxes)\n",
    "    ax.set_title(title)"
   ]
  },
  {
   "cell_type": "code",
   "execution_count": 11,
   "id": "3aeac792",
   "metadata": {},
   "outputs": [],
   "source": [
    "def plot_actual_residual(actual, predict, ax, title):\n",
    "    'plot actual label vs residual (predict - actual)'\n",
    "    model_predict = pd.DataFrame(\n",
    "        {'actual': actual, 'predict': predict, 'residual': predict - actual}\n",
    "    )\n",
    "    ax = sns.scatterplot(x='actual', y='residual', data=model_predict, ax=ax)\n",
    "    ax.axhline(y=0, color='red', linestyle='dotted')\n",
    "    ax.set_title(title)"
   ]
  },
  {
   "cell_type": "code",
   "execution_count": 12,
   "id": "8bcdf4b9",
   "metadata": {},
   "outputs": [],
   "source": [
    "def train_early_stopping_lgb(lgbm_params, lgb_train, lgb_eval):\n",
    "    'train lightgbm model with early stopping'\n",
    "    model = lgb.train(\n",
    "        lgbm_params,\n",
    "        lgb_train,\n",
    "        valid_sets=lgb_eval,\n",
    "        verbose_eval=-1,\n",
    "        callbacks=[lgb.early_stopping(10, verbose=False)],\n",
    "    )\n",
    "    return model"
   ]
  },
  {
   "cell_type": "code",
   "execution_count": 13,
   "id": "9925d8f7",
   "metadata": {},
   "outputs": [],
   "source": [
    "def l2_loss(y, data):\n",
    "    t = data.get_label()\n",
    "    grad = y - t\n",
    "    hess = np.ones_like(y)\n",
    "    return grad, hess"
   ]
  },
  {
   "cell_type": "code",
   "execution_count": 14,
   "id": "a9d8a57a",
   "metadata": {},
   "outputs": [],
   "source": [
    "def l2_eval(y, data):\n",
    "    t = data.get_label()\n",
    "    loss = (y - t) ** 2\n",
    "    return 'l2', loss.mean(), False"
   ]
  },
  {
   "cell_type": "code",
   "execution_count": 15,
   "id": "5a38484a",
   "metadata": {},
   "outputs": [],
   "source": [
    "def train_custom_loss():\n",
    "    return lgb.train(\n",
    "        lgbm_params,\n",
    "        lgb_train,\n",
    "        valid_sets=lgb_eval,\n",
    "        verbose_eval=-1,\n",
    "        fobj=l2_loss, feval=l2_eval,\n",
    "        callbacks=[lgb.early_stopping(10, verbose=False)],\n",
    "    )"
   ]
  },
  {
   "cell_type": "markdown",
   "id": "d22e1aef",
   "metadata": {},
   "source": [
    "## Get data"
   ]
  },
  {
   "cell_type": "code",
   "execution_count": 16,
   "id": "5eb57a0b",
   "metadata": {},
   "outputs": [],
   "source": [
    "raw_data = sns.load_dataset('tips')"
   ]
  },
  {
   "cell_type": "code",
   "execution_count": 17,
   "id": "d7faa64e",
   "metadata": {},
   "outputs": [
    {
     "data": {
      "text/html": [
       "<div>\n",
       "<style scoped>\n",
       "    .dataframe tbody tr th:only-of-type {\n",
       "        vertical-align: middle;\n",
       "    }\n",
       "\n",
       "    .dataframe tbody tr th {\n",
       "        vertical-align: top;\n",
       "    }\n",
       "\n",
       "    .dataframe thead th {\n",
       "        text-align: right;\n",
       "    }\n",
       "</style>\n",
       "<table border=\"1\" class=\"dataframe\">\n",
       "  <thead>\n",
       "    <tr style=\"text-align: right;\">\n",
       "      <th></th>\n",
       "      <th>total_bill</th>\n",
       "      <th>tip</th>\n",
       "      <th>sex</th>\n",
       "      <th>smoker</th>\n",
       "      <th>day</th>\n",
       "      <th>time</th>\n",
       "      <th>size</th>\n",
       "    </tr>\n",
       "  </thead>\n",
       "  <tbody>\n",
       "    <tr>\n",
       "      <th>0</th>\n",
       "      <td>16.99</td>\n",
       "      <td>1.01</td>\n",
       "      <td>Female</td>\n",
       "      <td>No</td>\n",
       "      <td>Sun</td>\n",
       "      <td>Dinner</td>\n",
       "      <td>2</td>\n",
       "    </tr>\n",
       "    <tr>\n",
       "      <th>1</th>\n",
       "      <td>10.34</td>\n",
       "      <td>1.66</td>\n",
       "      <td>Male</td>\n",
       "      <td>No</td>\n",
       "      <td>Sun</td>\n",
       "      <td>Dinner</td>\n",
       "      <td>3</td>\n",
       "    </tr>\n",
       "    <tr>\n",
       "      <th>2</th>\n",
       "      <td>21.01</td>\n",
       "      <td>3.50</td>\n",
       "      <td>Male</td>\n",
       "      <td>No</td>\n",
       "      <td>Sun</td>\n",
       "      <td>Dinner</td>\n",
       "      <td>3</td>\n",
       "    </tr>\n",
       "    <tr>\n",
       "      <th>3</th>\n",
       "      <td>23.68</td>\n",
       "      <td>3.31</td>\n",
       "      <td>Male</td>\n",
       "      <td>No</td>\n",
       "      <td>Sun</td>\n",
       "      <td>Dinner</td>\n",
       "      <td>2</td>\n",
       "    </tr>\n",
       "    <tr>\n",
       "      <th>4</th>\n",
       "      <td>24.59</td>\n",
       "      <td>3.61</td>\n",
       "      <td>Female</td>\n",
       "      <td>No</td>\n",
       "      <td>Sun</td>\n",
       "      <td>Dinner</td>\n",
       "      <td>4</td>\n",
       "    </tr>\n",
       "  </tbody>\n",
       "</table>\n",
       "</div>"
      ],
      "text/plain": [
       "   total_bill   tip     sex smoker  day    time  size\n",
       "0       16.99  1.01  Female     No  Sun  Dinner     2\n",
       "1       10.34  1.66    Male     No  Sun  Dinner     3\n",
       "2       21.01  3.50    Male     No  Sun  Dinner     3\n",
       "3       23.68  3.31    Male     No  Sun  Dinner     2\n",
       "4       24.59  3.61  Female     No  Sun  Dinner     4"
      ]
     },
     "execution_count": 17,
     "metadata": {},
     "output_type": "execute_result"
    }
   ],
   "source": [
    "raw_data.head()"
   ]
  },
  {
   "cell_type": "code",
   "execution_count": 18,
   "id": "e9dcd5ad",
   "metadata": {},
   "outputs": [
    {
     "data": {
      "text/plain": [
       "float64     2\n",
       "category    1\n",
       "category    1\n",
       "category    1\n",
       "category    1\n",
       "int64       1\n",
       "dtype: int64"
      ]
     },
     "execution_count": 18,
     "metadata": {},
     "output_type": "execute_result"
    }
   ],
   "source": [
    "raw_data.dtypes.value_counts()"
   ]
  },
  {
   "cell_type": "markdown",
   "id": "5edc9ff3",
   "metadata": {},
   "source": [
    "## Setup features, label"
   ]
  },
  {
   "cell_type": "code",
   "execution_count": 19,
   "id": "f7c7a826",
   "metadata": {},
   "outputs": [],
   "source": [
    "y = raw_data.total_bill\n",
    "X = raw_data.drop(columns=['total_bill'])"
   ]
  },
  {
   "cell_type": "markdown",
   "id": "89d2cef6",
   "metadata": {},
   "source": [
    "Split data into train and test"
   ]
  },
  {
   "cell_type": "code",
   "execution_count": 20,
   "id": "ad4b2ad9",
   "metadata": {},
   "outputs": [],
   "source": [
    "X_train, X_test, y_train, y_test = train_test_split(\n",
    "    X, y, test_size=0.33, random_state=0\n",
    ")\n",
    "lgb_train = lgb.Dataset(X_train, y_train)\n",
    "lgb_eval = lgb.Dataset(X_test, y_test, reference=lgb_train)"
   ]
  },
  {
   "cell_type": "code",
   "execution_count": 21,
   "id": "8507c202",
   "metadata": {},
   "outputs": [],
   "source": [
    "y_ind = y_test < y_test.median()\n",
    "y_lower = y_test[y_ind]\n",
    "X_lower = X_test[y_ind]\n",
    "y_higher = y_test[~y_ind]\n",
    "X_higher = X_test[~y_ind]"
   ]
  },
  {
   "cell_type": "code",
   "execution_count": 22,
   "id": "ff04d4d1",
   "metadata": {},
   "outputs": [],
   "source": [
    "lgbm_params = {'objective': 'mse', 'random_seed': 0, 'verbose': -1}\n",
    "gbm_mse = train_early_stopping_lgb(lgbm_params, lgb_train, lgb_eval)"
   ]
  },
  {
   "cell_type": "code",
   "execution_count": 23,
   "id": "802dc347",
   "metadata": {},
   "outputs": [],
   "source": [
    "lgbm_params = {\n",
    "    'objective': 'quantile',\n",
    "    'alpha': 0.10,\n",
    "    'random_seed': 0,\n",
    "    'verbose': -1,\n",
    "}\n",
    "gbm_p10 = train_early_stopping_lgb(lgbm_params, lgb_train, lgb_eval)"
   ]
  },
  {
   "cell_type": "code",
   "execution_count": 24,
   "id": "846e9dcd",
   "metadata": {
    "lines_to_next_cell": 2
   },
   "outputs": [],
   "source": [
    "lgbm_params = {\n",
    "    'objective': 'quantile',\n",
    "    'alpha': 0.90,\n",
    "    'random_seed': 0,\n",
    "    'verbose': -1,\n",
    "}\n",
    "gbm_p90 = train_early_stopping_lgb(lgbm_params, lgb_train, lgb_eval)"
   ]
  },
  {
   "cell_type": "code",
   "execution_count": 25,
   "id": "4481a540",
   "metadata": {},
   "outputs": [
    {
     "name": "stdout",
     "output_type": "stream",
     "text": [
      "Booster, mse, mse = 31.89\n",
      "Booster, percentile 10, mse = 71.30\n",
      "Booster, percentile 90, mse = 162.67\n"
     ]
    }
   ],
   "source": [
    "print_mse_performance(gbm_mse, X_test, y_test, 'mse')\n",
    "print_mse_performance(gbm_p10, X_test, y_test, 'percentile 10')\n",
    "print_mse_performance(gbm_p90, X_test, y_test, 'percentile 90')"
   ]
  },
  {
   "cell_type": "code",
   "execution_count": 26,
   "id": "b4c97ee6",
   "metadata": {},
   "outputs": [
    {
     "name": "stdout",
     "output_type": "stream",
     "text": [
      "Booster, lower: mse, mse = 24.86\n",
      "Booster, lower: percentile 10, mse = 9.07\n",
      "Booster, lower: percentile 90, mse = 176.91\n"
     ]
    }
   ],
   "source": [
    "print_mse_performance(gbm_mse, X_lower, y_lower, 'lower: mse')\n",
    "print_mse_performance(gbm_p10, X_lower, y_lower, 'lower: percentile 10')\n",
    "print_mse_performance(gbm_p90, X_lower, y_lower, 'lower: percentile 90')"
   ]
  },
  {
   "cell_type": "code",
   "execution_count": 27,
   "id": "97ee1cc0",
   "metadata": {},
   "outputs": [
    {
     "name": "stdout",
     "output_type": "stream",
     "text": [
      "Booster, higher: mse, mse = 38.75\n",
      "Booster, higher: percentile 10, mse = 132.01\n",
      "Booster, higher: percentile 90, mse = 148.77\n"
     ]
    }
   ],
   "source": [
    "print_mse_performance(gbm_mse, X_higher, y_higher, 'higher: mse')\n",
    "print_mse_performance(gbm_p10, X_higher, y_higher, 'higher: percentile 10')\n",
    "print_mse_performance(gbm_p90, X_higher, y_higher, 'higher: percentile 90')"
   ]
  },
  {
   "cell_type": "code",
   "execution_count": 28,
   "id": "3b8d731b",
   "metadata": {},
   "outputs": [
    {
     "data": {
      "text/plain": [
       "Text(0.5, 0, 'p90')"
      ]
     },
     "execution_count": 28,
     "metadata": {},
     "output_type": "execute_result"
    },
    {
     "data": {
      "image/png": "[encoded data removed]",
      "text/plain": [
       "<Figure size 864x288 with 4 Axes>"
      ]
     },
     "metadata": {
      "needs_background": "light"
     },
     "output_type": "display_data"
    }
   ],
   "source": [
    "fig, (ax1, ax2, ax3, ax4) = plt.subplots(\n",
    "    1, 4, figsize=(12, 4), sharex=True, sharey=True\n",
    ")\n",
    "fig.suptitle('total bill distribution')\n",
    "sns.histplot(y_test, ax=ax1).set_xlabel('y_true')\n",
    "sns.histplot(gbm_mse.predict(X_test), ax=ax2).set_xlabel('mse')\n",
    "sns.histplot(gbm_p10.predict(X_test), ax=ax3).set_xlabel('p10')\n",
    "sns.histplot(gbm_p90.predict(X_test), ax=ax4).set_xlabel('p90')"
   ]
  },
  {
   "cell_type": "code",
   "execution_count": 29,
   "id": "cd279091",
   "metadata": {},
   "outputs": [
    {
     "data": {
      "image/png": "[encoded data removed]",
      "text/plain": [
       "<Figure size 864x288 with 3 Axes>"
      ]
     },
     "metadata": {
      "needs_background": "light"
     },
     "output_type": "display_data"
    }
   ],
   "source": [
    "fig, (ax1, ax2, ax3) = plt.subplots(1, 3, figsize=(12, 4))\n",
    "plot_actual_predict(y_test, gbm_mse.predict(X_test), ax1, 'mse')\n",
    "plot_actual_predict(y_test, gbm_p10.predict(X_test), ax2, 'percentile 10')\n",
    "plot_actual_predict(y_test, gbm_p90.predict(X_test), ax3, 'percentile 90')"
   ]
  },
  {
   "cell_type": "code",
   "execution_count": 30,
   "id": "836ce8a7",
   "metadata": {},
   "outputs": [
    {
     "data": {
      "image/png": "[encoded data removed]",
      "text/plain": [
       "<Figure size 864x288 with 3 Axes>"
      ]
     },
     "metadata": {
      "needs_background": "light"
     },
     "output_type": "display_data"
    }
   ],
   "source": [
    "fig, (ax1, ax2, ax3) = plt.subplots(1, 3, figsize=(12, 4))\n",
    "plot_actual_residual(y_test, gbm_mse.predict(X_test), ax1, 'mse')\n",
    "plot_actual_residual(y_test, gbm_p10.predict(X_test), ax2, 'percentile 10')\n",
    "plot_actual_residual(y_test, gbm_p90.predict(X_test), ax3, 'percentile 90')"
   ]
  }
 ],
 "metadata": {
  "jupytext": {
   "formats": "ipynb,py:light"
  },
  "kernelspec": {
   "display_name": "Python 3 (ipykernel)",
   "language": "python",
   "name": "python3"
  },
  "language_info": {
   "codemirror_mode": {
    "name": "ipython",
    "version": 3
   },
   "file_extension": ".py",
   "mimetype": "text/x-python",
   "name": "python",
   "nbconvert_exporter": "python",
   "pygments_lexer": "ipython3",
   "version": "3.8.10"
  }
 },
 "nbformat": 4,
 "nbformat_minor": 5
}
