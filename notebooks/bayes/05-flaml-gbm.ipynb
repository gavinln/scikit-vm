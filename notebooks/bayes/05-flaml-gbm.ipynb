{
 "cells": [
  {
   "cell_type": "markdown",
   "id": "d0fdb7f6",
   "metadata": {},
   "source": [
    "# Gradient boosting optimization using FLAML"
   ]
  },
  {
   "cell_type": "markdown",
   "id": "9041c2d4",
   "metadata": {},
   "source": [
    "Using the tips dataset\n",
    "https://microsoft.github.io/FLAML/docs/Examples/AutoML-for-LightGBM/"
   ]
  },
  {
   "cell_type": "markdown",
   "id": "6787c11e",
   "metadata": {
    "jp-MarkdownHeadingCollapsed": true,
    "tags": []
   },
   "source": [
    "## Setup libraries"
   ]
  },
  {
   "cell_type": "code",
   "execution_count": 1,
   "id": "8bdd4b63",
   "metadata": {},
   "outputs": [],
   "source": [
    "%load_ext autoreload\n",
    "%autoreload 2"
   ]
  },
  {
   "cell_type": "code",
   "execution_count": 2,
   "id": "77da2f21",
   "metadata": {},
   "outputs": [],
   "source": [
    "import warnings"
   ]
  },
  {
   "cell_type": "code",
   "execution_count": 3,
   "id": "9f5475dd",
   "metadata": {},
   "outputs": [],
   "source": [
    "import pandas as pd\n",
    "import seaborn as sns\n",
    "import numpy as np"
   ]
  },
  {
   "cell_type": "code",
   "execution_count": 4,
   "id": "7ddb9b58",
   "metadata": {},
   "outputs": [],
   "source": [
    "import sys"
   ]
  },
  {
   "cell_type": "code",
   "execution_count": 5,
   "id": "008f2527",
   "metadata": {},
   "outputs": [],
   "source": [
    "from sklearn.model_selection import train_test_split"
   ]
  },
  {
   "cell_type": "code",
   "execution_count": 6,
   "id": "140491d9",
   "metadata": {},
   "outputs": [],
   "source": [
    "from sklearn.metrics import mean_squared_error"
   ]
  },
  {
   "cell_type": "code",
   "execution_count": 7,
   "id": "44bce837",
   "metadata": {},
   "outputs": [],
   "source": [
    "import lightgbm as lgb"
   ]
  },
  {
   "cell_type": "code",
   "execution_count": 8,
   "id": "4bbaa645",
   "metadata": {},
   "outputs": [],
   "source": [
    "import matplotlib.pyplot as plt"
   ]
  },
  {
   "cell_type": "code",
   "execution_count": 9,
   "id": "321c6f9f",
   "metadata": {
    "lines_to_next_cell": 2
   },
   "outputs": [],
   "source": [
    "from flaml import AutoML"
   ]
  },
  {
   "cell_type": "code",
   "execution_count": 10,
   "id": "4be455b5",
   "metadata": {
    "lines_to_next_cell": 2
   },
   "outputs": [],
   "source": [
    "warnings.simplefilter(\"ignore\")"
   ]
  },
  {
   "cell_type": "markdown",
   "id": "d2d15c2b",
   "metadata": {
    "lines_to_next_cell": 2,
    "tags": []
   },
   "source": [
    "## Utility functions"
   ]
  },
  {
   "cell_type": "code",
   "execution_count": 11,
   "id": "5b251294",
   "metadata": {},
   "outputs": [],
   "source": [
    "def get_model_predict(model, X_test):\n",
    "    if isinstance(model, lgb.engine.CVBooster):\n",
    "        if model.best_iteration > 0:\n",
    "            y_pred_list = model.predict(\n",
    "                X_test, num_iteration=model.best_iteration\n",
    "            )\n",
    "        else:\n",
    "            y_pred_list = model.predict(X_test)\n",
    "        y_pred = np.mean(np.asarray(y_pred_list), axis=0)\n",
    "    else:\n",
    "        y_pred = model.predict(X_test)\n",
    "    return y_pred"
   ]
  },
  {
   "cell_type": "code",
   "execution_count": 12,
   "id": "289205b8",
   "metadata": {},
   "outputs": [],
   "source": [
    "def print_mse_performance(model, X_test, y_test, name):\n",
    "    'display mean-squared-error for fitted model'\n",
    "\n",
    "    y_pred = get_model_predict(model, X_test)\n",
    "    mse = mean_squared_error(y_test, y_pred)\n",
    "    model_name = model.__class__.__name__\n",
    "    print('{}, {}, mse = {:.2f}'.format(model_name, name, mse))"
   ]
  },
  {
   "cell_type": "code",
   "execution_count": 13,
   "id": "7a366979",
   "metadata": {},
   "outputs": [],
   "source": [
    "def plot_actual_predict(actual, predict, ax, title):\n",
    "    'plot actual label vs predicted label'\n",
    "    model_predict = pd.DataFrame(\n",
    "        {'actual': actual, 'predict': predict, 'residual': predict - actual}\n",
    "    )\n",
    "    ax = sns.scatterplot(x='actual', y='predict', data=model_predict, ax=ax)\n",
    "    (xmin, xmax), (ymin, ymax) = [ax.get_xlim(), ax.get_ylim()]\n",
    "    min_axis, max_axis = min(xmin, ymin), max(xmax, ymax)\n",
    "    ax.set_xlim(min_axis, max_axis)\n",
    "    ax.set_ylim(min_axis, max_axis)\n",
    "    ax.plot([0, 1], [0, 1], transform=ax.transAxes)\n",
    "    ax.set_title(title)"
   ]
  },
  {
   "cell_type": "code",
   "execution_count": 14,
   "id": "e2f72366",
   "metadata": {},
   "outputs": [],
   "source": [
    "def plot_actual_residual(actual, predict, ax, title):\n",
    "    'plot actual label vs residual (predict - actual)'\n",
    "    model_predict = pd.DataFrame(\n",
    "        {'actual': actual, 'predict': predict, 'residual': predict - actual}\n",
    "    )\n",
    "    ax = sns.scatterplot(x='actual', y='residual', data=model_predict, ax=ax)\n",
    "    ax.axhline(y=0, color='red', linestyle='dotted')\n",
    "    ax.set_title(title)"
   ]
  },
  {
   "cell_type": "code",
   "execution_count": 15,
   "id": "c8c937b2",
   "metadata": {},
   "outputs": [],
   "source": [
    "def train_early_stopping_lgb(lgbm_params, lgb_train, lgb_eval):\n",
    "    'train lightgbm model with early stopping'\n",
    "    model = lgb.train(\n",
    "        lgbm_params,\n",
    "        lgb_train,\n",
    "        valid_sets=lgb_eval,\n",
    "        verbose_eval=-1,\n",
    "        callbacks=[lgb.early_stopping(10, verbose=False)],\n",
    "    )\n",
    "    return model"
   ]
  },
  {
   "cell_type": "code",
   "execution_count": 16,
   "id": "d2e59b50",
   "metadata": {},
   "outputs": [],
   "source": [
    "def train_cv_lgb(lgbm_params, lgb_train):\n",
    "    'train lightgbm model with cross validation'\n",
    "    cv_model = lgb.cv(\n",
    "        lgbm_params,\n",
    "        lgb_train,\n",
    "        nfold=3,\n",
    "        stratified=False,\n",
    "        verbose_eval=-1,\n",
    "        return_cvbooster=True,\n",
    "        callbacks=[lgb.early_stopping(10, verbose=False)],\n",
    "    )\n",
    "    return cv_model['cvbooster']"
   ]
  },
  {
   "cell_type": "code",
   "execution_count": 17,
   "id": "5e0d942d",
   "metadata": {},
   "outputs": [],
   "source": [
    "def l2_loss(y, data):\n",
    "    t = data.get_label()\n",
    "    grad = y - t\n",
    "    hess = np.ones_like(y)\n",
    "    return grad, hess"
   ]
  },
  {
   "cell_type": "code",
   "execution_count": 18,
   "id": "b7ebcd6f",
   "metadata": {},
   "outputs": [],
   "source": [
    "def l2_eval(y, data):\n",
    "    t = data.get_label()\n",
    "    loss = (y - t) ** 2\n",
    "    return 'l2', loss.mean(), False"
   ]
  },
  {
   "cell_type": "code",
   "execution_count": 19,
   "id": "a38582b8",
   "metadata": {},
   "outputs": [],
   "source": [
    "def train_custom_loss():\n",
    "    _ = lgb.train(\n",
    "        lgbm_params,\n",
    "        lgb_train,\n",
    "        valid_sets=lgb_eval,\n",
    "        verbose_eval=-1,\n",
    "        # fobj=l2_loss, feval=l2_eval,\n",
    "        # callbacks=[lgb.early_stopping(10, verbose=False)],\n",
    "    )"
   ]
  },
  {
   "cell_type": "markdown",
   "id": "4751a7a0",
   "metadata": {
    "tags": []
   },
   "source": [
    "## Get data"
   ]
  },
  {
   "cell_type": "code",
   "execution_count": 52,
   "id": "0273e491",
   "metadata": {},
   "outputs": [],
   "source": [
    "raw_data = sns.load_dataset('tips')"
   ]
  },
  {
   "cell_type": "code",
   "execution_count": 53,
   "id": "261cf4e2",
   "metadata": {},
   "outputs": [
    {
     "data": {
      "text/html": [
       "<div>\n",
       "<style scoped>\n",
       "    .dataframe tbody tr th:only-of-type {\n",
       "        vertical-align: middle;\n",
       "    }\n",
       "\n",
       "    .dataframe tbody tr th {\n",
       "        vertical-align: top;\n",
       "    }\n",
       "\n",
       "    .dataframe thead th {\n",
       "        text-align: right;\n",
       "    }\n",
       "</style>\n",
       "<table border=\"1\" class=\"dataframe\">\n",
       "  <thead>\n",
       "    <tr style=\"text-align: right;\">\n",
       "      <th></th>\n",
       "      <th>total_bill</th>\n",
       "      <th>tip</th>\n",
       "      <th>sex</th>\n",
       "      <th>smoker</th>\n",
       "      <th>day</th>\n",
       "      <th>time</th>\n",
       "      <th>size</th>\n",
       "    </tr>\n",
       "  </thead>\n",
       "  <tbody>\n",
       "    <tr>\n",
       "      <th>0</th>\n",
       "      <td>16.99</td>\n",
       "      <td>1.01</td>\n",
       "      <td>Female</td>\n",
       "      <td>No</td>\n",
       "      <td>Sun</td>\n",
       "      <td>Dinner</td>\n",
       "      <td>2</td>\n",
       "    </tr>\n",
       "    <tr>\n",
       "      <th>1</th>\n",
       "      <td>10.34</td>\n",
       "      <td>1.66</td>\n",
       "      <td>Male</td>\n",
       "      <td>No</td>\n",
       "      <td>Sun</td>\n",
       "      <td>Dinner</td>\n",
       "      <td>3</td>\n",
       "    </tr>\n",
       "    <tr>\n",
       "      <th>2</th>\n",
       "      <td>21.01</td>\n",
       "      <td>3.50</td>\n",
       "      <td>Male</td>\n",
       "      <td>No</td>\n",
       "      <td>Sun</td>\n",
       "      <td>Dinner</td>\n",
       "      <td>3</td>\n",
       "    </tr>\n",
       "    <tr>\n",
       "      <th>3</th>\n",
       "      <td>23.68</td>\n",
       "      <td>3.31</td>\n",
       "      <td>Male</td>\n",
       "      <td>No</td>\n",
       "      <td>Sun</td>\n",
       "      <td>Dinner</td>\n",
       "      <td>2</td>\n",
       "    </tr>\n",
       "    <tr>\n",
       "      <th>4</th>\n",
       "      <td>24.59</td>\n",
       "      <td>3.61</td>\n",
       "      <td>Female</td>\n",
       "      <td>No</td>\n",
       "      <td>Sun</td>\n",
       "      <td>Dinner</td>\n",
       "      <td>4</td>\n",
       "    </tr>\n",
       "  </tbody>\n",
       "</table>\n",
       "</div>"
      ],
      "text/plain": [
       "   total_bill   tip     sex smoker  day    time  size\n",
       "0       16.99  1.01  Female     No  Sun  Dinner     2\n",
       "1       10.34  1.66    Male     No  Sun  Dinner     3\n",
       "2       21.01  3.50    Male     No  Sun  Dinner     3\n",
       "3       23.68  3.31    Male     No  Sun  Dinner     2\n",
       "4       24.59  3.61  Female     No  Sun  Dinner     4"
      ]
     },
     "execution_count": 53,
     "metadata": {},
     "output_type": "execute_result"
    }
   ],
   "source": [
    "raw_data.head()"
   ]
  },
  {
   "cell_type": "code",
   "execution_count": 54,
   "id": "5a56ed2b",
   "metadata": {},
   "outputs": [
    {
     "data": {
      "text/plain": [
       "float64     2\n",
       "category    1\n",
       "category    1\n",
       "category    1\n",
       "category    1\n",
       "int64       1\n",
       "dtype: int64"
      ]
     },
     "execution_count": 54,
     "metadata": {},
     "output_type": "execute_result"
    }
   ],
   "source": [
    "raw_data.dtypes.value_counts()"
   ]
  },
  {
   "cell_type": "code",
   "execution_count": 55,
   "id": "60696555",
   "metadata": {},
   "outputs": [
    {
     "data": {
      "text/plain": [
       "<AxesSubplot:xlabel='total_bill', ylabel='Count'>"
      ]
     },
     "execution_count": 55,
     "metadata": {},
     "output_type": "execute_result"
    },
    {
     "data": {
      "image/png": "[encoded data removed]",
      "text/plain": [
       "<Figure size 432x288 with 1 Axes>"
      ]
     },
     "metadata": {
      "needs_background": "light"
     },
     "output_type": "display_data"
    }
   ],
   "source": [
    "sns.histplot(raw_data.total_bill)"
   ]
  },
  {
   "cell_type": "code",
   "execution_count": 56,
   "id": "c62bb82c-b8b9-40bc-8cda-53c264456bc3",
   "metadata": {},
   "outputs": [],
   "source": [
    "tips_data = raw_data"
   ]
  },
  {
   "cell_type": "markdown",
   "id": "45b2fe13",
   "metadata": {
    "tags": []
   },
   "source": [
    "## Setup features, label"
   ]
  },
  {
   "cell_type": "code",
   "execution_count": 58,
   "id": "0e7b9720",
   "metadata": {},
   "outputs": [],
   "source": [
    "y = tips_data.total_bill\n",
    "X = tips_data.drop(columns=['total_bill'])"
   ]
  },
  {
   "cell_type": "markdown",
   "id": "1ce92d40",
   "metadata": {},
   "source": [
    "Split data into train and test"
   ]
  },
  {
   "cell_type": "code",
   "execution_count": 59,
   "id": "7cef58e3",
   "metadata": {},
   "outputs": [],
   "source": [
    "X_train, X_test, y_train, y_test = train_test_split(\n",
    "    X, y, test_size=0.2, random_state=0\n",
    ")"
   ]
  },
  {
   "cell_type": "markdown",
   "id": "b0a2f338",
   "metadata": {},
   "source": [
    "## Train model"
   ]
  },
  {
   "cell_type": "markdown",
   "id": "9cc530b7-99e4-4af7-8528-1d4508da0723",
   "metadata": {},
   "source": [
    "FLAML may not optimize hyperparameters with limited data"
   ]
  },
  {
   "cell_type": "code",
   "execution_count": 65,
   "id": "5ed9a4ee",
   "metadata": {},
   "outputs": [],
   "source": [
    "automl = AutoML()\n",
    "settings = {\n",
    "    \"time_budget\": 60,  # total running time in seconds\n",
    "    \"metric\": 'mse',\n",
    "    \"estimator_list\": ['lgbm'],\n",
    "    \"task\": 'regression',  # task type\n",
    "    \"log_file_name\": 'tips_flaml_experiment.log',  # flaml log file\n",
    "    \"verbose\": False\n",
    "}\n",
    "automl.fit(X_train=X_train, y_train=y_train, **settings)"
   ]
  },
  {
   "cell_type": "code",
   "execution_count": 66,
   "id": "cb55df27",
   "metadata": {
    "lines_to_next_cell": 2
   },
   "outputs": [
    {
     "name": "stdout",
     "output_type": "stream",
     "text": [
      "Best hyperparmeter config: {'n_estimators': 17, 'num_leaves': 4, 'min_child_samples': 11, 'learning_rate': 0.5074123471351436, 'log_max_bin': 10, 'colsample_bytree': 1.0, 'reg_alpha': 0.004352443603487678, 'reg_lambda': 39.72682028858723}\n",
      "Best mse on validation data: 41.97\n",
      "Training duration of best run: 0.01607 s\n",
      "LGBMRegressor(learning_rate=0.5074123471351436, max_bin=1023,\n",
      "              min_child_samples=11, n_estimators=17, num_leaves=4,\n",
      "              reg_alpha=0.004352443603487678, reg_lambda=39.72682028858723,\n",
      "              verbose=-1)\n"
     ]
    }
   ],
   "source": [
    "# print results\n",
    "print('Best hyperparmeter config:', automl.best_config)\n",
    "print('Best mse on validation data: {0:.4g}'.format(automl.best_loss))\n",
    "print('Training duration of best run: {0:.4g} s'.format(\n",
    "    automl.best_config_train_time))\n",
    "print(automl.model.estimator)"
   ]
  },
  {
   "cell_type": "code",
   "execution_count": 67,
   "id": "562b3ad8-8690-4c19-b8bc-e0b0b668d341",
   "metadata": {},
   "outputs": [],
   "source": [
    "y_pred = automl.predict(X_test)"
   ]
  },
  {
   "cell_type": "code",
   "execution_count": 68,
   "id": "2cbee9fc-7cbd-469c-895e-b42d50998105",
   "metadata": {},
   "outputs": [
    {
     "name": "stdout",
     "output_type": "stream",
     "text": [
      "mse, mse = 30.79\n"
     ]
    }
   ],
   "source": [
    "mse = mean_squared_error(y_test, y_pred)\n",
    "print('{}, mse = {:.2f}'.format('mse', mse))"
   ]
  },
  {
   "cell_type": "markdown",
   "id": "2d78844f",
   "metadata": {},
   "source": [
    "## Compare untuned lightgbm"
   ]
  },
  {
   "cell_type": "code",
   "execution_count": 76,
   "id": "368b9a9d-564f-4012-9f9c-6ac5da3d89ea",
   "metadata": {},
   "outputs": [],
   "source": [
    "lgb_train = lgb.Dataset(X_train, y_train)\n",
    "lgb_eval = lgb.Dataset(X_test, y_test, reference=lgb_train)"
   ]
  },
  {
   "cell_type": "code",
   "execution_count": 79,
   "id": "ebc689ed",
   "metadata": {},
   "outputs": [],
   "source": [
    "lgbm_params = {'objective': 'regression_l2',\n",
    "               'learning_rate': 0.5,\n",
    "               'random_seed': 0, 'verbose': -1}\n",
    "# gbm_l2 = train_early_stopping_lgb(lgbm_params, lgb_train, lgb_eval)\n",
    "gbm_l2 = train_cv_lgb(lgbm_params, lgb_train)"
   ]
  },
  {
   "cell_type": "code",
   "execution_count": 80,
   "id": "80ae8c74",
   "metadata": {},
   "outputs": [
    {
     "name": "stdout",
     "output_type": "stream",
     "text": [
      "CVBooster, l2, mse = 26.23\n"
     ]
    }
   ],
   "source": [
    "print_mse_performance(gbm_l2, X_test, y_test, 'l2')"
   ]
  }
 ],
 "metadata": {
  "jupytext": {
   "formats": "ipynb,py:light"
  },
  "kernelspec": {
   "display_name": "Python 3 (ipykernel)",
   "language": "python",
   "name": "python3"
  },
  "language_info": {
   "codemirror_mode": {
    "name": "ipython",
    "version": 3
   },
   "file_extension": ".py",
   "mimetype": "text/x-python",
   "name": "python",
   "nbconvert_exporter": "python",
   "pygments_lexer": "ipython3",
   "version": "3.8.10"
  }
 },
 "nbformat": 4,
 "nbformat_minor": 5
}
