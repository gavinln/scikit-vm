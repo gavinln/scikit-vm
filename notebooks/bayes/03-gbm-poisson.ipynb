{
 "cells": [
  {
   "cell_type": "markdown",
   "id": "55071b6e",
   "metadata": {},
   "source": [
    "# Poisson gradient boosting regression"
   ]
  },
  {
   "cell_type": "markdown",
   "id": "42938a98",
   "metadata": {},
   "source": [
    "Using the tips dataset"
   ]
  },
  {
   "cell_type": "markdown",
   "id": "d5849ac2",
   "metadata": {
    "incorrectly_encoded_metadata": "tags=[] toc-hr-collapsed=true"
   },
   "source": [
    "## Setup libraries"
   ]
  },
  {
   "cell_type": "code",
   "execution_count": 1,
   "id": "7143a56c",
   "metadata": {},
   "outputs": [],
   "source": [
    "%load_ext autoreload\n",
    "%autoreload 2"
   ]
  },
  {
   "cell_type": "code",
   "execution_count": 2,
   "id": "ff948314",
   "metadata": {},
   "outputs": [],
   "source": [
    "import warnings"
   ]
  },
  {
   "cell_type": "code",
   "execution_count": 3,
   "id": "d427cc62",
   "metadata": {},
   "outputs": [],
   "source": [
    "import pandas as pd\n",
    "import seaborn as sns\n",
    "import numpy as np"
   ]
  },
  {
   "cell_type": "code",
   "execution_count": 4,
   "id": "e43d2607",
   "metadata": {},
   "outputs": [],
   "source": [
    "import sys"
   ]
  },
  {
   "cell_type": "code",
   "execution_count": 5,
   "id": "62628518",
   "metadata": {},
   "outputs": [],
   "source": [
    "from sklearn.model_selection import train_test_split\n",
    "from sklearn.model_selection import cross_val_score\n",
    "from sklearn.model_selection import cross_validate"
   ]
  },
  {
   "cell_type": "code",
   "execution_count": 6,
   "id": "f467f04d",
   "metadata": {},
   "outputs": [],
   "source": [
    "from sklearn.metrics import mean_squared_error\n",
    "from sklearn.preprocessing import StandardScaler\n",
    "from sklearn.model_selection import GridSearchCV"
   ]
  },
  {
   "cell_type": "code",
   "execution_count": 7,
   "id": "28b88fba",
   "metadata": {},
   "outputs": [],
   "source": [
    "import lightgbm as lgb"
   ]
  },
  {
   "cell_type": "code",
   "execution_count": 8,
   "id": "11d90889",
   "metadata": {
    "lines_to_next_cell": 2
   },
   "outputs": [],
   "source": [
    "import matplotlib.pyplot as plt"
   ]
  },
  {
   "cell_type": "code",
   "execution_count": 9,
   "id": "ebca512e",
   "metadata": {
    "lines_to_next_cell": 2
   },
   "outputs": [],
   "source": [
    "warnings.simplefilter(\"ignore\")"
   ]
  },
  {
   "cell_type": "markdown",
   "id": "bff963b8",
   "metadata": {
    "lines_to_next_cell": 2
   },
   "source": [
    "## Utility functions"
   ]
  },
  {
   "cell_type": "code",
   "execution_count": 10,
   "id": "7642d21e",
   "metadata": {},
   "outputs": [],
   "source": [
    "def print_mse_performance(model, X_test, y_test, name):\n",
    "    'display mean-squared-error for fitted model'\n",
    "\n",
    "    if isinstance(model, lgb.engine.CVBooster):\n",
    "        if model.best_iteration > 0:\n",
    "            y_pred_list = model.predict(\n",
    "                X_test, num_iteration=model.best_iteration\n",
    "            )\n",
    "        else:\n",
    "            y_pred_list = model.predict(X_test)\n",
    "        y_pred = np.mean(np.asarray(y_pred_list), axis=0)\n",
    "    else:\n",
    "        y_pred = model.predict(X_test)\n",
    "\n",
    "    mse = mean_squared_error(y_test, y_pred)\n",
    "    model_name = model.__class__.__name__\n",
    "    print('{}, {}, mse = {:.2f}'.format(model_name, name, mse))"
   ]
  },
  {
   "cell_type": "code",
   "execution_count": 11,
   "id": "17602371",
   "metadata": {},
   "outputs": [],
   "source": [
    "def plot_actual_predict(actual, predict, ax, title):\n",
    "    'plot actual label vs predicted label'\n",
    "    model_predict = pd.DataFrame(\n",
    "        {'actual': actual, 'predict': predict, 'residual': predict - actual}\n",
    "    )\n",
    "    ax = sns.scatterplot(x='actual', y='predict', data=model_predict, ax=ax)\n",
    "    (xmin, xmax), (ymin, ymax) = [ax.get_xlim(), ax.get_ylim()]\n",
    "    min_axis, max_axis = min(xmin, ymin), max(xmax, ymax)\n",
    "    ax.set_xlim(min_axis, max_axis)\n",
    "    ax.set_ylim(min_axis, max_axis)\n",
    "    ax.plot([0, 1], [0, 1], transform=ax.transAxes)\n",
    "    ax.set_title(title)"
   ]
  },
  {
   "cell_type": "code",
   "execution_count": 12,
   "id": "49afe6e8",
   "metadata": {},
   "outputs": [],
   "source": [
    "def plot_actual_residual(actual, predict, ax, title):\n",
    "    'plot actual label vs residual (predict - actual)'\n",
    "    model_predict = pd.DataFrame(\n",
    "        {'actual': actual, 'predict': predict, 'residual': predict - actual}\n",
    "    )\n",
    "    ax = sns.scatterplot(x='actual', y='residual', data=model_predict, ax=ax)\n",
    "    ax.axhline(y=0, color='red', linestyle='dotted')\n",
    "    ax.set_title(title)"
   ]
  },
  {
   "cell_type": "code",
   "execution_count": 13,
   "id": "f8d7e509",
   "metadata": {},
   "outputs": [],
   "source": [
    "def train_early_stopping_lgb(lgbm_params, lgb_train, lgb_eval):\n",
    "    'train lightgbm model with early stopping'\n",
    "    model = lgb.train(\n",
    "        lgbm_params,\n",
    "        lgb_train,\n",
    "        valid_sets=lgb_eval,\n",
    "        verbose_eval=-1,\n",
    "        callbacks=[lgb.early_stopping(10, verbose=False)],\n",
    "    )\n",
    "    return model"
   ]
  },
  {
   "cell_type": "code",
   "execution_count": 14,
   "id": "a8af45a5",
   "metadata": {},
   "outputs": [],
   "source": [
    "def train_cv_lgb(lgbm_params, lgb_train):\n",
    "    'train lightgbm model with cross validation'\n",
    "    cv_model = lgb.cv(\n",
    "        lgbm_params,\n",
    "        lgb_train,\n",
    "        nfold=3,\n",
    "        stratified=False,\n",
    "        verbose_eval=-1,\n",
    "        return_cvbooster=True,\n",
    "        callbacks=[lgb.early_stopping(10, verbose=False)],\n",
    "    )\n",
    "    return cv_model['cvbooster']"
   ]
  },
  {
   "cell_type": "code",
   "execution_count": 15,
   "id": "6b89e50e",
   "metadata": {},
   "outputs": [],
   "source": [
    "def l2_loss(y, data):\n",
    "    t = data.get_label()\n",
    "    grad = y - t\n",
    "    hess = np.ones_like(y)\n",
    "    return grad, hess"
   ]
  },
  {
   "cell_type": "code",
   "execution_count": 16,
   "id": "fce8a31b",
   "metadata": {},
   "outputs": [],
   "source": [
    "def l2_eval(y, data):\n",
    "    t = data.get_label()\n",
    "    loss = (y - t) ** 2\n",
    "    return 'l2', loss.mean(), False"
   ]
  },
  {
   "cell_type": "code",
   "execution_count": 17,
   "id": "f1f18065",
   "metadata": {},
   "outputs": [],
   "source": [
    "def train_custom_loss():\n",
    "    gbm = lgb.train(\n",
    "        lgbm_params,\n",
    "        lgb_train,\n",
    "        valid_sets=lgb_eval,\n",
    "        verbose_eval=-1,\n",
    "        # fobj=l2_loss, feval=l2_eval,\n",
    "        # callbacks=[lgb.early_stopping(10, verbose=False)],\n",
    "    )"
   ]
  },
  {
   "cell_type": "markdown",
   "id": "8edcf36c",
   "metadata": {},
   "source": [
    "## Get data"
   ]
  },
  {
   "cell_type": "code",
   "execution_count": 18,
   "id": "0692bc4a",
   "metadata": {},
   "outputs": [],
   "source": [
    "raw_data = sns.load_dataset('tips')"
   ]
  },
  {
   "cell_type": "code",
   "execution_count": 19,
   "id": "89dd0a54",
   "metadata": {},
   "outputs": [
    {
     "data": {
      "text/html": [
       "<div>\n",
       "<style scoped>\n",
       "    .dataframe tbody tr th:only-of-type {\n",
       "        vertical-align: middle;\n",
       "    }\n",
       "\n",
       "    .dataframe tbody tr th {\n",
       "        vertical-align: top;\n",
       "    }\n",
       "\n",
       "    .dataframe thead th {\n",
       "        text-align: right;\n",
       "    }\n",
       "</style>\n",
       "<table border=\"1\" class=\"dataframe\">\n",
       "  <thead>\n",
       "    <tr style=\"text-align: right;\">\n",
       "      <th></th>\n",
       "      <th>total_bill</th>\n",
       "      <th>tip</th>\n",
       "      <th>sex</th>\n",
       "      <th>smoker</th>\n",
       "      <th>day</th>\n",
       "      <th>time</th>\n",
       "      <th>size</th>\n",
       "    </tr>\n",
       "  </thead>\n",
       "  <tbody>\n",
       "    <tr>\n",
       "      <th>0</th>\n",
       "      <td>16.99</td>\n",
       "      <td>1.01</td>\n",
       "      <td>Female</td>\n",
       "      <td>No</td>\n",
       "      <td>Sun</td>\n",
       "      <td>Dinner</td>\n",
       "      <td>2</td>\n",
       "    </tr>\n",
       "    <tr>\n",
       "      <th>1</th>\n",
       "      <td>10.34</td>\n",
       "      <td>1.66</td>\n",
       "      <td>Male</td>\n",
       "      <td>No</td>\n",
       "      <td>Sun</td>\n",
       "      <td>Dinner</td>\n",
       "      <td>3</td>\n",
       "    </tr>\n",
       "    <tr>\n",
       "      <th>2</th>\n",
       "      <td>21.01</td>\n",
       "      <td>3.50</td>\n",
       "      <td>Male</td>\n",
       "      <td>No</td>\n",
       "      <td>Sun</td>\n",
       "      <td>Dinner</td>\n",
       "      <td>3</td>\n",
       "    </tr>\n",
       "    <tr>\n",
       "      <th>3</th>\n",
       "      <td>23.68</td>\n",
       "      <td>3.31</td>\n",
       "      <td>Male</td>\n",
       "      <td>No</td>\n",
       "      <td>Sun</td>\n",
       "      <td>Dinner</td>\n",
       "      <td>2</td>\n",
       "    </tr>\n",
       "    <tr>\n",
       "      <th>4</th>\n",
       "      <td>24.59</td>\n",
       "      <td>3.61</td>\n",
       "      <td>Female</td>\n",
       "      <td>No</td>\n",
       "      <td>Sun</td>\n",
       "      <td>Dinner</td>\n",
       "      <td>4</td>\n",
       "    </tr>\n",
       "  </tbody>\n",
       "</table>\n",
       "</div>"
      ],
      "text/plain": [
       "   total_bill   tip     sex smoker  day    time  size\n",
       "0       16.99  1.01  Female     No  Sun  Dinner     2\n",
       "1       10.34  1.66    Male     No  Sun  Dinner     3\n",
       "2       21.01  3.50    Male     No  Sun  Dinner     3\n",
       "3       23.68  3.31    Male     No  Sun  Dinner     2\n",
       "4       24.59  3.61  Female     No  Sun  Dinner     4"
      ]
     },
     "execution_count": 19,
     "metadata": {},
     "output_type": "execute_result"
    }
   ],
   "source": [
    "raw_data.head()"
   ]
  },
  {
   "cell_type": "code",
   "execution_count": 20,
   "id": "bf49efa1",
   "metadata": {},
   "outputs": [
    {
     "data": {
      "text/plain": [
       "float64     2\n",
       "category    1\n",
       "category    1\n",
       "category    1\n",
       "category    1\n",
       "int64       1\n",
       "dtype: int64"
      ]
     },
     "execution_count": 20,
     "metadata": {},
     "output_type": "execute_result"
    }
   ],
   "source": [
    "raw_data.dtypes.value_counts()"
   ]
  },
  {
   "cell_type": "code",
   "execution_count": 21,
   "id": "d0d3b132",
   "metadata": {},
   "outputs": [
    {
     "data": {
      "text/plain": [
       "<AxesSubplot:xlabel='total_bill', ylabel='Count'>"
      ]
     },
     "execution_count": 21,
     "metadata": {},
     "output_type": "execute_result"
    },
    {
     "data": {
      "image/png": "[encoded data removed]",
      "text/plain": [
       "<Figure size 432x288 with 1 Axes>"
      ]
     },
     "metadata": {
      "needs_background": "light"
     },
     "output_type": "display_data"
    }
   ],
   "source": [
    "sns.histplot(raw_data.total_bill)"
   ]
  },
  {
   "cell_type": "markdown",
   "id": "1ee871bf",
   "metadata": {},
   "source": [
    "## Setup features, label"
   ]
  },
  {
   "cell_type": "code",
   "execution_count": 22,
   "id": "4d357663",
   "metadata": {},
   "outputs": [],
   "source": [
    "y = raw_data.total_bill\n",
    "X = raw_data.drop(columns=['total_bill'])"
   ]
  },
  {
   "cell_type": "markdown",
   "id": "d3d28d24",
   "metadata": {},
   "source": [
    "Split data into train and test"
   ]
  },
  {
   "cell_type": "code",
   "execution_count": 23,
   "id": "fd43b076",
   "metadata": {},
   "outputs": [],
   "source": [
    "X_train, X_test, y_train, y_test = train_test_split(\n",
    "    X, y, test_size=0.2, random_state=0\n",
    ")\n",
    "lgb_train = lgb.Dataset(X_train, y_train)\n",
    "lgb_eval = lgb.Dataset(X_test, y_test, reference=lgb_train)"
   ]
  },
  {
   "cell_type": "markdown",
   "id": "3fda1c6e",
   "metadata": {
    "tags": []
   },
   "source": [
    "## Compare regression_l2 vs poisson"
   ]
  },
  {
   "cell_type": "code",
   "execution_count": 24,
   "id": "5d19c65e",
   "metadata": {},
   "outputs": [],
   "source": [
    "lgbm_params = {'objective': 'regression_l2',\n",
    "               'learning_rate': 0.5,\n",
    "               'random_seed': 0, 'verbose': -1}\n",
    "gbm_l2 = train_early_stopping_lgb(lgbm_params, lgb_train, lgb_eval)"
   ]
  },
  {
   "cell_type": "code",
   "execution_count": 25,
   "id": "09014d2f",
   "metadata": {},
   "outputs": [],
   "source": [
    "lgbm_params = {\n",
    "    'objective': 'poisson',\n",
    "    'learning_rate': 0.5,\n",
    "    'random_seed': 0,\n",
    "    'verbose': -1,\n",
    "}\n",
    "gbm_poisson = train_early_stopping_lgb(lgbm_params, lgb_train, lgb_eval)"
   ]
  },
  {
   "cell_type": "code",
   "execution_count": 26,
   "id": "8bd2853e",
   "metadata": {},
   "outputs": [
    {
     "name": "stdout",
     "output_type": "stream",
     "text": [
      "Booster, mse, mse = 26.73\n"
     ]
    }
   ],
   "source": [
    "print_mse_performance(gbm_l2, X_test, y_test, 'mse')"
   ]
  },
  {
   "cell_type": "code",
   "execution_count": 27,
   "id": "44b24d6b",
   "metadata": {},
   "outputs": [
    {
     "name": "stdout",
     "output_type": "stream",
     "text": [
      "Booster, poisson, mse = 27.23\n"
     ]
    }
   ],
   "source": [
    "print_mse_performance(gbm_poisson, X_test, y_test, 'poisson')"
   ]
  },
  {
   "cell_type": "code",
   "execution_count": 28,
   "id": "44ef2efa",
   "metadata": {},
   "outputs": [
    {
     "data": {
      "text/plain": [
       "Text(0.5, 0, 'poisson')"
      ]
     },
     "execution_count": 28,
     "metadata": {},
     "output_type": "execute_result"
    },
    {
     "data": {
      "image/png": "[encoded data removed]",
      "text/plain": [
       "<Figure size 864x288 with 3 Axes>"
      ]
     },
     "metadata": {
      "needs_background": "light"
     },
     "output_type": "display_data"
    }
   ],
   "source": [
    "fig, (ax1, ax2, ax3) = plt.subplots(\n",
    "    1, 3, figsize=(12, 4), sharex=True, sharey=True\n",
    ")\n",
    "fig.suptitle('total bill distribution')\n",
    "sns.histplot(y_test, ax=ax1).set_xlabel('y_true')\n",
    "sns.histplot(gbm_l2.predict(X_test), ax=ax2).set_xlabel('mse')\n",
    "sns.histplot(gbm_poisson.predict(X_test), ax=ax3).set_xlabel('poisson')"
   ]
  },
  {
   "cell_type": "code",
   "execution_count": 29,
   "id": "5cd2eca6",
   "metadata": {},
   "outputs": [
    {
     "data": {
      "image/png": "[encoded data removed]",
      "text/plain": [
       "<Figure size 864x288 with 2 Axes>"
      ]
     },
     "metadata": {
      "needs_background": "light"
     },
     "output_type": "display_data"
    }
   ],
   "source": [
    "fig, (ax1, ax2) = plt.subplots(1, 2, figsize=(12, 4))\n",
    "plot_actual_predict(y_test, gbm_l2.predict(X_test), ax1, 'mse')\n",
    "plot_actual_predict(y_test, gbm_poisson.predict(X_test), ax2, 'poisson')"
   ]
  },
  {
   "cell_type": "code",
   "execution_count": 30,
   "id": "6775ff83",
   "metadata": {},
   "outputs": [
    {
     "data": {
      "image/png": "[encoded data removed]",
      "text/plain": [
       "<Figure size 864x288 with 2 Axes>"
      ]
     },
     "metadata": {
      "needs_background": "light"
     },
     "output_type": "display_data"
    }
   ],
   "source": [
    "fig, (ax1, ax2) = plt.subplots(1, 2, figsize=(12, 4))\n",
    "plot_actual_residual(y_test, gbm_l2.predict(X_test), ax1, 'mse')\n",
    "plot_actual_residual(y_test, gbm_poisson.predict(X_test), ax2, 'poisson')"
   ]
  },
  {
   "cell_type": "markdown",
   "id": "6ad05bfd",
   "metadata": {
    "incorrectly_encoded_metadata": "jp-MarkdownHeadingCollapsed=true",
    "tags": []
   },
   "source": [
    "## Compare mse vs quantile 0.2"
   ]
  },
  {
   "cell_type": "code",
   "execution_count": 31,
   "id": "190daf9b",
   "metadata": {},
   "outputs": [],
   "source": [
    "lgbm_params = {'objective': 'mse',\n",
    "               'learning_rate': 0.5,\n",
    "               'random_seed': 0, 'verbose': -1}\n",
    "gbm_l2 = train_early_stopping_lgb(lgbm_params, lgb_train, lgb_eval)"
   ]
  },
  {
   "cell_type": "code",
   "execution_count": 32,
   "id": "ef8474cf",
   "metadata": {},
   "outputs": [],
   "source": [
    "lgbm_params = {\n",
    "    'objective': 'quantile',\n",
    "    'alpha': 0.2,\n",
    "    'learning_rate': 0.5,\n",
    "    'random_seed': 0,\n",
    "    'verbose': -1,\n",
    "}\n",
    "gbm_quantile = train_early_stopping_lgb(lgbm_params, lgb_train, lgb_eval)"
   ]
  },
  {
   "cell_type": "code",
   "execution_count": 33,
   "id": "0fb9932f",
   "metadata": {},
   "outputs": [
    {
     "name": "stdout",
     "output_type": "stream",
     "text": [
      "Booster, mse, mse = 26.73\n"
     ]
    }
   ],
   "source": [
    "print_mse_performance(gbm_l2, X_test, y_test, 'mse')"
   ]
  },
  {
   "cell_type": "code",
   "execution_count": 34,
   "id": "923ff697",
   "metadata": {},
   "outputs": [
    {
     "name": "stdout",
     "output_type": "stream",
     "text": [
      "Booster, mse, mse = 31.04\n"
     ]
    }
   ],
   "source": [
    "print_mse_performance(gbm_quantile, X_test, y_test, 'mse')"
   ]
  },
  {
   "cell_type": "code",
   "execution_count": 35,
   "id": "73d5673d",
   "metadata": {},
   "outputs": [
    {
     "data": {
      "image/png": "[encoded data removed]",
      "text/plain": [
       "<Figure size 864x288 with 2 Axes>"
      ]
     },
     "metadata": {
      "needs_background": "light"
     },
     "output_type": "display_data"
    }
   ],
   "source": [
    "fig, (ax1, ax2) = plt.subplots(1, 2, figsize=(12, 4))\n",
    "plot_actual_predict(y_test, gbm_l2.predict(X_test), ax1, 'mse')\n",
    "plot_actual_predict(y_test, gbm_quantile.predict(X_test), ax2, 'quantile 0.2')"
   ]
  },
  {
   "cell_type": "markdown",
   "id": "094db0d5",
   "metadata": {},
   "source": [
    "### Compute error for lower half"
   ]
  },
  {
   "cell_type": "code",
   "execution_count": 36,
   "id": "684f949d",
   "metadata": {},
   "outputs": [],
   "source": [
    "X_test_lower = X_test[y_test < 25]\n",
    "y_test_lower = y_test[y_test < 25]"
   ]
  },
  {
   "cell_type": "code",
   "execution_count": 37,
   "id": "74b73e0c",
   "metadata": {},
   "outputs": [
    {
     "name": "stdout",
     "output_type": "stream",
     "text": [
      "Booster, mse, mse = 19.50\n"
     ]
    }
   ],
   "source": [
    "print_mse_performance(gbm_l2, X_test_lower, y_test_lower, 'mse')"
   ]
  },
  {
   "cell_type": "code",
   "execution_count": 38,
   "id": "ac4b6f20",
   "metadata": {},
   "outputs": [
    {
     "name": "stdout",
     "output_type": "stream",
     "text": [
      "Booster, mse, mse = 9.39\n"
     ]
    }
   ],
   "source": [
    "print_mse_performance(gbm_quantile, X_test_lower, y_test_lower, 'mse')"
   ]
  }
 ],
 "metadata": {
  "jupytext": {
   "formats": "ipynb,py:light"
  },
  "kernelspec": {
   "display_name": "Python 3 (ipykernel)",
   "language": "python",
   "name": "python3"
  },
  "language_info": {
   "codemirror_mode": {
    "name": "ipython",
    "version": 3
   },
   "file_extension": ".py",
   "mimetype": "text/x-python",
   "name": "python",
   "nbconvert_exporter": "python",
   "pygments_lexer": "ipython3",
   "version": "3.8.10"
  }
 },
 "nbformat": 4,
 "nbformat_minor": 5
}
