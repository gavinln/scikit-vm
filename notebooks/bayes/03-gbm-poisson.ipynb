{
 "cells": [
  {
   "cell_type": "markdown",
   "id": "a71249b6",
   "metadata": {},
   "source": [
    "# Poisson gradient boosting regression"
   ]
  },
  {
   "cell_type": "markdown",
   "id": "9cd8db4b",
   "metadata": {},
   "source": [
    "Using the tips dataset"
   ]
  },
  {
   "cell_type": "markdown",
   "id": "4299c3eb-d88f-462d-bafe-512660373936",
   "metadata": {},
   "source": [
    "Custom loss\n",
    "\n",
    "https://towardsdatascience.com/custom-loss-functions-for-gradient-boosting-f79c1b40466d"
   ]
  },
  {
   "cell_type": "markdown",
   "id": "1b96a040",
   "metadata": {
    "incorrectly_encoded_metadata": "tags=[] toc-hr-collapsed=true"
   },
   "source": [
    "## Setup libraries"
   ]
  },
  {
   "cell_type": "code",
   "execution_count": 1,
   "id": "352021a3",
   "metadata": {},
   "outputs": [],
   "source": [
    "%load_ext autoreload\n",
    "%autoreload 2"
   ]
  },
  {
   "cell_type": "code",
   "execution_count": 2,
   "id": "f1145490",
   "metadata": {},
   "outputs": [],
   "source": [
    "import warnings"
   ]
  },
  {
   "cell_type": "code",
   "execution_count": 3,
   "id": "9d0ede5a",
   "metadata": {},
   "outputs": [],
   "source": [
    "import pandas as pd\n",
    "import seaborn as sns\n",
    "import numpy as np"
   ]
  },
  {
   "cell_type": "code",
   "execution_count": 4,
   "id": "fa9d58b2",
   "metadata": {},
   "outputs": [],
   "source": [
    "import sys"
   ]
  },
  {
   "cell_type": "code",
   "execution_count": 5,
   "id": "f7909c87",
   "metadata": {},
   "outputs": [],
   "source": [
    "from sklearn.model_selection import train_test_split\n",
    "from sklearn.model_selection import cross_val_score\n",
    "from sklearn.model_selection import cross_validate"
   ]
  },
  {
   "cell_type": "code",
   "execution_count": 6,
   "id": "a155e5fa",
   "metadata": {},
   "outputs": [],
   "source": [
    "from sklearn.metrics import mean_squared_error\n",
    "from sklearn.preprocessing import StandardScaler\n",
    "from sklearn.model_selection import GridSearchCV"
   ]
  },
  {
   "cell_type": "code",
   "execution_count": 7,
   "id": "7f231697",
   "metadata": {},
   "outputs": [],
   "source": [
    "import lightgbm as lgb"
   ]
  },
  {
   "cell_type": "code",
   "execution_count": 8,
   "id": "70dcb782",
   "metadata": {
    "lines_to_next_cell": 2
   },
   "outputs": [],
   "source": [
    "import matplotlib.pyplot as plt"
   ]
  },
  {
   "cell_type": "code",
   "execution_count": 9,
   "id": "3a00ff7d",
   "metadata": {
    "lines_to_next_cell": 2
   },
   "outputs": [],
   "source": [
    "warnings.simplefilter(\"ignore\")"
   ]
  },
  {
   "cell_type": "markdown",
   "id": "a6f15fd4",
   "metadata": {
    "lines_to_next_cell": 2
   },
   "source": [
    "## Utility functions"
   ]
  },
  {
   "cell_type": "code",
   "execution_count": 10,
   "id": "2c58487f",
   "metadata": {},
   "outputs": [],
   "source": [
    "def print_mse_performance(model, X_test, y_test, name):\n",
    "    'display mean-squared-error for fitted model'\n",
    "\n",
    "    if isinstance(model, lgb.engine.CVBooster):\n",
    "        if model.best_iteration > 0:\n",
    "            y_pred_list = model.predict(\n",
    "                X_test, num_iteration=model.best_iteration\n",
    "            )\n",
    "        else:\n",
    "            y_pred_list = model.predict(X_test)\n",
    "        y_pred = np.mean(np.asarray(y_pred_list), axis=0)\n",
    "    else:\n",
    "        y_pred = model.predict(X_test)\n",
    "\n",
    "    mse = mean_squared_error(y_test, y_pred)\n",
    "    model_name = model.__class__.__name__\n",
    "    print('{}, {}, mse = {:.2f}'.format(model_name, name, mse))"
   ]
  },
  {
   "cell_type": "code",
   "execution_count": 11,
   "id": "98db8a7b",
   "metadata": {},
   "outputs": [],
   "source": [
    "def plot_actual_predict(actual, predict, ax, title):\n",
    "    'plot actual label vs predicted label'\n",
    "    model_predict = pd.DataFrame(\n",
    "        {'actual': actual, 'predict': predict, 'residual': predict - actual}\n",
    "    )\n",
    "    ax = sns.scatterplot(x='actual', y='predict', data=model_predict, ax=ax)\n",
    "    (xmin, xmax), (ymin, ymax) = [ax.get_xlim(), ax.get_ylim()]\n",
    "    min_axis, max_axis = min(xmin, ymin), max(xmax, ymax)\n",
    "    ax.set_xlim(min_axis, max_axis)\n",
    "    ax.set_ylim(min_axis, max_axis)\n",
    "    ax.plot([0, 1], [0, 1], transform=ax.transAxes)\n",
    "    ax.set_title(title)"
   ]
  },
  {
   "cell_type": "code",
   "execution_count": 12,
   "id": "13e3121e",
   "metadata": {},
   "outputs": [],
   "source": [
    "def plot_actual_residual(actual, predict, ax, title):\n",
    "    'plot actual label vs residual (predict - actual)'\n",
    "    model_predict = pd.DataFrame(\n",
    "        {'actual': actual, 'predict': predict, 'residual': predict - actual}\n",
    "    )\n",
    "    ax = sns.scatterplot(x='actual', y='residual', data=model_predict, ax=ax)\n",
    "    ax.axhline(y=0, color='red', linestyle='dotted')\n",
    "    ax.set_title(title)"
   ]
  },
  {
   "cell_type": "code",
   "execution_count": 13,
   "id": "9cf4277f",
   "metadata": {},
   "outputs": [],
   "source": [
    "def train_early_stopping_lgb(lgbm_params, lgb_train, lgb_eval):\n",
    "    'train lightgbm model with early stopping'\n",
    "    model = lgb.train(\n",
    "        lgbm_params,\n",
    "        lgb_train,\n",
    "        valid_sets=lgb_eval,\n",
    "        verbose_eval=-1,\n",
    "        callbacks=[lgb.early_stopping(10, verbose=False)],\n",
    "    )\n",
    "    return model"
   ]
  },
  {
   "cell_type": "code",
   "execution_count": 14,
   "id": "0059efbf",
   "metadata": {},
   "outputs": [],
   "source": [
    "def l2_loss(y, data):\n",
    "    t = data.get_label()\n",
    "    residual = y - t\n",
    "    # loss_mult = np.where(t < 25, 10 * np.ones_like(t), 1 * np.ones_like(t))\n",
    "    loss_mult = np.where(residual < 0, 5 * np.ones_like(t), 1 * np.ones_like(t))\n",
    "    grad = loss_mult * (y - t)\n",
    "    hess = loss_mult * np.ones_like(y)\n",
    "    return grad, hess"
   ]
  },
  {
   "cell_type": "code",
   "execution_count": 15,
   "id": "bde8cbae",
   "metadata": {},
   "outputs": [],
   "source": [
    "def l2_eval(y, data):\n",
    "    t = data.get_label()\n",
    "    residual = y - t\n",
    "    # loss_mult = np.where(t < 25, 10 * np.ones_like(t), 1 * np.ones_like(t))\n",
    "    loss_mult = np.where(residual < 0, 5 * np.ones_like(t), 1 * np.ones_like(t))\n",
    "    loss = loss_mult * (y - t) ** 2\n",
    "    return 'l2', loss.mean(), False"
   ]
  },
  {
   "cell_type": "code",
   "execution_count": 16,
   "id": "6961b8f0",
   "metadata": {},
   "outputs": [],
   "source": [
    "def train_custom_loss_l2(lgbm_params, lgb_train, lgb_eval):\n",
    "    ' use l2 loss with a custom function '\n",
    "    model = lgb.train(\n",
    "        lgbm_params,\n",
    "        lgb_train,\n",
    "        valid_sets=lgb_eval,\n",
    "        verbose_eval=-1,\n",
    "        callbacks=[lgb.early_stopping(10, verbose=False)],\n",
    "        fobj=l2_loss,\n",
    "        feval=l2_eval\n",
    "    )\n",
    "    return model"
   ]
  },
  {
   "cell_type": "code",
   "execution_count": 17,
   "id": "89fb1c00",
   "metadata": {},
   "outputs": [],
   "source": [
    "def train_cv_lgb(lgbm_params, lgb_train):\n",
    "    'train lightgbm model with cross validation'\n",
    "    cv_model = lgb.cv(\n",
    "        lgbm_params,\n",
    "        lgb_train,\n",
    "        nfold=3,\n",
    "        stratified=False,\n",
    "        verbose_eval=-1,\n",
    "        return_cvbooster=True,\n",
    "        callbacks=[lgb.early_stopping(10, verbose=False)],\n",
    "    )\n",
    "    return cv_model['cvbooster']"
   ]
  },
  {
   "cell_type": "markdown",
   "id": "a9e9eb6c",
   "metadata": {},
   "source": [
    "## Get data"
   ]
  },
  {
   "cell_type": "code",
   "execution_count": 18,
   "id": "d30e4309",
   "metadata": {},
   "outputs": [],
   "source": [
    "raw_data = sns.load_dataset('tips')"
   ]
  },
  {
   "cell_type": "code",
   "execution_count": 19,
   "id": "f2c308dc",
   "metadata": {},
   "outputs": [
    {
     "data": {
      "text/html": [
       "<div>\n",
       "<style scoped>\n",
       "    .dataframe tbody tr th:only-of-type {\n",
       "        vertical-align: middle;\n",
       "    }\n",
       "\n",
       "    .dataframe tbody tr th {\n",
       "        vertical-align: top;\n",
       "    }\n",
       "\n",
       "    .dataframe thead th {\n",
       "        text-align: right;\n",
       "    }\n",
       "</style>\n",
       "<table border=\"1\" class=\"dataframe\">\n",
       "  <thead>\n",
       "    <tr style=\"text-align: right;\">\n",
       "      <th></th>\n",
       "      <th>total_bill</th>\n",
       "      <th>tip</th>\n",
       "      <th>sex</th>\n",
       "      <th>smoker</th>\n",
       "      <th>day</th>\n",
       "      <th>time</th>\n",
       "      <th>size</th>\n",
       "    </tr>\n",
       "  </thead>\n",
       "  <tbody>\n",
       "    <tr>\n",
       "      <th>0</th>\n",
       "      <td>16.99</td>\n",
       "      <td>1.01</td>\n",
       "      <td>Female</td>\n",
       "      <td>No</td>\n",
       "      <td>Sun</td>\n",
       "      <td>Dinner</td>\n",
       "      <td>2</td>\n",
       "    </tr>\n",
       "    <tr>\n",
       "      <th>1</th>\n",
       "      <td>10.34</td>\n",
       "      <td>1.66</td>\n",
       "      <td>Male</td>\n",
       "      <td>No</td>\n",
       "      <td>Sun</td>\n",
       "      <td>Dinner</td>\n",
       "      <td>3</td>\n",
       "    </tr>\n",
       "    <tr>\n",
       "      <th>2</th>\n",
       "      <td>21.01</td>\n",
       "      <td>3.50</td>\n",
       "      <td>Male</td>\n",
       "      <td>No</td>\n",
       "      <td>Sun</td>\n",
       "      <td>Dinner</td>\n",
       "      <td>3</td>\n",
       "    </tr>\n",
       "    <tr>\n",
       "      <th>3</th>\n",
       "      <td>23.68</td>\n",
       "      <td>3.31</td>\n",
       "      <td>Male</td>\n",
       "      <td>No</td>\n",
       "      <td>Sun</td>\n",
       "      <td>Dinner</td>\n",
       "      <td>2</td>\n",
       "    </tr>\n",
       "    <tr>\n",
       "      <th>4</th>\n",
       "      <td>24.59</td>\n",
       "      <td>3.61</td>\n",
       "      <td>Female</td>\n",
       "      <td>No</td>\n",
       "      <td>Sun</td>\n",
       "      <td>Dinner</td>\n",
       "      <td>4</td>\n",
       "    </tr>\n",
       "  </tbody>\n",
       "</table>\n",
       "</div>"
      ],
      "text/plain": [
       "   total_bill   tip     sex smoker  day    time  size\n",
       "0       16.99  1.01  Female     No  Sun  Dinner     2\n",
       "1       10.34  1.66    Male     No  Sun  Dinner     3\n",
       "2       21.01  3.50    Male     No  Sun  Dinner     3\n",
       "3       23.68  3.31    Male     No  Sun  Dinner     2\n",
       "4       24.59  3.61  Female     No  Sun  Dinner     4"
      ]
     },
     "execution_count": 19,
     "metadata": {},
     "output_type": "execute_result"
    }
   ],
   "source": [
    "raw_data.head()"
   ]
  },
  {
   "cell_type": "code",
   "execution_count": 20,
   "id": "900b913b",
   "metadata": {},
   "outputs": [
    {
     "data": {
      "text/plain": [
       "float64     2\n",
       "category    1\n",
       "category    1\n",
       "category    1\n",
       "category    1\n",
       "int64       1\n",
       "dtype: int64"
      ]
     },
     "execution_count": 20,
     "metadata": {},
     "output_type": "execute_result"
    }
   ],
   "source": [
    "raw_data.dtypes.value_counts()"
   ]
  },
  {
   "cell_type": "code",
   "execution_count": 21,
   "id": "58739a97",
   "metadata": {},
   "outputs": [
    {
     "data": {
      "text/plain": [
       "<AxesSubplot:xlabel='total_bill', ylabel='Count'>"
      ]
     },
     "execution_count": 21,
     "metadata": {},
     "output_type": "execute_result"
    },
    {
     "data": {
      "image/png": "[encoded data removed]",
      "text/plain": [
       "<Figure size 432x288 with 1 Axes>"
      ]
     },
     "metadata": {
      "needs_background": "light"
     },
     "output_type": "display_data"
    }
   ],
   "source": [
    "sns.histplot(raw_data.total_bill)"
   ]
  },
  {
   "cell_type": "markdown",
   "id": "cfde1f0e",
   "metadata": {},
   "source": [
    "## Setup features, label"
   ]
  },
  {
   "cell_type": "code",
   "execution_count": 22,
   "id": "1d6c6d12",
   "metadata": {},
   "outputs": [],
   "source": [
    "y = raw_data.total_bill\n",
    "X = raw_data.drop(columns=['total_bill'])"
   ]
  },
  {
   "cell_type": "markdown",
   "id": "4327b0f0",
   "metadata": {},
   "source": [
    "Split data into train and test"
   ]
  },
  {
   "cell_type": "code",
   "execution_count": 23,
   "id": "0735c64d",
   "metadata": {},
   "outputs": [],
   "source": [
    "X_train, X_test, y_train, y_test = train_test_split(\n",
    "    X, y, test_size=0.2, random_state=0\n",
    ")\n",
    "lgb_train = lgb.Dataset(X_train, y_train)\n",
    "lgb_eval = lgb.Dataset(X_test, y_test, reference=lgb_train)"
   ]
  },
  {
   "cell_type": "markdown",
   "id": "75c4080a",
   "metadata": {
    "tags": []
   },
   "source": [
    "## Compare regression_l2 vs poisson"
   ]
  },
  {
   "cell_type": "code",
   "execution_count": 24,
   "id": "37dca54c",
   "metadata": {},
   "outputs": [],
   "source": [
    "lgbm_params = {'objective': 'regression_l2',\n",
    "               'learning_rate': 0.5,\n",
    "               'random_seed': 0, 'verbose': -1}\n",
    "gbm_l2 = train_early_stopping_lgb(lgbm_params, lgb_train, lgb_eval)"
   ]
  },
  {
   "cell_type": "code",
   "execution_count": 25,
   "id": "0179cef1",
   "metadata": {},
   "outputs": [],
   "source": [
    "lgbm_params = {\n",
    "    'objective': 'poisson',\n",
    "    'learning_rate': 0.5,\n",
    "    'random_seed': 0,\n",
    "    'verbose': -1,\n",
    "}\n",
    "gbm_poisson = train_early_stopping_lgb(lgbm_params, lgb_train, lgb_eval)"
   ]
  },
  {
   "cell_type": "code",
   "execution_count": 26,
   "id": "c464fa01",
   "metadata": {},
   "outputs": [
    {
     "name": "stdout",
     "output_type": "stream",
     "text": [
      "Booster, mse, mse = 26.73\n"
     ]
    }
   ],
   "source": [
    "print_mse_performance(gbm_l2, X_test, y_test, 'mse')"
   ]
  },
  {
   "cell_type": "code",
   "execution_count": 27,
   "id": "95ae6bef",
   "metadata": {},
   "outputs": [
    {
     "name": "stdout",
     "output_type": "stream",
     "text": [
      "Booster, poisson, mse = 27.23\n"
     ]
    }
   ],
   "source": [
    "print_mse_performance(gbm_poisson, X_test, y_test, 'poisson')"
   ]
  },
  {
   "cell_type": "code",
   "execution_count": 28,
   "id": "6bbc9efc",
   "metadata": {},
   "outputs": [
    {
     "data": {
      "text/plain": [
       "Text(0.5, 0, 'poisson')"
      ]
     },
     "execution_count": 28,
     "metadata": {},
     "output_type": "execute_result"
    },
    {
     "data": {
      "image/png": "[encoded data removed]",
      "text/plain": [
       "<Figure size 864x288 with 3 Axes>"
      ]
     },
     "metadata": {
      "needs_background": "light"
     },
     "output_type": "display_data"
    }
   ],
   "source": [
    "fig, (ax1, ax2, ax3) = plt.subplots(\n",
    "    1, 3, figsize=(12, 4), sharex=True, sharey=True\n",
    ")\n",
    "fig.suptitle('total bill distribution')\n",
    "sns.histplot(y_test, ax=ax1).set_xlabel('y_true')\n",
    "sns.histplot(gbm_l2.predict(X_test), ax=ax2).set_xlabel('l2')\n",
    "sns.histplot(gbm_poisson.predict(X_test), ax=ax3).set_xlabel('poisson')"
   ]
  },
  {
   "cell_type": "code",
   "execution_count": 29,
   "id": "dd4cfc6d",
   "metadata": {},
   "outputs": [
    {
     "data": {
      "image/png": "[encoded data removed]",
      "text/plain": [
       "<Figure size 864x288 with 2 Axes>"
      ]
     },
     "metadata": {
      "needs_background": "light"
     },
     "output_type": "display_data"
    }
   ],
   "source": [
    "fig, (ax1, ax2) = plt.subplots(1, 2, figsize=(12, 4))\n",
    "plot_actual_predict(y_test, gbm_l2.predict(X_test), ax1, 'l2')\n",
    "plot_actual_predict(y_test, gbm_poisson.predict(X_test), ax2, 'poisson')"
   ]
  },
  {
   "cell_type": "code",
   "execution_count": 30,
   "id": "e87f54c5",
   "metadata": {},
   "outputs": [
    {
     "data": {
      "image/png": "[encoded data removed]",
      "text/plain": [
       "<Figure size 864x288 with 2 Axes>"
      ]
     },
     "metadata": {
      "needs_background": "light"
     },
     "output_type": "display_data"
    }
   ],
   "source": [
    "fig, (ax1, ax2) = plt.subplots(1, 2, figsize=(12, 4))\n",
    "plot_actual_residual(y_test, gbm_l2.predict(X_test), ax1, 'l2')\n",
    "plot_actual_residual(y_test, gbm_poisson.predict(X_test), ax2, 'poisson')"
   ]
  },
  {
   "cell_type": "markdown",
   "id": "68905808",
   "metadata": {
    "incorrectly_encoded_metadata": "jp-MarkdownHeadingCollapsed=true",
    "tags": []
   },
   "source": [
    "## Compare mse vs quantile 0.2"
   ]
  },
  {
   "cell_type": "code",
   "execution_count": 31,
   "id": "3ff98488",
   "metadata": {},
   "outputs": [],
   "source": [
    "lgbm_params = {'objective': 'l2',\n",
    "               'learning_rate': 0.5,\n",
    "               'random_seed': 0, 'verbose': -1}\n",
    "gbm_l2 = train_early_stopping_lgb(lgbm_params, lgb_train, lgb_eval)"
   ]
  },
  {
   "cell_type": "code",
   "execution_count": 32,
   "id": "2400cc49",
   "metadata": {},
   "outputs": [],
   "source": [
    "lgbm_params = {\n",
    "    'objective': 'quantile',\n",
    "    'alpha': 0.2,\n",
    "    'learning_rate': 0.5,\n",
    "    'random_seed': 0,\n",
    "    'verbose': -1,\n",
    "}\n",
    "gbm_quantile = train_early_stopping_lgb(lgbm_params, lgb_train, lgb_eval)"
   ]
  },
  {
   "cell_type": "code",
   "execution_count": 33,
   "id": "7b626771",
   "metadata": {},
   "outputs": [
    {
     "name": "stdout",
     "output_type": "stream",
     "text": [
      "Booster, l2, mse = 26.73\n"
     ]
    }
   ],
   "source": [
    "print_mse_performance(gbm_l2, X_test, y_test, 'l2')"
   ]
  },
  {
   "cell_type": "code",
   "execution_count": 34,
   "id": "6d8147ee",
   "metadata": {},
   "outputs": [
    {
     "name": "stdout",
     "output_type": "stream",
     "text": [
      "Booster, quantile 0.2, mse = 31.04\n"
     ]
    }
   ],
   "source": [
    "print_mse_performance(gbm_quantile, X_test, y_test, 'quantile 0.2')"
   ]
  },
  {
   "cell_type": "code",
   "execution_count": 35,
   "id": "f4ce9b19",
   "metadata": {},
   "outputs": [
    {
     "data": {
      "image/png": "[encoded data removed]",
      "text/plain": [
       "<Figure size 864x288 with 2 Axes>"
      ]
     },
     "metadata": {
      "needs_background": "light"
     },
     "output_type": "display_data"
    }
   ],
   "source": [
    "fig, (ax1, ax2) = plt.subplots(1, 2, figsize=(12, 4))\n",
    "plot_actual_predict(y_test, gbm_l2.predict(X_test), ax1, 'l2')\n",
    "plot_actual_predict(y_test, gbm_quantile.predict(X_test), ax2, 'quantile 0.2')"
   ]
  },
  {
   "cell_type": "markdown",
   "id": "031d4803",
   "metadata": {},
   "source": [
    "### Compute error for lower half"
   ]
  },
  {
   "cell_type": "code",
   "execution_count": 36,
   "id": "3d6ac449",
   "metadata": {},
   "outputs": [],
   "source": [
    "X_test_lower = X_test[y_test < 25]\n",
    "y_test_lower = y_test[y_test < 25]"
   ]
  },
  {
   "cell_type": "code",
   "execution_count": 37,
   "id": "06dc395a",
   "metadata": {},
   "outputs": [
    {
     "name": "stdout",
     "output_type": "stream",
     "text": [
      "Booster, l2, mse = 19.50\n"
     ]
    }
   ],
   "source": [
    "print_mse_performance(gbm_l2, X_test_lower, y_test_lower, 'l2')"
   ]
  },
  {
   "cell_type": "code",
   "execution_count": 38,
   "id": "2b5c067b",
   "metadata": {},
   "outputs": [
    {
     "name": "stdout",
     "output_type": "stream",
     "text": [
      "Booster, quantile 0.2, mse = 9.39\n"
     ]
    }
   ],
   "source": [
    "print_mse_performance(gbm_quantile, X_test_lower, y_test_lower, 'quantile 0.2')"
   ]
  },
  {
   "cell_type": "markdown",
   "id": "3514c3b6",
   "metadata": {},
   "source": [
    "## L2 loss vs custom loss"
   ]
  },
  {
   "cell_type": "code",
   "execution_count": 39,
   "id": "d2a40875",
   "metadata": {},
   "outputs": [],
   "source": [
    "lgbm_params = {'objective': 'regression_l2',\n",
    "               'learning_rate': 0.5,\n",
    "               'random_seed': 0, 'verbose': -1}\n",
    "gbm_l2 = train_early_stopping_lgb(lgbm_params, lgb_train, lgb_eval)"
   ]
  },
  {
   "cell_type": "code",
   "execution_count": 40,
   "id": "a7c82a1f",
   "metadata": {},
   "outputs": [],
   "source": [
    "lgbm_params = {'objective': 'regression',\n",
    "               'learning_rate': 0.5,\n",
    "               'random_seed': 0, 'verbose': -1}\n",
    "gbm_custom_l2 = train_custom_loss_l2(lgbm_params, lgb_train, lgb_eval)"
   ]
  },
  {
   "cell_type": "code",
   "execution_count": 41,
   "id": "0052e479",
   "metadata": {},
   "outputs": [
    {
     "name": "stdout",
     "output_type": "stream",
     "text": [
      "Booster, l2, mse = 26.73\n"
     ]
    }
   ],
   "source": [
    "print_mse_performance(gbm_l2, X_test, y_test, 'l2')"
   ]
  },
  {
   "cell_type": "code",
   "execution_count": 42,
   "id": "8b69167c",
   "metadata": {},
   "outputs": [
    {
     "name": "stdout",
     "output_type": "stream",
     "text": [
      "Booster, custom_l2, mse = 37.28\n"
     ]
    }
   ],
   "source": [
    "print_mse_performance(gbm_custom_l2, X_test, y_test, 'custom_l2')"
   ]
  },
  {
   "cell_type": "code",
   "execution_count": 43,
   "id": "9506e05d",
   "metadata": {},
   "outputs": [
    {
     "data": {
      "text/plain": [
       "Text(0.5, 0, 'custom_l2')"
      ]
     },
     "execution_count": 43,
     "metadata": {},
     "output_type": "execute_result"
    },
    {
     "data": {
      "image/png": "[encoded data removed]",
      "text/plain": [
       "<Figure size 864x288 with 3 Axes>"
      ]
     },
     "metadata": {
      "needs_background": "light"
     },
     "output_type": "display_data"
    }
   ],
   "source": [
    "fig, (ax1, ax2, ax3) = plt.subplots(\n",
    "    1, 3, figsize=(12, 4), sharex=True, sharey=True\n",
    ")\n",
    "fig.suptitle('total bill distribution')\n",
    "sns.histplot(y_test, ax=ax1).set_xlabel('y_true')\n",
    "sns.histplot(gbm_l2.predict(X_test), ax=ax2).set_xlabel('l2')\n",
    "sns.histplot(gbm_custom_l2.predict(X_test), ax=ax3).set_xlabel('custom_l2')"
   ]
  },
  {
   "cell_type": "code",
   "execution_count": 44,
   "id": "dbb0aa44",
   "metadata": {},
   "outputs": [
    {
     "data": {
      "image/png": "[encoded data removed]",
      "text/plain": [
       "<Figure size 864x288 with 2 Axes>"
      ]
     },
     "metadata": {
      "needs_background": "light"
     },
     "output_type": "display_data"
    }
   ],
   "source": [
    "fig, (ax1, ax2) = plt.subplots(1, 2, figsize=(12, 4), sharey=True)\n",
    "plot_actual_predict(y_test, gbm_l2.predict(X_test), ax1, 'l2')\n",
    "plot_actual_predict(y_test, gbm_custom_l2.predict(X_test), ax2, 'custom_l2')"
   ]
  },
  {
   "cell_type": "code",
   "execution_count": 45,
   "id": "7c3e9f6f",
   "metadata": {},
   "outputs": [
    {
     "data": {
      "image/png": "[encoded data removed]",
      "text/plain": [
       "<Figure size 864x288 with 2 Axes>"
      ]
     },
     "metadata": {
      "needs_background": "light"
     },
     "output_type": "display_data"
    }
   ],
   "source": [
    "fig, (ax1, ax2) = plt.subplots(1, 2, figsize=(12, 4), sharey=True)\n",
    "plot_actual_residual(y_test, gbm_l2.predict(X_test), ax1, 'l2')\n",
    "plot_actual_residual(y_test, gbm_custom_l2.predict(X_test), ax2, 'custom_l2')"
   ]
  }
 ],
 "metadata": {
  "jupytext": {
   "formats": "ipynb,py:light"
  },
  "kernelspec": {
   "display_name": "Python 3 (ipykernel)",
   "language": "python",
   "name": "python3"
  },
  "language_info": {
   "codemirror_mode": {
    "name": "ipython",
    "version": 3
   },
   "file_extension": ".py",
   "mimetype": "text/x-python",
   "name": "python",
   "nbconvert_exporter": "python",
   "pygments_lexer": "ipython3",
   "version": "3.8.10"
  }
 },
 "nbformat": 4,
 "nbformat_minor": 5
}
