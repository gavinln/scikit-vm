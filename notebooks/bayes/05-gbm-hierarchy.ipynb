{
 "cells": [
  {
   "cell_type": "markdown",
   "id": "3f50ebb7",
   "metadata": {},
   "source": [
    "# Hierarchical gradient boosting"
   ]
  },
  {
   "cell_type": "markdown",
   "id": "5b2ff885",
   "metadata": {},
   "source": [
    "Using a simulated data set"
   ]
  },
  {
   "cell_type": "markdown",
   "id": "4bc363db",
   "metadata": {},
   "source": [
    "Custom loss\n",
    "\n",
    "https://towardsdatascience.com/custom-loss-functions-for-gradient-boosting-f79c1b40466d"
   ]
  },
  {
   "cell_type": "markdown",
   "id": "020e00b9",
   "metadata": {},
   "source": [
    "## Setup libraries"
   ]
  },
  {
   "cell_type": "code",
   "execution_count": 1,
   "id": "20089af3",
   "metadata": {},
   "outputs": [],
   "source": [
    "%load_ext autoreload\n",
    "%autoreload 2"
   ]
  },
  {
   "cell_type": "code",
   "execution_count": 2,
   "id": "e5806d12",
   "metadata": {},
   "outputs": [],
   "source": [
    "import warnings"
   ]
  },
  {
   "cell_type": "code",
   "execution_count": 3,
   "id": "f9655edd",
   "metadata": {},
   "outputs": [],
   "source": [
    "import pandas as pd\n",
    "import seaborn as sns\n",
    "import numpy as np"
   ]
  },
  {
   "cell_type": "code",
   "execution_count": 4,
   "id": "ed473f9d",
   "metadata": {},
   "outputs": [],
   "source": [
    "import sys"
   ]
  },
  {
   "cell_type": "code",
   "execution_count": 5,
   "id": "d8c7ebf1",
   "metadata": {},
   "outputs": [],
   "source": [
    "from sklearn.model_selection import train_test_split\n",
    "from sklearn.model_selection import cross_val_score\n",
    "from sklearn.model_selection import cross_validate"
   ]
  },
  {
   "cell_type": "code",
   "execution_count": 6,
   "id": "281cb986",
   "metadata": {},
   "outputs": [],
   "source": [
    "from sklearn.metrics import mean_squared_error\n",
    "from sklearn.preprocessing import StandardScaler\n",
    "from sklearn.model_selection import GridSearchCV"
   ]
  },
  {
   "cell_type": "code",
   "execution_count": 7,
   "id": "7116c351",
   "metadata": {},
   "outputs": [],
   "source": [
    "import lightgbm as lgb"
   ]
  },
  {
   "cell_type": "code",
   "execution_count": 8,
   "id": "187a1422",
   "metadata": {},
   "outputs": [],
   "source": [
    "import matplotlib.pyplot as plt"
   ]
  },
  {
   "cell_type": "code",
   "execution_count": 9,
   "id": "10545460",
   "metadata": {
    "lines_to_next_cell": 2
   },
   "outputs": [
    {
     "name": "stdout",
     "output_type": "stream",
     "text": [
      "Couldn't import dot_parser, loading of dot files will not be possible.\n"
     ]
    }
   ],
   "source": [
    "import arviz as az\n",
    "import bambi as bmb"
   ]
  },
  {
   "cell_type": "code",
   "execution_count": 10,
   "id": "ddf8e519",
   "metadata": {},
   "outputs": [],
   "source": [
    "az.style.use('arviz-darkgrid')"
   ]
  },
  {
   "cell_type": "code",
   "execution_count": 11,
   "id": "85785b04",
   "metadata": {
    "lines_to_next_cell": 2
   },
   "outputs": [],
   "source": [
    "warnings.simplefilter(\"ignore\")"
   ]
  },
  {
   "cell_type": "markdown",
   "id": "63f2fc19",
   "metadata": {
    "lines_to_next_cell": 2
   },
   "source": [
    "## Utility functions"
   ]
  },
  {
   "cell_type": "code",
   "execution_count": 12,
   "id": "ba654c1d",
   "metadata": {},
   "outputs": [],
   "source": [
    "pal = sns.color_palette()"
   ]
  },
  {
   "cell_type": "code",
   "execution_count": 13,
   "id": "20c4212c",
   "metadata": {},
   "outputs": [],
   "source": [
    "def print_mse_performance(model, X_test, y_test, name):\n",
    "    'display mean-squared-error for fitted model'\n",
    "\n",
    "    if isinstance(model, lgb.engine.CVBooster):\n",
    "        if model.best_iteration > 0:\n",
    "            y_pred_list = model.predict(\n",
    "                X_test, num_iteration=model.best_iteration\n",
    "            )\n",
    "        else:\n",
    "            y_pred_list = model.predict(X_test)\n",
    "        y_pred = np.mean(np.asarray(y_pred_list), axis=0)\n",
    "    else:\n",
    "        y_pred = model.predict(X_test)\n",
    "\n",
    "    mse = mean_squared_error(y_test, y_pred)\n",
    "    model_name = model.__class__.__name__\n",
    "    print('{}, {}, mse = {:.3f}'.format(model_name, name, mse))"
   ]
  },
  {
   "cell_type": "code",
   "execution_count": 14,
   "id": "ba6b90a8",
   "metadata": {},
   "outputs": [],
   "source": [
    "def plot_actual_predict(actual, predict, ax, title):\n",
    "    'plot actual label vs predicted label'\n",
    "    model_predict = pd.DataFrame(\n",
    "        {'actual': actual, 'predict': predict, 'residual': predict - actual}\n",
    "    )\n",
    "    ax = sns.scatterplot(x='actual', y='predict', data=model_predict, ax=ax)\n",
    "    (xmin, xmax), (ymin, ymax) = [ax.get_xlim(), ax.get_ylim()]\n",
    "    min_axis, max_axis = min(xmin, ymin), max(xmax, ymax)\n",
    "    ax.set_xlim(min_axis, max_axis)\n",
    "    ax.set_ylim(min_axis, max_axis)\n",
    "    ax.plot([0, 1], [0, 1], transform=ax.transAxes)\n",
    "    ax.set_title(title)"
   ]
  },
  {
   "cell_type": "code",
   "execution_count": 15,
   "id": "df661342",
   "metadata": {},
   "outputs": [],
   "source": [
    "def plot_actual_residual(actual, predict, ax, title):\n",
    "    'plot actual label vs residual (predict - actual)'\n",
    "    model_predict = pd.DataFrame(\n",
    "        {'actual': actual, 'predict': predict, 'residual': predict - actual}\n",
    "    )\n",
    "    ax = sns.scatterplot(x='actual', y='residual', data=model_predict, ax=ax)\n",
    "    ax.axhline(y=0, color='red', linestyle='dotted')\n",
    "    ax.set_title(title)"
   ]
  },
  {
   "cell_type": "code",
   "execution_count": 16,
   "id": "c179cbbc",
   "metadata": {},
   "outputs": [],
   "source": [
    "def train_early_stopping_lgb(lgbm_params, lgb_train, lgb_eval):\n",
    "    'train lightgbm model with early stopping'\n",
    "    model = lgb.train(\n",
    "        lgbm_params,\n",
    "        lgb_train,\n",
    "        valid_sets=lgb_eval,\n",
    "        verbose_eval=-1,\n",
    "        callbacks=[lgb.early_stopping(10, verbose=False)],\n",
    "    )\n",
    "    return model"
   ]
  },
  {
   "cell_type": "code",
   "execution_count": 17,
   "id": "cf2d82fc",
   "metadata": {},
   "outputs": [],
   "source": [
    "def l2_loss(y, data):\n",
    "    t = data.get_label()\n",
    "    residual = y - t\n",
    "    # loss_mult = np.where(t < 25, 10 * np.ones_like(t), 1 * np.ones_like(t))\n",
    "    loss_mult = np.where(\n",
    "        residual < 0, 5 * np.ones_like(t), 1 * np.ones_like(t)\n",
    "    )\n",
    "    grad = loss_mult * (y - t)\n",
    "    hess = loss_mult * np.ones_like(y)\n",
    "    return grad, hess"
   ]
  },
  {
   "cell_type": "code",
   "execution_count": 18,
   "id": "e1d13769",
   "metadata": {},
   "outputs": [],
   "source": [
    "def l2_eval(y, data):\n",
    "    t = data.get_label()\n",
    "    residual = y - t\n",
    "    # loss_mult = np.where(t < 25, 10 * np.ones_like(t), 1 * np.ones_like(t))\n",
    "    loss_mult = np.where(\n",
    "        residual < 0, 5 * np.ones_like(t), 1 * np.ones_like(t)\n",
    "    )\n",
    "    loss = loss_mult * (y - t) ** 2\n",
    "    return 'l2', loss.mean(), False"
   ]
  },
  {
   "cell_type": "code",
   "execution_count": 19,
   "id": "ea8defa0",
   "metadata": {},
   "outputs": [],
   "source": [
    "def train_custom_loss_l2(lgbm_params, lgb_train, lgb_eval):\n",
    "    'use l2 loss with a custom function'\n",
    "    model = lgb.train(\n",
    "        lgbm_params,\n",
    "        lgb_train,\n",
    "        valid_sets=lgb_eval,\n",
    "        verbose_eval=-1,\n",
    "        callbacks=[lgb.early_stopping(10, verbose=False)],\n",
    "        fobj=l2_loss,\n",
    "        feval=l2_eval,\n",
    "    )\n",
    "    return model"
   ]
  },
  {
   "cell_type": "code",
   "execution_count": 20,
   "id": "25a67582",
   "metadata": {},
   "outputs": [],
   "source": [
    "def train_cv_lgb(lgbm_params, lgb_train):\n",
    "    'train lightgbm model with cross validation'\n",
    "    cv_model = lgb.cv(\n",
    "        lgbm_params,\n",
    "        lgb_train,\n",
    "        nfold=3,\n",
    "        stratified=False,\n",
    "        verbose_eval=-1,\n",
    "        return_cvbooster=True,\n",
    "        callbacks=[lgb.early_stopping(10, verbose=False)],\n",
    "    )\n",
    "    return cv_model['cvbooster']"
   ]
  },
  {
   "cell_type": "code",
   "execution_count": 21,
   "id": "6f2a6c55",
   "metadata": {},
   "outputs": [],
   "source": [
    "def generate_data(size):\n",
    "    true_intercept = 1\n",
    "    true_slope1 = 1\n",
    "    true_slope2 = 3\n",
    "\n",
    "    x = np.linspace(0, 1, size)\n",
    "    # y = a + b * x\n",
    "    y1_true = true_intercept + true_slope1 * x\n",
    "    y2_true = true_intercept + true_slope2 * x\n",
    "    # add noise\n",
    "    scale = 0.2\n",
    "    y1 = y1_true + rng.normal(scale=scale, size=size)\n",
    "    y2 = y2_true + rng.normal(scale=scale, size=size)\n",
    "\n",
    "    return x, y1, y1_true, y2, y2_true"
   ]
  },
  {
   "cell_type": "code",
   "execution_count": 22,
   "id": "cec4586c",
   "metadata": {},
   "outputs": [],
   "source": [
    "def generate_wide_data(size):\n",
    "    x, y1, y1_true, y2, y2_true = generate_data(size)\n",
    "\n",
    "    return pd.DataFrame(\n",
    "        dict(x=x, y1=y1, y2=y2, y1_true=y1_true, y2_true=y2_true)\n",
    "    )"
   ]
  },
  {
   "cell_type": "code",
   "execution_count": 23,
   "id": "660d9925",
   "metadata": {},
   "outputs": [],
   "source": [
    "def generate_long_data(size):\n",
    "    x, y1, y1_true, y2, y2_true = generate_data(size)\n",
    "\n",
    "    grp = np.hstack([np.repeat('a', x.shape[0]), np.repeat('b', x.shape[0])])\n",
    "    x = np.hstack([x, x])\n",
    "    y = np.hstack([y1, y2])\n",
    "    y_true = np.hstack([y1_true, y2_true])\n",
    "\n",
    "    return pd.DataFrame(dict(x=x, y=y, y_true=y_true, grp=grp))"
   ]
  },
  {
   "cell_type": "code",
   "execution_count": 24,
   "id": "e0f6e65b",
   "metadata": {},
   "outputs": [],
   "source": [
    "def plot_wide_data(data):\n",
    "    assert set(data.columns).issuperset(\n",
    "        {'x', 'y1', 'y1_true', 'y2', 'y2_true'}\n",
    "    )\n",
    "    fig, ax = plt.subplots()\n",
    "    sns.lineplot(x='x', y='y1_true', data=data, color=pal[0], ax=ax)\n",
    "    sns.scatterplot(x='x', y='y1', data=data, color=pal[0], ax=ax)\n",
    "    sns.lineplot(x='x', y='y2_true', data=data, color=pal[1], ax=ax)\n",
    "    sns.scatterplot(x='x', y='y2', data=data, color=pal[1], ax=ax)"
   ]
  },
  {
   "cell_type": "code",
   "execution_count": 25,
   "id": "ef58c89f",
   "metadata": {},
   "outputs": [],
   "source": [
    "def plot_long_data(data):\n",
    "    assert set(data.columns).issuperset({'x', 'y', 'y_true', 'grp'})\n",
    "    fig, ax = plt.subplots()\n",
    "    sns.lineplot(x='x', y='y_true', data=data, hue='grp', ax=ax)\n",
    "    sns.scatterplot(x='x', y='y', data=data, hue='grp', ax=ax)"
   ]
  },
  {
   "cell_type": "markdown",
   "id": "4a393c1c",
   "metadata": {},
   "source": [
    "## Get data"
   ]
  },
  {
   "cell_type": "code",
   "execution_count": 26,
   "id": "628b3d1a",
   "metadata": {
    "lines_to_next_cell": 2
   },
   "outputs": [],
   "source": [
    "RANDOM_SEED = 1234\n",
    "rng = np.random.default_rng(RANDOM_SEED)"
   ]
  },
  {
   "cell_type": "code",
   "execution_count": 27,
   "id": "15098439",
   "metadata": {},
   "outputs": [],
   "source": [
    "long_data = generate_long_data(100)"
   ]
  },
  {
   "cell_type": "code",
   "execution_count": 28,
   "id": "f561b1f5",
   "metadata": {},
   "outputs": [],
   "source": [
    "# plot_long_data(long_data)"
   ]
  },
  {
   "cell_type": "code",
   "execution_count": 29,
   "id": "3291d7f3",
   "metadata": {},
   "outputs": [
    {
     "data": {
      "text/html": [
       "<div>\n",
       "<style scoped>\n",
       "    .dataframe tbody tr th:only-of-type {\n",
       "        vertical-align: middle;\n",
       "    }\n",
       "\n",
       "    .dataframe tbody tr th {\n",
       "        vertical-align: top;\n",
       "    }\n",
       "\n",
       "    .dataframe thead th {\n",
       "        text-align: right;\n",
       "    }\n",
       "</style>\n",
       "<table border=\"1\" class=\"dataframe\">\n",
       "  <thead>\n",
       "    <tr style=\"text-align: right;\">\n",
       "      <th></th>\n",
       "      <th>x</th>\n",
       "      <th>y</th>\n",
       "      <th>y_true</th>\n",
       "      <th>grp</th>\n",
       "    </tr>\n",
       "  </thead>\n",
       "  <tbody>\n",
       "    <tr>\n",
       "      <th>0</th>\n",
       "      <td>0.000000</td>\n",
       "      <td>0.679233</td>\n",
       "      <td>1.000000</td>\n",
       "      <td>a</td>\n",
       "    </tr>\n",
       "    <tr>\n",
       "      <th>1</th>\n",
       "      <td>0.010101</td>\n",
       "      <td>1.022921</td>\n",
       "      <td>1.010101</td>\n",
       "      <td>a</td>\n",
       "    </tr>\n",
       "    <tr>\n",
       "      <th>2</th>\n",
       "      <td>0.020202</td>\n",
       "      <td>1.168380</td>\n",
       "      <td>1.020202</td>\n",
       "      <td>a</td>\n",
       "    </tr>\n",
       "    <tr>\n",
       "      <th>3</th>\n",
       "      <td>0.030303</td>\n",
       "      <td>1.060827</td>\n",
       "      <td>1.030303</td>\n",
       "      <td>a</td>\n",
       "    </tr>\n",
       "    <tr>\n",
       "      <th>4</th>\n",
       "      <td>0.040404</td>\n",
       "      <td>1.213153</td>\n",
       "      <td>1.040404</td>\n",
       "      <td>a</td>\n",
       "    </tr>\n",
       "  </tbody>\n",
       "</table>\n",
       "</div>"
      ],
      "text/plain": [
       "          x         y    y_true grp\n",
       "0  0.000000  0.679233  1.000000   a\n",
       "1  0.010101  1.022921  1.010101   a\n",
       "2  0.020202  1.168380  1.020202   a\n",
       "3  0.030303  1.060827  1.030303   a\n",
       "4  0.040404  1.213153  1.040404   a"
      ]
     },
     "execution_count": 29,
     "metadata": {},
     "output_type": "execute_result"
    }
   ],
   "source": [
    "long_data.head()"
   ]
  },
  {
   "cell_type": "markdown",
   "id": "0fb14148",
   "metadata": {},
   "source": [
    "## Setup features, label"
   ]
  },
  {
   "cell_type": "code",
   "execution_count": 30,
   "id": "24cb0d6a",
   "metadata": {},
   "outputs": [],
   "source": [
    "cols = ['x', 'y', 'grp']\n",
    "raw_data = long_data.astype({'grp': 'category'})[cols]"
   ]
  },
  {
   "cell_type": "code",
   "execution_count": 31,
   "id": "50b12d05",
   "metadata": {},
   "outputs": [],
   "source": [
    "y_data_num = raw_data.y\n",
    "X_data_num = raw_data.drop(columns=['y', 'grp'])"
   ]
  },
  {
   "cell_type": "code",
   "execution_count": 32,
   "id": "237b3090",
   "metadata": {},
   "outputs": [],
   "source": [
    "y_data_cat = raw_data.y\n",
    "X_data_cat = raw_data.drop(columns=['y'])"
   ]
  },
  {
   "cell_type": "markdown",
   "id": "93871a7f",
   "metadata": {},
   "source": [
    "Split data into train and test"
   ]
  },
  {
   "cell_type": "code",
   "execution_count": 33,
   "id": "942af297",
   "metadata": {},
   "outputs": [],
   "source": [
    "X_train_num, X_test_num, y_train_num, y_test_num = train_test_split(\n",
    "    X_data_num, y_data_num, test_size=0.3, random_state=0\n",
    ")\n",
    "lgb_train_num = lgb.Dataset(X_train_num, y_train_num)\n",
    "lgb_eval_num = lgb.Dataset(X_test_num, y_test_num, reference=lgb_train_num)"
   ]
  },
  {
   "cell_type": "code",
   "execution_count": 34,
   "id": "04bb0de2",
   "metadata": {},
   "outputs": [],
   "source": [
    "X_train_cat, X_test_cat, y_train_cat, y_test_cat = train_test_split(\n",
    "    X_data_cat, y_data_cat, test_size=0.3, random_state=0\n",
    ")\n",
    "lgb_train_cat = lgb.Dataset(X_train_cat, y_train_cat)\n",
    "lgb_eval_cat = lgb.Dataset(X_test_cat, y_test_cat, reference=lgb_train_cat)"
   ]
  },
  {
   "cell_type": "code",
   "execution_count": 35,
   "id": "3988493f",
   "metadata": {},
   "outputs": [],
   "source": [
    "lgbm_params = {\n",
    "    'objective': 'regression_l2',\n",
    "    'learning_rate': 0.05,\n",
    "    'random_seed': 0,\n",
    "    'verbose': -1,\n",
    "}\n",
    "gbm_num = train_early_stopping_lgb(lgbm_params, lgb_train_num, lgb_eval_num)\n",
    "gbm_cat = train_early_stopping_lgb(lgbm_params, lgb_train_cat, lgb_eval_cat)"
   ]
  },
  {
   "cell_type": "code",
   "execution_count": 36,
   "id": "17b29c58",
   "metadata": {},
   "outputs": [
    {
     "name": "stdout",
     "output_type": "stream",
     "text": [
      "Booster, mse_num, mse = 0.405\n",
      "Booster, mse_cat, mse = 0.053\n"
     ]
    }
   ],
   "source": [
    "print_mse_performance(gbm_num, X_test_num, y_test_num, 'mse_num')\n",
    "print_mse_performance(gbm_cat, X_test_cat, y_test_cat, 'mse_cat')"
   ]
  },
  {
   "cell_type": "code",
   "execution_count": 37,
   "id": "02634392",
   "metadata": {},
   "outputs": [],
   "source": [
    "def plot_y_distribution():\n",
    "    fig, (ax1, ax2, ax3) = plt.subplots(\n",
    "        1, 3, figsize=(12, 4), sharex=True, sharey=True\n",
    "    )\n",
    "    fig.suptitle('y distribution')\n",
    "    sns.histplot(y_test_num, ax=ax1).set_xlabel('y_true')\n",
    "    sns.histplot(gbm_num.predict(X_test_num), ax=ax2).set_xlabel('l2_num')\n",
    "    sns.histplot(gbm_cat.predict(X_test_cat), ax=ax3).set_xlabel('l2_cat')"
   ]
  },
  {
   "cell_type": "code",
   "execution_count": 38,
   "id": "eb03b4e6",
   "metadata": {},
   "outputs": [],
   "source": [
    "def plot_compare_actual_predict():\n",
    "    fig, (ax1, ax2) = plt.subplots(1, 2, figsize=(12, 4))\n",
    "    plot_actual_predict(y_test_num, gbm_num.predict(X_test_num), ax1, 'l2_num')\n",
    "    plot_actual_predict(y_test_cat, gbm_cat.predict(X_test_cat), ax2, 'l2_cat')"
   ]
  },
  {
   "cell_type": "code",
   "execution_count": 39,
   "id": "897eb100",
   "metadata": {},
   "outputs": [],
   "source": [
    "# plot_y_distribution()\n",
    "# plot_compare_actual_predict()"
   ]
  },
  {
   "cell_type": "markdown",
   "id": "1831f62d",
   "metadata": {},
   "source": [
    "## Bayesian models"
   ]
  },
  {
   "cell_type": "code",
   "execution_count": 40,
   "id": "30b49729",
   "metadata": {},
   "outputs": [],
   "source": [
    "train_data = X_train_cat.assign(y=y_train_cat)"
   ]
  },
  {
   "cell_type": "code",
   "execution_count": 41,
   "id": "0e93c7be",
   "metadata": {},
   "outputs": [
    {
     "name": "stderr",
     "output_type": "stream",
     "text": [
      "Auto-assigning NUTS sampler...\n",
      "Initializing NUTS using jitter+adapt_diag...\n",
      "Multiprocess sampling (4 chains in 4 jobs)\n",
      "NUTS: [y_sigma, x, Intercept]\n"
     ]
    },
    {
     "data": {
      "text/html": [
       "\n",
       "<style>\n",
       "    /* Turns off some styling */\n",
       "    progress {\n",
       "        /* gets rid of default border in Firefox and Opera. */\n",
       "        border: none;\n",
       "        /* Needs to be in here for Safari polyfill so background images work as expected. */\n",
       "        background-size: auto;\n",
       "    }\n",
       "    .progress-bar-interrupted, .progress-bar-interrupted::-webkit-progress-bar {\n",
       "        background: #F44336;\n",
       "    }\n",
       "</style>\n"
      ],
      "text/plain": [
       "<IPython.core.display.HTML object>"
      ]
     },
     "metadata": {},
     "output_type": "display_data"
    },
    {
     "data": {
      "text/html": [
       "\n",
       "    <div>\n",
       "      <progress value='12000' class='' max='12000' style='width:300px; height:20px; vertical-align: middle;'></progress>\n",
       "      100.00% [12000/12000 00:03<00:00 Sampling 4 chains, 0 divergences]\n",
       "    </div>\n",
       "    "
      ],
      "text/plain": [
       "<IPython.core.display.HTML object>"
      ]
     },
     "metadata": {},
     "output_type": "display_data"
    },
    {
     "name": "stderr",
     "output_type": "stream",
     "text": [
      "Sampling 4 chains for 2_000 tune and 1_000 draw iterations (8_000 + 4_000 draws total) took 4 seconds.\n"
     ]
    }
   ],
   "source": [
    "model = bmb.Model(\"y ~ x\", train_data)\n",
    "fitted = model.fit(tune=2000)"
   ]
  },
  {
   "cell_type": "code",
   "execution_count": 42,
   "id": "0b075844",
   "metadata": {},
   "outputs": [
    {
     "data": {
      "text/html": [
       "<div>\n",
       "<style scoped>\n",
       "    .dataframe tbody tr th:only-of-type {\n",
       "        vertical-align: middle;\n",
       "    }\n",
       "\n",
       "    .dataframe tbody tr th {\n",
       "        vertical-align: top;\n",
       "    }\n",
       "\n",
       "    .dataframe thead th {\n",
       "        text-align: right;\n",
       "    }\n",
       "</style>\n",
       "<table border=\"1\" class=\"dataframe\">\n",
       "  <thead>\n",
       "    <tr style=\"text-align: right;\">\n",
       "      <th></th>\n",
       "      <th>mean</th>\n",
       "      <th>sd</th>\n",
       "      <th>hdi_3%</th>\n",
       "      <th>hdi_97%</th>\n",
       "      <th>mcse_mean</th>\n",
       "      <th>mcse_sd</th>\n",
       "      <th>ess_bulk</th>\n",
       "      <th>ess_tail</th>\n",
       "      <th>r_hat</th>\n",
       "    </tr>\n",
       "  </thead>\n",
       "  <tbody>\n",
       "    <tr>\n",
       "      <th>Intercept</th>\n",
       "      <td>1.000</td>\n",
       "      <td>0.106</td>\n",
       "      <td>0.795</td>\n",
       "      <td>1.194</td>\n",
       "      <td>0.001</td>\n",
       "      <td>0.001</td>\n",
       "      <td>5637.0</td>\n",
       "      <td>2846.0</td>\n",
       "      <td>1.0</td>\n",
       "    </tr>\n",
       "    <tr>\n",
       "      <th>x</th>\n",
       "      <td>2.012</td>\n",
       "      <td>0.179</td>\n",
       "      <td>1.701</td>\n",
       "      <td>2.370</td>\n",
       "      <td>0.002</td>\n",
       "      <td>0.002</td>\n",
       "      <td>5678.0</td>\n",
       "      <td>2894.0</td>\n",
       "      <td>1.0</td>\n",
       "    </tr>\n",
       "    <tr>\n",
       "      <th>y_sigma</th>\n",
       "      <td>0.613</td>\n",
       "      <td>0.038</td>\n",
       "      <td>0.542</td>\n",
       "      <td>0.684</td>\n",
       "      <td>0.001</td>\n",
       "      <td>0.000</td>\n",
       "      <td>5083.0</td>\n",
       "      <td>3052.0</td>\n",
       "      <td>1.0</td>\n",
       "    </tr>\n",
       "  </tbody>\n",
       "</table>\n",
       "</div>"
      ],
      "text/plain": [
       "            mean     sd  hdi_3%  hdi_97%  mcse_mean  mcse_sd  ess_bulk  \\\n",
       "Intercept  1.000  0.106   0.795    1.194      0.001    0.001    5637.0   \n",
       "x          2.012  0.179   1.701    2.370      0.002    0.002    5678.0   \n",
       "y_sigma    0.613  0.038   0.542    0.684      0.001    0.000    5083.0   \n",
       "\n",
       "           ess_tail  r_hat  \n",
       "Intercept    2846.0    1.0  \n",
       "x            2894.0    1.0  \n",
       "y_sigma      3052.0    1.0  "
      ]
     },
     "execution_count": 42,
     "metadata": {},
     "output_type": "execute_result"
    }
   ],
   "source": [
    "az.summary(fitted)"
   ]
  },
  {
   "cell_type": "code",
   "execution_count": 52,
   "id": "9c349545",
   "metadata": {},
   "outputs": [
    {
     "name": "stderr",
     "output_type": "stream",
     "text": [
      "Auto-assigning NUTS sampler...\n",
      "Initializing NUTS using jitter+adapt_diag...\n",
      "Multiprocess sampling (4 chains in 4 jobs)\n",
      "NUTS: [y_sigma, x|grp_offset, x|grp_sigma, Intercept]\n"
     ]
    },
    {
     "data": {
      "text/html": [
       "\n",
       "<style>\n",
       "    /* Turns off some styling */\n",
       "    progress {\n",
       "        /* gets rid of default border in Firefox and Opera. */\n",
       "        border: none;\n",
       "        /* Needs to be in here for Safari polyfill so background images work as expected. */\n",
       "        background-size: auto;\n",
       "    }\n",
       "    .progress-bar-interrupted, .progress-bar-interrupted::-webkit-progress-bar {\n",
       "        background: #F44336;\n",
       "    }\n",
       "</style>\n"
      ],
      "text/plain": [
       "<IPython.core.display.HTML object>"
      ]
     },
     "metadata": {},
     "output_type": "display_data"
    },
    {
     "data": {
      "text/html": [
       "\n",
       "    <div>\n",
       "      <progress value='20000' class='' max='20000' style='width:300px; height:20px; vertical-align: middle;'></progress>\n",
       "      100.00% [20000/20000 00:40<00:00 Sampling 4 chains, 734 divergences]\n",
       "    </div>\n",
       "    "
      ],
      "text/plain": [
       "<IPython.core.display.HTML object>"
      ]
     },
     "metadata": {},
     "output_type": "display_data"
    },
    {
     "name": "stderr",
     "output_type": "stream",
     "text": [
      "Sampling 4 chains for 4_000 tune and 1_000 draw iterations (16_000 + 4_000 draws total) took 41 seconds.\n",
      "There were 211 divergences after tuning. Increase `target_accept` or reparameterize.\n",
      "The acceptance probability does not match the target. It is 0.5920645325311863, but should be close to 0.8. Try to increase the number of tuning steps.\n",
      "There were 227 divergences after tuning. Increase `target_accept` or reparameterize.\n",
      "The acceptance probability does not match the target. It is 0.5943451736915486, but should be close to 0.8. Try to increase the number of tuning steps.\n",
      "There were 106 divergences after tuning. Increase `target_accept` or reparameterize.\n",
      "The acceptance probability does not match the target. It is 0.6882279353578434, but should be close to 0.8. Try to increase the number of tuning steps.\n",
      "There were 190 divergences after tuning. Increase `target_accept` or reparameterize.\n",
      "The acceptance probability does not match the target. It is 0.6040320464357551, but should be close to 0.8. Try to increase the number of tuning steps.\n",
      "The rhat statistic is larger than 1.2 for some parameters.\n",
      "The estimated number of effective samples is smaller than 200 for some parameters.\n"
     ]
    }
   ],
   "source": [
    "model2 = bmb.Model(\"y ~ (0 + x|grp)\", raw_data)\n",
    "fitted2 = model2.fit(tune=4000)"
   ]
  },
  {
   "cell_type": "code",
   "execution_count": 53,
   "id": "2b7d932a",
   "metadata": {},
   "outputs": [
    {
     "data": {
      "text/html": [
       "<div>\n",
       "<style scoped>\n",
       "    .dataframe tbody tr th:only-of-type {\n",
       "        vertical-align: middle;\n",
       "    }\n",
       "\n",
       "    .dataframe tbody tr th {\n",
       "        vertical-align: top;\n",
       "    }\n",
       "\n",
       "    .dataframe thead th {\n",
       "        text-align: right;\n",
       "    }\n",
       "</style>\n",
       "<table border=\"1\" class=\"dataframe\">\n",
       "  <thead>\n",
       "    <tr style=\"text-align: right;\">\n",
       "      <th></th>\n",
       "      <th>mean</th>\n",
       "      <th>sd</th>\n",
       "      <th>hdi_3%</th>\n",
       "      <th>hdi_97%</th>\n",
       "      <th>mcse_mean</th>\n",
       "      <th>mcse_sd</th>\n",
       "      <th>ess_bulk</th>\n",
       "      <th>ess_tail</th>\n",
       "      <th>r_hat</th>\n",
       "    </tr>\n",
       "  </thead>\n",
       "  <tbody>\n",
       "    <tr>\n",
       "      <th>Intercept</th>\n",
       "      <td>1.001</td>\n",
       "      <td>0.024</td>\n",
       "      <td>0.952</td>\n",
       "      <td>1.042</td>\n",
       "      <td>0.004</td>\n",
       "      <td>0.003</td>\n",
       "      <td>31.0</td>\n",
       "      <td>411.0</td>\n",
       "      <td>1.09</td>\n",
       "    </tr>\n",
       "    <tr>\n",
       "      <th>x|grp_sigma</th>\n",
       "      <td>2.656</td>\n",
       "      <td>0.713</td>\n",
       "      <td>1.335</td>\n",
       "      <td>3.667</td>\n",
       "      <td>0.234</td>\n",
       "      <td>0.177</td>\n",
       "      <td>11.0</td>\n",
       "      <td>81.0</td>\n",
       "      <td>1.29</td>\n",
       "    </tr>\n",
       "    <tr>\n",
       "      <th>x|grp[a]</th>\n",
       "      <td>1.073</td>\n",
       "      <td>0.052</td>\n",
       "      <td>0.977</td>\n",
       "      <td>1.171</td>\n",
       "      <td>0.007</td>\n",
       "      <td>0.005</td>\n",
       "      <td>53.0</td>\n",
       "      <td>1145.0</td>\n",
       "      <td>1.05</td>\n",
       "    </tr>\n",
       "    <tr>\n",
       "      <th>x|grp[b]</th>\n",
       "      <td>3.007</td>\n",
       "      <td>0.053</td>\n",
       "      <td>2.910</td>\n",
       "      <td>3.103</td>\n",
       "      <td>0.005</td>\n",
       "      <td>0.004</td>\n",
       "      <td>100.0</td>\n",
       "      <td>1770.0</td>\n",
       "      <td>1.03</td>\n",
       "    </tr>\n",
       "    <tr>\n",
       "      <th>y_sigma</th>\n",
       "      <td>0.216</td>\n",
       "      <td>0.009</td>\n",
       "      <td>0.201</td>\n",
       "      <td>0.234</td>\n",
       "      <td>0.001</td>\n",
       "      <td>0.001</td>\n",
       "      <td>47.0</td>\n",
       "      <td>240.0</td>\n",
       "      <td>1.06</td>\n",
       "    </tr>\n",
       "  </tbody>\n",
       "</table>\n",
       "</div>"
      ],
      "text/plain": [
       "              mean     sd  hdi_3%  hdi_97%  mcse_mean  mcse_sd  ess_bulk  \\\n",
       "Intercept    1.001  0.024   0.952    1.042      0.004    0.003      31.0   \n",
       "x|grp_sigma  2.656  0.713   1.335    3.667      0.234    0.177      11.0   \n",
       "x|grp[a]     1.073  0.052   0.977    1.171      0.007    0.005      53.0   \n",
       "x|grp[b]     3.007  0.053   2.910    3.103      0.005    0.004     100.0   \n",
       "y_sigma      0.216  0.009   0.201    0.234      0.001    0.001      47.0   \n",
       "\n",
       "             ess_tail  r_hat  \n",
       "Intercept       411.0   1.09  \n",
       "x|grp_sigma      81.0   1.29  \n",
       "x|grp[a]       1145.0   1.05  \n",
       "x|grp[b]       1770.0   1.03  \n",
       "y_sigma         240.0   1.06  "
      ]
     },
     "execution_count": 53,
     "metadata": {},
     "output_type": "execute_result"
    }
   ],
   "source": [
    "az.summary(fitted2)"
   ]
  },
  {
   "cell_type": "code",
   "execution_count": 54,
   "id": "c3ddc995",
   "metadata": {},
   "outputs": [],
   "source": [
    "# _ = az.plot_trace(fitted2)"
   ]
  },
  {
   "cell_type": "code",
   "execution_count": 55,
   "id": "bf61444d-4eac-4985-9327-35c9d1851716",
   "metadata": {},
   "outputs": [],
   "source": [
    "betas = az.summary(fitted2)['mean']"
   ]
  },
  {
   "cell_type": "code",
   "execution_count": 56,
   "id": "21bf7f92-fb3c-4369-a6ba-00d6dc15a8f0",
   "metadata": {},
   "outputs": [],
   "source": [
    "beta_values = np.array([\n",
    "    betas['Intercept'], betas['x|grp[a]'], betas['x|grp[b]']])"
   ]
  },
  {
   "cell_type": "code",
   "execution_count": 61,
   "id": "a1fd6bf6-1d8f-4e6a-a6e8-f7817ed0bf14",
   "metadata": {},
   "outputs": [
    {
     "data": {
      "text/plain": [
       "array([1.001, 1.073, 3.007])"
      ]
     },
     "execution_count": 61,
     "metadata": {},
     "output_type": "execute_result"
    }
   ],
   "source": [
    "beta_values"
   ]
  },
  {
   "cell_type": "code",
   "execution_count": 57,
   "id": "2c539470-e83a-4023-b2d3-4ced003f75e4",
   "metadata": {},
   "outputs": [],
   "source": [
    "test_data = X_test_cat.assign(\n",
    "    a=(X_test_cat.grp == 'a'),\n",
    "    b=(X_test_cat.grp == 'b')\n",
    ").astype(\n",
    "    {'a': 'int64', 'b': 'int64'}\n",
    ")[['x', 'a', 'b']].values"
   ]
  },
  {
   "cell_type": "code",
   "execution_count": 58,
   "id": "0b985c8b-02aa-4821-92b2-cd149dd0fd24",
   "metadata": {},
   "outputs": [],
   "source": [
    "y_pred_cat2 = test_data @ beta_values"
   ]
  },
  {
   "cell_type": "code",
   "execution_count": 59,
   "id": "750466b3-1269-4e30-8728-e2096d7edda2",
   "metadata": {},
   "outputs": [
    {
     "name": "stdout",
     "output_type": "stream",
     "text": [
      "bayes mse = 0.75\n"
     ]
    }
   ],
   "source": [
    "mse = mean_squared_error(y_test_cat, y_pred_cat2)\n",
    "print('bayes mse = {:.2}'.format(mse))"
   ]
  },
  {
   "cell_type": "code",
   "execution_count": 60,
   "id": "0cc426cb-2204-406c-a242-6be284b820aa",
   "metadata": {},
   "outputs": [
    {
     "data": {
      "image/png": "[encoded data removed]",
      "text/plain": [
       "<Figure size 1200x400 with 3 Axes>"
      ]
     },
     "metadata": {},
     "output_type": "display_data"
    }
   ],
   "source": [
    "fig, (ax1, ax2, ax3) = plt.subplots(1, 3, sharey=True, figsize=(12, 4))\n",
    "plot_actual_predict(y_test_num, gbm_num.predict(X_test_num), ax1, 'l2_num')\n",
    "plot_actual_predict(y_test_cat, gbm_cat.predict(X_test_cat), ax2, 'l2_cat')\n",
    "plot_actual_predict(y_test_cat, y_pred_cat2, ax3, 'bayes')"
   ]
  },
  {
   "cell_type": "code",
   "execution_count": null,
   "id": "75562ae4-5ec4-4420-a639-295cb3bee678",
   "metadata": {},
   "outputs": [],
   "source": []
  }
 ],
 "metadata": {
  "jupytext": {
   "formats": "ipynb,py:light"
  },
  "kernelspec": {
   "display_name": "Python 3 (ipykernel)",
   "language": "python",
   "name": "python3"
  },
  "language_info": {
   "codemirror_mode": {
    "name": "ipython",
    "version": 3
   },
   "file_extension": ".py",
   "mimetype": "text/x-python",
   "name": "python",
   "nbconvert_exporter": "python",
   "pygments_lexer": "ipython3",
   "version": "3.8.10"
  }
 },
 "nbformat": 4,
 "nbformat_minor": 5
}
