{
 "cells": [
  {
   "cell_type": "markdown",
   "id": "3f50ebb7",
   "metadata": {},
   "source": [
    "# Hierarchical gradient boosting"
   ]
  },
  {
   "cell_type": "markdown",
   "id": "5b2ff885",
   "metadata": {},
   "source": [
    "Using a simulated data set"
   ]
  },
  {
   "cell_type": "markdown",
   "id": "4bc363db",
   "metadata": {},
   "source": [
    "Custom loss\n",
    "\n",
    "https://towardsdatascience.com/custom-loss-functions-for-gradient-boosting-f79c1b40466d"
   ]
  },
  {
   "cell_type": "markdown",
   "id": "020e00b9",
   "metadata": {},
   "source": [
    "## Setup libraries"
   ]
  },
  {
   "cell_type": "code",
   "execution_count": 1,
   "id": "20089af3",
   "metadata": {},
   "outputs": [],
   "source": [
    "%load_ext autoreload\n",
    "%autoreload 2"
   ]
  },
  {
   "cell_type": "code",
   "execution_count": 2,
   "id": "e5806d12",
   "metadata": {},
   "outputs": [],
   "source": [
    "import warnings"
   ]
  },
  {
   "cell_type": "code",
   "execution_count": 3,
   "id": "f9655edd",
   "metadata": {},
   "outputs": [],
   "source": [
    "import pandas as pd\n",
    "import seaborn as sns\n",
    "import numpy as np"
   ]
  },
  {
   "cell_type": "code",
   "execution_count": 4,
   "id": "ed473f9d",
   "metadata": {},
   "outputs": [],
   "source": [
    "import sys"
   ]
  },
  {
   "cell_type": "code",
   "execution_count": 5,
   "id": "d8c7ebf1",
   "metadata": {},
   "outputs": [],
   "source": [
    "from sklearn.model_selection import train_test_split\n",
    "from sklearn.model_selection import cross_val_score\n",
    "from sklearn.model_selection import cross_validate"
   ]
  },
  {
   "cell_type": "code",
   "execution_count": 6,
   "id": "281cb986",
   "metadata": {},
   "outputs": [],
   "source": [
    "from sklearn.metrics import mean_squared_error\n",
    "from sklearn.preprocessing import StandardScaler\n",
    "from sklearn.model_selection import GridSearchCV"
   ]
  },
  {
   "cell_type": "code",
   "execution_count": 7,
   "id": "7116c351",
   "metadata": {},
   "outputs": [],
   "source": [
    "import lightgbm as lgb"
   ]
  },
  {
   "cell_type": "code",
   "execution_count": 8,
   "id": "187a1422",
   "metadata": {},
   "outputs": [],
   "source": [
    "import matplotlib.pyplot as plt"
   ]
  },
  {
   "cell_type": "code",
   "execution_count": 9,
   "id": "10545460",
   "metadata": {
    "lines_to_next_cell": 2
   },
   "outputs": [
    {
     "name": "stdout",
     "output_type": "stream",
     "text": [
      "Couldn't import dot_parser, loading of dot files will not be possible.\n"
     ]
    }
   ],
   "source": [
    "import arviz as az\n",
    "import bambi as bmb"
   ]
  },
  {
   "cell_type": "code",
   "execution_count": 10,
   "id": "ddf8e519",
   "metadata": {},
   "outputs": [],
   "source": [
    "az.style.use('arviz-darkgrid')"
   ]
  },
  {
   "cell_type": "code",
   "execution_count": 11,
   "id": "85785b04",
   "metadata": {
    "lines_to_next_cell": 2
   },
   "outputs": [],
   "source": [
    "warnings.simplefilter(\"ignore\")"
   ]
  },
  {
   "cell_type": "markdown",
   "id": "63f2fc19",
   "metadata": {
    "lines_to_next_cell": 2
   },
   "source": [
    "## Utility functions"
   ]
  },
  {
   "cell_type": "code",
   "execution_count": 12,
   "id": "ba654c1d",
   "metadata": {},
   "outputs": [],
   "source": [
    "pal = sns.color_palette()"
   ]
  },
  {
   "cell_type": "code",
   "execution_count": 13,
   "id": "20c4212c",
   "metadata": {},
   "outputs": [],
   "source": [
    "def print_mse_performance(model, X_test, y_test, name):\n",
    "    'display mean-squared-error for fitted model'\n",
    "\n",
    "    if isinstance(model, lgb.engine.CVBooster):\n",
    "        if model.best_iteration > 0:\n",
    "            y_pred_list = model.predict(\n",
    "                X_test, num_iteration=model.best_iteration\n",
    "            )\n",
    "        else:\n",
    "            y_pred_list = model.predict(X_test)\n",
    "        y_pred = np.mean(np.asarray(y_pred_list), axis=0)\n",
    "    else:\n",
    "        y_pred = model.predict(X_test)\n",
    "\n",
    "    mse = mean_squared_error(y_test, y_pred)\n",
    "    model_name = model.__class__.__name__\n",
    "    print('{}, {}, mse = {:.3f}'.format(model_name, name, mse))"
   ]
  },
  {
   "cell_type": "code",
   "execution_count": 14,
   "id": "ba6b90a8",
   "metadata": {},
   "outputs": [],
   "source": [
    "def plot_actual_predict(actual, predict, ax, title):\n",
    "    'plot actual label vs predicted label'\n",
    "    model_predict = pd.DataFrame(\n",
    "        {'actual': actual, 'predict': predict, 'residual': predict - actual}\n",
    "    )\n",
    "    ax = sns.scatterplot(x='actual', y='predict', data=model_predict, ax=ax)\n",
    "    (xmin, xmax), (ymin, ymax) = [ax.get_xlim(), ax.get_ylim()]\n",
    "    min_axis, max_axis = min(xmin, ymin), max(xmax, ymax)\n",
    "    ax.set_xlim(min_axis, max_axis)\n",
    "    ax.set_ylim(min_axis, max_axis)\n",
    "    ax.plot([0, 1], [0, 1], transform=ax.transAxes)\n",
    "    ax.set_title(title)"
   ]
  },
  {
   "cell_type": "code",
   "execution_count": 15,
   "id": "df661342",
   "metadata": {},
   "outputs": [],
   "source": [
    "def plot_actual_residual(actual, predict, ax, title):\n",
    "    'plot actual label vs residual (predict - actual)'\n",
    "    model_predict = pd.DataFrame(\n",
    "        {'actual': actual, 'predict': predict, 'residual': predict - actual}\n",
    "    )\n",
    "    ax = sns.scatterplot(x='actual', y='residual', data=model_predict, ax=ax)\n",
    "    ax.axhline(y=0, color='red', linestyle='dotted')\n",
    "    ax.set_title(title)"
   ]
  },
  {
   "cell_type": "code",
   "execution_count": 16,
   "id": "c179cbbc",
   "metadata": {},
   "outputs": [],
   "source": [
    "def train_early_stopping_lgb(lgbm_params, lgb_train, lgb_eval):\n",
    "    'train lightgbm model with early stopping'\n",
    "    model = lgb.train(\n",
    "        lgbm_params,\n",
    "        lgb_train,\n",
    "        valid_sets=lgb_eval,\n",
    "        verbose_eval=-1,\n",
    "        callbacks=[lgb.early_stopping(10, verbose=False)],\n",
    "    )\n",
    "    return model"
   ]
  },
  {
   "cell_type": "code",
   "execution_count": 17,
   "id": "cf2d82fc",
   "metadata": {},
   "outputs": [],
   "source": [
    "def l2_loss(y, data):\n",
    "    t = data.get_label()\n",
    "    residual = y - t\n",
    "    # loss_mult = np.where(t < 25, 10 * np.ones_like(t), 1 * np.ones_like(t))\n",
    "    loss_mult = np.where(\n",
    "        residual < 0, 5 * np.ones_like(t), 1 * np.ones_like(t)\n",
    "    )\n",
    "    grad = loss_mult * (y - t)\n",
    "    hess = loss_mult * np.ones_like(y)\n",
    "    return grad, hess"
   ]
  },
  {
   "cell_type": "code",
   "execution_count": 18,
   "id": "e1d13769",
   "metadata": {},
   "outputs": [],
   "source": [
    "def l2_eval(y, data):\n",
    "    t = data.get_label()\n",
    "    residual = y - t\n",
    "    # loss_mult = np.where(t < 25, 10 * np.ones_like(t), 1 * np.ones_like(t))\n",
    "    loss_mult = np.where(\n",
    "        residual < 0, 5 * np.ones_like(t), 1 * np.ones_like(t)\n",
    "    )\n",
    "    loss = loss_mult * (y - t) ** 2\n",
    "    return 'l2', loss.mean(), False"
   ]
  },
  {
   "cell_type": "code",
   "execution_count": 19,
   "id": "ea8defa0",
   "metadata": {},
   "outputs": [],
   "source": [
    "def train_custom_loss_l2(lgbm_params, lgb_train, lgb_eval):\n",
    "    'use l2 loss with a custom function'\n",
    "    model = lgb.train(\n",
    "        lgbm_params,\n",
    "        lgb_train,\n",
    "        valid_sets=lgb_eval,\n",
    "        verbose_eval=-1,\n",
    "        callbacks=[lgb.early_stopping(10, verbose=False)],\n",
    "        fobj=l2_loss,\n",
    "        feval=l2_eval,\n",
    "    )\n",
    "    return model"
   ]
  },
  {
   "cell_type": "code",
   "execution_count": 20,
   "id": "25a67582",
   "metadata": {},
   "outputs": [],
   "source": [
    "def train_cv_lgb(lgbm_params, lgb_train):\n",
    "    'train lightgbm model with cross validation'\n",
    "    cv_model = lgb.cv(\n",
    "        lgbm_params,\n",
    "        lgb_train,\n",
    "        nfold=3,\n",
    "        stratified=False,\n",
    "        verbose_eval=-1,\n",
    "        return_cvbooster=True,\n",
    "        callbacks=[lgb.early_stopping(10, verbose=False)],\n",
    "    )\n",
    "    return cv_model['cvbooster']"
   ]
  },
  {
   "cell_type": "code",
   "execution_count": 21,
   "id": "6f2a6c55",
   "metadata": {},
   "outputs": [],
   "source": [
    "def generate_data(size):\n",
    "    true_intercept = 1\n",
    "    true_slope1 = 1\n",
    "    true_slope2 = 3\n",
    "\n",
    "    x = np.linspace(0, 1, size)\n",
    "    # y = a + b * x\n",
    "    y1_true = true_intercept + true_slope1 * x\n",
    "    y2_true = true_intercept + true_slope2 * x\n",
    "    # add noise\n",
    "    scale = 0.2\n",
    "    y1 = y1_true + rng.normal(scale=scale, size=size)\n",
    "    y2 = y2_true + rng.normal(scale=scale, size=size)\n",
    "\n",
    "    return x, y1, y1_true, y2, y2_true"
   ]
  },
  {
   "cell_type": "code",
   "execution_count": 22,
   "id": "cec4586c",
   "metadata": {},
   "outputs": [],
   "source": [
    "def generate_wide_data(size):\n",
    "    x, y1, y1_true, y2, y2_true = generate_data(size)\n",
    "\n",
    "    return pd.DataFrame(\n",
    "        dict(x=x, y1=y1, y2=y2, y1_true=y1_true, y2_true=y2_true)\n",
    "    )"
   ]
  },
  {
   "cell_type": "code",
   "execution_count": 23,
   "id": "660d9925",
   "metadata": {},
   "outputs": [],
   "source": [
    "def generate_long_data(size):\n",
    "    x, y1, y1_true, y2, y2_true = generate_data(size)\n",
    "\n",
    "    grp = np.hstack([np.repeat('a', x.shape[0]), np.repeat('b', x.shape[0])])\n",
    "    x = np.hstack([x, x])\n",
    "    y = np.hstack([y1, y2])\n",
    "    y_true = np.hstack([y1_true, y2_true])\n",
    "\n",
    "    return pd.DataFrame(dict(x=x, y=y, y_true=y_true, grp=grp))"
   ]
  },
  {
   "cell_type": "code",
   "execution_count": 24,
   "id": "e0f6e65b",
   "metadata": {},
   "outputs": [],
   "source": [
    "def plot_wide_data(data):\n",
    "    assert set(data.columns).issuperset(\n",
    "        {'x', 'y1', 'y1_true', 'y2', 'y2_true'}\n",
    "    )\n",
    "    fig, ax = plt.subplots()\n",
    "    sns.lineplot(x='x', y='y1_true', data=data, color=pal[0], ax=ax)\n",
    "    sns.scatterplot(x='x', y='y1', data=data, color=pal[0], ax=ax)\n",
    "    sns.lineplot(x='x', y='y2_true', data=data, color=pal[1], ax=ax)\n",
    "    sns.scatterplot(x='x', y='y2', data=data, color=pal[1], ax=ax)"
   ]
  },
  {
   "cell_type": "code",
   "execution_count": 25,
   "id": "ef58c89f",
   "metadata": {},
   "outputs": [],
   "source": [
    "def plot_long_data(data):\n",
    "    assert set(data.columns).issuperset({'x', 'y', 'y_true', 'grp'})\n",
    "    fig, ax = plt.subplots()\n",
    "    sns.lineplot(x='x', y='y_true', data=data, hue='grp', ax=ax)\n",
    "    sns.scatterplot(x='x', y='y', data=data, hue='grp', ax=ax)"
   ]
  },
  {
   "cell_type": "markdown",
   "id": "4a393c1c",
   "metadata": {},
   "source": [
    "## Get data"
   ]
  },
  {
   "cell_type": "code",
   "execution_count": 26,
   "id": "628b3d1a",
   "metadata": {
    "lines_to_next_cell": 2
   },
   "outputs": [],
   "source": [
    "RANDOM_SEED = 1234\n",
    "rng = np.random.default_rng(RANDOM_SEED)"
   ]
  },
  {
   "cell_type": "code",
   "execution_count": 27,
   "id": "15098439",
   "metadata": {},
   "outputs": [],
   "source": [
    "long_data = generate_long_data(100)"
   ]
  },
  {
   "cell_type": "code",
   "execution_count": 28,
   "id": "f561b1f5",
   "metadata": {},
   "outputs": [
    {
     "data": {
      "image/png": "[encoded data removed]",
      "text/plain": [
       "<Figure size 720x480 with 1 Axes>"
      ]
     },
     "metadata": {},
     "output_type": "display_data"
    }
   ],
   "source": [
    "plot_long_data(long_data)"
   ]
  },
  {
   "cell_type": "code",
   "execution_count": 29,
   "id": "3291d7f3",
   "metadata": {},
   "outputs": [
    {
     "data": {
      "text/html": [
       "<div>\n",
       "<style scoped>\n",
       "    .dataframe tbody tr th:only-of-type {\n",
       "        vertical-align: middle;\n",
       "    }\n",
       "\n",
       "    .dataframe tbody tr th {\n",
       "        vertical-align: top;\n",
       "    }\n",
       "\n",
       "    .dataframe thead th {\n",
       "        text-align: right;\n",
       "    }\n",
       "</style>\n",
       "<table border=\"1\" class=\"dataframe\">\n",
       "  <thead>\n",
       "    <tr style=\"text-align: right;\">\n",
       "      <th></th>\n",
       "      <th>x</th>\n",
       "      <th>y</th>\n",
       "      <th>y_true</th>\n",
       "      <th>grp</th>\n",
       "    </tr>\n",
       "  </thead>\n",
       "  <tbody>\n",
       "    <tr>\n",
       "      <th>0</th>\n",
       "      <td>0.000000</td>\n",
       "      <td>0.679233</td>\n",
       "      <td>1.000000</td>\n",
       "      <td>a</td>\n",
       "    </tr>\n",
       "    <tr>\n",
       "      <th>1</th>\n",
       "      <td>0.010101</td>\n",
       "      <td>1.022921</td>\n",
       "      <td>1.010101</td>\n",
       "      <td>a</td>\n",
       "    </tr>\n",
       "    <tr>\n",
       "      <th>2</th>\n",
       "      <td>0.020202</td>\n",
       "      <td>1.168380</td>\n",
       "      <td>1.020202</td>\n",
       "      <td>a</td>\n",
       "    </tr>\n",
       "    <tr>\n",
       "      <th>3</th>\n",
       "      <td>0.030303</td>\n",
       "      <td>1.060827</td>\n",
       "      <td>1.030303</td>\n",
       "      <td>a</td>\n",
       "    </tr>\n",
       "    <tr>\n",
       "      <th>4</th>\n",
       "      <td>0.040404</td>\n",
       "      <td>1.213153</td>\n",
       "      <td>1.040404</td>\n",
       "      <td>a</td>\n",
       "    </tr>\n",
       "  </tbody>\n",
       "</table>\n",
       "</div>"
      ],
      "text/plain": [
       "          x         y    y_true grp\n",
       "0  0.000000  0.679233  1.000000   a\n",
       "1  0.010101  1.022921  1.010101   a\n",
       "2  0.020202  1.168380  1.020202   a\n",
       "3  0.030303  1.060827  1.030303   a\n",
       "4  0.040404  1.213153  1.040404   a"
      ]
     },
     "execution_count": 29,
     "metadata": {},
     "output_type": "execute_result"
    }
   ],
   "source": [
    "long_data.head()"
   ]
  },
  {
   "cell_type": "markdown",
   "id": "0fb14148",
   "metadata": {},
   "source": [
    "## Setup features, label"
   ]
  },
  {
   "cell_type": "code",
   "execution_count": 30,
   "id": "24cb0d6a",
   "metadata": {},
   "outputs": [],
   "source": [
    "cols = ['x', 'y', 'grp']\n",
    "raw_data = long_data.astype({'grp': 'category'})[cols]"
   ]
  },
  {
   "cell_type": "code",
   "execution_count": 31,
   "id": "50b12d05",
   "metadata": {},
   "outputs": [],
   "source": [
    "y_data_num = raw_data.y\n",
    "X_data_num = raw_data.drop(columns=['y', 'grp'])"
   ]
  },
  {
   "cell_type": "code",
   "execution_count": 32,
   "id": "237b3090",
   "metadata": {},
   "outputs": [],
   "source": [
    "y_data_cat = raw_data.y\n",
    "X_data_cat = raw_data.drop(columns=['y'])"
   ]
  },
  {
   "cell_type": "markdown",
   "id": "93871a7f",
   "metadata": {},
   "source": [
    "Split data into train and test"
   ]
  },
  {
   "cell_type": "code",
   "execution_count": 33,
   "id": "942af297",
   "metadata": {},
   "outputs": [],
   "source": [
    "X_train_num, X_test_num, y_train_num, y_test_num = train_test_split(\n",
    "    X_data_num, y_data_num, test_size=0.3, random_state=0\n",
    ")\n",
    "lgb_train_num = lgb.Dataset(X_train_num, y_train_num)\n",
    "lgb_eval_num = lgb.Dataset(X_test_num, y_test_num, reference=lgb_train_num)"
   ]
  },
  {
   "cell_type": "code",
   "execution_count": 34,
   "id": "04bb0de2",
   "metadata": {},
   "outputs": [],
   "source": [
    "X_train_cat, X_test_cat, y_train_cat, y_test_cat = train_test_split(\n",
    "    X_data_cat, y_data_cat, test_size=0.3, random_state=0\n",
    ")\n",
    "lgb_train_cat = lgb.Dataset(X_train_cat, y_train_cat)\n",
    "lgb_eval_cat = lgb.Dataset(X_test_cat, y_test_cat, reference=lgb_train_cat)"
   ]
  },
  {
   "cell_type": "code",
   "execution_count": 35,
   "id": "3988493f",
   "metadata": {},
   "outputs": [],
   "source": [
    "lgbm_params = {\n",
    "    'objective': 'regression_l2',\n",
    "    'learning_rate': 0.05,\n",
    "    'random_seed': 0,\n",
    "    'verbose': -1,\n",
    "}\n",
    "gbm_num = train_early_stopping_lgb(lgbm_params, lgb_train_num, lgb_eval_num)\n",
    "gbm_cat = train_early_stopping_lgb(lgbm_params, lgb_train_cat, lgb_eval_cat)"
   ]
  },
  {
   "cell_type": "code",
   "execution_count": 36,
   "id": "17b29c58",
   "metadata": {},
   "outputs": [
    {
     "name": "stdout",
     "output_type": "stream",
     "text": [
      "Booster, mse_num, mse = 0.405\n",
      "Booster, mse_cat, mse = 0.053\n"
     ]
    }
   ],
   "source": [
    "print_mse_performance(gbm_num, X_test_num, y_test_num, 'mse_num')\n",
    "print_mse_performance(gbm_cat, X_test_cat, y_test_cat, 'mse_cat')"
   ]
  },
  {
   "cell_type": "code",
   "execution_count": 37,
   "id": "02634392",
   "metadata": {},
   "outputs": [],
   "source": [
    "def plot_y_distribution():\n",
    "    fig, (ax1, ax2, ax3) = plt.subplots(\n",
    "        1, 3, figsize=(12, 4), sharex=True, sharey=True\n",
    "    )\n",
    "    fig.suptitle('y distribution')\n",
    "    sns.histplot(y_test_num, ax=ax1).set_xlabel('y_true')\n",
    "    sns.histplot(gbm_num.predict(X_test_num), ax=ax2).set_xlabel('l2_num')\n",
    "    sns.histplot(gbm_cat.predict(X_test_cat), ax=ax3).set_xlabel('l2_cat')"
   ]
  },
  {
   "cell_type": "code",
   "execution_count": 38,
   "id": "eb03b4e6",
   "metadata": {},
   "outputs": [],
   "source": [
    "def plot_compare_actual_predict():\n",
    "    fig, (ax1, ax2) = plt.subplots(1, 2, figsize=(12, 4))\n",
    "    plot_actual_predict(y_test_num, gbm_num.predict(X_test_num), ax1, 'l2_num')\n",
    "    plot_actual_predict(y_test_cat, gbm_cat.predict(X_test_cat), ax2, 'l2_cat')"
   ]
  },
  {
   "cell_type": "code",
   "execution_count": 39,
   "id": "897eb100",
   "metadata": {},
   "outputs": [],
   "source": [
    "# plot_y_distribution()\n",
    "# plot_compare_actual_predict()"
   ]
  },
  {
   "cell_type": "markdown",
   "id": "1831f62d",
   "metadata": {},
   "source": [
    "## Bayesian models"
   ]
  },
  {
   "cell_type": "code",
   "execution_count": 40,
   "id": "30b49729",
   "metadata": {},
   "outputs": [],
   "source": [
    "train_data = X_train_cat.assign(y=y_train_cat)"
   ]
  },
  {
   "cell_type": "code",
   "execution_count": 41,
   "id": "0e93c7be",
   "metadata": {},
   "outputs": [
    {
     "name": "stderr",
     "output_type": "stream",
     "text": [
      "Auto-assigning NUTS sampler...\n",
      "Initializing NUTS using jitter+adapt_diag...\n",
      "Multiprocess sampling (4 chains in 4 jobs)\n",
      "NUTS: [y_sigma, x, Intercept]\n"
     ]
    },
    {
     "data": {
      "text/html": [
       "\n",
       "<style>\n",
       "    /* Turns off some styling */\n",
       "    progress {\n",
       "        /* gets rid of default border in Firefox and Opera. */\n",
       "        border: none;\n",
       "        /* Needs to be in here for Safari polyfill so background images work as expected. */\n",
       "        background-size: auto;\n",
       "    }\n",
       "    .progress-bar-interrupted, .progress-bar-interrupted::-webkit-progress-bar {\n",
       "        background: #F44336;\n",
       "    }\n",
       "</style>\n"
      ],
      "text/plain": [
       "<IPython.core.display.HTML object>"
      ]
     },
     "metadata": {},
     "output_type": "display_data"
    },
    {
     "data": {
      "text/html": [
       "\n",
       "    <div>\n",
       "      <progress value='12000' class='' max='12000' style='width:300px; height:20px; vertical-align: middle;'></progress>\n",
       "      100.00% [12000/12000 00:03<00:00 Sampling 4 chains, 0 divergences]\n",
       "    </div>\n",
       "    "
      ],
      "text/plain": [
       "<IPython.core.display.HTML object>"
      ]
     },
     "metadata": {},
     "output_type": "display_data"
    },
    {
     "name": "stderr",
     "output_type": "stream",
     "text": [
      "Sampling 4 chains for 2_000 tune and 1_000 draw iterations (8_000 + 4_000 draws total) took 4 seconds.\n"
     ]
    }
   ],
   "source": [
    "model = bmb.Model(\"y ~ x\", train_data)\n",
    "fitted = model.fit(tune=2000)"
   ]
  },
  {
   "cell_type": "code",
   "execution_count": 42,
   "id": "0b075844",
   "metadata": {},
   "outputs": [
    {
     "data": {
      "text/html": [
       "<div>\n",
       "<style scoped>\n",
       "    .dataframe tbody tr th:only-of-type {\n",
       "        vertical-align: middle;\n",
       "    }\n",
       "\n",
       "    .dataframe tbody tr th {\n",
       "        vertical-align: top;\n",
       "    }\n",
       "\n",
       "    .dataframe thead th {\n",
       "        text-align: right;\n",
       "    }\n",
       "</style>\n",
       "<table border=\"1\" class=\"dataframe\">\n",
       "  <thead>\n",
       "    <tr style=\"text-align: right;\">\n",
       "      <th></th>\n",
       "      <th>mean</th>\n",
       "      <th>sd</th>\n",
       "      <th>hdi_3%</th>\n",
       "      <th>hdi_97%</th>\n",
       "      <th>mcse_mean</th>\n",
       "      <th>mcse_sd</th>\n",
       "      <th>ess_bulk</th>\n",
       "      <th>ess_tail</th>\n",
       "      <th>r_hat</th>\n",
       "    </tr>\n",
       "  </thead>\n",
       "  <tbody>\n",
       "    <tr>\n",
       "      <th>Intercept</th>\n",
       "      <td>0.998</td>\n",
       "      <td>0.103</td>\n",
       "      <td>0.804</td>\n",
       "      <td>1.191</td>\n",
       "      <td>0.001</td>\n",
       "      <td>0.001</td>\n",
       "      <td>5121.0</td>\n",
       "      <td>2720.0</td>\n",
       "      <td>1.0</td>\n",
       "    </tr>\n",
       "    <tr>\n",
       "      <th>x</th>\n",
       "      <td>2.014</td>\n",
       "      <td>0.173</td>\n",
       "      <td>1.694</td>\n",
       "      <td>2.350</td>\n",
       "      <td>0.002</td>\n",
       "      <td>0.002</td>\n",
       "      <td>5097.0</td>\n",
       "      <td>2981.0</td>\n",
       "      <td>1.0</td>\n",
       "    </tr>\n",
       "    <tr>\n",
       "      <th>y_sigma</th>\n",
       "      <td>0.613</td>\n",
       "      <td>0.038</td>\n",
       "      <td>0.543</td>\n",
       "      <td>0.683</td>\n",
       "      <td>0.001</td>\n",
       "      <td>0.000</td>\n",
       "      <td>4991.0</td>\n",
       "      <td>2625.0</td>\n",
       "      <td>1.0</td>\n",
       "    </tr>\n",
       "  </tbody>\n",
       "</table>\n",
       "</div>"
      ],
      "text/plain": [
       "            mean     sd  hdi_3%  hdi_97%  mcse_mean  mcse_sd  ess_bulk  \\\n",
       "Intercept  0.998  0.103   0.804    1.191      0.001    0.001    5121.0   \n",
       "x          2.014  0.173   1.694    2.350      0.002    0.002    5097.0   \n",
       "y_sigma    0.613  0.038   0.543    0.683      0.001    0.000    4991.0   \n",
       "\n",
       "           ess_tail  r_hat  \n",
       "Intercept    2720.0    1.0  \n",
       "x            2981.0    1.0  \n",
       "y_sigma      2625.0    1.0  "
      ]
     },
     "execution_count": 42,
     "metadata": {},
     "output_type": "execute_result"
    }
   ],
   "source": [
    "az.summary(fitted)"
   ]
  },
  {
   "cell_type": "code",
   "execution_count": 43,
   "id": "9c349545",
   "metadata": {},
   "outputs": [
    {
     "name": "stderr",
     "output_type": "stream",
     "text": [
      "Auto-assigning NUTS sampler...\n",
      "Initializing NUTS using jitter+adapt_diag...\n",
      "Multiprocess sampling (4 chains in 4 jobs)\n",
      "NUTS: [y_sigma, x|grp_offset, x|grp_sigma, Intercept]\n"
     ]
    },
    {
     "data": {
      "text/html": [
       "\n",
       "<style>\n",
       "    /* Turns off some styling */\n",
       "    progress {\n",
       "        /* gets rid of default border in Firefox and Opera. */\n",
       "        border: none;\n",
       "        /* Needs to be in here for Safari polyfill so background images work as expected. */\n",
       "        background-size: auto;\n",
       "    }\n",
       "    .progress-bar-interrupted, .progress-bar-interrupted::-webkit-progress-bar {\n",
       "        background: #F44336;\n",
       "    }\n",
       "</style>\n"
      ],
      "text/plain": [
       "<IPython.core.display.HTML object>"
      ]
     },
     "metadata": {},
     "output_type": "display_data"
    },
    {
     "data": {
      "text/html": [
       "\n",
       "    <div>\n",
       "      <progress value='20000' class='' max='20000' style='width:300px; height:20px; vertical-align: middle;'></progress>\n",
       "      100.00% [20000/20000 00:48<00:00 Sampling 4 chains, 607 divergences]\n",
       "    </div>\n",
       "    "
      ],
      "text/plain": [
       "<IPython.core.display.HTML object>"
      ]
     },
     "metadata": {},
     "output_type": "display_data"
    },
    {
     "name": "stderr",
     "output_type": "stream",
     "text": [
      "Sampling 4 chains for 4_000 tune and 1_000 draw iterations (16_000 + 4_000 draws total) took 49 seconds.\n",
      "There were 352 divergences after tuning. Increase `target_accept` or reparameterize.\n",
      "The acceptance probability does not match the target. It is 0.4728086597829024, but should be close to 0.8. Try to increase the number of tuning steps.\n",
      "There were 105 divergences after tuning. Increase `target_accept` or reparameterize.\n",
      "There were 78 divergences after tuning. Increase `target_accept` or reparameterize.\n",
      "There were 72 divergences after tuning. Increase `target_accept` or reparameterize.\n",
      "The rhat statistic is larger than 1.2 for some parameters.\n",
      "The estimated number of effective samples is smaller than 200 for some parameters.\n"
     ]
    }
   ],
   "source": [
    "model2 = bmb.Model(\"y ~ (0 + x|grp)\", raw_data)\n",
    "fitted2 = model2.fit(tune=4000)"
   ]
  },
  {
   "cell_type": "code",
   "execution_count": 44,
   "id": "2b7d932a",
   "metadata": {},
   "outputs": [
    {
     "data": {
      "text/html": [
       "<div>\n",
       "<style scoped>\n",
       "    .dataframe tbody tr th:only-of-type {\n",
       "        vertical-align: middle;\n",
       "    }\n",
       "\n",
       "    .dataframe tbody tr th {\n",
       "        vertical-align: top;\n",
       "    }\n",
       "\n",
       "    .dataframe thead th {\n",
       "        text-align: right;\n",
       "    }\n",
       "</style>\n",
       "<table border=\"1\" class=\"dataframe\">\n",
       "  <thead>\n",
       "    <tr style=\"text-align: right;\">\n",
       "      <th></th>\n",
       "      <th>mean</th>\n",
       "      <th>sd</th>\n",
       "      <th>hdi_3%</th>\n",
       "      <th>hdi_97%</th>\n",
       "      <th>mcse_mean</th>\n",
       "      <th>mcse_sd</th>\n",
       "      <th>ess_bulk</th>\n",
       "      <th>ess_tail</th>\n",
       "      <th>r_hat</th>\n",
       "    </tr>\n",
       "  </thead>\n",
       "  <tbody>\n",
       "    <tr>\n",
       "      <th>Intercept</th>\n",
       "      <td>1.002</td>\n",
       "      <td>0.025</td>\n",
       "      <td>0.947</td>\n",
       "      <td>1.049</td>\n",
       "      <td>0.001</td>\n",
       "      <td>0.001</td>\n",
       "      <td>363.0</td>\n",
       "      <td>1098.0</td>\n",
       "      <td>1.14</td>\n",
       "    </tr>\n",
       "    <tr>\n",
       "      <th>x|grp_sigma</th>\n",
       "      <td>2.783</td>\n",
       "      <td>0.780</td>\n",
       "      <td>1.414</td>\n",
       "      <td>4.298</td>\n",
       "      <td>0.070</td>\n",
       "      <td>0.062</td>\n",
       "      <td>132.0</td>\n",
       "      <td>134.0</td>\n",
       "      <td>1.27</td>\n",
       "    </tr>\n",
       "    <tr>\n",
       "      <th>x|grp[a]</th>\n",
       "      <td>1.072</td>\n",
       "      <td>0.053</td>\n",
       "      <td>0.973</td>\n",
       "      <td>1.176</td>\n",
       "      <td>0.002</td>\n",
       "      <td>0.001</td>\n",
       "      <td>638.0</td>\n",
       "      <td>1439.0</td>\n",
       "      <td>1.03</td>\n",
       "    </tr>\n",
       "    <tr>\n",
       "      <th>x|grp[b]</th>\n",
       "      <td>3.006</td>\n",
       "      <td>0.053</td>\n",
       "      <td>2.903</td>\n",
       "      <td>3.103</td>\n",
       "      <td>0.002</td>\n",
       "      <td>0.001</td>\n",
       "      <td>973.0</td>\n",
       "      <td>1706.0</td>\n",
       "      <td>1.02</td>\n",
       "    </tr>\n",
       "    <tr>\n",
       "      <th>y_sigma</th>\n",
       "      <td>0.216</td>\n",
       "      <td>0.011</td>\n",
       "      <td>0.195</td>\n",
       "      <td>0.236</td>\n",
       "      <td>0.001</td>\n",
       "      <td>0.001</td>\n",
       "      <td>57.0</td>\n",
       "      <td>23.0</td>\n",
       "      <td>1.09</td>\n",
       "    </tr>\n",
       "  </tbody>\n",
       "</table>\n",
       "</div>"
      ],
      "text/plain": [
       "              mean     sd  hdi_3%  hdi_97%  mcse_mean  mcse_sd  ess_bulk  \\\n",
       "Intercept    1.002  0.025   0.947    1.049      0.001    0.001     363.0   \n",
       "x|grp_sigma  2.783  0.780   1.414    4.298      0.070    0.062     132.0   \n",
       "x|grp[a]     1.072  0.053   0.973    1.176      0.002    0.001     638.0   \n",
       "x|grp[b]     3.006  0.053   2.903    3.103      0.002    0.001     973.0   \n",
       "y_sigma      0.216  0.011   0.195    0.236      0.001    0.001      57.0   \n",
       "\n",
       "             ess_tail  r_hat  \n",
       "Intercept      1098.0   1.14  \n",
       "x|grp_sigma     134.0   1.27  \n",
       "x|grp[a]       1439.0   1.03  \n",
       "x|grp[b]       1706.0   1.02  \n",
       "y_sigma          23.0   1.09  "
      ]
     },
     "execution_count": 44,
     "metadata": {},
     "output_type": "execute_result"
    }
   ],
   "source": [
    "az.summary(fitted2)"
   ]
  },
  {
   "cell_type": "code",
   "execution_count": 53,
   "id": "693bff1d-206b-4d3a-8c90-0a7844c0e67c",
   "metadata": {},
   "outputs": [
    {
     "name": "stderr",
     "output_type": "stream",
     "text": [
      "Auto-assigning NUTS sampler...\n",
      "Initializing NUTS using jitter+adapt_diag...\n",
      "Multiprocess sampling (4 chains in 4 jobs)\n",
      "NUTS: [y_sigma, x|grp_offset, x|grp_sigma, 1|grp_offset, 1|grp_sigma, Intercept]\n"
     ]
    },
    {
     "data": {
      "text/html": [
       "\n",
       "<style>\n",
       "    /* Turns off some styling */\n",
       "    progress {\n",
       "        /* gets rid of default border in Firefox and Opera. */\n",
       "        border: none;\n",
       "        /* Needs to be in here for Safari polyfill so background images work as expected. */\n",
       "        background-size: auto;\n",
       "    }\n",
       "    .progress-bar-interrupted, .progress-bar-interrupted::-webkit-progress-bar {\n",
       "        background: #F44336;\n",
       "    }\n",
       "</style>\n"
      ],
      "text/plain": [
       "<IPython.core.display.HTML object>"
      ]
     },
     "metadata": {},
     "output_type": "display_data"
    },
    {
     "data": {
      "text/html": [
       "\n",
       "    <div>\n",
       "      <progress value='20000' class='' max='20000' style='width:300px; height:20px; vertical-align: middle;'></progress>\n",
       "      100.00% [20000/20000 01:12<00:00 Sampling 4 chains, 760 divergences]\n",
       "    </div>\n",
       "    "
      ],
      "text/plain": [
       "<IPython.core.display.HTML object>"
      ]
     },
     "metadata": {},
     "output_type": "display_data"
    },
    {
     "name": "stderr",
     "output_type": "stream",
     "text": [
      "Sampling 4 chains for 4_000 tune and 1_000 draw iterations (16_000 + 4_000 draws total) took 73 seconds.\n",
      "There were 163 divergences after tuning. Increase `target_accept` or reparameterize.\n",
      "The acceptance probability does not match the target. It is 0.7194183529431465, but should be close to 0.8. Try to increase the number of tuning steps.\n",
      "There were 216 divergences after tuning. Increase `target_accept` or reparameterize.\n",
      "There were 219 divergences after tuning. Increase `target_accept` or reparameterize.\n",
      "The acceptance probability does not match the target. It is 0.7199592639552755, but should be close to 0.8. Try to increase the number of tuning steps.\n",
      "There were 162 divergences after tuning. Increase `target_accept` or reparameterize.\n",
      "The rhat statistic is larger than 1.05 for some parameters. This indicates slight problems during sampling.\n",
      "The estimated number of effective samples is smaller than 200 for some parameters.\n"
     ]
    }
   ],
   "source": [
    "model3 = bmb.Model(\"y ~ (x|grp)\", raw_data)\n",
    "fitted3 = model3.fit(tune=4000)"
   ]
  },
  {
   "cell_type": "code",
   "execution_count": 54,
   "id": "bf5409b3-c300-4eec-a1b3-d507068c6b84",
   "metadata": {},
   "outputs": [
    {
     "data": {
      "text/html": [
       "<div>\n",
       "<style scoped>\n",
       "    .dataframe tbody tr th:only-of-type {\n",
       "        vertical-align: middle;\n",
       "    }\n",
       "\n",
       "    .dataframe tbody tr th {\n",
       "        vertical-align: top;\n",
       "    }\n",
       "\n",
       "    .dataframe thead th {\n",
       "        text-align: right;\n",
       "    }\n",
       "</style>\n",
       "<table border=\"1\" class=\"dataframe\">\n",
       "  <thead>\n",
       "    <tr style=\"text-align: right;\">\n",
       "      <th></th>\n",
       "      <th>mean</th>\n",
       "      <th>sd</th>\n",
       "      <th>hdi_3%</th>\n",
       "      <th>hdi_97%</th>\n",
       "      <th>mcse_mean</th>\n",
       "      <th>mcse_sd</th>\n",
       "      <th>ess_bulk</th>\n",
       "      <th>ess_tail</th>\n",
       "      <th>r_hat</th>\n",
       "    </tr>\n",
       "  </thead>\n",
       "  <tbody>\n",
       "    <tr>\n",
       "      <th>Intercept</th>\n",
       "      <td>1.018</td>\n",
       "      <td>0.156</td>\n",
       "      <td>0.759</td>\n",
       "      <td>1.390</td>\n",
       "      <td>0.021</td>\n",
       "      <td>0.017</td>\n",
       "      <td>97.0</td>\n",
       "      <td>42.0</td>\n",
       "      <td>1.08</td>\n",
       "    </tr>\n",
       "    <tr>\n",
       "      <th>1|grp_sigma</th>\n",
       "      <td>0.201</td>\n",
       "      <td>0.202</td>\n",
       "      <td>0.000</td>\n",
       "      <td>0.581</td>\n",
       "      <td>0.019</td>\n",
       "      <td>0.013</td>\n",
       "      <td>47.0</td>\n",
       "      <td>362.0</td>\n",
       "      <td>1.07</td>\n",
       "    </tr>\n",
       "    <tr>\n",
       "      <th>1|grp[a]</th>\n",
       "      <td>-0.053</td>\n",
       "      <td>0.158</td>\n",
       "      <td>-0.436</td>\n",
       "      <td>0.216</td>\n",
       "      <td>0.021</td>\n",
       "      <td>0.022</td>\n",
       "      <td>103.0</td>\n",
       "      <td>50.0</td>\n",
       "      <td>1.12</td>\n",
       "    </tr>\n",
       "    <tr>\n",
       "      <th>1|grp[b]</th>\n",
       "      <td>0.009</td>\n",
       "      <td>0.154</td>\n",
       "      <td>-0.384</td>\n",
       "      <td>0.254</td>\n",
       "      <td>0.020</td>\n",
       "      <td>0.020</td>\n",
       "      <td>89.0</td>\n",
       "      <td>45.0</td>\n",
       "      <td>1.06</td>\n",
       "    </tr>\n",
       "    <tr>\n",
       "      <th>x|grp_sigma</th>\n",
       "      <td>2.601</td>\n",
       "      <td>0.783</td>\n",
       "      <td>1.327</td>\n",
       "      <td>4.052</td>\n",
       "      <td>0.111</td>\n",
       "      <td>0.090</td>\n",
       "      <td>47.0</td>\n",
       "      <td>30.0</td>\n",
       "      <td>1.06</td>\n",
       "    </tr>\n",
       "    <tr>\n",
       "      <th>x|grp[a]</th>\n",
       "      <td>1.124</td>\n",
       "      <td>0.072</td>\n",
       "      <td>0.992</td>\n",
       "      <td>1.266</td>\n",
       "      <td>0.003</td>\n",
       "      <td>0.002</td>\n",
       "      <td>679.0</td>\n",
       "      <td>1346.0</td>\n",
       "      <td>1.01</td>\n",
       "    </tr>\n",
       "    <tr>\n",
       "      <th>x|grp[b]</th>\n",
       "      <td>2.967</td>\n",
       "      <td>0.076</td>\n",
       "      <td>2.834</td>\n",
       "      <td>3.113</td>\n",
       "      <td>0.006</td>\n",
       "      <td>0.004</td>\n",
       "      <td>143.0</td>\n",
       "      <td>885.0</td>\n",
       "      <td>1.02</td>\n",
       "    </tr>\n",
       "    <tr>\n",
       "      <th>y_sigma</th>\n",
       "      <td>0.217</td>\n",
       "      <td>0.011</td>\n",
       "      <td>0.197</td>\n",
       "      <td>0.236</td>\n",
       "      <td>0.002</td>\n",
       "      <td>0.001</td>\n",
       "      <td>48.0</td>\n",
       "      <td>99.0</td>\n",
       "      <td>1.06</td>\n",
       "    </tr>\n",
       "  </tbody>\n",
       "</table>\n",
       "</div>"
      ],
      "text/plain": [
       "              mean     sd  hdi_3%  hdi_97%  mcse_mean  mcse_sd  ess_bulk  \\\n",
       "Intercept    1.018  0.156   0.759    1.390      0.021    0.017      97.0   \n",
       "1|grp_sigma  0.201  0.202   0.000    0.581      0.019    0.013      47.0   \n",
       "1|grp[a]    -0.053  0.158  -0.436    0.216      0.021    0.022     103.0   \n",
       "1|grp[b]     0.009  0.154  -0.384    0.254      0.020    0.020      89.0   \n",
       "x|grp_sigma  2.601  0.783   1.327    4.052      0.111    0.090      47.0   \n",
       "x|grp[a]     1.124  0.072   0.992    1.266      0.003    0.002     679.0   \n",
       "x|grp[b]     2.967  0.076   2.834    3.113      0.006    0.004     143.0   \n",
       "y_sigma      0.217  0.011   0.197    0.236      0.002    0.001      48.0   \n",
       "\n",
       "             ess_tail  r_hat  \n",
       "Intercept        42.0   1.08  \n",
       "1|grp_sigma     362.0   1.07  \n",
       "1|grp[a]         50.0   1.12  \n",
       "1|grp[b]         45.0   1.06  \n",
       "x|grp_sigma      30.0   1.06  \n",
       "x|grp[a]       1346.0   1.01  \n",
       "x|grp[b]        885.0   1.02  \n",
       "y_sigma          99.0   1.06  "
      ]
     },
     "execution_count": 54,
     "metadata": {},
     "output_type": "execute_result"
    }
   ],
   "source": [
    "az.summary(fitted3)"
   ]
  },
  {
   "cell_type": "code",
   "execution_count": 45,
   "id": "c3ddc995",
   "metadata": {},
   "outputs": [],
   "source": [
    "# _ = az.plot_trace(fitted2)"
   ]
  },
  {
   "cell_type": "code",
   "execution_count": 46,
   "id": "bf61444d-4eac-4985-9327-35c9d1851716",
   "metadata": {},
   "outputs": [],
   "source": [
    "betas = az.summary(fitted2)['mean']"
   ]
  },
  {
   "cell_type": "code",
   "execution_count": 47,
   "id": "21bf7f92-fb3c-4369-a6ba-00d6dc15a8f0",
   "metadata": {},
   "outputs": [],
   "source": [
    "beta_values = np.array([\n",
    "    betas['Intercept'], betas['x|grp[a]'], betas['x|grp[b]']])"
   ]
  },
  {
   "cell_type": "code",
   "execution_count": 48,
   "id": "a1fd6bf6-1d8f-4e6a-a6e8-f7817ed0bf14",
   "metadata": {},
   "outputs": [
    {
     "data": {
      "text/plain": [
       "array([1.002, 1.072, 3.006])"
      ]
     },
     "execution_count": 48,
     "metadata": {},
     "output_type": "execute_result"
    }
   ],
   "source": [
    "beta_values"
   ]
  },
  {
   "cell_type": "code",
   "execution_count": 49,
   "id": "2c539470-e83a-4023-b2d3-4ced003f75e4",
   "metadata": {},
   "outputs": [],
   "source": [
    "test_data = X_test_cat.assign(\n",
    "    a=(X_test_cat.grp == 'a'),\n",
    "    b=(X_test_cat.grp == 'b')\n",
    ").astype(\n",
    "    {'a': 'int64', 'b': 'int64'}\n",
    ")[['x', 'a', 'b']].values"
   ]
  },
  {
   "cell_type": "code",
   "execution_count": 50,
   "id": "0b985c8b-02aa-4821-92b2-cd149dd0fd24",
   "metadata": {},
   "outputs": [],
   "source": [
    "y_pred_cat2 = test_data @ beta_values"
   ]
  },
  {
   "cell_type": "code",
   "execution_count": 51,
   "id": "750466b3-1269-4e30-8728-e2096d7edda2",
   "metadata": {},
   "outputs": [
    {
     "name": "stdout",
     "output_type": "stream",
     "text": [
      "bayes mse = 0.75\n"
     ]
    }
   ],
   "source": [
    "mse = mean_squared_error(y_test_cat, y_pred_cat2)\n",
    "print('bayes mse = {:.2}'.format(mse))"
   ]
  },
  {
   "cell_type": "code",
   "execution_count": 52,
   "id": "0cc426cb-2204-406c-a242-6be284b820aa",
   "metadata": {},
   "outputs": [
    {
     "data": {
      "image/png": "[encoded data removed]",
      "text/plain": [
       "<Figure size 1200x400 with 3 Axes>"
      ]
     },
     "metadata": {},
     "output_type": "display_data"
    }
   ],
   "source": [
    "fig, (ax1, ax2, ax3) = plt.subplots(1, 3, sharey=True, figsize=(12, 4))\n",
    "plot_actual_predict(y_test_num, gbm_num.predict(X_test_num), ax1, 'l2_num')\n",
    "plot_actual_predict(y_test_cat, gbm_cat.predict(X_test_cat), ax2, 'l2_cat')\n",
    "plot_actual_predict(y_test_cat, y_pred_cat2, ax3, 'bayes')"
   ]
  },
  {
   "cell_type": "code",
   "execution_count": null,
   "id": "75562ae4-5ec4-4420-a639-295cb3bee678",
   "metadata": {},
   "outputs": [],
   "source": []
  }
 ],
 "metadata": {
  "jupytext": {
   "formats": "ipynb,py:light"
  },
  "kernelspec": {
   "display_name": "Python 3 (ipykernel)",
   "language": "python",
   "name": "python3"
  },
  "language_info": {
   "codemirror_mode": {
    "name": "ipython",
    "version": 3
   },
   "file_extension": ".py",
   "mimetype": "text/x-python",
   "name": "python",
   "nbconvert_exporter": "python",
   "pygments_lexer": "ipython3",
   "version": "3.8.10"
  }
 },
 "nbformat": 4,
 "nbformat_minor": 5
}
