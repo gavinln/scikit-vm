{
 "cells": [
  {
   "cell_type": "markdown",
   "id": "macro-visitor",
   "metadata": {},
   "source": [
    "# Getting started with statsmodels"
   ]
  },
  {
   "cell_type": "markdown",
   "id": "dependent-compiler",
   "metadata": {
    "tags": []
   },
   "source": [
    "## Setup libraries"
   ]
  },
  {
   "cell_type": "code",
   "execution_count": 1,
   "id": "conscious-institute",
   "metadata": {},
   "outputs": [],
   "source": [
    "import matplotlib.pyplot as plt\n",
    "import seaborn as sns\n",
    "import numpy as np\n",
    "import statsmodels.api as sm\n",
    "import pandas as pd\n",
    "from patsy import dmatrices"
   ]
  },
  {
   "cell_type": "markdown",
   "id": "liked-quilt",
   "metadata": {
    "tags": []
   },
   "source": [
    "## Geta data"
   ]
  },
  {
   "cell_type": "code",
   "execution_count": 2,
   "id": "perceived-branch",
   "metadata": {},
   "outputs": [],
   "source": [
    "df = sm.datasets.get_rdataset('Guerry', 'HistData').data"
   ]
  },
  {
   "cell_type": "code",
   "execution_count": 3,
   "id": "pediatric-smell",
   "metadata": {},
   "outputs": [
    {
     "name": "stdout",
     "output_type": "stream",
     "text": [
      "(rows, cols) = (86, 23)\n"
     ]
    }
   ],
   "source": [
    "print(f'(rows, cols) = {df.shape}')"
   ]
  },
  {
   "cell_type": "code",
   "execution_count": 4,
   "id": "logical-kennedy",
   "metadata": {},
   "outputs": [
    {
     "data": {
      "text/plain": [
       "Index(['dept', 'Region', 'Department', 'Crime_pers', 'Crime_prop', 'Literacy',\n",
       "       'Donations', 'Infants', 'Suicides', 'MainCity', 'Wealth', 'Commerce',\n",
       "       'Clergy', 'Crime_parents', 'Infanticide', 'Donation_clergy', 'Lottery',\n",
       "       'Desertion', 'Instruction', 'Prostitutes', 'Distance', 'Area',\n",
       "       'Pop1831'],\n",
       "      dtype='object')"
      ]
     },
     "execution_count": 4,
     "metadata": {},
     "output_type": "execute_result"
    }
   ],
   "source": [
    "df.columns"
   ]
  },
  {
   "cell_type": "code",
   "execution_count": 5,
   "id": "compatible-foundation",
   "metadata": {},
   "outputs": [],
   "source": [
    "cols = ['Department', 'Lottery', 'Literacy', 'Wealth', 'Region']"
   ]
  },
  {
   "cell_type": "code",
   "execution_count": 6,
   "id": "valued-sender",
   "metadata": {},
   "outputs": [],
   "source": [
    "df = df[cols]"
   ]
  },
  {
   "cell_type": "markdown",
   "id": "variable-queens",
   "metadata": {
    "tags": []
   },
   "source": [
    "## Clean data"
   ]
  },
  {
   "cell_type": "markdown",
   "id": "inclusive-reset",
   "metadata": {},
   "source": [
    "Show last five rows"
   ]
  },
  {
   "cell_type": "code",
   "execution_count": 7,
   "id": "acoustic-bacteria",
   "metadata": {},
   "outputs": [
    {
     "data": {
      "text/html": [
       "<div>\n",
       "<style scoped>\n",
       "    .dataframe tbody tr th:only-of-type {\n",
       "        vertical-align: middle;\n",
       "    }\n",
       "\n",
       "    .dataframe tbody tr th {\n",
       "        vertical-align: top;\n",
       "    }\n",
       "\n",
       "    .dataframe thead th {\n",
       "        text-align: right;\n",
       "    }\n",
       "</style>\n",
       "<table border=\"1\" class=\"dataframe\">\n",
       "  <thead>\n",
       "    <tr style=\"text-align: right;\">\n",
       "      <th></th>\n",
       "      <th>Department</th>\n",
       "      <th>Lottery</th>\n",
       "      <th>Literacy</th>\n",
       "      <th>Wealth</th>\n",
       "      <th>Region</th>\n",
       "    </tr>\n",
       "  </thead>\n",
       "  <tbody>\n",
       "    <tr>\n",
       "      <th>81</th>\n",
       "      <td>Vienne</td>\n",
       "      <td>40</td>\n",
       "      <td>25</td>\n",
       "      <td>68</td>\n",
       "      <td>W</td>\n",
       "    </tr>\n",
       "    <tr>\n",
       "      <th>82</th>\n",
       "      <td>Haute-Vienne</td>\n",
       "      <td>55</td>\n",
       "      <td>13</td>\n",
       "      <td>67</td>\n",
       "      <td>C</td>\n",
       "    </tr>\n",
       "    <tr>\n",
       "      <th>83</th>\n",
       "      <td>Vosges</td>\n",
       "      <td>14</td>\n",
       "      <td>62</td>\n",
       "      <td>82</td>\n",
       "      <td>E</td>\n",
       "    </tr>\n",
       "    <tr>\n",
       "      <th>84</th>\n",
       "      <td>Yonne</td>\n",
       "      <td>51</td>\n",
       "      <td>47</td>\n",
       "      <td>30</td>\n",
       "      <td>C</td>\n",
       "    </tr>\n",
       "    <tr>\n",
       "      <th>85</th>\n",
       "      <td>Corse</td>\n",
       "      <td>83</td>\n",
       "      <td>49</td>\n",
       "      <td>37</td>\n",
       "      <td>NaN</td>\n",
       "    </tr>\n",
       "  </tbody>\n",
       "</table>\n",
       "</div>"
      ],
      "text/plain": [
       "      Department  Lottery  Literacy  Wealth Region\n",
       "81        Vienne       40        25      68      W\n",
       "82  Haute-Vienne       55        13      67      C\n",
       "83        Vosges       14        62      82      E\n",
       "84         Yonne       51        47      30      C\n",
       "85         Corse       83        49      37    NaN"
      ]
     },
     "execution_count": 7,
     "metadata": {},
     "output_type": "execute_result"
    }
   ],
   "source": [
    "df[-5:]"
   ]
  },
  {
   "cell_type": "code",
   "execution_count": 8,
   "id": "current-grenada",
   "metadata": {},
   "outputs": [],
   "source": [
    "df = df.dropna()"
   ]
  },
  {
   "cell_type": "code",
   "execution_count": 9,
   "id": "expanded-forum",
   "metadata": {},
   "outputs": [
    {
     "data": {
      "text/plain": [
       "Department    0\n",
       "Lottery       0\n",
       "Literacy      0\n",
       "Wealth        0\n",
       "Region        0\n",
       "dtype: int64"
      ]
     },
     "execution_count": 9,
     "metadata": {},
     "output_type": "execute_result"
    }
   ],
   "source": [
    "df.isna().sum()"
   ]
  },
  {
   "cell_type": "markdown",
   "id": "laden-delivery",
   "metadata": {
    "tags": []
   },
   "source": [
    "## Endog, exog"
   ]
  },
  {
   "cell_type": "markdown",
   "id": "opening-williams",
   "metadata": {},
   "source": [
    "Endog and exog are terms used in `patsy` and the `statsmodels` package to indicate endogenous and exogenous variables. Other terms for variables are\n",
    "\n",
    "Endog\n",
    "\n",
    "* y variable\n",
    "* left hand side\n",
    "* dependent variable\n",
    "* regressand\n",
    "* outcome\n",
    "* response variable\n",
    "\n",
    "Exog\n",
    "\n",
    "* x variable\n",
    "* right hand side\n",
    "* independent variable\n",
    "* regressor\n",
    "* design\n",
    "* explanatory variable"
   ]
  },
  {
   "cell_type": "markdown",
   "id": "typical-blanket",
   "metadata": {
    "tags": []
   },
   "source": [
    "## Design matrices"
   ]
  },
  {
   "cell_type": "code",
   "execution_count": 10,
   "id": "according-specification",
   "metadata": {},
   "outputs": [],
   "source": [
    "y, X = dmatrices('Lottery ~ Literacy + Wealth + Region',\n",
    "                 data=df,\n",
    "                 return_type='dataframe')"
   ]
  },
  {
   "cell_type": "code",
   "execution_count": 11,
   "id": "diverse-ministry",
   "metadata": {},
   "outputs": [
    {
     "data": {
      "text/plain": [
       "((85, 1), (85, 7))"
      ]
     },
     "execution_count": 11,
     "metadata": {},
     "output_type": "execute_result"
    }
   ],
   "source": [
    "y.shape, X.shape"
   ]
  },
  {
   "cell_type": "code",
   "execution_count": 12,
   "id": "thermal-keyboard",
   "metadata": {},
   "outputs": [
    {
     "data": {
      "text/plain": [
       "Department    object\n",
       "Lottery        int64\n",
       "Literacy       int64\n",
       "Wealth         int64\n",
       "Region        object\n",
       "dtype: object"
      ]
     },
     "execution_count": 12,
     "metadata": {},
     "output_type": "execute_result"
    }
   ],
   "source": [
    "df.dtypes"
   ]
  },
  {
   "cell_type": "markdown",
   "id": "unlikely-projector",
   "metadata": {},
   "source": [
    "The Region variable is categorical"
   ]
  },
  {
   "cell_type": "code",
   "execution_count": 13,
   "id": "ranking-toilet",
   "metadata": {},
   "outputs": [
    {
     "data": {
      "text/plain": [
       "W    17\n",
       "N    17\n",
       "C    17\n",
       "S    17\n",
       "E    17\n",
       "Name: Region, dtype: int64"
      ]
     },
     "execution_count": 13,
     "metadata": {},
     "output_type": "execute_result"
    }
   ],
   "source": [
    "df.Region.value_counts()"
   ]
  },
  {
   "cell_type": "markdown",
   "id": "cathedral-commissioner",
   "metadata": {},
   "source": [
    "The Region variable is automatically split into 4 indicator variables"
   ]
  },
  {
   "cell_type": "code",
   "execution_count": 14,
   "id": "painful-corporation",
   "metadata": {},
   "outputs": [
    {
     "data": {
      "text/plain": [
       "Index(['Intercept', 'Region[T.E]', 'Region[T.N]', 'Region[T.S]', 'Region[T.W]',\n",
       "       'Literacy', 'Wealth'],\n",
       "      dtype='object')"
      ]
     },
     "execution_count": 14,
     "metadata": {},
     "output_type": "execute_result"
    }
   ],
   "source": [
    "X.columns"
   ]
  },
  {
   "cell_type": "code",
   "execution_count": 15,
   "id": "pressing-terrorism",
   "metadata": {},
   "outputs": [
    {
     "data": {
      "text/plain": [
       "Index(['Lottery'], dtype='object')"
      ]
     },
     "execution_count": 15,
     "metadata": {},
     "output_type": "execute_result"
    }
   ],
   "source": [
    "y.columns"
   ]
  },
  {
   "cell_type": "markdown",
   "id": "respected-newman",
   "metadata": {
    "tags": []
   },
   "source": [
    "## Model fit and summary"
   ]
  },
  {
   "cell_type": "code",
   "execution_count": 16,
   "id": "becoming-country",
   "metadata": {},
   "outputs": [],
   "source": [
    "mod = sm.OLS(y, X)"
   ]
  },
  {
   "cell_type": "code",
   "execution_count": 17,
   "id": "little-tiffany",
   "metadata": {},
   "outputs": [],
   "source": [
    "res = mod.fit()"
   ]
  },
  {
   "cell_type": "code",
   "execution_count": 18,
   "id": "encouraging-nancy",
   "metadata": {},
   "outputs": [
    {
     "name": "stdout",
     "output_type": "stream",
     "text": [
      "                            OLS Regression Results                            \n",
      "==============================================================================\n",
      "Dep. Variable:                Lottery   R-squared:                       0.338\n",
      "Model:                            OLS   Adj. R-squared:                  0.287\n",
      "Method:                 Least Squares   F-statistic:                     6.636\n",
      "Date:                Sun, 21 Mar 2021   Prob (F-statistic):           1.07e-05\n",
      "Time:                        20:27:53   Log-Likelihood:                -375.30\n",
      "No. Observations:                  85   AIC:                             764.6\n",
      "Df Residuals:                      78   BIC:                             781.7\n",
      "Df Model:                           6                                         \n",
      "Covariance Type:            nonrobust                                         \n",
      "===============================================================================\n",
      "                  coef    std err          t      P>|t|      [0.025      0.975]\n",
      "-------------------------------------------------------------------------------\n",
      "Intercept      38.6517      9.456      4.087      0.000      19.826      57.478\n",
      "Region[T.E]   -15.4278      9.727     -1.586      0.117     -34.793       3.938\n",
      "Region[T.N]   -10.0170      9.260     -1.082      0.283     -28.453       8.419\n",
      "Region[T.S]    -4.5483      7.279     -0.625      0.534     -19.039       9.943\n",
      "Region[T.W]   -10.0913      7.196     -1.402      0.165     -24.418       4.235\n",
      "Literacy       -0.1858      0.210     -0.886      0.378      -0.603       0.232\n",
      "Wealth          0.4515      0.103      4.390      0.000       0.247       0.656\n",
      "==============================================================================\n",
      "Omnibus:                        3.049   Durbin-Watson:                   1.785\n",
      "Prob(Omnibus):                  0.218   Jarque-Bera (JB):                2.694\n",
      "Skew:                          -0.340   Prob(JB):                        0.260\n",
      "Kurtosis:                       2.454   Cond. No.                         371.\n",
      "==============================================================================\n",
      "\n",
      "Notes:\n",
      "[1] Standard Errors assume that the covariance matrix of the errors is correctly specified.\n"
     ]
    }
   ],
   "source": [
    "print(res.summary())"
   ]
  },
  {
   "cell_type": "code",
   "execution_count": 19,
   "id": "public-evans",
   "metadata": {},
   "outputs": [
    {
     "data": {
      "text/plain": [
       "Intercept      38.651655\n",
       "Region[T.E]   -15.427785\n",
       "Region[T.N]   -10.016961\n",
       "Region[T.S]    -4.548257\n",
       "Region[T.W]   -10.091276\n",
       "Literacy       -0.185819\n",
       "Wealth          0.451475\n",
       "dtype: float64"
      ]
     },
     "execution_count": 19,
     "metadata": {},
     "output_type": "execute_result"
    }
   ],
   "source": [
    "res.params"
   ]
  },
  {
   "cell_type": "code",
   "execution_count": 20,
   "id": "golden-field",
   "metadata": {},
   "outputs": [
    {
     "data": {
      "text/plain": [
       "0.3379508691928822"
      ]
     },
     "execution_count": 20,
     "metadata": {},
     "output_type": "execute_result"
    }
   ],
   "source": [
    "res.rsquared"
   ]
  },
  {
   "cell_type": "markdown",
   "id": "digital-somewhere",
   "metadata": {},
   "source": [
    "## Diagnostics and specification tests"
   ]
  },
  {
   "cell_type": "markdown",
   "id": "lasting-official",
   "metadata": {},
   "source": [
    "Rainbow test for linearity - null hypothesis is the relationship is linear"
   ]
  },
  {
   "cell_type": "code",
   "execution_count": 21,
   "id": "classical-peripheral",
   "metadata": {},
   "outputs": [
    {
     "data": {
      "text/plain": [
       "(0.847233997615691, 0.6997965543621644)"
      ]
     },
     "execution_count": 21,
     "metadata": {},
     "output_type": "execute_result"
    }
   ],
   "source": [
    "sm.stats.linear_rainbow(res)  # F stat, p-value"
   ]
  },
  {
   "cell_type": "code",
   "execution_count": 22,
   "id": "formal-climate",
   "metadata": {},
   "outputs": [
    {
     "data": {
      "image/png": "[encoded data removed]",
      "text/plain": [
       "<Figure size 432x288 with 1 Axes>"
      ]
     },
     "metadata": {
      "needs_background": "light"
     },
     "output_type": "display_data"
    }
   ],
   "source": [
    "_ = sm.graphics.plot_partregress('Lottery',\n",
    "                                 'Wealth', ['Region', 'Literacy'],\n",
    "                                 data=df,\n",
    "                                 obs_labels=False)"
   ]
  },
  {
   "cell_type": "code",
   "execution_count": 23,
   "id": "distinct-framing",
   "metadata": {},
   "outputs": [
    {
     "data": {
      "image/png": "[encoded data removed]",
      "text/plain": [
       "<Figure size 576x432 with 7 Axes>"
      ]
     },
     "metadata": {
      "needs_background": "light"
     },
     "output_type": "display_data"
    }
   ],
   "source": [
    "fig = plt.figure(figsize=(8, 6))\n",
    "_ = sm.graphics.plot_partregress_grid(res, fig=fig)"
   ]
  },
  {
   "cell_type": "code",
   "execution_count": 24,
   "id": "wrong-sleep",
   "metadata": {},
   "outputs": [
    {
     "data": {
      "image/png": "[encoded data removed]",
      "text/plain": [
       "<Figure size 432x288 with 1 Axes>"
      ]
     },
     "metadata": {
      "needs_background": "light"
     },
     "output_type": "display_data"
    }
   ],
   "source": [
    "_ = sm.graphics.plot_leverage_resid2(res)"
   ]
  },
  {
   "cell_type": "markdown",
   "id": "laden-cassette",
   "metadata": {},
   "source": [
    "Residual fitted plot"
   ]
  },
  {
   "cell_type": "code",
   "execution_count": 25,
   "id": "vietnamese-console",
   "metadata": {},
   "outputs": [
    {
     "data": {
      "image/png": "[encoded data removed]",
      "text/plain": [
       "<Figure size 432x288 with 1 Axes>"
      ]
     },
     "metadata": {
      "needs_background": "light"
     },
     "output_type": "display_data"
    }
   ],
   "source": [
    "ax = sns.scatterplot(x=res.fittedvalues, y=res.resid)\n",
    "ax.set_xlabel('fitted values')\n",
    "ax.set_ylabel('residuals')\n",
    "ax.axhline(0)\n",
    "_ = ax.set_title('residuals vs fitted values')"
   ]
  },
  {
   "cell_type": "markdown",
   "id": "acoustic-ghana",
   "metadata": {},
   "source": [
    "The square root of residuals is better for checking constant variance"
   ]
  },
  {
   "cell_type": "code",
   "execution_count": 26,
   "id": "superior-increase",
   "metadata": {},
   "outputs": [
    {
     "data": {
      "text/plain": [
       "Text(0.5, 0.98, 'sqrt(residuals) vs fitted values')"
      ]
     },
     "execution_count": 26,
     "metadata": {},
     "output_type": "execute_result"
    },
    {
     "data": {
      "image/png": "[encoded data removed]",
      "text/plain": [
       "<Figure size 360x360 with 1 Axes>"
      ]
     },
     "metadata": {
      "needs_background": "light"
     },
     "output_type": "display_data"
    }
   ],
   "source": [
    "df = pd.DataFrame({\n",
    "    'fitted_values': res.fittedvalues,\n",
    "    'sqrt_residuals': np.sqrt(np.abs(res.resid))\n",
    "})\n",
    "g = sns.lmplot(data=df, x='fitted_values', y='sqrt_residuals')\n",
    "g.fig.suptitle('sqrt(residuals) vs fitted values')"
   ]
  },
  {
   "cell_type": "code",
   "execution_count": 27,
   "id": "matched-capital",
   "metadata": {},
   "outputs": [],
   "source": [
    "dres = sm.OLS(df.sqrt_residuals, sm.add_constant(df.fitted_values),\n",
    "              data=df).fit()"
   ]
  },
  {
   "cell_type": "code",
   "execution_count": 28,
   "id": "alleged-converter",
   "metadata": {},
   "outputs": [
    {
     "data": {
      "text/html": [
       "<table class=\"simpletable\">\n",
       "<caption>OLS Regression Results</caption>\n",
       "<tr>\n",
       "  <th>Dep. Variable:</th>     <td>sqrt_residuals</td>  <th>  R-squared:         </th> <td>   0.004</td>\n",
       "</tr>\n",
       "<tr>\n",
       "  <th>Model:</th>                   <td>OLS</td>       <th>  Adj. R-squared:    </th> <td>  -0.008</td>\n",
       "</tr>\n",
       "<tr>\n",
       "  <th>Method:</th>             <td>Least Squares</td>  <th>  F-statistic:       </th> <td>  0.3722</td>\n",
       "</tr>\n",
       "<tr>\n",
       "  <th>Date:</th>             <td>Sun, 21 Mar 2021</td> <th>  Prob (F-statistic):</th>  <td> 0.543</td> \n",
       "</tr>\n",
       "<tr>\n",
       "  <th>Time:</th>                 <td>20:27:55</td>     <th>  Log-Likelihood:    </th> <td> -150.82</td>\n",
       "</tr>\n",
       "<tr>\n",
       "  <th>No. Observations:</th>      <td>    85</td>      <th>  AIC:               </th> <td>   305.6</td>\n",
       "</tr>\n",
       "<tr>\n",
       "  <th>Df Residuals:</th>          <td>    83</td>      <th>  BIC:               </th> <td>   310.5</td>\n",
       "</tr>\n",
       "<tr>\n",
       "  <th>Df Model:</th>              <td>     1</td>      <th>                     </th>     <td> </td>   \n",
       "</tr>\n",
       "<tr>\n",
       "  <th>Covariance Type:</th>      <td>nonrobust</td>    <th>                     </th>     <td> </td>   \n",
       "</tr>\n",
       "</table>\n",
       "<table class=\"simpletable\">\n",
       "<tr>\n",
       "        <td></td>           <th>coef</th>     <th>std err</th>      <th>t</th>      <th>P>|t|</th>  <th>[0.025</th>    <th>0.975]</th>  \n",
       "</tr>\n",
       "<tr>\n",
       "  <th>const</th>         <td>    3.5661</td> <td>    0.497</td> <td>    7.179</td> <td> 0.000</td> <td>    2.578</td> <td>    4.554</td>\n",
       "</tr>\n",
       "<tr>\n",
       "  <th>fitted_values</th> <td>    0.0067</td> <td>    0.011</td> <td>    0.610</td> <td> 0.543</td> <td>   -0.015</td> <td>    0.028</td>\n",
       "</tr>\n",
       "</table>\n",
       "<table class=\"simpletable\">\n",
       "<tr>\n",
       "  <th>Omnibus:</th>       <td> 2.165</td> <th>  Durbin-Watson:     </th> <td>   1.876</td>\n",
       "</tr>\n",
       "<tr>\n",
       "  <th>Prob(Omnibus):</th> <td> 0.339</td> <th>  Jarque-Bera (JB):  </th> <td>   1.879</td>\n",
       "</tr>\n",
       "<tr>\n",
       "  <th>Skew:</th>          <td>-0.364</td> <th>  Prob(JB):          </th> <td>   0.391</td>\n",
       "</tr>\n",
       "<tr>\n",
       "  <th>Kurtosis:</th>      <td> 2.988</td> <th>  Cond. No.          </th> <td>    144.</td>\n",
       "</tr>\n",
       "</table><br/><br/>Notes:<br/>[1] Standard Errors assume that the covariance matrix of the errors is correctly specified."
      ],
      "text/plain": [
       "<class 'statsmodels.iolib.summary.Summary'>\n",
       "\"\"\"\n",
       "                            OLS Regression Results                            \n",
       "==============================================================================\n",
       "Dep. Variable:         sqrt_residuals   R-squared:                       0.004\n",
       "Model:                            OLS   Adj. R-squared:                 -0.008\n",
       "Method:                 Least Squares   F-statistic:                    0.3722\n",
       "Date:                Sun, 21 Mar 2021   Prob (F-statistic):              0.543\n",
       "Time:                        20:27:55   Log-Likelihood:                -150.82\n",
       "No. Observations:                  85   AIC:                             305.6\n",
       "Df Residuals:                      83   BIC:                             310.5\n",
       "Df Model:                           1                                         \n",
       "Covariance Type:            nonrobust                                         \n",
       "=================================================================================\n",
       "                    coef    std err          t      P>|t|      [0.025      0.975]\n",
       "---------------------------------------------------------------------------------\n",
       "const             3.5661      0.497      7.179      0.000       2.578       4.554\n",
       "fitted_values     0.0067      0.011      0.610      0.543      -0.015       0.028\n",
       "==============================================================================\n",
       "Omnibus:                        2.165   Durbin-Watson:                   1.876\n",
       "Prob(Omnibus):                  0.339   Jarque-Bera (JB):                1.879\n",
       "Skew:                          -0.364   Prob(JB):                        0.391\n",
       "Kurtosis:                       2.988   Cond. No.                         144.\n",
       "==============================================================================\n",
       "\n",
       "Notes:\n",
       "[1] Standard Errors assume that the covariance matrix of the errors is correctly specified.\n",
       "\"\"\""
      ]
     },
     "execution_count": 28,
     "metadata": {},
     "output_type": "execute_result"
    }
   ],
   "source": [
    "dres.summary()"
   ]
  },
  {
   "cell_type": "code",
   "execution_count": 29,
   "id": "coordinated-valve",
   "metadata": {},
   "outputs": [
    {
     "data": {
      "image/png": "[encoded data removed]",
      "text/plain": [
       "<Figure size 432x288 with 1 Axes>"
      ]
     },
     "metadata": {
      "needs_background": "light"
     },
     "output_type": "display_data"
    }
   ],
   "source": [
    "_ = sm.qqplot(res.resid, line='q')"
   ]
  },
  {
   "cell_type": "markdown",
   "id": "adjustable-begin",
   "metadata": {},
   "source": [
    "Normality of the residuals"
   ]
  },
  {
   "cell_type": "code",
   "execution_count": 30,
   "id": "hungry-ordinary",
   "metadata": {},
   "outputs": [
    {
     "data": {
      "text/plain": [
       "['Jarque-Bera = 2.6939',\n",
       " 'Chi^2 two-tail prob. = 0.2600',\n",
       " 'bSkew = -0.3402',\n",
       " 'Kurtosis = 2.4544']"
      ]
     },
     "execution_count": 30,
     "metadata": {},
     "output_type": "execute_result"
    }
   ],
   "source": [
    "name = ['Jarque-Bera', 'Chi^2 two-tail prob.', 'bSkew', 'Kurtosis']\n",
    "test = sm.stats.stattools.jarque_bera(res.resid)\n",
    "[f'{nt[0]} = {nt[1]:.4f}' for nt in zip(name, test)]"
   ]
  }
 ],
 "metadata": {
  "kernelspec": {
   "display_name": "Python 3",
   "language": "python",
   "name": "python3"
  },
  "language_info": {
   "codemirror_mode": {
    "name": "ipython",
    "version": 3
   },
   "file_extension": ".py",
   "mimetype": "text/x-python",
   "name": "python",
   "nbconvert_exporter": "python",
   "pygments_lexer": "ipython3",
   "version": "3.8.5"
  }
 },
 "nbformat": 4,
 "nbformat_minor": 5
}
